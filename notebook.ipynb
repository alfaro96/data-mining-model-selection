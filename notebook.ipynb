{
 "cells": [
  {
   "cell_type": "markdown",
   "source": "# Práctica 2: Aprendizaje y selección de modelos de clasificación\n\n## Minería de Datos\n\n### Curso académico 2021-2022\n\n### Profesorado:\n\n* Juan Carlos Alfaro Jiménez\n* José Antonio Gámez Martín\n\n---\n\n**Notas**:\n\n* Adaptado de las prácticas de Jacinto Arias Martínez y Enrique González Rodrigo\n\n---",
   "metadata": {
    "papermill": {
     "duration": 0.057135,
     "end_time": "2020-12-14T07:57:42.106547",
     "exception": false,
     "start_time": "2020-12-14T07:57:42.049412",
     "status": "completed"
    },
    "tags": [],
    "cell_id": "00000-3e9aa344-274c-4dd9-9a4d-b614205f1a41",
    "deepnote_cell_type": "markdown"
   }
  },
  {
   "cell_type": "markdown",
   "source": "En esta práctica estudiaremos los modelos más utilizados en `scikit-learn` para conocer los distintos hiperparámetros que los configuran y estudiar los clasificadores resultantes. Además, veremos métodos de selección de modelos orientados a obtener una configuración óptima de hiperparámetros.",
   "metadata": {
    "papermill": {
     "duration": 0.055858,
     "end_time": "2020-12-14T07:57:42.218288",
     "exception": false,
     "start_time": "2020-12-14T07:57:42.162430",
     "status": "completed"
    },
    "tags": [],
    "cell_id": "00001-287b5903-b961-4e92-a3c5-85251276879b",
    "deepnote_cell_type": "markdown"
   }
  },
  {
   "cell_type": "markdown",
   "source": "# 1. Preliminares\n\nAntes de comenzar, vamos a fijar una semilla para que los experimentos sean reproducibles:",
   "metadata": {
    "papermill": {
     "duration": 0.055902,
     "end_time": "2020-12-14T07:57:42.329391",
     "exception": false,
     "start_time": "2020-12-14T07:57:42.273489",
     "status": "completed"
    },
    "tags": [],
    "cell_id": "00002-b5f4a3b3-3056-4e62-b2cc-62dc9d03840e",
    "deepnote_cell_type": "markdown"
   }
  },
  {
   "cell_type": "code",
   "metadata": {
    "tags": [],
    "cell_id": "00004-b554c64a-83a9-49bc-baa8-fc12f91d6dfe",
    "deepnote_to_be_reexecuted": false,
    "source_hash": "d9544fd3",
    "execution_start": 1635873604152,
    "execution_millis": 1,
    "deepnote_cell_type": "code"
   },
   "source": "random_state = 27912",
   "outputs": [],
   "execution_count": 1
  },
  {
   "cell_type": "markdown",
   "source": "Por último, vamos a suprimir todos las advertencias para evitar salidas demasiado largas a la hora de entrenar los modelos:",
   "metadata": {
    "tags": [],
    "cell_id": "00005-2f93c949-63cd-4484-a2f3-ba5e1216c681",
    "deepnote_cell_type": "markdown"
   }
  },
  {
   "cell_type": "code",
   "metadata": {
    "tags": [],
    "cell_id": "00005-e1d57ce1-2f6e-4468-aa09-c5e55e67e58f",
    "deepnote_to_be_reexecuted": false,
    "source_hash": "fcc961ee",
    "execution_start": 1635873604185,
    "execution_millis": 1,
    "deepnote_cell_type": "code"
   },
   "source": "import warnings",
   "outputs": [],
   "execution_count": 2
  },
  {
   "cell_type": "code",
   "metadata": {
    "tags": [],
    "cell_id": "00007-cdec6cb3-93c1-4403-9865-b8caa2494a9c",
    "deepnote_to_be_reexecuted": false,
    "source_hash": "1d711c8f",
    "execution_start": 1635873604187,
    "execution_millis": 0,
    "deepnote_cell_type": "code"
   },
   "source": "warnings.filterwarnings(\"ignore\")",
   "outputs": [],
   "execution_count": 3
  },
  {
   "cell_type": "markdown",
   "source": "# 2. Carga de datos\n\nComo es habitual, utilizaremos el conjunto de datos `iris` para nuestros experimentos:",
   "metadata": {
    "collapsed": true,
    "papermill": {
     "duration": 0.055885,
     "end_time": "2020-12-14T07:57:44.410859",
     "exception": false,
     "start_time": "2020-12-14T07:57:44.354974",
     "status": "completed"
    },
    "tags": [],
    "cell_id": "00007-aa155bb4-a974-475f-b858-76d31df388cb",
    "deepnote_cell_type": "markdown"
   }
  },
  {
   "cell_type": "code",
   "source": "import pandas as pd",
   "metadata": {
    "tags": [],
    "cell_id": "00008-15174747-6b9b-47b0-9bcf-38eecb2d9038",
    "deepnote_to_be_reexecuted": false,
    "source_hash": "9b82ee11",
    "execution_start": 1635873604188,
    "execution_millis": 0,
    "deepnote_cell_type": "code"
   },
   "outputs": [],
   "execution_count": 4
  },
  {
   "cell_type": "code",
   "metadata": {
    "tags": [],
    "cell_id": "00009-a6e9a282-99c2-4acc-a8cd-9d70b55e8196",
    "deepnote_to_be_reexecuted": false,
    "source_hash": "a1d6d9a0",
    "execution_start": 1635873604189,
    "execution_millis": 2,
    "deepnote_cell_type": "code"
   },
   "source": "data = pd.read_csv(\"input/iris/Iris.csv\", index_col=\"Id\")",
   "outputs": [],
   "execution_count": 5
  },
  {
   "cell_type": "code",
   "metadata": {
    "tags": [],
    "cell_id": "00008-7104da96-6a01-46aa-928d-b5546eb221eb",
    "deepnote_to_be_reexecuted": false,
    "source_hash": "40bd3935",
    "execution_start": 1635873604191,
    "execution_millis": 5,
    "deepnote_cell_type": "code"
   },
   "source": "target = \"Species\"",
   "outputs": [],
   "execution_count": 6
  },
  {
   "cell_type": "code",
   "metadata": {
    "tags": [],
    "cell_id": "00008-c961713b-3870-4032-a8d2-15d86627c66c",
    "deepnote_to_be_reexecuted": false,
    "source_hash": "f900b005",
    "execution_start": 1635873604196,
    "execution_millis": 1,
    "deepnote_cell_type": "code"
   },
   "source": "data[target] = data[target].astype(\"category\")",
   "outputs": [],
   "execution_count": 7
  },
  {
   "cell_type": "markdown",
   "source": "Comprobando que se ha cargado correctamente:",
   "metadata": {
    "papermill": {
     "duration": 0.055116,
     "end_time": "2020-12-14T07:57:44.779394",
     "exception": false,
     "start_time": "2020-12-14T07:57:44.724278",
     "status": "completed"
    },
    "tags": [],
    "cell_id": "00010-bfe4307b-1ed1-4145-8cb9-a3fce22fae7d",
    "deepnote_cell_type": "markdown"
   }
  },
  {
   "cell_type": "code",
   "metadata": {
    "execution": {
     "iopub.execute_input": "2020-12-14T07:57:44.909002Z",
     "iopub.status.busy": "2020-12-14T07:57:44.898297Z",
     "iopub.status.idle": "2020-12-14T07:57:44.921345Z",
     "shell.execute_reply": "2020-12-14T07:57:44.920692Z"
    },
    "papermill": {
     "duration": 0.086417,
     "end_time": "2020-12-14T07:57:44.921480",
     "exception": false,
     "start_time": "2020-12-14T07:57:44.835063",
     "status": "completed"
    },
    "tags": [],
    "cell_id": "00011-6ab7f1ff-bd06-4d92-93fc-ee5a7d3677a3",
    "deepnote_to_be_reexecuted": false,
    "source_hash": "c582f887",
    "execution_start": 1635873604205,
    "execution_millis": 182,
    "deepnote_cell_type": "code"
   },
   "source": "data.sample(5, random_state=random_state)",
   "outputs": [
    {
     "output_type": "execute_result",
     "execution_count": 8,
     "data": {
      "application/vnd.deepnote.dataframe.v2+json": {
       "row_count": 5,
       "column_count": 5,
       "columns": [
        {
         "name": "SepalLengthCm",
         "dtype": "float64",
         "stats": {
          "unique_count": 4,
          "nan_count": 0,
          "min": "4.6",
          "max": "7.9",
          "histogram": [
           {
            "bin_start": 4.6,
            "bin_end": 4.93,
            "count": 1
           },
           {
            "bin_start": 4.93,
            "bin_end": 5.26,
            "count": 0
           },
           {
            "bin_start": 5.26,
            "bin_end": 5.59,
            "count": 0
           },
           {
            "bin_start": 5.59,
            "bin_end": 5.92,
            "count": 0
           },
           {
            "bin_start": 5.92,
            "bin_end": 6.25,
            "count": 0
           },
           {
            "bin_start": 6.25,
            "bin_end": 6.58,
            "count": 2
           },
           {
            "bin_start": 6.58,
            "bin_end": 6.91,
            "count": 0
           },
           {
            "bin_start": 6.91,
            "bin_end": 7.24,
            "count": 0
           },
           {
            "bin_start": 7.24,
            "bin_end": 7.57,
            "count": 0
           },
           {
            "bin_start": 7.57,
            "bin_end": 7.9,
            "count": 2
           }
          ]
         }
        },
        {
         "name": "SepalWidthCm",
         "dtype": "float64",
         "stats": {
          "unique_count": 4,
          "nan_count": 0,
          "min": "2.8",
          "max": "3.8",
          "histogram": [
           {
            "bin_start": 2.8,
            "bin_end": 2.9,
            "count": 1
           },
           {
            "bin_start": 2.9,
            "bin_end": 3,
            "count": 0
           },
           {
            "bin_start": 3,
            "bin_end": 3.0999999999999996,
            "count": 1
           },
           {
            "bin_start": 3.0999999999999996,
            "bin_end": 3.1999999999999997,
            "count": 0
           },
           {
            "bin_start": 3.1999999999999997,
            "bin_end": 3.3,
            "count": 2
           },
           {
            "bin_start": 3.3,
            "bin_end": 3.4,
            "count": 0
           },
           {
            "bin_start": 3.4,
            "bin_end": 3.5,
            "count": 0
           },
           {
            "bin_start": 3.5,
            "bin_end": 3.5999999999999996,
            "count": 0
           },
           {
            "bin_start": 3.5999999999999996,
            "bin_end": 3.6999999999999997,
            "count": 0
           },
           {
            "bin_start": 3.6999999999999997,
            "bin_end": 3.8,
            "count": 1
           }
          ]
         }
        },
        {
         "name": "PetalLengthCm",
         "dtype": "float64",
         "stats": {
          "unique_count": 5,
          "nan_count": 0,
          "min": "1.4",
          "max": "6.6",
          "histogram": [
           {
            "bin_start": 1.4,
            "bin_end": 1.92,
            "count": 1
           },
           {
            "bin_start": 1.92,
            "bin_end": 2.4399999999999995,
            "count": 0
           },
           {
            "bin_start": 2.4399999999999995,
            "bin_end": 2.9599999999999995,
            "count": 0
           },
           {
            "bin_start": 2.9599999999999995,
            "bin_end": 3.4799999999999995,
            "count": 0
           },
           {
            "bin_start": 3.4799999999999995,
            "bin_end": 3.9999999999999996,
            "count": 0
           },
           {
            "bin_start": 3.9999999999999996,
            "bin_end": 4.52,
            "count": 1
           },
           {
            "bin_start": 4.52,
            "bin_end": 5.039999999999999,
            "count": 0
           },
           {
            "bin_start": 5.039999999999999,
            "bin_end": 5.559999999999999,
            "count": 0
           },
           {
            "bin_start": 5.559999999999999,
            "bin_end": 6.079999999999998,
            "count": 1
           },
           {
            "bin_start": 6.079999999999998,
            "bin_end": 6.6,
            "count": 2
           }
          ]
         }
        },
        {
         "name": "PetalWidthCm",
         "dtype": "float64",
         "stats": {
          "unique_count": 5,
          "nan_count": 0,
          "min": "0.2",
          "max": "2.2",
          "histogram": [
           {
            "bin_start": 0.2,
            "bin_end": 0.4,
            "count": 1
           },
           {
            "bin_start": 0.4,
            "bin_end": 0.6000000000000001,
            "count": 0
           },
           {
            "bin_start": 0.6000000000000001,
            "bin_end": 0.8,
            "count": 0
           },
           {
            "bin_start": 0.8,
            "bin_end": 1,
            "count": 0
           },
           {
            "bin_start": 1,
            "bin_end": 1.2,
            "count": 0
           },
           {
            "bin_start": 1.2,
            "bin_end": 1.4000000000000001,
            "count": 0
           },
           {
            "bin_start": 1.4000000000000001,
            "bin_end": 1.6,
            "count": 1
           },
           {
            "bin_start": 1.6,
            "bin_end": 1.8,
            "count": 0
           },
           {
            "bin_start": 1.8,
            "bin_end": 2,
            "count": 0
           },
           {
            "bin_start": 2,
            "bin_end": 2.2,
            "count": 3
           }
          ]
         }
        },
        {
         "name": "Species",
         "dtype": "category",
         "stats": {
          "unique_count": 3,
          "nan_count": 0,
          "categories": [
           {
            "name": "Iris-virginica",
            "count": 3
           },
           {
            "name": "Iris-versicolor",
            "count": 1
           },
           {
            "name": "Iris-setosa",
            "count": 1
           }
          ]
         }
        },
        {
         "name": "_deepnote_index_column",
         "dtype": "int64"
        }
       ],
       "rows_top": [
        {
         "SepalLengthCm": 7.6,
         "SepalWidthCm": 3,
         "PetalLengthCm": 6.6,
         "PetalWidthCm": 2.1,
         "Species": "Iris-virginica",
         "_deepnote_index_column": 106
        },
        {
         "SepalLengthCm": 6.4,
         "SepalWidthCm": 2.8,
         "PetalLengthCm": 5.6,
         "PetalWidthCm": 2.2,
         "Species": "Iris-virginica",
         "_deepnote_index_column": 133
        },
        {
         "SepalLengthCm": 7.9,
         "SepalWidthCm": 3.8,
         "PetalLengthCm": 6.4,
         "PetalWidthCm": 2,
         "Species": "Iris-virginica",
         "_deepnote_index_column": 132
        },
        {
         "SepalLengthCm": 6.4,
         "SepalWidthCm": 3.2,
         "PetalLengthCm": 4.5,
         "PetalWidthCm": 1.5,
         "Species": "Iris-versicolor",
         "_deepnote_index_column": 52
        },
        {
         "SepalLengthCm": 4.6,
         "SepalWidthCm": 3.2,
         "PetalLengthCm": 1.4,
         "PetalWidthCm": 0.2,
         "Species": "Iris-setosa",
         "_deepnote_index_column": 48
        }
       ],
       "rows_bottom": null
      },
      "text/plain": "     SepalLengthCm  SepalWidthCm  PetalLengthCm  PetalWidthCm          Species\nId                                                                            \n106            7.6           3.0            6.6           2.1   Iris-virginica\n133            6.4           2.8            5.6           2.2   Iris-virginica\n132            7.9           3.8            6.4           2.0   Iris-virginica\n52             6.4           3.2            4.5           1.5  Iris-versicolor\n48             4.6           3.2            1.4           0.2      Iris-setosa",
      "text/html": "<div>\n<style scoped>\n    .dataframe tbody tr th:only-of-type {\n        vertical-align: middle;\n    }\n\n    .dataframe tbody tr th {\n        vertical-align: top;\n    }\n\n    .dataframe thead th {\n        text-align: right;\n    }\n</style>\n<table border=\"1\" class=\"dataframe\">\n  <thead>\n    <tr style=\"text-align: right;\">\n      <th></th>\n      <th>SepalLengthCm</th>\n      <th>SepalWidthCm</th>\n      <th>PetalLengthCm</th>\n      <th>PetalWidthCm</th>\n      <th>Species</th>\n    </tr>\n    <tr>\n      <th>Id</th>\n      <th></th>\n      <th></th>\n      <th></th>\n      <th></th>\n      <th></th>\n    </tr>\n  </thead>\n  <tbody>\n    <tr>\n      <th>106</th>\n      <td>7.6</td>\n      <td>3.0</td>\n      <td>6.6</td>\n      <td>2.1</td>\n      <td>Iris-virginica</td>\n    </tr>\n    <tr>\n      <th>133</th>\n      <td>6.4</td>\n      <td>2.8</td>\n      <td>5.6</td>\n      <td>2.2</td>\n      <td>Iris-virginica</td>\n    </tr>\n    <tr>\n      <th>132</th>\n      <td>7.9</td>\n      <td>3.8</td>\n      <td>6.4</td>\n      <td>2.0</td>\n      <td>Iris-virginica</td>\n    </tr>\n    <tr>\n      <th>52</th>\n      <td>6.4</td>\n      <td>3.2</td>\n      <td>4.5</td>\n      <td>1.5</td>\n      <td>Iris-versicolor</td>\n    </tr>\n    <tr>\n      <th>48</th>\n      <td>4.6</td>\n      <td>3.2</td>\n      <td>1.4</td>\n      <td>0.2</td>\n      <td>Iris-setosa</td>\n    </tr>\n  </tbody>\n</table>\n</div>"
     },
     "metadata": {}
    }
   ],
   "execution_count": 8
  },
  {
   "cell_type": "markdown",
   "source": "A su vez, lo dividimos en variables predictoras y variable clase:",
   "metadata": {
    "papermill": {
     "duration": 0.060792,
     "end_time": "2020-12-14T07:57:45.040784",
     "exception": false,
     "start_time": "2020-12-14T07:57:44.979992",
     "status": "completed"
    },
    "tags": [],
    "cell_id": "00012-cf370064-aa06-4e30-b346-8bb170056cb0",
    "deepnote_cell_type": "markdown"
   }
  },
  {
   "cell_type": "code",
   "metadata": {
    "execution": {
     "iopub.execute_input": "2020-12-14T07:57:45.179463Z",
     "iopub.status.busy": "2020-12-14T07:57:45.178396Z",
     "iopub.status.idle": "2020-12-14T07:57:45.182157Z",
     "shell.execute_reply": "2020-12-14T07:57:45.181502Z"
    },
    "papermill": {
     "duration": 0.07861,
     "end_time": "2020-12-14T07:57:45.182312",
     "exception": false,
     "start_time": "2020-12-14T07:57:45.103702",
     "status": "completed"
    },
    "tags": [],
    "cell_id": "00013-288285a6-110b-4e45-8575-e0692f4391fd",
    "deepnote_to_be_reexecuted": false,
    "source_hash": "9dc16f78",
    "execution_start": 1635873604241,
    "execution_millis": 3,
    "deepnote_cell_type": "code"
   },
   "source": "X = data.drop(target, axis=1)",
   "outputs": [],
   "execution_count": 9
  },
  {
   "cell_type": "code",
   "metadata": {
    "tags": [],
    "cell_id": "00016-501d37ab-437c-4d1a-bdb1-ebc6c9425996",
    "deepnote_to_be_reexecuted": false,
    "source_hash": "fc0a8012",
    "execution_start": 1635873604249,
    "execution_millis": 1,
    "deepnote_cell_type": "code"
   },
   "source": "y = data[target]",
   "outputs": [],
   "execution_count": 10
  },
  {
   "cell_type": "markdown",
   "source": "Vamos a comprobar que se ha separado correctamente. Comenzamos con las variables predictoras:",
   "metadata": {
    "papermill": {
     "duration": 0.056906,
     "end_time": "2020-12-14T07:57:45.297984",
     "exception": false,
     "start_time": "2020-12-14T07:57:45.241078",
     "status": "completed"
    },
    "tags": [],
    "cell_id": "00014-0e8f6f42-57f5-48ff-ba93-7108e36efe97",
    "deepnote_cell_type": "markdown"
   }
  },
  {
   "cell_type": "code",
   "metadata": {
    "execution": {
     "iopub.execute_input": "2020-12-14T07:57:45.428232Z",
     "iopub.status.busy": "2020-12-14T07:57:45.427022Z",
     "iopub.status.idle": "2020-12-14T07:57:45.431407Z",
     "shell.execute_reply": "2020-12-14T07:57:45.430777Z"
    },
    "papermill": {
     "duration": 0.075181,
     "end_time": "2020-12-14T07:57:45.431540",
     "exception": false,
     "start_time": "2020-12-14T07:57:45.356359",
     "status": "completed"
    },
    "tags": [],
    "cell_id": "00015-8d9811ce-2953-4d86-96b8-fdebb20ed89f",
    "deepnote_to_be_reexecuted": false,
    "source_hash": "288c7d12",
    "execution_start": 1635873604255,
    "execution_millis": 133,
    "deepnote_cell_type": "code"
   },
   "source": "X.sample(5, random_state=random_state)",
   "outputs": [
    {
     "output_type": "execute_result",
     "execution_count": 11,
     "data": {
      "application/vnd.deepnote.dataframe.v2+json": {
       "row_count": 5,
       "column_count": 4,
       "columns": [
        {
         "name": "SepalLengthCm",
         "dtype": "float64",
         "stats": {
          "unique_count": 4,
          "nan_count": 0,
          "min": "4.6",
          "max": "7.9",
          "histogram": [
           {
            "bin_start": 4.6,
            "bin_end": 4.93,
            "count": 1
           },
           {
            "bin_start": 4.93,
            "bin_end": 5.26,
            "count": 0
           },
           {
            "bin_start": 5.26,
            "bin_end": 5.59,
            "count": 0
           },
           {
            "bin_start": 5.59,
            "bin_end": 5.92,
            "count": 0
           },
           {
            "bin_start": 5.92,
            "bin_end": 6.25,
            "count": 0
           },
           {
            "bin_start": 6.25,
            "bin_end": 6.58,
            "count": 2
           },
           {
            "bin_start": 6.58,
            "bin_end": 6.91,
            "count": 0
           },
           {
            "bin_start": 6.91,
            "bin_end": 7.24,
            "count": 0
           },
           {
            "bin_start": 7.24,
            "bin_end": 7.57,
            "count": 0
           },
           {
            "bin_start": 7.57,
            "bin_end": 7.9,
            "count": 2
           }
          ]
         }
        },
        {
         "name": "SepalWidthCm",
         "dtype": "float64",
         "stats": {
          "unique_count": 4,
          "nan_count": 0,
          "min": "2.8",
          "max": "3.8",
          "histogram": [
           {
            "bin_start": 2.8,
            "bin_end": 2.9,
            "count": 1
           },
           {
            "bin_start": 2.9,
            "bin_end": 3,
            "count": 0
           },
           {
            "bin_start": 3,
            "bin_end": 3.0999999999999996,
            "count": 1
           },
           {
            "bin_start": 3.0999999999999996,
            "bin_end": 3.1999999999999997,
            "count": 0
           },
           {
            "bin_start": 3.1999999999999997,
            "bin_end": 3.3,
            "count": 2
           },
           {
            "bin_start": 3.3,
            "bin_end": 3.4,
            "count": 0
           },
           {
            "bin_start": 3.4,
            "bin_end": 3.5,
            "count": 0
           },
           {
            "bin_start": 3.5,
            "bin_end": 3.5999999999999996,
            "count": 0
           },
           {
            "bin_start": 3.5999999999999996,
            "bin_end": 3.6999999999999997,
            "count": 0
           },
           {
            "bin_start": 3.6999999999999997,
            "bin_end": 3.8,
            "count": 1
           }
          ]
         }
        },
        {
         "name": "PetalLengthCm",
         "dtype": "float64",
         "stats": {
          "unique_count": 5,
          "nan_count": 0,
          "min": "1.4",
          "max": "6.6",
          "histogram": [
           {
            "bin_start": 1.4,
            "bin_end": 1.92,
            "count": 1
           },
           {
            "bin_start": 1.92,
            "bin_end": 2.4399999999999995,
            "count": 0
           },
           {
            "bin_start": 2.4399999999999995,
            "bin_end": 2.9599999999999995,
            "count": 0
           },
           {
            "bin_start": 2.9599999999999995,
            "bin_end": 3.4799999999999995,
            "count": 0
           },
           {
            "bin_start": 3.4799999999999995,
            "bin_end": 3.9999999999999996,
            "count": 0
           },
           {
            "bin_start": 3.9999999999999996,
            "bin_end": 4.52,
            "count": 1
           },
           {
            "bin_start": 4.52,
            "bin_end": 5.039999999999999,
            "count": 0
           },
           {
            "bin_start": 5.039999999999999,
            "bin_end": 5.559999999999999,
            "count": 0
           },
           {
            "bin_start": 5.559999999999999,
            "bin_end": 6.079999999999998,
            "count": 1
           },
           {
            "bin_start": 6.079999999999998,
            "bin_end": 6.6,
            "count": 2
           }
          ]
         }
        },
        {
         "name": "PetalWidthCm",
         "dtype": "float64",
         "stats": {
          "unique_count": 5,
          "nan_count": 0,
          "min": "0.2",
          "max": "2.2",
          "histogram": [
           {
            "bin_start": 0.2,
            "bin_end": 0.4,
            "count": 1
           },
           {
            "bin_start": 0.4,
            "bin_end": 0.6000000000000001,
            "count": 0
           },
           {
            "bin_start": 0.6000000000000001,
            "bin_end": 0.8,
            "count": 0
           },
           {
            "bin_start": 0.8,
            "bin_end": 1,
            "count": 0
           },
           {
            "bin_start": 1,
            "bin_end": 1.2,
            "count": 0
           },
           {
            "bin_start": 1.2,
            "bin_end": 1.4000000000000001,
            "count": 0
           },
           {
            "bin_start": 1.4000000000000001,
            "bin_end": 1.6,
            "count": 1
           },
           {
            "bin_start": 1.6,
            "bin_end": 1.8,
            "count": 0
           },
           {
            "bin_start": 1.8,
            "bin_end": 2,
            "count": 0
           },
           {
            "bin_start": 2,
            "bin_end": 2.2,
            "count": 3
           }
          ]
         }
        },
        {
         "name": "_deepnote_index_column",
         "dtype": "int64"
        }
       ],
       "rows_top": [
        {
         "SepalLengthCm": 7.6,
         "SepalWidthCm": 3,
         "PetalLengthCm": 6.6,
         "PetalWidthCm": 2.1,
         "_deepnote_index_column": 106
        },
        {
         "SepalLengthCm": 6.4,
         "SepalWidthCm": 2.8,
         "PetalLengthCm": 5.6,
         "PetalWidthCm": 2.2,
         "_deepnote_index_column": 133
        },
        {
         "SepalLengthCm": 7.9,
         "SepalWidthCm": 3.8,
         "PetalLengthCm": 6.4,
         "PetalWidthCm": 2,
         "_deepnote_index_column": 132
        },
        {
         "SepalLengthCm": 6.4,
         "SepalWidthCm": 3.2,
         "PetalLengthCm": 4.5,
         "PetalWidthCm": 1.5,
         "_deepnote_index_column": 52
        },
        {
         "SepalLengthCm": 4.6,
         "SepalWidthCm": 3.2,
         "PetalLengthCm": 1.4,
         "PetalWidthCm": 0.2,
         "_deepnote_index_column": 48
        }
       ],
       "rows_bottom": null
      },
      "text/plain": "     SepalLengthCm  SepalWidthCm  PetalLengthCm  PetalWidthCm\nId                                                           \n106            7.6           3.0            6.6           2.1\n133            6.4           2.8            5.6           2.2\n132            7.9           3.8            6.4           2.0\n52             6.4           3.2            4.5           1.5\n48             4.6           3.2            1.4           0.2",
      "text/html": "<div>\n<style scoped>\n    .dataframe tbody tr th:only-of-type {\n        vertical-align: middle;\n    }\n\n    .dataframe tbody tr th {\n        vertical-align: top;\n    }\n\n    .dataframe thead th {\n        text-align: right;\n    }\n</style>\n<table border=\"1\" class=\"dataframe\">\n  <thead>\n    <tr style=\"text-align: right;\">\n      <th></th>\n      <th>SepalLengthCm</th>\n      <th>SepalWidthCm</th>\n      <th>PetalLengthCm</th>\n      <th>PetalWidthCm</th>\n    </tr>\n    <tr>\n      <th>Id</th>\n      <th></th>\n      <th></th>\n      <th></th>\n      <th></th>\n    </tr>\n  </thead>\n  <tbody>\n    <tr>\n      <th>106</th>\n      <td>7.6</td>\n      <td>3.0</td>\n      <td>6.6</td>\n      <td>2.1</td>\n    </tr>\n    <tr>\n      <th>133</th>\n      <td>6.4</td>\n      <td>2.8</td>\n      <td>5.6</td>\n      <td>2.2</td>\n    </tr>\n    <tr>\n      <th>132</th>\n      <td>7.9</td>\n      <td>3.8</td>\n      <td>6.4</td>\n      <td>2.0</td>\n    </tr>\n    <tr>\n      <th>52</th>\n      <td>6.4</td>\n      <td>3.2</td>\n      <td>4.5</td>\n      <td>1.5</td>\n    </tr>\n    <tr>\n      <th>48</th>\n      <td>4.6</td>\n      <td>3.2</td>\n      <td>1.4</td>\n      <td>0.2</td>\n    </tr>\n  </tbody>\n</table>\n</div>"
     },
     "metadata": {}
    }
   ],
   "execution_count": 11
  },
  {
   "cell_type": "markdown",
   "source": "Y continuamos con la variable clase:",
   "metadata": {
    "papermill": {
     "duration": 0.057073,
     "end_time": "2020-12-14T07:57:45.548239",
     "exception": false,
     "start_time": "2020-12-14T07:57:45.491166",
     "status": "completed"
    },
    "tags": [],
    "cell_id": "00016-02414c7c-423c-4ed4-8ac7-4322da43def4",
    "deepnote_cell_type": "markdown"
   }
  },
  {
   "cell_type": "code",
   "metadata": {
    "execution": {
     "iopub.execute_input": "2020-12-14T07:57:45.672535Z",
     "iopub.status.busy": "2020-12-14T07:57:45.671586Z",
     "iopub.status.idle": "2020-12-14T07:57:45.675730Z",
     "shell.execute_reply": "2020-12-14T07:57:45.676280Z"
    },
    "papermill": {
     "duration": 0.07105,
     "end_time": "2020-12-14T07:57:45.676451",
     "exception": false,
     "start_time": "2020-12-14T07:57:45.605401",
     "status": "completed"
    },
    "tags": [],
    "cell_id": "00017-5e451581-8068-4e63-b0b9-f527cb3915d4",
    "deepnote_to_be_reexecuted": false,
    "source_hash": "568ccd15",
    "execution_start": 1635873604278,
    "execution_millis": 111,
    "deepnote_cell_type": "code"
   },
   "source": "y.sample(5, random_state=random_state)",
   "outputs": [
    {
     "output_type": "execute_result",
     "execution_count": 12,
     "data": {
      "text/plain": "Id\n106     Iris-virginica\n133     Iris-virginica\n132     Iris-virginica\n52     Iris-versicolor\n48         Iris-setosa\nName: Species, dtype: category\nCategories (3, object): ['Iris-setosa', 'Iris-versicolor', 'Iris-virginica']"
     },
     "metadata": {}
    }
   ],
   "execution_count": 12
  },
  {
   "cell_type": "markdown",
   "source": "Por último, dividimos el conjunto de datos en entrenamiento y prueba mediante un *holdout* estratificado:",
   "metadata": {
    "papermill": {
     "duration": 0.058662,
     "end_time": "2020-12-14T07:57:45.797053",
     "exception": false,
     "start_time": "2020-12-14T07:57:45.738391",
     "status": "completed"
    },
    "tags": [],
    "cell_id": "00018-0406b446-a227-4e12-9d5d-0f6e87602e99",
    "deepnote_cell_type": "markdown"
   }
  },
  {
   "cell_type": "code",
   "metadata": {
    "tags": [],
    "cell_id": "00022-74b2bc97-a651-4500-8982-edf90a1c6f83",
    "deepnote_to_be_reexecuted": false,
    "source_hash": "746a4dbc",
    "execution_start": 1635873604284,
    "execution_millis": 1556,
    "deepnote_cell_type": "code"
   },
   "source": "from sklearn.model_selection import train_test_split",
   "outputs": [],
   "execution_count": 13
  },
  {
   "cell_type": "code",
   "metadata": {
    "execution": {
     "iopub.execute_input": "2020-12-14T07:57:45.930382Z",
     "iopub.status.busy": "2020-12-14T07:57:45.929121Z",
     "iopub.status.idle": "2020-12-14T07:57:45.937098Z",
     "shell.execute_reply": "2020-12-14T07:57:45.939695Z"
    },
    "papermill": {
     "duration": 0.083525,
     "end_time": "2020-12-14T07:57:45.939894",
     "exception": false,
     "start_time": "2020-12-14T07:57:45.856369",
     "status": "completed"
    },
    "tags": [],
    "cell_id": "00019-4e853113-6589-4f84-ab08-2d683463f2b9",
    "deepnote_to_be_reexecuted": false,
    "source_hash": "dba5bf09",
    "execution_start": 1635873605853,
    "execution_millis": 4,
    "deepnote_cell_type": "code"
   },
   "source": "X_train, X_test, y_train, y_test = train_test_split(X, y, stratify=y, random_state=random_state, train_size=0.7)",
   "outputs": [],
   "execution_count": 14
  },
  {
   "cell_type": "markdown",
   "source": "Y nos aseguramos que se ha realizado adecuadamente. Comenzamos con el conjunto de datos de entrenamiento:",
   "metadata": {
    "papermill": {
     "duration": 0.065435,
     "end_time": "2020-12-14T07:57:46.078753",
     "exception": false,
     "start_time": "2020-12-14T07:57:46.013318",
     "status": "completed"
    },
    "tags": [],
    "cell_id": "00020-cd6e886f-9b3a-4aca-88a6-52ffed6e3350",
    "deepnote_cell_type": "markdown"
   }
  },
  {
   "cell_type": "code",
   "metadata": {
    "execution": {
     "iopub.execute_input": "2020-12-14T07:57:46.214215Z",
     "iopub.status.busy": "2020-12-14T07:57:46.213098Z",
     "iopub.status.idle": "2020-12-14T07:57:46.218517Z",
     "shell.execute_reply": "2020-12-14T07:57:46.219231Z"
    },
    "papermill": {
     "duration": 0.080937,
     "end_time": "2020-12-14T07:57:46.219402",
     "exception": false,
     "start_time": "2020-12-14T07:57:46.138465",
     "status": "completed"
    },
    "tags": [],
    "cell_id": "00021-7d7b4856-7c1d-4252-a251-70b92f3514c1",
    "deepnote_to_be_reexecuted": false,
    "source_hash": "3a05a2c",
    "execution_start": 1635873605857,
    "execution_millis": 25,
    "deepnote_cell_type": "code"
   },
   "source": "X_train.sample(5, random_state=random_state)",
   "outputs": [
    {
     "output_type": "execute_result",
     "execution_count": 15,
     "data": {
      "application/vnd.deepnote.dataframe.v2+json": {
       "row_count": 5,
       "column_count": 4,
       "columns": [
        {
         "name": "SepalLengthCm",
         "dtype": "float64",
         "stats": {
          "unique_count": 5,
          "nan_count": 0,
          "min": "5.2",
          "max": "6.7",
          "histogram": [
           {
            "bin_start": 5.2,
            "bin_end": 5.3500000000000005,
            "count": 2
           },
           {
            "bin_start": 5.3500000000000005,
            "bin_end": 5.5,
            "count": 0
           },
           {
            "bin_start": 5.5,
            "bin_end": 5.65,
            "count": 0
           },
           {
            "bin_start": 5.65,
            "bin_end": 5.8,
            "count": 0
           },
           {
            "bin_start": 5.8,
            "bin_end": 5.95,
            "count": 0
           },
           {
            "bin_start": 5.95,
            "bin_end": 6.1,
            "count": 1
           },
           {
            "bin_start": 6.1,
            "bin_end": 6.25,
            "count": 0
           },
           {
            "bin_start": 6.25,
            "bin_end": 6.4,
            "count": 0
           },
           {
            "bin_start": 6.4,
            "bin_end": 6.55,
            "count": 1
           },
           {
            "bin_start": 6.55,
            "bin_end": 6.7,
            "count": 1
           }
          ]
         }
        },
        {
         "name": "SepalWidthCm",
         "dtype": "float64",
         "stats": {
          "unique_count": 5,
          "nan_count": 0,
          "min": "2.2",
          "max": "4.1",
          "histogram": [
           {
            "bin_start": 2.2,
            "bin_end": 2.39,
            "count": 1
           },
           {
            "bin_start": 2.39,
            "bin_end": 2.58,
            "count": 0
           },
           {
            "bin_start": 2.58,
            "bin_end": 2.77,
            "count": 0
           },
           {
            "bin_start": 2.77,
            "bin_end": 2.96,
            "count": 0
           },
           {
            "bin_start": 2.96,
            "bin_end": 3.15,
            "count": 1
           },
           {
            "bin_start": 3.15,
            "bin_end": 3.34,
            "count": 1
           },
           {
            "bin_start": 3.34,
            "bin_end": 3.53,
            "count": 0
           },
           {
            "bin_start": 3.53,
            "bin_end": 3.7199999999999998,
            "count": 1
           },
           {
            "bin_start": 3.7199999999999998,
            "bin_end": 3.9099999999999997,
            "count": 0
           },
           {
            "bin_start": 3.9099999999999997,
            "bin_end": 4.1,
            "count": 1
           }
          ]
         }
        },
        {
         "name": "PetalLengthCm",
         "dtype": "float64",
         "stats": {
          "unique_count": 4,
          "nan_count": 0,
          "min": "1.5",
          "max": "5.1",
          "histogram": [
           {
            "bin_start": 1.5,
            "bin_end": 1.8599999999999999,
            "count": 2
           },
           {
            "bin_start": 1.8599999999999999,
            "bin_end": 2.2199999999999998,
            "count": 0
           },
           {
            "bin_start": 2.2199999999999998,
            "bin_end": 2.58,
            "count": 0
           },
           {
            "bin_start": 2.58,
            "bin_end": 2.94,
            "count": 0
           },
           {
            "bin_start": 2.94,
            "bin_end": 3.3,
            "count": 0
           },
           {
            "bin_start": 3.3,
            "bin_end": 3.66,
            "count": 0
           },
           {
            "bin_start": 3.66,
            "bin_end": 4.02,
            "count": 1
           },
           {
            "bin_start": 4.02,
            "bin_end": 4.38,
            "count": 0
           },
           {
            "bin_start": 4.38,
            "bin_end": 4.74,
            "count": 1
           },
           {
            "bin_start": 4.74,
            "bin_end": 5.1,
            "count": 1
           }
          ]
         }
        },
        {
         "name": "PetalWidthCm",
         "dtype": "float64",
         "stats": {
          "unique_count": 5,
          "nan_count": 0,
          "min": "0.1",
          "max": "2.0",
          "histogram": [
           {
            "bin_start": 0.1,
            "bin_end": 0.29000000000000004,
            "count": 2
           },
           {
            "bin_start": 0.29000000000000004,
            "bin_end": 0.48,
            "count": 0
           },
           {
            "bin_start": 0.48,
            "bin_end": 0.67,
            "count": 0
           },
           {
            "bin_start": 0.67,
            "bin_end": 0.86,
            "count": 0
           },
           {
            "bin_start": 0.86,
            "bin_end": 1.05,
            "count": 1
           },
           {
            "bin_start": 1.05,
            "bin_end": 1.2400000000000002,
            "count": 0
           },
           {
            "bin_start": 1.2400000000000002,
            "bin_end": 1.4300000000000002,
            "count": 1
           },
           {
            "bin_start": 1.4300000000000002,
            "bin_end": 1.62,
            "count": 0
           },
           {
            "bin_start": 1.62,
            "bin_end": 1.81,
            "count": 0
           },
           {
            "bin_start": 1.81,
            "bin_end": 2,
            "count": 1
           }
          ]
         }
        },
        {
         "name": "_deepnote_index_column",
         "dtype": "int64"
        }
       ],
       "rows_top": [
        {
         "SepalLengthCm": 5.3,
         "SepalWidthCm": 3.7,
         "PetalLengthCm": 1.5,
         "PetalWidthCm": 0.2,
         "_deepnote_index_column": 49
        },
        {
         "SepalLengthCm": 5.2,
         "SepalWidthCm": 4.1,
         "PetalLengthCm": 1.5,
         "PetalWidthCm": 0.1,
         "_deepnote_index_column": 33
        },
        {
         "SepalLengthCm": 6.7,
         "SepalWidthCm": 3.1,
         "PetalLengthCm": 4.4,
         "PetalWidthCm": 1.4,
         "_deepnote_index_column": 66
        },
        {
         "SepalLengthCm": 6,
         "SepalWidthCm": 2.2,
         "PetalLengthCm": 4,
         "PetalWidthCm": 1,
         "_deepnote_index_column": 63
        },
        {
         "SepalLengthCm": 6.5,
         "SepalWidthCm": 3.2,
         "PetalLengthCm": 5.1,
         "PetalWidthCm": 2,
         "_deepnote_index_column": 111
        }
       ],
       "rows_bottom": null
      },
      "text/plain": "     SepalLengthCm  SepalWidthCm  PetalLengthCm  PetalWidthCm\nId                                                           \n49             5.3           3.7            1.5           0.2\n33             5.2           4.1            1.5           0.1\n66             6.7           3.1            4.4           1.4\n63             6.0           2.2            4.0           1.0\n111            6.5           3.2            5.1           2.0",
      "text/html": "<div>\n<style scoped>\n    .dataframe tbody tr th:only-of-type {\n        vertical-align: middle;\n    }\n\n    .dataframe tbody tr th {\n        vertical-align: top;\n    }\n\n    .dataframe thead th {\n        text-align: right;\n    }\n</style>\n<table border=\"1\" class=\"dataframe\">\n  <thead>\n    <tr style=\"text-align: right;\">\n      <th></th>\n      <th>SepalLengthCm</th>\n      <th>SepalWidthCm</th>\n      <th>PetalLengthCm</th>\n      <th>PetalWidthCm</th>\n    </tr>\n    <tr>\n      <th>Id</th>\n      <th></th>\n      <th></th>\n      <th></th>\n      <th></th>\n    </tr>\n  </thead>\n  <tbody>\n    <tr>\n      <th>49</th>\n      <td>5.3</td>\n      <td>3.7</td>\n      <td>1.5</td>\n      <td>0.2</td>\n    </tr>\n    <tr>\n      <th>33</th>\n      <td>5.2</td>\n      <td>4.1</td>\n      <td>1.5</td>\n      <td>0.1</td>\n    </tr>\n    <tr>\n      <th>66</th>\n      <td>6.7</td>\n      <td>3.1</td>\n      <td>4.4</td>\n      <td>1.4</td>\n    </tr>\n    <tr>\n      <th>63</th>\n      <td>6.0</td>\n      <td>2.2</td>\n      <td>4.0</td>\n      <td>1.0</td>\n    </tr>\n    <tr>\n      <th>111</th>\n      <td>6.5</td>\n      <td>3.2</td>\n      <td>5.1</td>\n      <td>2.0</td>\n    </tr>\n  </tbody>\n</table>\n</div>"
     },
     "metadata": {}
    }
   ],
   "execution_count": 15
  },
  {
   "cell_type": "code",
   "metadata": {
    "execution": {
     "iopub.execute_input": "2020-12-14T07:57:46.351189Z",
     "iopub.status.busy": "2020-12-14T07:57:46.350048Z",
     "iopub.status.idle": "2020-12-14T07:57:46.354416Z",
     "shell.execute_reply": "2020-12-14T07:57:46.353679Z"
    },
    "papermill": {
     "duration": 0.074063,
     "end_time": "2020-12-14T07:57:46.354547",
     "exception": false,
     "start_time": "2020-12-14T07:57:46.280484",
     "status": "completed"
    },
    "tags": [],
    "cell_id": "00022-62899050-2aac-4c0d-b3f6-8f45101cc40c",
    "deepnote_to_be_reexecuted": false,
    "source_hash": "78014a65",
    "execution_start": 1635873605878,
    "execution_millis": 27,
    "deepnote_cell_type": "code"
   },
   "source": "y_train.sample(5, random_state=random_state)",
   "outputs": [
    {
     "output_type": "execute_result",
     "execution_count": 16,
     "data": {
      "text/plain": "Id\n49         Iris-setosa\n33         Iris-setosa\n66     Iris-versicolor\n63     Iris-versicolor\n111     Iris-virginica\nName: Species, dtype: category\nCategories (3, object): ['Iris-setosa', 'Iris-versicolor', 'Iris-virginica']"
     },
     "metadata": {}
    }
   ],
   "execution_count": 16
  },
  {
   "cell_type": "markdown",
   "source": "Y finalizamos con el conjunto de datos de prueba:",
   "metadata": {
    "papermill": {
     "duration": 0.063096,
     "end_time": "2020-12-14T07:57:46.478354",
     "exception": false,
     "start_time": "2020-12-14T07:57:46.415258",
     "status": "completed"
    },
    "tags": [],
    "cell_id": "00023-fa62f63e-d4b0-44d2-bfcb-4a0e791baab7",
    "deepnote_cell_type": "markdown"
   }
  },
  {
   "cell_type": "code",
   "metadata": {
    "execution": {
     "iopub.execute_input": "2020-12-14T07:57:46.615551Z",
     "iopub.status.busy": "2020-12-14T07:57:46.614546Z",
     "iopub.status.idle": "2020-12-14T07:57:46.619464Z",
     "shell.execute_reply": "2020-12-14T07:57:46.618863Z"
    },
    "papermill": {
     "duration": 0.080509,
     "end_time": "2020-12-14T07:57:46.619615",
     "exception": false,
     "start_time": "2020-12-14T07:57:46.539106",
     "status": "completed"
    },
    "tags": [],
    "cell_id": "00024-b3393c3f-e0ac-498c-9c18-da8c1c2594bc",
    "deepnote_to_be_reexecuted": false,
    "source_hash": "fb48ba65",
    "execution_start": 1635873605901,
    "execution_millis": 40,
    "deepnote_cell_type": "code"
   },
   "source": "X_test.sample(5, random_state=random_state)",
   "outputs": [
    {
     "output_type": "execute_result",
     "execution_count": 17,
     "data": {
      "application/vnd.deepnote.dataframe.v2+json": {
       "row_count": 5,
       "column_count": 4,
       "columns": [
        {
         "name": "SepalLengthCm",
         "dtype": "float64",
         "stats": {
          "unique_count": 5,
          "nan_count": 0,
          "min": "5.2",
          "max": "6.7",
          "histogram": [
           {
            "bin_start": 5.2,
            "bin_end": 5.3500000000000005,
            "count": 1
           },
           {
            "bin_start": 5.3500000000000005,
            "bin_end": 5.5,
            "count": 1
           },
           {
            "bin_start": 5.5,
            "bin_end": 5.65,
            "count": 1
           },
           {
            "bin_start": 5.65,
            "bin_end": 5.8,
            "count": 0
           },
           {
            "bin_start": 5.8,
            "bin_end": 5.95,
            "count": 0
           },
           {
            "bin_start": 5.95,
            "bin_end": 6.1,
            "count": 0
           },
           {
            "bin_start": 6.1,
            "bin_end": 6.25,
            "count": 0
           },
           {
            "bin_start": 6.25,
            "bin_end": 6.4,
            "count": 1
           },
           {
            "bin_start": 6.4,
            "bin_end": 6.55,
            "count": 0
           },
           {
            "bin_start": 6.55,
            "bin_end": 6.7,
            "count": 1
           }
          ]
         }
        },
        {
         "name": "SepalWidthCm",
         "dtype": "float64",
         "stats": {
          "unique_count": 5,
          "nan_count": 0,
          "min": "2.3",
          "max": "3.9",
          "histogram": [
           {
            "bin_start": 2.3,
            "bin_end": 2.46,
            "count": 1
           },
           {
            "bin_start": 2.46,
            "bin_end": 2.6199999999999997,
            "count": 2
           },
           {
            "bin_start": 2.6199999999999997,
            "bin_end": 2.78,
            "count": 0
           },
           {
            "bin_start": 2.78,
            "bin_end": 2.94,
            "count": 0
           },
           {
            "bin_start": 2.94,
            "bin_end": 3.0999999999999996,
            "count": 0
           },
           {
            "bin_start": 3.0999999999999996,
            "bin_end": 3.26,
            "count": 0
           },
           {
            "bin_start": 3.26,
            "bin_end": 3.42,
            "count": 0
           },
           {
            "bin_start": 3.42,
            "bin_end": 3.58,
            "count": 1
           },
           {
            "bin_start": 3.58,
            "bin_end": 3.7399999999999998,
            "count": 0
           },
           {
            "bin_start": 3.7399999999999998,
            "bin_end": 3.9,
            "count": 1
           }
          ]
         }
        },
        {
         "name": "PetalLengthCm",
         "dtype": "float64",
         "stats": {
          "unique_count": 4,
          "nan_count": 0,
          "min": "1.5",
          "max": "5.8",
          "histogram": [
           {
            "bin_start": 1.5,
            "bin_end": 1.93,
            "count": 2
           },
           {
            "bin_start": 1.93,
            "bin_end": 2.36,
            "count": 0
           },
           {
            "bin_start": 2.36,
            "bin_end": 2.79,
            "count": 0
           },
           {
            "bin_start": 2.79,
            "bin_end": 3.2199999999999998,
            "count": 0
           },
           {
            "bin_start": 3.2199999999999998,
            "bin_end": 3.65,
            "count": 0
           },
           {
            "bin_start": 3.65,
            "bin_end": 4.08,
            "count": 0
           },
           {
            "bin_start": 4.08,
            "bin_end": 4.51,
            "count": 2
           },
           {
            "bin_start": 4.51,
            "bin_end": 4.9399999999999995,
            "count": 0
           },
           {
            "bin_start": 4.9399999999999995,
            "bin_end": 5.37,
            "count": 0
           },
           {
            "bin_start": 5.37,
            "bin_end": 5.8,
            "count": 1
           }
          ]
         }
        },
        {
         "name": "PetalWidthCm",
         "dtype": "float64",
         "stats": {
          "unique_count": 5,
          "nan_count": 0,
          "min": "0.2",
          "max": "1.8",
          "histogram": [
           {
            "bin_start": 0.2,
            "bin_end": 0.36,
            "count": 1
           },
           {
            "bin_start": 0.36,
            "bin_end": 0.52,
            "count": 1
           },
           {
            "bin_start": 0.52,
            "bin_end": 0.6799999999999999,
            "count": 0
           },
           {
            "bin_start": 0.6799999999999999,
            "bin_end": 0.8400000000000001,
            "count": 0
           },
           {
            "bin_start": 0.8400000000000001,
            "bin_end": 1,
            "count": 0
           },
           {
            "bin_start": 1,
            "bin_end": 1.16,
            "count": 0
           },
           {
            "bin_start": 1.16,
            "bin_end": 1.32,
            "count": 2
           },
           {
            "bin_start": 1.32,
            "bin_end": 1.48,
            "count": 0
           },
           {
            "bin_start": 1.48,
            "bin_end": 1.64,
            "count": 0
           },
           {
            "bin_start": 1.64,
            "bin_end": 1.8,
            "count": 1
           }
          ]
         }
        },
        {
         "name": "_deepnote_index_column",
         "dtype": "int64"
        }
       ],
       "rows_top": [
        {
         "SepalLengthCm": 6.3,
         "SepalWidthCm": 2.3,
         "PetalLengthCm": 4.4,
         "PetalWidthCm": 1.3,
         "_deepnote_index_column": 88
        },
        {
         "SepalLengthCm": 5.4,
         "SepalWidthCm": 3.9,
         "PetalLengthCm": 1.7,
         "PetalWidthCm": 0.4,
         "_deepnote_index_column": 6
        },
        {
         "SepalLengthCm": 6.7,
         "SepalWidthCm": 2.5,
         "PetalLengthCm": 5.8,
         "PetalWidthCm": 1.8,
         "_deepnote_index_column": 109
        },
        {
         "SepalLengthCm": 5.5,
         "SepalWidthCm": 2.6,
         "PetalLengthCm": 4.4,
         "PetalWidthCm": 1.2,
         "_deepnote_index_column": 91
        },
        {
         "SepalLengthCm": 5.2,
         "SepalWidthCm": 3.5,
         "PetalLengthCm": 1.5,
         "PetalWidthCm": 0.2,
         "_deepnote_index_column": 28
        }
       ],
       "rows_bottom": null
      },
      "text/plain": "     SepalLengthCm  SepalWidthCm  PetalLengthCm  PetalWidthCm\nId                                                           \n88             6.3           2.3            4.4           1.3\n6              5.4           3.9            1.7           0.4\n109            6.7           2.5            5.8           1.8\n91             5.5           2.6            4.4           1.2\n28             5.2           3.5            1.5           0.2",
      "text/html": "<div>\n<style scoped>\n    .dataframe tbody tr th:only-of-type {\n        vertical-align: middle;\n    }\n\n    .dataframe tbody tr th {\n        vertical-align: top;\n    }\n\n    .dataframe thead th {\n        text-align: right;\n    }\n</style>\n<table border=\"1\" class=\"dataframe\">\n  <thead>\n    <tr style=\"text-align: right;\">\n      <th></th>\n      <th>SepalLengthCm</th>\n      <th>SepalWidthCm</th>\n      <th>PetalLengthCm</th>\n      <th>PetalWidthCm</th>\n    </tr>\n    <tr>\n      <th>Id</th>\n      <th></th>\n      <th></th>\n      <th></th>\n      <th></th>\n    </tr>\n  </thead>\n  <tbody>\n    <tr>\n      <th>88</th>\n      <td>6.3</td>\n      <td>2.3</td>\n      <td>4.4</td>\n      <td>1.3</td>\n    </tr>\n    <tr>\n      <th>6</th>\n      <td>5.4</td>\n      <td>3.9</td>\n      <td>1.7</td>\n      <td>0.4</td>\n    </tr>\n    <tr>\n      <th>109</th>\n      <td>6.7</td>\n      <td>2.5</td>\n      <td>5.8</td>\n      <td>1.8</td>\n    </tr>\n    <tr>\n      <th>91</th>\n      <td>5.5</td>\n      <td>2.6</td>\n      <td>4.4</td>\n      <td>1.2</td>\n    </tr>\n    <tr>\n      <th>28</th>\n      <td>5.2</td>\n      <td>3.5</td>\n      <td>1.5</td>\n      <td>0.2</td>\n    </tr>\n  </tbody>\n</table>\n</div>"
     },
     "metadata": {}
    }
   ],
   "execution_count": 17
  },
  {
   "cell_type": "code",
   "metadata": {
    "execution": {
     "iopub.execute_input": "2020-12-14T07:57:46.752265Z",
     "iopub.status.busy": "2020-12-14T07:57:46.751303Z",
     "iopub.status.idle": "2020-12-14T07:57:46.755116Z",
     "shell.execute_reply": "2020-12-14T07:57:46.755761Z"
    },
    "papermill": {
     "duration": 0.075557,
     "end_time": "2020-12-14T07:57:46.755944",
     "exception": false,
     "start_time": "2020-12-14T07:57:46.680387",
     "status": "completed"
    },
    "tags": [],
    "cell_id": "00025-01307d6e-980f-4f43-abd7-c9e07981b9c9",
    "deepnote_to_be_reexecuted": false,
    "source_hash": "97a367c",
    "execution_start": 1635873605940,
    "execution_millis": 21,
    "deepnote_cell_type": "code"
   },
   "source": "y_test.sample(5, random_state=random_state)",
   "outputs": [
    {
     "output_type": "execute_result",
     "execution_count": 18,
     "data": {
      "text/plain": "Id\n88     Iris-versicolor\n6          Iris-setosa\n109     Iris-virginica\n91     Iris-versicolor\n28         Iris-setosa\nName: Species, dtype: category\nCategories (3, object): ['Iris-setosa', 'Iris-versicolor', 'Iris-virginica']"
     },
     "metadata": {}
    }
   ],
   "execution_count": 18
  },
  {
   "cell_type": "markdown",
   "source": "# 3. Modelos de clasificación supervisada",
   "metadata": {
    "papermill": {
     "duration": 0.060814,
     "end_time": "2020-12-14T07:57:46.878477",
     "exception": false,
     "start_time": "2020-12-14T07:57:46.817663",
     "status": "completed"
    },
    "tags": [],
    "cell_id": "00026-d2d251fe-947d-41eb-ad5a-958b4f4871c7",
    "deepnote_cell_type": "markdown"
   }
  },
  {
   "cell_type": "markdown",
   "source": "## 3.1. Vecinos más cercanos\n\nEl algoritmo de los vecinos más cercanos es un método basado en instancias que no construye ningún modelo durante el aprendizaje, pues directamente almacena las instancias del conjunto de datos de entrenamiento. Además, se considera perozoso, dado que computa los parámetros necesarios para la clasificación en la fase de inferencia. En particular, la clasificación consiste en asignar a la instancia de entrada la clase mayoritaria de los vecinos más cercanos.\n\nEste clasificador se implementa en la clase [`neighbors.KNeighborsClassifier`](https://scikit-learn.org/stable/modules/generated/sklearn.neighbors.KNeighborsClassifier.html). Vamos a inicializar este clasificador usando un número de vecinos más cercanos moderado. Para ello, configuramos el modelo con respecto a los hiperparámetros:",
   "metadata": {
    "papermill": {
     "duration": 0.062749,
     "end_time": "2020-12-14T07:57:47.002966",
     "exception": false,
     "start_time": "2020-12-14T07:57:46.940217",
     "status": "completed"
    },
    "tags": [],
    "cell_id": "00027-e58edf12-50ad-4b0f-b10e-f081e891f0f9",
    "deepnote_cell_type": "markdown"
   }
  },
  {
   "cell_type": "code",
   "metadata": {
    "tags": [],
    "cell_id": "00032-17f02cf9-1a91-4b13-9378-35ece324ce92",
    "deepnote_to_be_reexecuted": false,
    "source_hash": "4e690cc3",
    "execution_start": 1635873605948,
    "execution_millis": 63,
    "deepnote_cell_type": "code"
   },
   "source": "from sklearn.neighbors import KNeighborsClassifier",
   "outputs": [],
   "execution_count": 19
  },
  {
   "cell_type": "code",
   "metadata": {
    "tags": [],
    "cell_id": "00032-c43a4dcc-9ae7-4e0c-841b-d7fc30a6c8bf",
    "deepnote_to_be_reexecuted": false,
    "source_hash": "2f0212ed",
    "execution_start": 1635873606022,
    "execution_millis": 9,
    "deepnote_cell_type": "code"
   },
   "source": "n_neighbors = 5",
   "outputs": [],
   "execution_count": 20
  },
  {
   "cell_type": "code",
   "metadata": {
    "execution": {
     "iopub.execute_input": "2020-12-14T07:57:47.383919Z",
     "iopub.status.busy": "2020-12-14T07:57:47.383140Z",
     "iopub.status.idle": "2020-12-14T07:57:47.386794Z",
     "shell.execute_reply": "2020-12-14T07:57:47.385989Z"
    },
    "papermill": {
     "duration": 0.070829,
     "end_time": "2020-12-14T07:57:47.386933",
     "exception": false,
     "start_time": "2020-12-14T07:57:47.316104",
     "status": "completed"
    },
    "tags": [],
    "cell_id": "00030-511648fb-a540-43ac-9dae-a6c55a4e2fb1",
    "deepnote_to_be_reexecuted": false,
    "source_hash": "83e8ea2c",
    "execution_start": 1635873606033,
    "execution_millis": 0,
    "deepnote_cell_type": "code"
   },
   "source": "k_neighbors_model = KNeighborsClassifier(n_neighbors)",
   "outputs": [],
   "execution_count": 21
  },
  {
   "cell_type": "markdown",
   "source": "",
   "metadata": {
    "tags": [],
    "cell_id": "00034-2c5c2b8b-b6ce-46fe-8a29-d60fd30817a3",
    "deepnote_cell_type": "markdown"
   }
  },
  {
   "cell_type": "markdown",
   "source": "## 3.2. Árboles de decisión\n\nLos algoritmos basados en inducción de árboles de decisión representan los modelos mediante un conjunto de reglas. Estos presentan una serie de ventajas tal y como puede ser la interpretabilidad de los modelos obtenidos, bajo coste del proceso de predicción (logarítmico con respecto al número de muestras del conjunto de datos de prueba), manejo implícito de variables numéricas y categóricas, etc. Por contra, una de las mayores desventajas es que tienden a crear modelos demasiado complejos que no suelen generalizar ante conjuntos de datos no visualizados por el algoritmo de aprendizaje. Entre otros problemas destacan la inestabilidad de los modelos obtenidos ante variaciones del conjunto de datos de entrenamiento, dificultad para modelar determinados tipos de problemas, etc.\n\nEs importante comentar que los valores por defecto de los hiperparámetros que controlan el tamaño del árbol de decisión producen árboles de decisión profundos (*fully developed decision trees*) que suelen estar sobreajustados al conjunto de datos de entrenamiento. Por ello, es recomendable configurar estos hiperparámetros de acuerdo con el problema a ser resuelto.\n\nLos árboles de decisión se encuentran implementados en la clase [`tree.DecisionTreeClassifier`](https://scikit-learn.org/stable/modules/generated/sklearn.tree.DecisionTreeClassifier.html). Vamos a configurar este tipo de árbol:",
   "metadata": {
    "papermill": {
     "duration": 0.061924,
     "end_time": "2020-12-14T07:57:47.511431",
     "exception": false,
     "start_time": "2020-12-14T07:57:47.449507",
     "status": "completed"
    },
    "tags": [],
    "cell_id": "00031-1c6de20c-958e-47b5-a08e-b9361526a110",
    "deepnote_cell_type": "markdown"
   }
  },
  {
   "cell_type": "code",
   "metadata": {
    "tags": [],
    "cell_id": "00037-e01adf67-83db-49c9-b713-994b663dccd4",
    "deepnote_to_be_reexecuted": false,
    "source_hash": "1f640c24",
    "execution_start": 1635873606034,
    "execution_millis": 151,
    "deepnote_cell_type": "code"
   },
   "source": "from sklearn.tree import DecisionTreeClassifier",
   "outputs": [],
   "execution_count": 22
  },
  {
   "cell_type": "code",
   "metadata": {
    "execution": {
     "iopub.execute_input": "2020-12-14T07:57:47.884606Z",
     "iopub.status.busy": "2020-12-14T07:57:47.883504Z",
     "iopub.status.idle": "2020-12-14T07:57:47.887809Z",
     "shell.execute_reply": "2020-12-14T07:57:47.886989Z"
    },
    "papermill": {
     "duration": 0.07039,
     "end_time": "2020-12-14T07:57:47.887945",
     "exception": false,
     "start_time": "2020-12-14T07:57:47.817555",
     "status": "completed"
    },
    "tags": [],
    "cell_id": "00034-6616a2a8-be18-4d35-9eaf-60dc842c8b0b",
    "deepnote_to_be_reexecuted": false,
    "source_hash": "47e93b34",
    "execution_start": 1635873606185,
    "execution_millis": 1,
    "deepnote_cell_type": "code"
   },
   "source": "decision_tree_model = DecisionTreeClassifier(random_state=random_state)",
   "outputs": [],
   "execution_count": 23
  },
  {
   "cell_type": "markdown",
   "source": "### Un pequeño paréntesis\n\nEn general, los modelos tienen diferente capacidad para ajustarse a los datos. Intuitivamente, podemos ver que modelos más complejos permitirán un mayor ajuste a los datos, mientras que modelos sencillos tendrán más dificultades. Sin embargo, los modelos más complejos no siempre son los más adecuados debido al sobreajuste. Si el modelo está sobreajustado se dice que no generaliza ante casos nuevos.\n\nAnalizando detenidamente el error que comete un modelo se suele hacer la distinción entre dos tipos:\n\n* **Error debido al sesgo**: Se debe a las suposiciones incorrectas del modelo. Por ejemplo, una regresión lineal supone que la variable objetivo se relaciona con las variables predictoras de acuerdo con un patrón lineal. Si por el contrario los datos siguieran otra distribución, la suposición del modelo sería incorrecta, lo que llevaría a un error predictivo. Este error suele reducirse usando modelos más complejos o una mayor dimensionalidad de los datos.\n\n* **Error debido a la varianza**: Se produce cuando el modelo aprende patrones espúreos debido al ruido de los datos. Por ejemplo, el algoritmo del vecino más cercano. Este modelo tiene una gran capacidad de sobreajuste ya que utiliza el ejemplo más cercano del conjunto de datos de entrenamiento para realizar la predicción. Por ello, la existencia de ruido en el conjunto de datos de entrenamiento le afecta en gran medida, ya que los ejemplos nuevos que se encuentren cerca de ejemplos ruidosos se predecirán de forma incorrecta. Este error suele reducirse aumentando el número de ejemplos del conjunto de datos de entrenamiento o usando modelos más simples.\n\nDe la explicación anterior se puede entrever que existen modelos con un alto sesgo (y que gran parte del error que cometan se deberá a este) y modelos con alta varianza (que se ven afectados por patrones espúreos). Es interesante saber las características de nuestro modelo para saber si tiene más varianza o sesgo y así poder proceder adecuadamente en la reducción del error.\n\n---\n\n**Palabras clave**:\n\n* Decimos que un modelo está sobreajustado cuando este no solo aprende relaciones reales sino que también se ajusta a patrones ruidosos no relacionados con la distribución subyacente de los datos.\n\n---",
   "metadata": {
    "papermill": {
     "duration": 0.060441,
     "end_time": "2020-12-14T07:57:48.010730",
     "exception": false,
     "start_time": "2020-12-14T07:57:47.950289",
     "status": "completed"
    },
    "tags": [],
    "cell_id": "00035-89731d66-8a8c-4889-9205-2acad3a227dd",
    "deepnote_cell_type": "markdown"
   }
  },
  {
   "cell_type": "markdown",
   "source": "## 3.3. *Adaptive Boosting*\n\nAunque la estrategia común detrás de un ensemble sea la de generar un consenso entre varios modelos, la forma en la que se generan está dirigida por motivaciones muy diferentes. Cuando utilizamos una técnica de ensemble es básico conocer el fundamento interno para seleccionar adecuadamente los hiperparámetros del algoritmo de aprendizaje.\n\nEn el caso de este tipo de algoritmos, la estrategia es, dado un problema complejo, reducir el sesgo de los modelos. Por ello, lo que se hace es guiar la función de aprendizaje para que incida en aquellos ejemplos que sean más dificiles de generalizar. La técnica es pesar las instancias para sobreajustar el clasificador en aquellos casos conflictivos. De manera más formal se trata de establecer un problema de optimización de funciones de coste.\n\nPor ello, los clasificadores ideales que se pueden utilizar en este tipo de técnicas son clasificadores con un poder de generalización y parámetros no muy complejos ni sobreajustados (*weak learners*). Esto otorga al algoritmo espacio para optimizar dichos parámetros y teóricamente transformar el clasificador base en un *strong learner*. Por ejemplo, árboles de decisión poco profundos (*shallow decision trees*).\n\nEste clasificador está disponible en la clase [`ensemble.AdaBoostClassifier`](https://scikit-learn.org/stable/modules/generated/sklearn.ensemble.AdaBoostClassifier.html). Vamos a configurarlo para que utilice los hiperparámetros por defecto:\n\n",
   "metadata": {
    "papermill": {
     "duration": 0.063392,
     "end_time": "2020-12-14T07:57:48.263639",
     "exception": false,
     "start_time": "2020-12-14T07:57:48.200247",
     "status": "completed"
    },
    "tags": [],
    "cell_id": "00037-651605bd-8cf8-4663-b8a6-73ec38c1e6e5",
    "deepnote_cell_type": "markdown"
   }
  },
  {
   "cell_type": "code",
   "metadata": {
    "tags": [],
    "cell_id": "00040-1516bf91-89d5-44b5-8bc4-432f2c4b616c",
    "deepnote_to_be_reexecuted": false,
    "source_hash": "257d41b9",
    "execution_start": 1635873606187,
    "execution_millis": 0,
    "deepnote_cell_type": "code"
   },
   "source": "from sklearn.ensemble import AdaBoostClassifier",
   "outputs": [],
   "execution_count": 24
  },
  {
   "cell_type": "code",
   "metadata": {
    "execution": {
     "iopub.execute_input": "2020-12-14T07:57:48.520616Z",
     "iopub.status.busy": "2020-12-14T07:57:48.519468Z",
     "iopub.status.idle": "2020-12-14T07:57:48.523330Z",
     "shell.execute_reply": "2020-12-14T07:57:48.522622Z"
    },
    "papermill": {
     "duration": 0.074023,
     "end_time": "2020-12-14T07:57:48.523449",
     "exception": false,
     "start_time": "2020-12-14T07:57:48.449426",
     "status": "completed"
    },
    "tags": [],
    "cell_id": "00039-73a86072-900c-4b53-bd18-0e99f0ecbebc",
    "deepnote_to_be_reexecuted": false,
    "source_hash": "81cab174",
    "execution_start": 1635873606188,
    "execution_millis": 0,
    "deepnote_cell_type": "code"
   },
   "source": "adaboost_model = AdaBoostClassifier(random_state=random_state)",
   "outputs": [],
   "execution_count": 25
  },
  {
   "cell_type": "markdown",
   "source": "## 3.4. *Bootstrap Aggregating*\n\nEn este tipo de ensembles, la estrategia es utilizar una función de aprendizaje y obtener modelos bien diversos entre sí para reducir el error obtenido mediante varianza. Formalmente, hablamos de clasificadores que individualmente tengan poder de generalización y un gran poder predictivo, pero que al mismo tiempo estén lo menos correlados entre sí. Por ello, se utilizan diversas técnicas de muestreo y aleatorización de los modelos. De esta manera, el mejor tipo de clasificadores que se pueden utilizar son *strong learners*, esto es, clasificadores con un gran poder predictivo en sus parámetros y modelos que presenten mucha varianza para reducirla mediante agregación (p.e., árboles de decisión profundos).\n\nEste clasificador se encuentra implementado en la clase [`ensemble.BaggingClassifier`](https://scikit-learn.org/stable/modules/generated/sklearn.ensemble.BaggingClassifier.html). Vamos a configurarlo con los hiperparámetros por defecto:",
   "metadata": {
    "papermill": {
     "duration": 0.060456,
     "end_time": "2020-12-14T07:57:48.646542",
     "exception": false,
     "start_time": "2020-12-14T07:57:48.586086",
     "status": "completed"
    },
    "tags": [],
    "cell_id": "00040-a286d1c6-980b-4fa7-a1ed-63a3f4f6b306",
    "deepnote_cell_type": "markdown"
   }
  },
  {
   "cell_type": "code",
   "metadata": {
    "tags": [],
    "cell_id": "00044-73728a1a-8b3f-4a1d-8c52-ed641700a32d",
    "deepnote_to_be_reexecuted": false,
    "source_hash": "2f15a975",
    "execution_start": 1635873606189,
    "execution_millis": 0,
    "deepnote_cell_type": "code"
   },
   "source": "from sklearn.ensemble import BaggingClassifier",
   "outputs": [],
   "execution_count": 26
  },
  {
   "cell_type": "code",
   "metadata": {
    "execution": {
     "iopub.execute_input": "2020-12-14T07:57:48.896366Z",
     "iopub.status.busy": "2020-12-14T07:57:48.895490Z",
     "iopub.status.idle": "2020-12-14T07:57:48.899215Z",
     "shell.execute_reply": "2020-12-14T07:57:48.898458Z"
    },
    "papermill": {
     "duration": 0.069899,
     "end_time": "2020-12-14T07:57:48.899341",
     "exception": false,
     "start_time": "2020-12-14T07:57:48.829442",
     "status": "completed"
    },
    "tags": [],
    "cell_id": "00042-874c604b-3421-4630-abe0-937206d49230",
    "deepnote_to_be_reexecuted": false,
    "source_hash": "d3c77a45",
    "execution_start": 1635873606230,
    "execution_millis": 1263083,
    "deepnote_cell_type": "code"
   },
   "source": "bagging_model = BaggingClassifier(random_state=random_state)",
   "outputs": [],
   "execution_count": 27
  },
  {
   "cell_type": "markdown",
   "source": "## 3.5. *Random Forests*\n\nEn este caso, también se busca reducir el error obtenido mediante varianza, pero adicionalmente integra otras técnicas de aleatorización en el aprendizaje de los árboles de decisión para ampliar la generalización del ensemble. Concretamente, utiliza una muestra aleatoria de los atributos a la hora de seleccionar cada punto óptimo de corte para reducir la varianza de cada uno de los estimadores del ensemble, a costa de incrementar ligeramente el sesgo. Por esa misma razón, los hiperparámetros de este algoritmo incluyen tanto los correspondientes al ensemble como al árbol de decisión.\n\nEste ensemble se implementa en la clase [`ensemble.RandomForestClassifier`](https://scikit-learn.org/stable/modules/generated/sklearn.ensemble.RandomForestClassifier.html):",
   "metadata": {
    "papermill": {
     "duration": 0.061389,
     "end_time": "2020-12-14T07:57:49.023698",
     "exception": false,
     "start_time": "2020-12-14T07:57:48.962309",
     "status": "completed"
    },
    "tags": [],
    "cell_id": "00043-227f4b40-90d2-450b-8d0b-30ce9cdf48bb",
    "deepnote_cell_type": "markdown"
   }
  },
  {
   "cell_type": "code",
   "metadata": {
    "tags": [],
    "cell_id": "00046-2357fb48-13dc-40da-842d-d3fe41cc4149",
    "deepnote_to_be_reexecuted": false,
    "source_hash": "39ef4b5b",
    "execution_start": 1635873606232,
    "execution_millis": 1263070,
    "deepnote_cell_type": "code"
   },
   "source": "from sklearn.ensemble import RandomForestClassifier",
   "outputs": [],
   "execution_count": 28
  },
  {
   "cell_type": "code",
   "metadata": {
    "execution": {
     "iopub.execute_input": "2020-12-14T07:57:49.277792Z",
     "iopub.status.busy": "2020-12-14T07:57:49.276823Z",
     "iopub.status.idle": "2020-12-14T07:57:49.280245Z",
     "shell.execute_reply": "2020-12-14T07:57:49.279659Z"
    },
    "papermill": {
     "duration": 0.071256,
     "end_time": "2020-12-14T07:57:49.280379",
     "exception": false,
     "start_time": "2020-12-14T07:57:49.209123",
     "status": "completed"
    },
    "tags": [],
    "cell_id": "00045-60214968-56c4-4063-8c16-22daf542a6ca",
    "deepnote_to_be_reexecuted": false,
    "source_hash": "ff76c00d",
    "execution_start": 1635873606235,
    "execution_millis": 1263058,
    "deepnote_cell_type": "code"
   },
   "source": "random_forest_model = RandomForestClassifier(random_state=random_state)",
   "outputs": [],
   "execution_count": 29
  },
  {
   "cell_type": "markdown",
   "source": "## 3.6. *Gradient Tree Boosting*\n\nEste ensemble es una generalización de los algoritmos de *boosting* con la capacidad de optimizar cualquier tipo de función pérdida. Esto permite extender estos algoritmos más allá de problemas de clasificación binaria tal y como pueden ser problemas de regresión, etc.\n\nEste clasificador está implementado en la clase [`ensemble.GradientBoostingClassifier`](https://scikit-learn.org/stable/modules/generated/sklearn.ensemble.GradientBoostingClassifier.html):",
   "metadata": {
    "papermill": {
     "duration": 0.062308,
     "end_time": "2020-12-14T07:57:49.409128",
     "exception": false,
     "start_time": "2020-12-14T07:57:49.346820",
     "status": "completed"
    },
    "tags": [],
    "cell_id": "00046-58d6ab1d-a58c-4884-9a15-c5e46a0fa169",
    "deepnote_cell_type": "markdown"
   }
  },
  {
   "cell_type": "code",
   "metadata": {
    "tags": [],
    "cell_id": "00050-a4003aaf-1f81-458f-a174-2f7dd5afe606",
    "deepnote_to_be_reexecuted": false,
    "source_hash": "350666cf",
    "execution_start": 1635873606237,
    "execution_millis": 1263053,
    "deepnote_cell_type": "code"
   },
   "source": "from sklearn.ensemble import GradientBoostingClassifier",
   "outputs": [],
   "execution_count": 30
  },
  {
   "cell_type": "code",
   "metadata": {
    "execution": {
     "iopub.execute_input": "2020-12-14T07:57:49.667917Z",
     "iopub.status.busy": "2020-12-14T07:57:49.666826Z",
     "iopub.status.idle": "2020-12-14T07:57:49.670792Z",
     "shell.execute_reply": "2020-12-14T07:57:49.670002Z"
    },
    "papermill": {
     "duration": 0.073306,
     "end_time": "2020-12-14T07:57:49.670923",
     "exception": false,
     "start_time": "2020-12-14T07:57:49.597617",
     "status": "completed"
    },
    "tags": [],
    "cell_id": "00048-dd590c5f-33ed-406f-8f2f-ab679d8607a5",
    "deepnote_to_be_reexecuted": false,
    "source_hash": "89361080",
    "execution_start": 1635873606252,
    "execution_millis": 1263064,
    "deepnote_cell_type": "code"
   },
   "source": "gradient_boosting_model = GradientBoostingClassifier(random_state=random_state)",
   "outputs": [],
   "execution_count": 31
  },
  {
   "cell_type": "markdown",
   "source": "## 3.7. *Histogram Gradient Boosting*\n\nEste algoritmo es una optimización del previo que discretiza el conjunto de datos de entrada para reducir el número de puntos de corte a considerar en la construcción de los árboles de decisión (aprovechándose de estructuras de datos basadas en histogramas). De esta manera, no tiene que considerar cada valor distinto de las variables predictoras continuas como punto de corte al construir los árboles de decisión, lo que le permite reducir en varios órdenes de magnitud el tiempo de entrenamiento e inferencia. Otra de las ventajas que presenta es que es capaz de tratar valores perdidos de manera implícita sin necesidad de realizar una imputación previa.\n\nEste ensemble se implementa en la clase [`ensemble.HistGradientBoostingClassifier`](https://scikit-learn.org/stable/modules/generated/sklearn.ensemble.HistGradientBoostingClassifier.html):",
   "metadata": {
    "papermill": {
     "duration": 0.063338,
     "end_time": "2020-12-14T07:57:49.798835",
     "exception": false,
     "start_time": "2020-12-14T07:57:49.735497",
     "status": "completed"
    },
    "tags": [],
    "cell_id": "00049-ef51f398-b233-4721-aa6c-d4432457599f",
    "deepnote_cell_type": "markdown"
   }
  },
  {
   "cell_type": "code",
   "metadata": {
    "tags": [],
    "cell_id": "00052-f9d9313b-c2b5-4e43-a383-2e556c18ce95",
    "deepnote_to_be_reexecuted": false,
    "source_hash": "833304f5",
    "execution_start": 1635873606253,
    "execution_millis": 1263059,
    "deepnote_cell_type": "code"
   },
   "source": "from sklearn.ensemble import HistGradientBoostingClassifier",
   "outputs": [],
   "execution_count": 32
  },
  {
   "cell_type": "code",
   "metadata": {
    "execution": {
     "iopub.execute_input": "2020-12-14T07:57:50.054320Z",
     "iopub.status.busy": "2020-12-14T07:57:50.053364Z",
     "iopub.status.idle": "2020-12-14T07:57:50.056252Z",
     "shell.execute_reply": "2020-12-14T07:57:50.055474Z"
    },
    "papermill": {
     "duration": 0.069749,
     "end_time": "2020-12-14T07:57:50.056381",
     "exception": false,
     "start_time": "2020-12-14T07:57:49.986632",
     "status": "completed"
    },
    "tags": [],
    "cell_id": "00051-f34c3051-27c4-419b-898c-88f52de6a855",
    "deepnote_to_be_reexecuted": false,
    "source_hash": "6edbb989",
    "execution_start": 1635873606254,
    "execution_millis": 1263056,
    "deepnote_cell_type": "code"
   },
   "source": "hist_gradient_boosting_model = HistGradientBoostingClassifier(random_state=random_state)",
   "outputs": [],
   "execution_count": 33
  },
  {
   "cell_type": "markdown",
   "source": "# 4. Evaluación de modelos\n\nHemos visto que a la hora de entrenar un modelo podemos parametrizar el algoritmo de aprendizaje, esto es, configurar sus hiperparámetros. Llegados a este punto, nos deben surgir una serie de dudas:\n\n* ¿Cuál es el mejor clasificador para mi problema?\n* ¿Cuál es la mejor configuración de hiperparámetros para mi problema?\n\nPara responder a estas preguntas, lo más lógico sería realizar una serie de experimentos para evaluar distintos modelos y quedarnos con el mejor. No obstante, hemos de realizar dichas pruebas con una metodología que garantice que los resultados no están sesgados.\n\nUna de lás técnicas más utilizadas es la validación cruzada. En esta, se separa el conjunto de datos en $ k $ particiones y se repite $ k $ veces el proceso de aprendizaje y validación, pero utilizando cada vez una combinación única de $ k - 1 $ muestras para entrenar y la restante para validar. El resultado es la media de las métricas obtenidas en cada una de las particiones. Al repetir y agregar los resultados del aprendizaje sobre varios conjuntos de datos diferentes, nos aseguramos una buena estimación del sesgo y la varianza.\n\nVamos a configurar una $ 5 \\times 10 $ validación cruzada estratificada, para lo cuál recurrimos a la clase [`sklearn.model_selection.RepeatedStratifiedKFold`](https://scikit-learn.org/stable/modules/generated/sklearn.model_selection.RepeatedStratifiedKFold.html):\n\n---\n\n**Notas**:\n\n* En el siguiente [enlace](https://scikit-learn.org/stable/modules/cross_validation.html#cross-validation-iterators) se proporciona el listado completo de tipos de validación cruzada que se pueden aplicar.\n\n---",
   "metadata": {
    "papermill": {
     "duration": 0.061558,
     "end_time": "2020-12-14T07:57:50.180527",
     "exception": false,
     "start_time": "2020-12-14T07:57:50.118969",
     "status": "completed"
    },
    "tags": [],
    "cell_id": "00052-ce26a1dd-9e8b-422a-ada0-7555aed772df",
    "deepnote_cell_type": "markdown"
   }
  },
  {
   "cell_type": "code",
   "metadata": {
    "tags": [],
    "cell_id": "00055-33b1a761-a455-4082-92d8-ee9f65140350",
    "deepnote_to_be_reexecuted": false,
    "source_hash": "509bdd58",
    "execution_start": 1635873606255,
    "execution_millis": 1,
    "deepnote_cell_type": "code"
   },
   "source": "from sklearn.model_selection import RepeatedStratifiedKFold",
   "outputs": [],
   "execution_count": 34
  },
  {
   "cell_type": "code",
   "metadata": {
    "tags": [],
    "cell_id": "00055-15038007-a3bd-4245-b3f8-42d887e9a255",
    "deepnote_to_be_reexecuted": false,
    "source_hash": "3d5b52e4",
    "execution_start": 1635873606257,
    "execution_millis": 1,
    "deepnote_cell_type": "code"
   },
   "source": "n_splits = 10",
   "outputs": [],
   "execution_count": 35
  },
  {
   "cell_type": "code",
   "metadata": {
    "tags": [],
    "cell_id": "00055-33dad4e6-2710-4012-8a79-649c7aef0f4a",
    "deepnote_to_be_reexecuted": false,
    "source_hash": "d17c314d",
    "execution_start": 1635873606259,
    "execution_millis": 1,
    "deepnote_cell_type": "code"
   },
   "source": "n_repeats = 5",
   "outputs": [],
   "execution_count": 36
  },
  {
   "cell_type": "code",
   "metadata": {
    "execution": {
     "iopub.execute_input": "2020-12-14T07:57:50.441487Z",
     "iopub.status.busy": "2020-12-14T07:57:50.440367Z",
     "iopub.status.idle": "2020-12-14T07:57:50.445182Z",
     "shell.execute_reply": "2020-12-14T07:57:50.444040Z"
    },
    "papermill": {
     "duration": 0.076397,
     "end_time": "2020-12-14T07:57:50.445339",
     "exception": false,
     "start_time": "2020-12-14T07:57:50.368942",
     "status": "completed"
    },
    "tags": [],
    "cell_id": "00054-f12f9855-7329-45b3-9d26-b50dae0972ad",
    "deepnote_to_be_reexecuted": false,
    "source_hash": "5c92f854",
    "execution_start": 1635873606261,
    "execution_millis": 0,
    "deepnote_cell_type": "code"
   },
   "source": "cv = RepeatedStratifiedKFold(n_splits=n_splits, n_repeats=n_repeats, random_state=random_state)",
   "outputs": [],
   "execution_count": 37
  },
  {
   "cell_type": "markdown",
   "source": "# 5. Selección de modelos\n\nAhora que somos capaces de evaluar correctamente los clasificadores es importante decidir una estrategia que nos permita encontrar una configuración óptima de los hiperparámetros. Para ello, combinaremos un algoritmo de búsqueda con evaluación mediante validación cruzada, y así explorar el espacio de las distintas configuraciones de hiperparámetros que proveen los algoritmos de aprendizaje.\n\nCuando se tiene cierta experiencia usando los modelos es posible determinar los dominios aproximados en los que se encuentran los hiperparámetros relevantes que puede tomar un algoritmo de aprendizaje. No obstante, es un proceso de ensayo, error e intuición que debemos adquirir (así que es razonable explorar configuraciones y estudiar el resultado).\n\nEl algoritmo más básico de selección de modelos por fuerza bruta se llama búsqueda en malla y está implementado en [`model_selection.GridSearchCV`](https://scikit-learn.org/stable/modules/generated/sklearn.model_selection.GridSearchCV.html). Este recibe un conjunto de hiperparámetros (diccionario con el nombre del hiperparámetro como clave y la lista de configuraciones como valores) y realiza una búsqueda exhaustiva evaluando mediante validación cruzada todas las posibles combinaciones existentes.\n\nEn el algoritmo de los vecinos más cercanos parece lógico optimizar el número de vecinos (`n_neighbors`) y la función de pesado (`weights`):",
   "metadata": {
    "papermill": {
     "duration": 0.063296,
     "end_time": "2020-12-14T07:57:53.356004",
     "exception": false,
     "start_time": "2020-12-14T07:57:53.292708",
     "status": "completed"
    },
    "tags": [],
    "cell_id": "00057-aa7a3015-f7be-40aa-9c35-3217c1b41eb4",
    "deepnote_cell_type": "markdown"
   }
  },
  {
   "cell_type": "code",
   "source": "from utils import optimize_params",
   "metadata": {
    "tags": [],
    "cell_id": "00060-c8c38107-30c0-4ea8-b88a-648ff8a67577",
    "deepnote_to_be_reexecuted": false,
    "source_hash": "1473d66f",
    "execution_start": 1635873606263,
    "execution_millis": 681,
    "deepnote_cell_type": "code"
   },
   "outputs": [],
   "execution_count": 38
  },
  {
   "cell_type": "code",
   "metadata": {
    "tags": [],
    "cell_id": "00064-8ff4bef6-43ca-4dbd-bda9-d17491f6fdef",
    "deepnote_to_be_reexecuted": false,
    "source_hash": "59331c42",
    "execution_start": 1635873606956,
    "execution_millis": 4,
    "deepnote_cell_type": "code"
   },
   "source": "weights = [\"uniform\", \"distance\"]",
   "outputs": [],
   "execution_count": 39
  },
  {
   "cell_type": "code",
   "metadata": {
    "tags": [],
    "cell_id": "00065-fcbddb5d-0674-4f22-ad1d-c926db71fe11",
    "deepnote_to_be_reexecuted": false,
    "source_hash": "aff8e827",
    "execution_start": 1635873606960,
    "execution_millis": 0,
    "deepnote_cell_type": "code"
   },
   "source": "n_neighbors = [1, 2, 3, 4, 5, 6, 7, 8]",
   "outputs": [],
   "execution_count": 40
  },
  {
   "cell_type": "code",
   "metadata": {
    "execution": {
     "iopub.execute_input": "2020-12-14T07:57:53.621248Z",
     "iopub.status.busy": "2020-12-14T07:57:53.620265Z",
     "iopub.status.idle": "2020-12-14T07:57:57.902490Z",
     "shell.execute_reply": "2020-12-14T07:57:57.903094Z"
    },
    "papermill": {
     "duration": 4.356658,
     "end_time": "2020-12-14T07:57:57.903252",
     "exception": false,
     "start_time": "2020-12-14T07:57:53.546594",
     "status": "completed"
    },
    "tags": [],
    "cell_id": "00059-a9dc9509-d929-4487-837c-de863b6dc81c",
    "deepnote_to_be_reexecuted": false,
    "source_hash": "85ace1e",
    "execution_start": 1635873606977,
    "execution_millis": 7455,
    "deepnote_cell_type": "code"
   },
   "source": "k_neighbors_classifier = optimize_params(k_neighbors_model, X_train, y_train, cv, weights=weights, n_neighbors=n_neighbors)",
   "outputs": [
    {
     "data": {
      "application/vnd.deepnote.dataframe.v2+json": {
       "row_count": 16,
       "column_count": 12,
       "columns": [
        {
         "name": "mean_fit_time",
         "dtype": "float64",
         "stats": {
          "unique_count": 16,
          "nan_count": 0,
          "min": "0.00213007926940918",
          "max": "0.002828378677368164",
          "histogram": [
           {
            "bin_start": 0.00213007926940918,
            "bin_end": 0.002199909210205078,
            "count": 4
           },
           {
            "bin_start": 0.002199909210205078,
            "bin_end": 0.0022697391510009767,
            "count": 2
           },
           {
            "bin_start": 0.0022697391510009767,
            "bin_end": 0.0023395690917968753,
            "count": 4
           },
           {
            "bin_start": 0.0023395690917968753,
            "bin_end": 0.0024093990325927735,
            "count": 1
           },
           {
            "bin_start": 0.0024093990325927735,
            "bin_end": 0.0024792289733886717,
            "count": 2
           },
           {
            "bin_start": 0.0024792289733886717,
            "bin_end": 0.0025490589141845704,
            "count": 0
           },
           {
            "bin_start": 0.0025490589141845704,
            "bin_end": 0.002618888854980469,
            "count": 1
           },
           {
            "bin_start": 0.002618888854980469,
            "bin_end": 0.002688718795776367,
            "count": 0
           },
           {
            "bin_start": 0.002688718795776367,
            "bin_end": 0.0027585487365722654,
            "count": 1
           },
           {
            "bin_start": 0.0027585487365722654,
            "bin_end": 0.002828378677368164,
            "count": 1
           }
          ]
         }
        },
        {
         "name": "std_fit_time",
         "dtype": "float64",
         "stats": {
          "unique_count": 16,
          "nan_count": 0,
          "min": "0.00021651075635599089",
          "max": "0.0012492152448889526",
          "histogram": [
           {
            "bin_start": 0.00021651075635599089,
            "bin_end": 0.00031978120520928706,
            "count": 3
           },
           {
            "bin_start": 0.00031978120520928706,
            "bin_end": 0.0004230516540625832,
            "count": 3
           },
           {
            "bin_start": 0.0004230516540625832,
            "bin_end": 0.0005263221029158795,
            "count": 2
           },
           {
            "bin_start": 0.0005263221029158795,
            "bin_end": 0.0006295925517691756,
            "count": 5
           },
           {
            "bin_start": 0.0006295925517691756,
            "bin_end": 0.0007328630006224717,
            "count": 2
           },
           {
            "bin_start": 0.0007328630006224717,
            "bin_end": 0.000836133449475768,
            "count": 0
           },
           {
            "bin_start": 0.000836133449475768,
            "bin_end": 0.0009394038983290641,
            "count": 0
           },
           {
            "bin_start": 0.0009394038983290641,
            "bin_end": 0.0010426743471823603,
            "count": 0
           },
           {
            "bin_start": 0.0010426743471823603,
            "bin_end": 0.0011459447960356563,
            "count": 0
           },
           {
            "bin_start": 0.0011459447960356563,
            "bin_end": 0.0012492152448889526,
            "count": 1
           }
          ]
         }
        },
        {
         "name": "mean_score_time",
         "dtype": "float64",
         "stats": {
          "unique_count": 16,
          "nan_count": 0,
          "min": "0.0022104215621948243",
          "max": "0.0032317066192626954",
          "histogram": [
           {
            "bin_start": 0.0022104215621948243,
            "bin_end": 0.0023125500679016114,
            "count": 3
           },
           {
            "bin_start": 0.0023125500679016114,
            "bin_end": 0.0024146785736083986,
            "count": 0
           },
           {
            "bin_start": 0.0024146785736083986,
            "bin_end": 0.0025168070793151857,
            "count": 1
           },
           {
            "bin_start": 0.0025168070793151857,
            "bin_end": 0.002618935585021973,
            "count": 4
           },
           {
            "bin_start": 0.002618935585021973,
            "bin_end": 0.00272106409072876,
            "count": 6
           },
           {
            "bin_start": 0.00272106409072876,
            "bin_end": 0.002823192596435547,
            "count": 0
           },
           {
            "bin_start": 0.002823192596435547,
            "bin_end": 0.002925321102142334,
            "count": 0
           },
           {
            "bin_start": 0.002925321102142334,
            "bin_end": 0.003027449607849121,
            "count": 0
           },
           {
            "bin_start": 0.003027449607849121,
            "bin_end": 0.003129578113555908,
            "count": 0
           },
           {
            "bin_start": 0.003129578113555908,
            "bin_end": 0.0032317066192626954,
            "count": 2
           }
          ]
         }
        },
        {
         "name": "std_score_time",
         "dtype": "float64",
         "stats": {
          "unique_count": 16,
          "nan_count": 0,
          "min": "0.00015087067922541313",
          "max": "0.0013767877164030478",
          "histogram": [
           {
            "bin_start": 0.00015087067922541313,
            "bin_end": 0.0002734623829431766,
            "count": 1
           },
           {
            "bin_start": 0.0002734623829431766,
            "bin_end": 0.0003960540866609401,
            "count": 3
           },
           {
            "bin_start": 0.0003960540866609401,
            "bin_end": 0.0005186457903787035,
            "count": 4
           },
           {
            "bin_start": 0.0005186457903787035,
            "bin_end": 0.000641237494096467,
            "count": 4
           },
           {
            "bin_start": 0.000641237494096467,
            "bin_end": 0.0007638291978142304,
            "count": 1
           },
           {
            "bin_start": 0.0007638291978142304,
            "bin_end": 0.000886420901531994,
            "count": 0
           },
           {
            "bin_start": 0.000886420901531994,
            "bin_end": 0.0010090126052497575,
            "count": 1
           },
           {
            "bin_start": 0.0010090126052497575,
            "bin_end": 0.0011316043089675209,
            "count": 1
           },
           {
            "bin_start": 0.0011316043089675209,
            "bin_end": 0.0012541960126852844,
            "count": 0
           },
           {
            "bin_start": 0.0012541960126852844,
            "bin_end": 0.0013767877164030478,
            "count": 1
           }
          ]
         }
        },
        {
         "name": "param_n_neighbors",
         "dtype": "object",
         "stats": {
          "unique_count": 8,
          "nan_count": 0,
          "categories": [
           {
            "name": "8",
            "count": 2
           },
           {
            "name": "6",
            "count": 2
           },
           {
            "name": "6 others",
            "count": 12
           }
          ]
         }
        },
        {
         "name": "param_weights",
         "dtype": "object",
         "stats": {
          "unique_count": 2,
          "nan_count": 0,
          "categories": [
           {
            "name": "distance",
            "count": 8
           },
           {
            "name": "uniform",
            "count": 8
           }
          ]
         }
        },
        {
         "name": "params",
         "dtype": "object",
         "stats": {
          "unique_count": 16,
          "nan_count": 0,
          "categories": [
           {
            "name": "{'n_neighbors': 8, 'weights': 'distance'}",
            "count": 1
           },
           {
            "name": "{'n_neighbors': 6, 'weights': 'uniform'}",
            "count": 1
           },
           {
            "name": "14 others",
            "count": 14
           }
          ]
         }
        },
        {
         "name": "mean_test_score",
         "dtype": "float64",
         "stats": {
          "unique_count": 11,
          "nan_count": 0,
          "min": "0.9510909090909091",
          "max": "0.9772727272727272",
          "histogram": [
           {
            "bin_start": 0.9510909090909091,
            "bin_end": 0.953709090909091,
            "count": 1
           },
           {
            "bin_start": 0.953709090909091,
            "bin_end": 0.9563272727272727,
            "count": 0
           },
           {
            "bin_start": 0.9563272727272727,
            "bin_end": 0.9589454545454545,
            "count": 3
           },
           {
            "bin_start": 0.9589454545454545,
            "bin_end": 0.9615636363636363,
            "count": 0
           },
           {
            "bin_start": 0.9615636363636363,
            "bin_end": 0.9641818181818181,
            "count": 0
           },
           {
            "bin_start": 0.9641818181818181,
            "bin_end": 0.9668,
            "count": 1
           },
           {
            "bin_start": 0.9668,
            "bin_end": 0.9694181818181817,
            "count": 0
           },
           {
            "bin_start": 0.9694181818181817,
            "bin_end": 0.9720363636363636,
            "count": 2
           },
           {
            "bin_start": 0.9720363636363636,
            "bin_end": 0.9746545454545453,
            "count": 6
           },
           {
            "bin_start": 0.9746545454545453,
            "bin_end": 0.9772727272727272,
            "count": 3
           }
          ]
         }
        },
        {
         "name": "std_test_score",
         "dtype": "float64",
         "stats": {
          "unique_count": 12,
          "nan_count": 0,
          "min": "0.04050303529080993",
          "max": "0.05716613457414065",
          "histogram": [
           {
            "bin_start": 0.04050303529080993,
            "bin_end": 0.042169345219143006,
            "count": 2
           },
           {
            "bin_start": 0.042169345219143006,
            "bin_end": 0.043835655147476074,
            "count": 3
           },
           {
            "bin_start": 0.043835655147476074,
            "bin_end": 0.04550196507580915,
            "count": 1
           },
           {
            "bin_start": 0.04550196507580915,
            "bin_end": 0.04716827500414222,
            "count": 5
           },
           {
            "bin_start": 0.04716827500414222,
            "bin_end": 0.04883458493247529,
            "count": 0
           },
           {
            "bin_start": 0.04883458493247529,
            "bin_end": 0.05050089486080836,
            "count": 2
           },
           {
            "bin_start": 0.05050089486080836,
            "bin_end": 0.052167204789141434,
            "count": 0
           },
           {
            "bin_start": 0.052167204789141434,
            "bin_end": 0.05383351471747451,
            "count": 0
           },
           {
            "bin_start": 0.05383351471747451,
            "bin_end": 0.05549982464580758,
            "count": 0
           },
           {
            "bin_start": 0.05549982464580758,
            "bin_end": 0.05716613457414065,
            "count": 3
           }
          ]
         }
        },
        {
         "name": "rank_test_score",
         "dtype": "int32",
         "stats": {
          "unique_count": 11,
          "nan_count": 0,
          "min": "1",
          "max": "16",
          "histogram": [
           {
            "bin_start": 1,
            "bin_end": 2.5,
            "count": 2
           },
           {
            "bin_start": 2.5,
            "bin_end": 4,
            "count": 1
           },
           {
            "bin_start": 4,
            "bin_end": 5.5,
            "count": 2
           },
           {
            "bin_start": 5.5,
            "bin_end": 7,
            "count": 2
           },
           {
            "bin_start": 7,
            "bin_end": 8.5,
            "count": 2
           },
           {
            "bin_start": 8.5,
            "bin_end": 10,
            "count": 0
           },
           {
            "bin_start": 10,
            "bin_end": 11.5,
            "count": 2
           },
           {
            "bin_start": 11.5,
            "bin_end": 13,
            "count": 1
           },
           {
            "bin_start": 13,
            "bin_end": 14.5,
            "count": 3
           },
           {
            "bin_start": 14.5,
            "bin_end": 16,
            "count": 1
           }
          ]
         }
        },
        {
         "name": "mean_train_score",
         "dtype": "float64",
         "stats": {
          "unique_count": 8,
          "nan_count": 0,
          "min": "0.9701657334826428",
          "max": "1.0",
          "histogram": [
           {
            "bin_start": 0.9701657334826428,
            "bin_end": 0.9731491601343785,
            "count": 3
           },
           {
            "bin_start": 0.9731491601343785,
            "bin_end": 0.9761325867861143,
            "count": 0
           },
           {
            "bin_start": 0.9761325867861143,
            "bin_end": 0.9791160134378499,
            "count": 4
           },
           {
            "bin_start": 0.9791160134378499,
            "bin_end": 0.9820994400895857,
            "count": 0
           },
           {
            "bin_start": 0.9820994400895857,
            "bin_end": 0.9850828667413214,
            "count": 0
           },
           {
            "bin_start": 0.9850828667413214,
            "bin_end": 0.9880662933930571,
            "count": 0
           },
           {
            "bin_start": 0.9880662933930571,
            "bin_end": 0.9910497200447929,
            "count": 0
           },
           {
            "bin_start": 0.9910497200447929,
            "bin_end": 0.9940331466965285,
            "count": 0
           },
           {
            "bin_start": 0.9940331466965285,
            "bin_end": 0.9970165733482643,
            "count": 0
           },
           {
            "bin_start": 0.9970165733482643,
            "bin_end": 1,
            "count": 9
           }
          ]
         }
        },
        {
         "name": "std_train_score",
         "dtype": "float64",
         "stats": {
          "unique_count": 8,
          "nan_count": 0,
          "min": "0.0",
          "max": "0.008519310722513098",
          "histogram": [
           {
            "bin_start": 0,
            "bin_end": 0.0008519310722513099,
            "count": 9
           },
           {
            "bin_start": 0.0008519310722513099,
            "bin_end": 0.0017038621445026197,
            "count": 0
           },
           {
            "bin_start": 0.0017038621445026197,
            "bin_end": 0.0025557932167539297,
            "count": 0
           },
           {
            "bin_start": 0.0025557932167539297,
            "bin_end": 0.0034077242890052394,
            "count": 0
           },
           {
            "bin_start": 0.0034077242890052394,
            "bin_end": 0.004259655361256549,
            "count": 0
           },
           {
            "bin_start": 0.004259655361256549,
            "bin_end": 0.005111586433507859,
            "count": 0
           },
           {
            "bin_start": 0.005111586433507859,
            "bin_end": 0.005963517505759169,
            "count": 0
           },
           {
            "bin_start": 0.005963517505759169,
            "bin_end": 0.006815448578010479,
            "count": 1
           },
           {
            "bin_start": 0.006815448578010479,
            "bin_end": 0.007667379650261789,
            "count": 4
           },
           {
            "bin_start": 0.007667379650261789,
            "bin_end": 0.008519310722513098,
            "count": 2
           }
          ]
         }
        },
        {
         "name": "_deepnote_index_column",
         "dtype": "int64"
        }
       ],
       "rows_top": [
        {
         "mean_fit_time": 0.00213007926940918,
         "std_fit_time": 0.00021651075635599089,
         "mean_score_time": 0.002274284362792969,
         "std_score_time": 0.0002829192959744217,
         "param_n_neighbors": "8",
         "param_weights": "distance",
         "params": "{'n_neighbors': 8, 'weights': 'distance'}",
         "mean_test_score": 0.9772727272727272,
         "std_test_score": 0.04050303529080993,
         "rank_test_score": 1,
         "mean_train_score": 1,
         "std_train_score": 0,
         "_deepnote_index_column": 15
        },
        {
         "mean_fit_time": 0.0022766923904418944,
         "std_fit_time": 0.00038194379260811677,
         "mean_score_time": 0.002663426399230957,
         "std_score_time": 0.0005283635315614721,
         "param_n_neighbors": "6",
         "param_weights": "uniform",
         "params": "{'n_neighbors': 6, 'weights': 'uniform'}",
         "mean_test_score": 0.9754545454545455,
         "std_test_score": 0.04528148874695371,
         "rank_test_score": 2,
         "mean_train_score": 0.9781926091825306,
         "std_train_score": 0.007197366803978727,
         "_deepnote_index_column": 10
        },
        {
         "mean_fit_time": 0.0021839475631713866,
         "std_fit_time": 0.00034527354866048884,
         "mean_score_time": 0.0022707700729370115,
         "std_score_time": 0.000290563187323056,
         "param_n_neighbors": "5",
         "param_weights": "distance",
         "params": "{'n_neighbors': 5, 'weights': 'distance'}",
         "mean_test_score": 0.9754545454545454,
         "std_test_score": 0.041470889919843795,
         "rank_test_score": 3,
         "mean_train_score": 1,
         "std_train_score": 0,
         "_deepnote_index_column": 9
        },
        {
         "mean_fit_time": 0.0022332143783569337,
         "std_fit_time": 0.0005017651477550202,
         "mean_score_time": 0.002634077072143555,
         "std_score_time": 0.0005348774302222717,
         "param_n_neighbors": "5",
         "param_weights": "uniform",
         "params": "{'n_neighbors': 5, 'weights': 'uniform'}",
         "mean_test_score": 0.9736363636363636,
         "std_test_score": 0.04607754871808795,
         "rank_test_score": 4,
         "mean_train_score": 0.9788309070548712,
         "std_train_score": 0.006011089729880353,
         "_deepnote_index_column": 8
        },
        {
         "mean_fit_time": 0.002294354438781738,
         "std_fit_time": 0.0004202476474525471,
         "mean_score_time": 0.0026489877700805664,
         "std_score_time": 0.00047882716163063414,
         "param_n_neighbors": "8",
         "param_weights": "uniform",
         "params": "{'n_neighbors': 8, 'weights': 'uniform'}",
         "mean_test_score": 0.9736363636363636,
         "std_test_score": 0.04607754871808795,
         "rank_test_score": 4,
         "mean_train_score": 0.9773437849944009,
         "std_train_score": 0.008519310722513098,
         "_deepnote_index_column": 14
        },
        {
         "mean_fit_time": 0.0022964954376220705,
         "std_fit_time": 0.0005687586257168597,
         "mean_score_time": 0.002652301788330078,
         "std_score_time": 0.0006032417383247897,
         "param_n_neighbors": "3",
         "param_weights": "uniform",
         "params": "{'n_neighbors': 3, 'weights': 'uniform'}",
         "mean_test_score": 0.9736363636363634,
         "std_test_score": 0.042338658262527334,
         "rank_test_score": 6,
         "mean_train_score": 0.9724927211646137,
         "std_train_score": 0.008186273530626264,
         "_deepnote_index_column": 4
        },
        {
         "mean_fit_time": 0.0023629188537597655,
         "std_fit_time": 0.0005327480387195657,
         "mean_score_time": 0.0024617195129394533,
         "std_score_time": 0.0005022374625934075,
         "param_n_neighbors": "3",
         "param_weights": "distance",
         "params": "{'n_neighbors': 3, 'weights': 'distance'}",
         "mean_test_score": 0.9736363636363634,
         "std_test_score": 0.042338658262527334,
         "rank_test_score": 6,
         "mean_train_score": 1,
         "std_train_score": 0,
         "_deepnote_index_column": 5
        },
        {
         "mean_fit_time": 0.002448263168334961,
         "std_fit_time": 0.0006062594088048445,
         "mean_score_time": 0.0026558589935302733,
         "std_score_time": 0.0008937887007647013,
         "param_n_neighbors": "6",
         "param_weights": "distance",
         "params": "{'n_neighbors': 6, 'weights': 'distance'}",
         "mean_test_score": 0.9734545454545455,
         "std_test_score": 0.047091962080189266,
         "rank_test_score": 8,
         "mean_train_score": 1,
         "std_train_score": 0,
         "_deepnote_index_column": 11
        },
        {
         "mean_fit_time": 0.0024756050109863282,
         "std_fit_time": 0.0005993518713593574,
         "mean_score_time": 0.002588205337524414,
         "std_score_time": 0.0006110271407487458,
         "param_n_neighbors": "7",
         "param_weights": "distance",
         "params": "{'n_neighbors': 7, 'weights': 'distance'}",
         "mean_test_score": 0.9734545454545455,
         "std_test_score": 0.046349017303052686,
         "rank_test_score": 8,
         "mean_train_score": 1,
         "std_train_score": 0,
         "_deepnote_index_column": 13
        },
        {
         "mean_fit_time": 0.002828378677368164,
         "std_fit_time": 0.0012492152448889526,
         "mean_score_time": 0.0031917190551757815,
         "std_score_time": 0.0010324147581805322,
         "param_n_neighbors": "4",
         "param_weights": "uniform",
         "params": "{'n_neighbors': 4, 'weights': 'uniform'}",
         "mean_test_score": 0.9718181818181817,
         "std_test_score": 0.043112384368652286,
         "rank_test_score": 10,
         "mean_train_score": 0.97291601343785,
         "std_train_score": 0.007364744468175641,
         "_deepnote_index_column": 6
        },
        {
         "mean_fit_time": 0.0021556854248046876,
         "std_fit_time": 0.00028667935350157645,
         "mean_score_time": 0.0025550270080566405,
         "std_score_time": 0.000468818966154125,
         "param_n_neighbors": "7",
         "param_weights": "uniform",
         "params": "{'n_neighbors': 7, 'weights': 'uniform'}",
         "mean_test_score": 0.9716363636363635,
         "std_test_score": 0.04704982412733572,
         "rank_test_score": 11,
         "mean_train_score": 0.9771399776035833,
         "std_train_score": 0.006826757317172789,
         "_deepnote_index_column": 12
        },
        {
         "mean_fit_time": 0.0025539636611938477,
         "std_fit_time": 0.0007023160931688352,
         "mean_score_time": 0.002700328826904297,
         "std_score_time": 0.0007068431541776693,
         "param_n_neighbors": "4",
         "param_weights": "distance",
         "params": "{'n_neighbors': 4, 'weights': 'distance'}",
         "mean_test_score": 0.966,
         "std_test_score": 0.04962037704594574,
         "rank_test_score": 12,
         "mean_train_score": 1,
         "std_train_score": 0,
         "_deepnote_index_column": 7
        },
        {
         "mean_fit_time": 0.0023198175430297853,
         "std_fit_time": 0.0005539767802897337,
         "mean_score_time": 0.0026022481918334963,
         "std_score_time": 0.0004916595422239393,
         "param_n_neighbors": "1",
         "param_weights": "uniform",
         "params": "{'n_neighbors': 1, 'weights': 'uniform'}",
         "mean_test_score": 0.9567272727272728,
         "std_test_score": 0.05716613457414065,
         "rank_test_score": 13,
         "mean_train_score": 1,
         "std_train_score": 0,
         "_deepnote_index_column": 0
        },
        {
         "mean_fit_time": 0.0021476840972900393,
         "std_fit_time": 0.00023431804134523503,
         "mean_score_time": 0.0022104215621948243,
         "std_score_time": 0.00015087067922541313,
         "param_n_neighbors": "1",
         "param_weights": "distance",
         "params": "{'n_neighbors': 1, 'weights': 'distance'}",
         "mean_test_score": 0.9567272727272728,
         "std_test_score": 0.05716613457414065,
         "rank_test_score": 13,
         "mean_train_score": 1,
         "std_train_score": 0,
         "_deepnote_index_column": 1
        },
        {
         "mean_fit_time": 0.002737421989440918,
         "std_fit_time": 0.0006824944161189552,
         "mean_score_time": 0.0032317066192626954,
         "std_score_time": 0.0013767877164030478,
         "param_n_neighbors": "2",
         "param_weights": "distance",
         "params": "{'n_neighbors': 2, 'weights': 'distance'}",
         "mean_test_score": 0.9567272727272728,
         "std_test_score": 0.05716613457414065,
         "rank_test_score": 13,
         "mean_train_score": 1,
         "std_train_score": 0,
         "_deepnote_index_column": 3
        },
        {
         "mean_fit_time": 0.00221555233001709,
         "std_fit_time": 0.0004233656094593913,
         "mean_score_time": 0.002539501190185547,
         "std_score_time": 0.00031826522882718775,
         "param_n_neighbors": "2",
         "param_weights": "uniform",
         "params": "{'n_neighbors': 2, 'weights': 'uniform'}",
         "mean_test_score": 0.9510909090909091,
         "std_test_score": 0.050481647102832095,
         "rank_test_score": 16,
         "mean_train_score": 0.9701657334826428,
         "std_train_score": 0.00689904481488031,
         "_deepnote_index_column": 2
        }
       ],
       "rows_bottom": null
      },
      "text/plain": "    mean_fit_time  std_fit_time  mean_score_time  std_score_time  \\\n15       0.002130      0.000217         0.002274        0.000283   \n10       0.002277      0.000382         0.002663        0.000528   \n9        0.002184      0.000345         0.002271        0.000291   \n8        0.002233      0.000502         0.002634        0.000535   \n14       0.002294      0.000420         0.002649        0.000479   \n4        0.002296      0.000569         0.002652        0.000603   \n5        0.002363      0.000533         0.002462        0.000502   \n11       0.002448      0.000606         0.002656        0.000894   \n13       0.002476      0.000599         0.002588        0.000611   \n6        0.002828      0.001249         0.003192        0.001032   \n12       0.002156      0.000287         0.002555        0.000469   \n7        0.002554      0.000702         0.002700        0.000707   \n0        0.002320      0.000554         0.002602        0.000492   \n1        0.002148      0.000234         0.002210        0.000151   \n3        0.002737      0.000682         0.003232        0.001377   \n2        0.002216      0.000423         0.002540        0.000318   \n\n   param_n_neighbors param_weights                                     params  \\\n15                 8      distance  {'n_neighbors': 8, 'weights': 'distance'}   \n10                 6       uniform   {'n_neighbors': 6, 'weights': 'uniform'}   \n9                  5      distance  {'n_neighbors': 5, 'weights': 'distance'}   \n8                  5       uniform   {'n_neighbors': 5, 'weights': 'uniform'}   \n14                 8       uniform   {'n_neighbors': 8, 'weights': 'uniform'}   \n4                  3       uniform   {'n_neighbors': 3, 'weights': 'uniform'}   \n5                  3      distance  {'n_neighbors': 3, 'weights': 'distance'}   \n11                 6      distance  {'n_neighbors': 6, 'weights': 'distance'}   \n13                 7      distance  {'n_neighbors': 7, 'weights': 'distance'}   \n6                  4       uniform   {'n_neighbors': 4, 'weights': 'uniform'}   \n12                 7       uniform   {'n_neighbors': 7, 'weights': 'uniform'}   \n7                  4      distance  {'n_neighbors': 4, 'weights': 'distance'}   \n0                  1       uniform   {'n_neighbors': 1, 'weights': 'uniform'}   \n1                  1      distance  {'n_neighbors': 1, 'weights': 'distance'}   \n3                  2      distance  {'n_neighbors': 2, 'weights': 'distance'}   \n2                  2       uniform   {'n_neighbors': 2, 'weights': 'uniform'}   \n\n    mean_test_score  std_test_score  rank_test_score  mean_train_score  \\\n15         0.977273        0.040503                1          1.000000   \n10         0.975455        0.045281                2          0.978193   \n9          0.975455        0.041471                3          1.000000   \n8          0.973636        0.046078                4          0.978831   \n14         0.973636        0.046078                4          0.977344   \n4          0.973636        0.042339                6          0.972493   \n5          0.973636        0.042339                6          1.000000   \n11         0.973455        0.047092                8          1.000000   \n13         0.973455        0.046349                8          1.000000   \n6          0.971818        0.043112               10          0.972916   \n12         0.971636        0.047050               11          0.977140   \n7          0.966000        0.049620               12          1.000000   \n0          0.956727        0.057166               13          1.000000   \n1          0.956727        0.057166               13          1.000000   \n3          0.956727        0.057166               13          1.000000   \n2          0.951091        0.050482               16          0.970166   \n\n    std_train_score  \n15         0.000000  \n10         0.007197  \n9          0.000000  \n8          0.006011  \n14         0.008519  \n4          0.008186  \n5          0.000000  \n11         0.000000  \n13         0.000000  \n6          0.007365  \n12         0.006827  \n7          0.000000  \n0          0.000000  \n1          0.000000  \n3          0.000000  \n2          0.006899  ",
      "text/html": "<div>\n<style scoped>\n    .dataframe tbody tr th:only-of-type {\n        vertical-align: middle;\n    }\n\n    .dataframe tbody tr th {\n        vertical-align: top;\n    }\n\n    .dataframe thead th {\n        text-align: right;\n    }\n</style>\n<table border=\"1\" class=\"dataframe\">\n  <thead>\n    <tr style=\"text-align: right;\">\n      <th></th>\n      <th>mean_fit_time</th>\n      <th>std_fit_time</th>\n      <th>mean_score_time</th>\n      <th>std_score_time</th>\n      <th>param_n_neighbors</th>\n      <th>param_weights</th>\n      <th>params</th>\n      <th>mean_test_score</th>\n      <th>std_test_score</th>\n      <th>rank_test_score</th>\n      <th>mean_train_score</th>\n      <th>std_train_score</th>\n    </tr>\n  </thead>\n  <tbody>\n    <tr>\n      <th>15</th>\n      <td>0.002130</td>\n      <td>0.000217</td>\n      <td>0.002274</td>\n      <td>0.000283</td>\n      <td>8</td>\n      <td>distance</td>\n      <td>{'n_neighbors': 8, 'weights': 'distance'}</td>\n      <td>0.977273</td>\n      <td>0.040503</td>\n      <td>1</td>\n      <td>1.000000</td>\n      <td>0.000000</td>\n    </tr>\n    <tr>\n      <th>10</th>\n      <td>0.002277</td>\n      <td>0.000382</td>\n      <td>0.002663</td>\n      <td>0.000528</td>\n      <td>6</td>\n      <td>uniform</td>\n      <td>{'n_neighbors': 6, 'weights': 'uniform'}</td>\n      <td>0.975455</td>\n      <td>0.045281</td>\n      <td>2</td>\n      <td>0.978193</td>\n      <td>0.007197</td>\n    </tr>\n    <tr>\n      <th>9</th>\n      <td>0.002184</td>\n      <td>0.000345</td>\n      <td>0.002271</td>\n      <td>0.000291</td>\n      <td>5</td>\n      <td>distance</td>\n      <td>{'n_neighbors': 5, 'weights': 'distance'}</td>\n      <td>0.975455</td>\n      <td>0.041471</td>\n      <td>3</td>\n      <td>1.000000</td>\n      <td>0.000000</td>\n    </tr>\n    <tr>\n      <th>8</th>\n      <td>0.002233</td>\n      <td>0.000502</td>\n      <td>0.002634</td>\n      <td>0.000535</td>\n      <td>5</td>\n      <td>uniform</td>\n      <td>{'n_neighbors': 5, 'weights': 'uniform'}</td>\n      <td>0.973636</td>\n      <td>0.046078</td>\n      <td>4</td>\n      <td>0.978831</td>\n      <td>0.006011</td>\n    </tr>\n    <tr>\n      <th>14</th>\n      <td>0.002294</td>\n      <td>0.000420</td>\n      <td>0.002649</td>\n      <td>0.000479</td>\n      <td>8</td>\n      <td>uniform</td>\n      <td>{'n_neighbors': 8, 'weights': 'uniform'}</td>\n      <td>0.973636</td>\n      <td>0.046078</td>\n      <td>4</td>\n      <td>0.977344</td>\n      <td>0.008519</td>\n    </tr>\n    <tr>\n      <th>4</th>\n      <td>0.002296</td>\n      <td>0.000569</td>\n      <td>0.002652</td>\n      <td>0.000603</td>\n      <td>3</td>\n      <td>uniform</td>\n      <td>{'n_neighbors': 3, 'weights': 'uniform'}</td>\n      <td>0.973636</td>\n      <td>0.042339</td>\n      <td>6</td>\n      <td>0.972493</td>\n      <td>0.008186</td>\n    </tr>\n    <tr>\n      <th>5</th>\n      <td>0.002363</td>\n      <td>0.000533</td>\n      <td>0.002462</td>\n      <td>0.000502</td>\n      <td>3</td>\n      <td>distance</td>\n      <td>{'n_neighbors': 3, 'weights': 'distance'}</td>\n      <td>0.973636</td>\n      <td>0.042339</td>\n      <td>6</td>\n      <td>1.000000</td>\n      <td>0.000000</td>\n    </tr>\n    <tr>\n      <th>11</th>\n      <td>0.002448</td>\n      <td>0.000606</td>\n      <td>0.002656</td>\n      <td>0.000894</td>\n      <td>6</td>\n      <td>distance</td>\n      <td>{'n_neighbors': 6, 'weights': 'distance'}</td>\n      <td>0.973455</td>\n      <td>0.047092</td>\n      <td>8</td>\n      <td>1.000000</td>\n      <td>0.000000</td>\n    </tr>\n    <tr>\n      <th>13</th>\n      <td>0.002476</td>\n      <td>0.000599</td>\n      <td>0.002588</td>\n      <td>0.000611</td>\n      <td>7</td>\n      <td>distance</td>\n      <td>{'n_neighbors': 7, 'weights': 'distance'}</td>\n      <td>0.973455</td>\n      <td>0.046349</td>\n      <td>8</td>\n      <td>1.000000</td>\n      <td>0.000000</td>\n    </tr>\n    <tr>\n      <th>6</th>\n      <td>0.002828</td>\n      <td>0.001249</td>\n      <td>0.003192</td>\n      <td>0.001032</td>\n      <td>4</td>\n      <td>uniform</td>\n      <td>{'n_neighbors': 4, 'weights': 'uniform'}</td>\n      <td>0.971818</td>\n      <td>0.043112</td>\n      <td>10</td>\n      <td>0.972916</td>\n      <td>0.007365</td>\n    </tr>\n    <tr>\n      <th>12</th>\n      <td>0.002156</td>\n      <td>0.000287</td>\n      <td>0.002555</td>\n      <td>0.000469</td>\n      <td>7</td>\n      <td>uniform</td>\n      <td>{'n_neighbors': 7, 'weights': 'uniform'}</td>\n      <td>0.971636</td>\n      <td>0.047050</td>\n      <td>11</td>\n      <td>0.977140</td>\n      <td>0.006827</td>\n    </tr>\n    <tr>\n      <th>7</th>\n      <td>0.002554</td>\n      <td>0.000702</td>\n      <td>0.002700</td>\n      <td>0.000707</td>\n      <td>4</td>\n      <td>distance</td>\n      <td>{'n_neighbors': 4, 'weights': 'distance'}</td>\n      <td>0.966000</td>\n      <td>0.049620</td>\n      <td>12</td>\n      <td>1.000000</td>\n      <td>0.000000</td>\n    </tr>\n    <tr>\n      <th>0</th>\n      <td>0.002320</td>\n      <td>0.000554</td>\n      <td>0.002602</td>\n      <td>0.000492</td>\n      <td>1</td>\n      <td>uniform</td>\n      <td>{'n_neighbors': 1, 'weights': 'uniform'}</td>\n      <td>0.956727</td>\n      <td>0.057166</td>\n      <td>13</td>\n      <td>1.000000</td>\n      <td>0.000000</td>\n    </tr>\n    <tr>\n      <th>1</th>\n      <td>0.002148</td>\n      <td>0.000234</td>\n      <td>0.002210</td>\n      <td>0.000151</td>\n      <td>1</td>\n      <td>distance</td>\n      <td>{'n_neighbors': 1, 'weights': 'distance'}</td>\n      <td>0.956727</td>\n      <td>0.057166</td>\n      <td>13</td>\n      <td>1.000000</td>\n      <td>0.000000</td>\n    </tr>\n    <tr>\n      <th>3</th>\n      <td>0.002737</td>\n      <td>0.000682</td>\n      <td>0.003232</td>\n      <td>0.001377</td>\n      <td>2</td>\n      <td>distance</td>\n      <td>{'n_neighbors': 2, 'weights': 'distance'}</td>\n      <td>0.956727</td>\n      <td>0.057166</td>\n      <td>13</td>\n      <td>1.000000</td>\n      <td>0.000000</td>\n    </tr>\n    <tr>\n      <th>2</th>\n      <td>0.002216</td>\n      <td>0.000423</td>\n      <td>0.002540</td>\n      <td>0.000318</td>\n      <td>2</td>\n      <td>uniform</td>\n      <td>{'n_neighbors': 2, 'weights': 'uniform'}</td>\n      <td>0.951091</td>\n      <td>0.050482</td>\n      <td>16</td>\n      <td>0.970166</td>\n      <td>0.006899</td>\n    </tr>\n  </tbody>\n</table>\n</div>"
     },
     "metadata": {},
     "output_type": "display_data"
    }
   ],
   "execution_count": 41
  },
  {
   "cell_type": "markdown",
   "source": "La mejor configuración de hiperparámetros es un número de vecinos más cercanos moderado y pesar de acuerdo con la inversa de la distancia.",
   "metadata": {
    "papermill": {
     "duration": 0.067634,
     "end_time": "2020-12-14T07:57:58.039160",
     "exception": false,
     "start_time": "2020-12-14T07:57:57.971526",
     "status": "completed"
    },
    "tags": [],
    "cell_id": "00060-cdd21077-d02d-40ae-b751-932a41509715",
    "deepnote_cell_type": "markdown"
   }
  },
  {
   "cell_type": "markdown",
   "source": "Continuando con los árboles de decisión, podemos optimizar el criterion de partición (`criterion`), la altura máxima (`max_depth`) y el parámetro de complejidad de la poda (`ccp_alpha`):",
   "metadata": {
    "papermill": {
     "duration": 0.072252,
     "end_time": "2020-12-14T07:57:58.185088",
     "exception": false,
     "start_time": "2020-12-14T07:57:58.112836",
     "status": "completed"
    },
    "tags": [],
    "cell_id": "00061-0095bd31-92c2-418d-b5dd-2e8d2347cf64",
    "deepnote_cell_type": "markdown"
   }
  },
  {
   "cell_type": "code",
   "metadata": {
    "tags": [],
    "cell_id": "00071-097b4e72-72bb-4738-a82d-109abf952e30",
    "deepnote_to_be_reexecuted": false,
    "source_hash": "6f313fc9",
    "execution_start": 1635873614433,
    "execution_millis": 2,
    "deepnote_cell_type": "code"
   },
   "source": "criterion = [\"gini\", \"entropy\"]",
   "outputs": [],
   "execution_count": 42
  },
  {
   "cell_type": "code",
   "metadata": {
    "tags": [],
    "cell_id": "00073-d44ffc0c-3737-44b9-9bad-8acc1c684e98",
    "deepnote_to_be_reexecuted": false,
    "source_hash": "6cd0cd9",
    "execution_start": 1635873614453,
    "execution_millis": 1,
    "deepnote_cell_type": "code"
   },
   "source": "max_depth = [1, 2, 3, 4, 5, 6, None]",
   "outputs": [],
   "execution_count": 43
  },
  {
   "cell_type": "code",
   "metadata": {
    "tags": [],
    "cell_id": "00074-851d2b45-f8c3-48d9-9bcd-d3ef04998965",
    "deepnote_to_be_reexecuted": false,
    "source_hash": "6e90cf1b",
    "execution_start": 1635873614454,
    "execution_millis": 0,
    "deepnote_cell_type": "code"
   },
   "source": "ccp_alpha = [0.0, 0.1, 0.2, 0.3, 0.4]",
   "outputs": [],
   "execution_count": 44
  },
  {
   "cell_type": "code",
   "metadata": {
    "execution": {
     "iopub.execute_input": "2020-12-14T07:57:58.336162Z",
     "iopub.status.busy": "2020-12-14T07:57:58.335002Z",
     "iopub.status.idle": "2020-12-14T07:58:11.379289Z",
     "shell.execute_reply": "2020-12-14T07:58:11.379873Z"
    },
    "papermill": {
     "duration": 13.123256,
     "end_time": "2020-12-14T07:58:11.380044",
     "exception": false,
     "start_time": "2020-12-14T07:57:58.256788",
     "status": "completed"
    },
    "tags": [],
    "cell_id": "00062-7d192e15-de73-4b77-af00-7f5952fcdec4",
    "deepnote_to_be_reexecuted": false,
    "source_hash": "3726ebad",
    "execution_start": 1635873614468,
    "execution_millis": 22233,
    "deepnote_cell_type": "code"
   },
   "source": "decision_tree_classifier = optimize_params(decision_tree_model, X_train, y_train, cv, criterion=criterion, max_depth=max_depth, ccp_alpha=ccp_alpha)",
   "outputs": [
    {
     "data": {
      "application/vnd.deepnote.dataframe.v2+json": {
       "row_count": 70,
       "column_count": 13,
       "columns": [
        {
         "name": "mean_fit_time",
         "dtype": "float64",
         "stats": {
          "unique_count": 70,
          "nan_count": 0,
          "min": "0.0022292327880859375",
          "max": "0.003512258529663086",
          "histogram": [
           {
            "bin_start": 0.0022292327880859375,
            "bin_end": 0.002357535362243652,
            "count": 11
           },
           {
            "bin_start": 0.002357535362243652,
            "bin_end": 0.0024858379364013673,
            "count": 26
           },
           {
            "bin_start": 0.0024858379364013673,
            "bin_end": 0.002614140510559082,
            "count": 19
           },
           {
            "bin_start": 0.002614140510559082,
            "bin_end": 0.0027424430847167967,
            "count": 5
           },
           {
            "bin_start": 0.0027424430847167967,
            "bin_end": 0.0028707456588745114,
            "count": 3
           },
           {
            "bin_start": 0.0028707456588745114,
            "bin_end": 0.0029990482330322266,
            "count": 1
           },
           {
            "bin_start": 0.0029990482330322266,
            "bin_end": 0.0031273508071899413,
            "count": 3
           },
           {
            "bin_start": 0.0031273508071899413,
            "bin_end": 0.0032556533813476564,
            "count": 1
           },
           {
            "bin_start": 0.0032556533813476564,
            "bin_end": 0.003383955955505371,
            "count": 0
           },
           {
            "bin_start": 0.003383955955505371,
            "bin_end": 0.003512258529663086,
            "count": 1
           }
          ]
         }
        },
        {
         "name": "std_fit_time",
         "dtype": "float64",
         "stats": {
          "unique_count": 70,
          "nan_count": 0,
          "min": "5.852668355605534e-05",
          "max": "0.0014950784294289732",
          "histogram": [
           {
            "bin_start": 0.00005852668355605534,
            "bin_end": 0.0002021818581433471,
            "count": 7
           },
           {
            "bin_start": 0.0002021818581433471,
            "bin_end": 0.0003458370327306389,
            "count": 11
           },
           {
            "bin_start": 0.0003458370327306389,
            "bin_end": 0.0004894922073179306,
            "count": 25
           },
           {
            "bin_start": 0.0004894922073179306,
            "bin_end": 0.0006331473819052224,
            "count": 16
           },
           {
            "bin_start": 0.0006331473819052224,
            "bin_end": 0.0007768025564925142,
            "count": 5
           },
           {
            "bin_start": 0.0007768025564925142,
            "bin_end": 0.0009204577310798059,
            "count": 3
           },
           {
            "bin_start": 0.0009204577310798059,
            "bin_end": 0.0010641129056670978,
            "count": 0
           },
           {
            "bin_start": 0.0010641129056670978,
            "bin_end": 0.0012077680802543896,
            "count": 0
           },
           {
            "bin_start": 0.0012077680802543896,
            "bin_end": 0.0013514232548416814,
            "count": 1
           },
           {
            "bin_start": 0.0013514232548416814,
            "bin_end": 0.0014950784294289732,
            "count": 2
           }
          ]
         }
        },
        {
         "name": "mean_score_time",
         "dtype": "float64",
         "stats": {
          "unique_count": 70,
          "nan_count": 0,
          "min": "0.0015513467788696288",
          "max": "0.002430906295776367",
          "histogram": [
           {
            "bin_start": 0.0015513467788696288,
            "bin_end": 0.0016393027305603026,
            "count": 29
           },
           {
            "bin_start": 0.0016393027305603026,
            "bin_end": 0.0017272586822509764,
            "count": 24
           },
           {
            "bin_start": 0.0017272586822509764,
            "bin_end": 0.0018152146339416504,
            "count": 5
           },
           {
            "bin_start": 0.0018152146339416504,
            "bin_end": 0.0019031705856323241,
            "count": 6
           },
           {
            "bin_start": 0.0019031705856323241,
            "bin_end": 0.001991126537322998,
            "count": 2
           },
           {
            "bin_start": 0.001991126537322998,
            "bin_end": 0.002079082489013672,
            "count": 3
           },
           {
            "bin_start": 0.002079082489013672,
            "bin_end": 0.0021670384407043454,
            "count": 0
           },
           {
            "bin_start": 0.0021670384407043454,
            "bin_end": 0.0022549943923950194,
            "count": 0
           },
           {
            "bin_start": 0.0022549943923950194,
            "bin_end": 0.002342950344085693,
            "count": 0
           },
           {
            "bin_start": 0.002342950344085693,
            "bin_end": 0.002430906295776367,
            "count": 1
           }
          ]
         }
        },
        {
         "name": "std_score_time",
         "dtype": "float64",
         "stats": {
          "unique_count": 70,
          "nan_count": 0,
          "min": "5.545312101503142e-05",
          "max": "0.0006100690199812386",
          "histogram": [
           {
            "bin_start": 0.00005545312101503142,
            "bin_end": 0.00011091471091165214,
            "count": 5
           },
           {
            "bin_start": 0.00011091471091165214,
            "bin_end": 0.00016637630080827286,
            "count": 3
           },
           {
            "bin_start": 0.00016637630080827286,
            "bin_end": 0.00022183789070489356,
            "count": 9
           },
           {
            "bin_start": 0.00022183789070489356,
            "bin_end": 0.00027729948060151426,
            "count": 13
           },
           {
            "bin_start": 0.00027729948060151426,
            "bin_end": 0.000332761070498135,
            "count": 14
           },
           {
            "bin_start": 0.000332761070498135,
            "bin_end": 0.0003882226603947557,
            "count": 12
           },
           {
            "bin_start": 0.0003882226603947557,
            "bin_end": 0.00044368425029137645,
            "count": 5
           },
           {
            "bin_start": 0.00044368425029137645,
            "bin_end": 0.0004991458401879972,
            "count": 7
           },
           {
            "bin_start": 0.0004991458401879972,
            "bin_end": 0.0005546074300846179,
            "count": 1
           },
           {
            "bin_start": 0.0005546074300846179,
            "bin_end": 0.0006100690199812386,
            "count": 1
           }
          ]
         }
        },
        {
         "name": "param_ccp_alpha",
         "dtype": "object",
         "stats": {
          "unique_count": 5,
          "nan_count": 0,
          "categories": [
           {
            "name": "0.0",
            "count": 14
           },
           {
            "name": "0.1",
            "count": 14
           },
           {
            "name": "3 others",
            "count": 42
           }
          ]
         }
        },
        {
         "name": "param_criterion",
         "dtype": "object",
         "stats": {
          "unique_count": 2,
          "nan_count": 0,
          "categories": [
           {
            "name": "entropy",
            "count": 35
           },
           {
            "name": "gini",
            "count": 35
           }
          ]
         }
        },
        {
         "name": "param_max_depth",
         "dtype": "object",
         "stats": {
          "unique_count": 6,
          "nan_count": 10,
          "categories": [
           {
            "name": "3.0",
            "count": 10
           },
           {
            "name": "5 others",
            "count": 50
           },
           {
            "name": "Missing",
            "count": 10
           }
          ]
         }
        },
        {
         "name": "params",
         "dtype": "object",
         "stats": {
          "unique_count": 70,
          "nan_count": 0,
          "categories": [
           {
            "name": "{'ccp_alpha': 0.0, 'criterion': 'entropy', 'max_depth': 3}",
            "count": 1
           },
           {
            "name": "{'ccp_alpha': 0.0, 'criterion': 'gini', 'max_depth': 3}",
            "count": 1
           },
           {
            "name": "68 others",
            "count": 68
           }
          ]
         }
        },
        {
         "name": "mean_test_score",
         "dtype": "float64",
         "stats": {
          "unique_count": 11,
          "nan_count": 0,
          "min": "0.2863636363636364",
          "max": "0.9325454545454545",
          "histogram": [
           {
            "bin_start": 0.2863636363636364,
            "bin_end": 0.3509818181818182,
            "count": 7
           },
           {
            "bin_start": 0.3509818181818182,
            "bin_end": 0.41559999999999997,
            "count": 0
           },
           {
            "bin_start": 0.41559999999999997,
            "bin_end": 0.4802181818181818,
            "count": 0
           },
           {
            "bin_start": 0.4802181818181818,
            "bin_end": 0.5448363636363636,
            "count": 0
           },
           {
            "bin_start": 0.5448363636363636,
            "bin_end": 0.6094545454545455,
            "count": 0
           },
           {
            "bin_start": 0.6094545454545455,
            "bin_end": 0.6740727272727273,
            "count": 15
           },
           {
            "bin_start": 0.6740727272727273,
            "bin_end": 0.7386909090909091,
            "count": 0
           },
           {
            "bin_start": 0.7386909090909091,
            "bin_end": 0.8033090909090909,
            "count": 0
           },
           {
            "bin_start": 0.8033090909090909,
            "bin_end": 0.8679272727272727,
            "count": 0
           },
           {
            "bin_start": 0.8679272727272727,
            "bin_end": 0.9325454545454545,
            "count": 48
           }
          ]
         }
        },
        {
         "name": "std_test_score",
         "dtype": "float64",
         "stats": {
          "unique_count": 11,
          "nan_count": 0,
          "min": "0.013636363636363643",
          "max": "0.08335446564011288",
          "histogram": [
           {
            "bin_start": 0.013636363636363643,
            "bin_end": 0.020608173836738568,
            "count": 7
           },
           {
            "bin_start": 0.020608173836738568,
            "bin_end": 0.02757998403711349,
            "count": 0
           },
           {
            "bin_start": 0.02757998403711349,
            "bin_end": 0.034551794237488415,
            "count": 15
           },
           {
            "bin_start": 0.034551794237488415,
            "bin_end": 0.04152360443786334,
            "count": 0
           },
           {
            "bin_start": 0.04152360443786334,
            "bin_end": 0.04849541463823826,
            "count": 0
           },
           {
            "bin_start": 0.04849541463823826,
            "bin_end": 0.05546722483861319,
            "count": 0
           },
           {
            "bin_start": 0.05546722483861319,
            "bin_end": 0.06243903503898811,
            "count": 0
           },
           {
            "bin_start": 0.06243903503898811,
            "bin_end": 0.06941084523936304,
            "count": 0
           },
           {
            "bin_start": 0.06941084523936304,
            "bin_end": 0.07638265543973796,
            "count": 7
           },
           {
            "bin_start": 0.07638265543973796,
            "bin_end": 0.08335446564011288,
            "count": 41
           }
          ]
         }
        },
        {
         "name": "rank_test_score",
         "dtype": "int32",
         "stats": {
          "unique_count": 11,
          "nan_count": 0,
          "min": "1",
          "max": "64",
          "histogram": [
           {
            "bin_start": 1,
            "bin_end": 7.3,
            "count": 7
           },
           {
            "bin_start": 7.3,
            "bin_end": 13.6,
            "count": 7
           },
           {
            "bin_start": 13.6,
            "bin_end": 19.9,
            "count": 34
           },
           {
            "bin_start": 19.9,
            "bin_end": 26.2,
            "count": 0
           },
           {
            "bin_start": 26.2,
            "bin_end": 32.5,
            "count": 0
           },
           {
            "bin_start": 32.5,
            "bin_end": 38.8,
            "count": 0
           },
           {
            "bin_start": 38.8,
            "bin_end": 45.1,
            "count": 0
           },
           {
            "bin_start": 45.1,
            "bin_end": 51.4,
            "count": 15
           },
           {
            "bin_start": 51.4,
            "bin_end": 57.699999999999996,
            "count": 0
           },
           {
            "bin_start": 57.699999999999996,
            "bin_end": 64,
            "count": 7
           }
          ]
         }
        },
        {
         "name": "mean_train_score",
         "dtype": "float64",
         "stats": {
          "unique_count": 12,
          "nan_count": 0,
          "min": "0.3386338185890258",
          "max": "1.0",
          "histogram": [
           {
            "bin_start": 0.3386338185890258,
            "bin_end": 0.40477043673012325,
            "count": 7
           },
           {
            "bin_start": 0.40477043673012325,
            "bin_end": 0.47090705487122064,
            "count": 0
           },
           {
            "bin_start": 0.47090705487122064,
            "bin_end": 0.537043673012318,
            "count": 0
           },
           {
            "bin_start": 0.537043673012318,
            "bin_end": 0.6031802911534154,
            "count": 0
           },
           {
            "bin_start": 0.6031802911534154,
            "bin_end": 0.6693169092945128,
            "count": 15
           },
           {
            "bin_start": 0.6693169092945128,
            "bin_end": 0.7354535274356103,
            "count": 0
           },
           {
            "bin_start": 0.7354535274356103,
            "bin_end": 0.8015901455767078,
            "count": 0
           },
           {
            "bin_start": 0.8015901455767078,
            "bin_end": 0.8677267637178052,
            "count": 0
           },
           {
            "bin_start": 0.8677267637178052,
            "bin_end": 0.9338633818589026,
            "count": 0
           },
           {
            "bin_start": 0.9338633818589026,
            "bin_end": 1,
            "count": 48
           }
          ]
         }
        },
        {
         "name": "std_train_score",
         "dtype": "float64",
         "stats": {
          "unique_count": 12,
          "nan_count": 0,
          "min": "0.0",
          "max": "0.013944809861063837",
          "histogram": [
           {
            "bin_start": 0,
            "bin_end": 0.0013944809861063836,
            "count": 3
           },
           {
            "bin_start": 0.0013944809861063836,
            "bin_end": 0.0027889619722127673,
            "count": 8
           },
           {
            "bin_start": 0.0027889619722127673,
            "bin_end": 0.0041834429583191505,
            "count": 16
           },
           {
            "bin_start": 0.0041834429583191505,
            "bin_end": 0.0055779239444255346,
            "count": 1
           },
           {
            "bin_start": 0.0055779239444255346,
            "bin_end": 0.006972404930531919,
            "count": 1
           },
           {
            "bin_start": 0.006972404930531919,
            "bin_end": 0.008366885916638301,
            "count": 36
           },
           {
            "bin_start": 0.008366885916638301,
            "bin_end": 0.009761366902744685,
            "count": 0
           },
           {
            "bin_start": 0.009761366902744685,
            "bin_end": 0.011155847888851069,
            "count": 0
           },
           {
            "bin_start": 0.011155847888851069,
            "bin_end": 0.012550328874957453,
            "count": 0
           },
           {
            "bin_start": 0.012550328874957453,
            "bin_end": 0.013944809861063837,
            "count": 5
           }
          ]
         }
        },
        {
         "name": "_deepnote_index_column",
         "dtype": "int64"
        }
       ],
       "rows_top": [
        {
         "mean_fit_time": 0.0023870944976806642,
         "std_fit_time": 0.0003906481019374812,
         "mean_score_time": 0.0016352081298828126,
         "std_score_time": 0.0002819956140933726,
         "param_ccp_alpha": "0.0",
         "param_criterion": "entropy",
         "param_max_depth": "3",
         "params": "{'ccp_alpha': 0.0, 'criterion': 'entropy', 'max_depth': 3}",
         "mean_test_score": 0.9325454545454545,
         "std_test_score": 0.07454745008415502,
         "rank_test_score": 1,
         "mean_train_score": 0.9733482642777156,
         "std_train_score": 0.007664386221675827,
         "_deepnote_index_column": 9
        },
        {
         "mean_fit_time": 0.0022417449951171874,
         "std_fit_time": 0.00006930770535881253,
         "mean_score_time": 0.0015609264373779297,
         "std_score_time": 0.00009039494459711041,
         "param_ccp_alpha": "0.0",
         "param_criterion": "gini",
         "param_max_depth": "3",
         "params": "{'ccp_alpha': 0.0, 'criterion': 'gini', 'max_depth': 3}",
         "mean_test_score": 0.9307272727272726,
         "std_test_score": 0.0761878930101254,
         "rank_test_score": 2,
         "mean_train_score": 0.9737737961926092,
         "std_train_score": 0.00794583702069222,
         "_deepnote_index_column": 2
        },
        {
         "mean_fit_time": 0.0022292327880859375,
         "std_fit_time": 0.00005852668355605534,
         "mean_score_time": 0.001554708480834961,
         "std_score_time": 0.000059602429158039404,
         "param_ccp_alpha": "0.0",
         "param_criterion": "gini",
         "param_max_depth": "6",
         "params": "{'ccp_alpha': 0.0, 'criterion': 'gini', 'max_depth': 6}",
         "mean_test_score": 0.9290909090909091,
         "std_test_score": 0.07935691942834616,
         "rank_test_score": 3,
         "mean_train_score": 1,
         "std_train_score": 0,
         "_deepnote_index_column": 5
        },
        {
         "mean_fit_time": 0.0024998664855957033,
         "std_fit_time": 0.0005252644253770037,
         "mean_score_time": 0.0017321205139160156,
         "std_score_time": 0.0003432688007081605,
         "param_ccp_alpha": "0.0",
         "param_criterion": "gini",
         "param_max_depth": "None",
         "params": "{'ccp_alpha': 0.0, 'criterion': 'gini', 'max_depth': None}",
         "mean_test_score": 0.9290909090909091,
         "std_test_score": 0.07935691942834616,
         "rank_test_score": 3,
         "mean_train_score": 1,
         "std_train_score": 0,
         "_deepnote_index_column": 6
        },
        {
         "mean_fit_time": 0.002723746299743652,
         "std_fit_time": 0.0007250240205333737,
         "mean_score_time": 0.0018211841583251954,
         "std_score_time": 0.0004483721908600828,
         "param_ccp_alpha": "0.0",
         "param_criterion": "entropy",
         "param_max_depth": "4",
         "params": "{'ccp_alpha': 0.0, 'criterion': 'entropy', 'max_depth': 4}",
         "mean_test_score": 0.9272727272727272,
         "std_test_score": 0.07830856533584737,
         "rank_test_score": 5,
         "mean_train_score": 0.9896371780515116,
         "std_train_score": 0.007486241694880667,
         "_deepnote_index_column": 10
        },
        {
         "mean_fit_time": 0.0027798891067504885,
         "std_fit_time": 0.0005645046726728145,
         "mean_score_time": 0.0019491910934448242,
         "std_score_time": 0.00043827633993898964,
         "param_ccp_alpha": "0.0",
         "param_criterion": "gini",
         "param_max_depth": "4",
         "params": "{'ccp_alpha': 0.0, 'criterion': 'gini', 'max_depth': 4}",
         "mean_test_score": 0.9272727272727272,
         "std_test_score": 0.07830856533584737,
         "rank_test_score": 5,
         "mean_train_score": 0.9902732362821948,
         "std_train_score": 0.006638224199508669,
         "_deepnote_index_column": 3
        },
        {
         "mean_fit_time": 0.002339162826538086,
         "std_fit_time": 0.0002724105763074918,
         "mean_score_time": 0.0016354942321777344,
         "std_score_time": 0.00022703178347753213,
         "param_ccp_alpha": "0.0",
         "param_criterion": "gini",
         "param_max_depth": "5",
         "params": "{'ccp_alpha': 0.0, 'criterion': 'gini', 'max_depth': 5}",
         "mean_test_score": 0.925090909090909,
         "std_test_score": 0.08071089104875682,
         "rank_test_score": 7,
         "mean_train_score": 0.9980963045912654,
         "std_train_score": 0.004063267986533318,
         "_deepnote_index_column": 4
        },
        {
         "mean_fit_time": 0.0024532794952392576,
         "std_fit_time": 0.00047030734154444333,
         "mean_score_time": 0.0017165660858154297,
         "std_score_time": 0.0003753756875929505,
         "param_ccp_alpha": "0.0",
         "param_criterion": "entropy",
         "param_max_depth": "6",
         "params": "{'ccp_alpha': 0.0, 'criterion': 'entropy', 'max_depth': 6}",
         "mean_test_score": 0.9234545454545454,
         "std_test_score": 0.08159748011017605,
         "rank_test_score": 8,
         "mean_train_score": 0.9997872340425532,
         "std_train_score": 0.0014893617021276538,
         "_deepnote_index_column": 12
        },
        {
         "mean_fit_time": 0.0031380605697631835,
         "std_fit_time": 0.0012876312623548648,
         "mean_score_time": 0.001997179985046387,
         "std_score_time": 0.0004914016462121579,
         "param_ccp_alpha": "0.0",
         "param_criterion": "entropy",
         "param_max_depth": "None",
         "params": "{'ccp_alpha': 0.0, 'criterion': 'entropy', 'max_depth': None}",
         "mean_test_score": 0.9234545454545454,
         "std_test_score": 0.08159748011017605,
         "rank_test_score": 8,
         "mean_train_score": 1,
         "std_train_score": 0,
         "_deepnote_index_column": 13
        },
        {
         "mean_fit_time": 0.0025014591217041014,
         "std_fit_time": 0.0004942167003427588,
         "mean_score_time": 0.00166776180267334,
         "std_score_time": 0.00033424582570685597,
         "param_ccp_alpha": "0.1",
         "param_criterion": "entropy",
         "param_max_depth": "3",
         "params": "{'ccp_alpha': 0.1, 'criterion': 'entropy', 'max_depth': 3}",
         "mean_test_score": 0.9229090909090908,
         "std_test_score": 0.07365858250645001,
         "rank_test_score": 10,
         "mean_train_score": 0.959599104143337,
         "std_train_score": 0.013944809861063837,
         "_deepnote_index_column": 23
        },
        {
         "mean_fit_time": 0.002633042335510254,
         "std_fit_time": 0.00048722074052867474,
         "mean_score_time": 0.001731562614440918,
         "std_score_time": 0.0003287952965851114,
         "param_ccp_alpha": "0.1",
         "param_criterion": "entropy",
         "param_max_depth": "4",
         "params": "{'ccp_alpha': 0.1, 'criterion': 'entropy', 'max_depth': 4}",
         "mean_test_score": 0.9229090909090908,
         "std_test_score": 0.07365858250645001,
         "rank_test_score": 10,
         "mean_train_score": 0.959599104143337,
         "std_train_score": 0.013944809861063837,
         "_deepnote_index_column": 24
        },
        {
         "mean_fit_time": 0.002779998779296875,
         "std_fit_time": 0.0005997839598281208,
         "mean_score_time": 0.0018465328216552735,
         "std_score_time": 0.00040647031932451407,
         "param_ccp_alpha": "0.1",
         "param_criterion": "entropy",
         "param_max_depth": "5",
         "params": "{'ccp_alpha': 0.1, 'criterion': 'entropy', 'max_depth': 5}",
         "mean_test_score": 0.9229090909090908,
         "std_test_score": 0.07365858250645001,
         "rank_test_score": 10,
         "mean_train_score": 0.959599104143337,
         "std_train_score": 0.013944809861063837,
         "_deepnote_index_column": 25
        },
        {
         "mean_fit_time": 0.002434654235839844,
         "std_fit_time": 0.00033327214140359816,
         "mean_score_time": 0.0016674995422363281,
         "std_score_time": 0.00032143414223410557,
         "param_ccp_alpha": "0.1",
         "param_criterion": "entropy",
         "param_max_depth": "6",
         "params": "{'ccp_alpha': 0.1, 'criterion': 'entropy', 'max_depth': 6}",
         "mean_test_score": 0.9229090909090908,
         "std_test_score": 0.07365858250645001,
         "rank_test_score": 10,
         "mean_train_score": 0.959599104143337,
         "std_train_score": 0.013944809861063837,
         "_deepnote_index_column": 26
        },
        {
         "mean_fit_time": 0.0024240875244140626,
         "std_fit_time": 0.0002873625684695561,
         "mean_score_time": 0.001595773696899414,
         "std_score_time": 0.0001843517968838566,
         "param_ccp_alpha": "0.1",
         "param_criterion": "entropy",
         "param_max_depth": "None",
         "params": "{'ccp_alpha': 0.1, 'criterion': 'entropy', 'max_depth': None}",
         "mean_test_score": 0.9229090909090908,
         "std_test_score": 0.07365858250645001,
         "rank_test_score": 10,
         "mean_train_score": 0.959599104143337,
         "std_train_score": 0.013944809861063837,
         "_deepnote_index_column": 27
        },
        {
         "mean_fit_time": 0.0022790718078613283,
         "std_fit_time": 0.00007415517915012919,
         "mean_score_time": 0.0015715932846069335,
         "std_score_time": 0.00012859341450028583,
         "param_ccp_alpha": "0.0",
         "param_criterion": "entropy",
         "param_max_depth": "5",
         "params": "{'ccp_alpha': 0.0, 'criterion': 'entropy', 'max_depth': 5}",
         "mean_test_score": 0.9214545454545455,
         "std_test_score": 0.08335446564011288,
         "rank_test_score": 15,
         "mean_train_score": 0.9978835386338187,
         "std_train_score": 0.004737636237864178,
         "_deepnote_index_column": 11
        },
        {
         "mean_fit_time": 0.002689328193664551,
         "std_fit_time": 0.0005468626381538159,
         "mean_score_time": 0.0018313837051391602,
         "std_score_time": 0.00038259955785012716,
         "param_ccp_alpha": "0.2",
         "param_criterion": "gini",
         "param_max_depth": "None",
         "params": "{'ccp_alpha': 0.2, 'criterion': 'gini', 'max_depth': None}",
         "mean_test_score": 0.9174545454545455,
         "std_test_score": 0.08187553545342542,
         "rank_test_score": 16,
         "mean_train_score": 0.955993281075028,
         "std_train_score": 0.008223922995747044,
         "_deepnote_index_column": 34
        },
        {
         "mean_fit_time": 0.00266294002532959,
         "std_fit_time": 0.0005246002433938372,
         "mean_score_time": 0.001808009147644043,
         "std_score_time": 0.0003994945200622394,
         "param_ccp_alpha": "0.2",
         "param_criterion": "entropy",
         "param_max_depth": "5",
         "params": "{'ccp_alpha': 0.2, 'criterion': 'entropy', 'max_depth': 5}",
         "mean_test_score": 0.9174545454545455,
         "std_test_score": 0.08187553545342542,
         "rank_test_score": 16,
         "mean_train_score": 0.955993281075028,
         "std_train_score": 0.008223922995747044,
         "_deepnote_index_column": 39
        },
        {
         "mean_fit_time": 0.0029478073120117188,
         "std_fit_time": 0.001357738261807299,
         "mean_score_time": 0.0018660783767700194,
         "std_score_time": 0.00044939008475420857,
         "param_ccp_alpha": "0.2",
         "param_criterion": "entropy",
         "param_max_depth": "4",
         "params": "{'ccp_alpha': 0.2, 'criterion': 'entropy', 'max_depth': 4}",
         "mean_test_score": 0.9174545454545455,
         "std_test_score": 0.08187553545342542,
         "rank_test_score": 16,
         "mean_train_score": 0.955993281075028,
         "std_train_score": 0.008223922995747044,
         "_deepnote_index_column": 38
        },
        {
         "mean_fit_time": 0.002544097900390625,
         "std_fit_time": 0.0008829706822404727,
         "mean_score_time": 0.001636347770690918,
         "std_score_time": 0.0002778993687454014,
         "param_ccp_alpha": "0.2",
         "param_criterion": "entropy",
         "param_max_depth": "3",
         "params": "{'ccp_alpha': 0.2, 'criterion': 'entropy', 'max_depth': 3}",
         "mean_test_score": 0.9174545454545455,
         "std_test_score": 0.08187553545342542,
         "rank_test_score": 16,
         "mean_train_score": 0.955993281075028,
         "std_train_score": 0.008223922995747044,
         "_deepnote_index_column": 37
        },
        {
         "mean_fit_time": 0.0025241994857788086,
         "std_fit_time": 0.0008781674327616351,
         "mean_score_time": 0.0016025447845458985,
         "std_score_time": 0.00019987884768974654,
         "param_ccp_alpha": "0.2",
         "param_criterion": "entropy",
         "param_max_depth": "6",
         "params": "{'ccp_alpha': 0.2, 'criterion': 'entropy', 'max_depth': 6}",
         "mean_test_score": 0.9174545454545455,
         "std_test_score": 0.08187553545342542,
         "rank_test_score": 16,
         "mean_train_score": 0.955993281075028,
         "std_train_score": 0.008223922995747044,
         "_deepnote_index_column": 40
        },
        {
         "mean_fit_time": 0.002478337287902832,
         "std_fit_time": 0.0003788176383146277,
         "mean_score_time": 0.001633305549621582,
         "std_score_time": 0.00023560989185558977,
         "param_ccp_alpha": "0.2",
         "param_criterion": "entropy",
         "param_max_depth": "None",
         "params": "{'ccp_alpha': 0.2, 'criterion': 'entropy', 'max_depth': None}",
         "mean_test_score": 0.9174545454545455,
         "std_test_score": 0.08187553545342542,
         "rank_test_score": 16,
         "mean_train_score": 0.955993281075028,
         "std_train_score": 0.008223922995747044,
         "_deepnote_index_column": 41
        },
        {
         "mean_fit_time": 0.0023645782470703126,
         "std_fit_time": 0.0001262861921446642,
         "mean_score_time": 0.0015619468688964843,
         "std_score_time": 0.00009673521800129314,
         "param_ccp_alpha": "0.3",
         "param_criterion": "entropy",
         "param_max_depth": "6",
         "params": "{'ccp_alpha': 0.3, 'criterion': 'entropy', 'max_depth': 6}",
         "mean_test_score": 0.9174545454545455,
         "std_test_score": 0.08187553545342542,
         "rank_test_score": 16,
         "mean_train_score": 0.955993281075028,
         "std_train_score": 0.008223922995747044,
         "_deepnote_index_column": 54
        },
        {
         "mean_fit_time": 0.002511334419250488,
         "std_fit_time": 0.000409711420581613,
         "mean_score_time": 0.00167111873626709,
         "std_score_time": 0.00027369900313225934,
         "param_ccp_alpha": "0.3",
         "param_criterion": "entropy",
         "param_max_depth": "3",
         "params": "{'ccp_alpha': 0.3, 'criterion': 'entropy', 'max_depth': 3}",
         "mean_test_score": 0.9174545454545455,
         "std_test_score": 0.08187553545342542,
         "rank_test_score": 16,
         "mean_train_score": 0.955993281075028,
         "std_train_score": 0.008223922995747044,
         "_deepnote_index_column": 51
        },
        {
         "mean_fit_time": 0.0024742937088012697,
         "std_fit_time": 0.00040838139702658867,
         "mean_score_time": 0.0016254138946533202,
         "std_score_time": 0.0002592043206113016,
         "param_ccp_alpha": "0.3",
         "param_criterion": "entropy",
         "param_max_depth": "4",
         "params": "{'ccp_alpha': 0.3, 'criterion': 'entropy', 'max_depth': 4}",
         "mean_test_score": 0.9174545454545455,
         "std_test_score": 0.08187553545342542,
         "rank_test_score": 16,
         "mean_train_score": 0.955993281075028,
         "std_train_score": 0.008223922995747044,
         "_deepnote_index_column": 52
        },
        {
         "mean_fit_time": 0.0024148893356323244,
         "std_fit_time": 0.0002736158397164674,
         "mean_score_time": 0.0015909481048583985,
         "std_score_time": 0.00016272940343314254,
         "param_ccp_alpha": "0.3",
         "param_criterion": "entropy",
         "param_max_depth": "5",
         "params": "{'ccp_alpha': 0.3, 'criterion': 'entropy', 'max_depth': 5}",
         "mean_test_score": 0.9174545454545455,
         "std_test_score": 0.08187553545342542,
         "rank_test_score": 16,
         "mean_train_score": 0.955993281075028,
         "std_train_score": 0.008223922995747044,
         "_deepnote_index_column": 53
        },
        {
         "mean_fit_time": 0.0024040889739990233,
         "std_fit_time": 0.0003330879686204113,
         "mean_score_time": 0.001615910530090332,
         "std_score_time": 0.00022728389944808386,
         "param_ccp_alpha": "0.2",
         "param_criterion": "entropy",
         "param_max_depth": "2",
         "params": "{'ccp_alpha': 0.2, 'criterion': 'entropy', 'max_depth': 2}",
         "mean_test_score": 0.9174545454545455,
         "std_test_score": 0.08187553545342542,
         "rank_test_score": 16,
         "mean_train_score": 0.955993281075028,
         "std_train_score": 0.008223922995747044,
         "_deepnote_index_column": 36
        },
        {
         "mean_fit_time": 0.0025693559646606445,
         "std_fit_time": 0.0005177820428262095,
         "mean_score_time": 0.0017253971099853516,
         "std_score_time": 0.0003837100386062628,
         "param_ccp_alpha": "0.3",
         "param_criterion": "entropy",
         "param_max_depth": "None",
         "params": "{'ccp_alpha': 0.3, 'criterion': 'entropy', 'max_depth': None}",
         "mean_test_score": 0.9174545454545455,
         "std_test_score": 0.08187553545342542,
         "rank_test_score": 16,
         "mean_train_score": 0.955993281075028,
         "std_train_score": 0.008223922995747044,
         "_deepnote_index_column": 55
        },
        {
         "mean_fit_time": 0.0023607063293457032,
         "std_fit_time": 0.00023934976046535762,
         "mean_score_time": 0.001580820083618164,
         "std_score_time": 0.000174572650522732,
         "param_ccp_alpha": "0.4",
         "param_criterion": "entropy",
         "param_max_depth": "2",
         "params": "{'ccp_alpha': 0.4, 'criterion': 'entropy', 'max_depth': 2}",
         "mean_test_score": 0.9174545454545455,
         "std_test_score": 0.08187553545342542,
         "rank_test_score": 16,
         "mean_train_score": 0.955993281075028,
         "std_train_score": 0.008223922995747044,
         "_deepnote_index_column": 64
        },
        {
         "mean_fit_time": 0.0025184822082519533,
         "std_fit_time": 0.00045948127791605174,
         "mean_score_time": 0.0016926002502441406,
         "std_score_time": 0.00030806582656642425,
         "param_ccp_alpha": "0.4",
         "param_criterion": "entropy",
         "param_max_depth": "3",
         "params": "{'ccp_alpha': 0.4, 'criterion': 'entropy', 'max_depth': 3}",
         "mean_test_score": 0.9174545454545455,
         "std_test_score": 0.08187553545342542,
         "rank_test_score": 16,
         "mean_train_score": 0.955993281075028,
         "std_train_score": 0.008223922995747044,
         "_deepnote_index_column": 65
        },
        {
         "mean_fit_time": 0.002501215934753418,
         "std_fit_time": 0.00044705566360273783,
         "mean_score_time": 0.0016374540328979491,
         "std_score_time": 0.0002968954433721948,
         "param_ccp_alpha": "0.4",
         "param_criterion": "entropy",
         "param_max_depth": "4",
         "params": "{'ccp_alpha': 0.4, 'criterion': 'entropy', 'max_depth': 4}",
         "mean_test_score": 0.9174545454545455,
         "std_test_score": 0.08187553545342542,
         "rank_test_score": 16,
         "mean_train_score": 0.955993281075028,
         "std_train_score": 0.008223922995747044,
         "_deepnote_index_column": 66
        },
        {
         "mean_fit_time": 0.002323713302612305,
         "std_fit_time": 0.00006987104104786446,
         "mean_score_time": 0.0015662860870361327,
         "std_score_time": 0.00009261099860784513,
         "param_ccp_alpha": "0.4",
         "param_criterion": "entropy",
         "param_max_depth": "5",
         "params": "{'ccp_alpha': 0.4, 'criterion': 'entropy', 'max_depth': 5}",
         "mean_test_score": 0.9174545454545455,
         "std_test_score": 0.08187553545342542,
         "rank_test_score": 16,
         "mean_train_score": 0.955993281075028,
         "std_train_score": 0.008223922995747044,
         "_deepnote_index_column": 67
        },
        {
         "mean_fit_time": 0.0024254608154296877,
         "std_fit_time": 0.0003633245500587366,
         "mean_score_time": 0.0016500425338745117,
         "std_score_time": 0.00025921397860761004,
         "param_ccp_alpha": "0.3",
         "param_criterion": "entropy",
         "param_max_depth": "2",
         "params": "{'ccp_alpha': 0.3, 'criterion': 'entropy', 'max_depth': 2}",
         "mean_test_score": 0.9174545454545455,
         "std_test_score": 0.08187553545342542,
         "rank_test_score": 16,
         "mean_train_score": 0.955993281075028,
         "std_train_score": 0.008223922995747044,
         "_deepnote_index_column": 50
        },
        {
         "mean_fit_time": 0.002569456100463867,
         "std_fit_time": 0.0004815349924723617,
         "mean_score_time": 0.0016606187820434571,
         "std_score_time": 0.0002927983344122197,
         "param_ccp_alpha": "0.4",
         "param_criterion": "entropy",
         "param_max_depth": "6",
         "params": "{'ccp_alpha': 0.4, 'criterion': 'entropy', 'max_depth': 6}",
         "mean_test_score": 0.9174545454545455,
         "std_test_score": 0.08187553545342542,
         "rank_test_score": 16,
         "mean_train_score": 0.955993281075028,
         "std_train_score": 0.008223922995747044,
         "_deepnote_index_column": 68
        },
        {
         "mean_fit_time": 0.002492842674255371,
         "std_fit_time": 0.000421900122434058,
         "mean_score_time": 0.001652364730834961,
         "std_score_time": 0.0002966345217879968,
         "param_ccp_alpha": "0.4",
         "param_criterion": "entropy",
         "param_max_depth": "None",
         "params": "{'ccp_alpha': 0.4, 'criterion': 'entropy', 'max_depth': None}",
         "mean_test_score": 0.9174545454545455,
         "std_test_score": 0.08187553545342542,
         "rank_test_score": 16,
         "mean_train_score": 0.955993281075028,
         "std_train_score": 0.008223922995747044,
         "_deepnote_index_column": 69
        },
        {
         "mean_fit_time": 0.002610340118408203,
         "std_fit_time": 0.0005661777862237061,
         "mean_score_time": 0.0017180061340332032,
         "std_score_time": 0.0003772776919756715,
         "param_ccp_alpha": "0.2",
         "param_criterion": "gini",
         "param_max_depth": "5",
         "params": "{'ccp_alpha': 0.2, 'criterion': 'gini', 'max_depth': 5}",
         "mean_test_score": 0.9174545454545455,
         "std_test_score": 0.08187553545342542,
         "rank_test_score": 16,
         "mean_train_score": 0.955993281075028,
         "std_train_score": 0.008223922995747044,
         "_deepnote_index_column": 32
        },
        {
         "mean_fit_time": 0.002323923110961914,
         "std_fit_time": 0.0003850047339178703,
         "mean_score_time": 0.0015817785263061524,
         "std_score_time": 0.00019717244288921943,
         "param_ccp_alpha": "0.0",
         "param_criterion": "gini",
         "param_max_depth": "2",
         "params": "{'ccp_alpha': 0.0, 'criterion': 'gini', 'max_depth': 2}",
         "mean_test_score": 0.9174545454545455,
         "std_test_score": 0.08187553545342542,
         "rank_test_score": 16,
         "mean_train_score": 0.955993281075028,
         "std_train_score": 0.008223922995747044,
         "_deepnote_index_column": 1
        },
        {
         "mean_fit_time": 0.0024102354049682618,
         "std_fit_time": 0.0004318660777293922,
         "mean_score_time": 0.0016450119018554688,
         "std_score_time": 0.00028358145812903924,
         "param_ccp_alpha": "0.0",
         "param_criterion": "entropy",
         "param_max_depth": "2",
         "params": "{'ccp_alpha': 0.0, 'criterion': 'entropy', 'max_depth': 2}",
         "mean_test_score": 0.9174545454545455,
         "std_test_score": 0.08187553545342542,
         "rank_test_score": 16,
         "mean_train_score": 0.955993281075028,
         "std_train_score": 0.008223922995747044,
         "_deepnote_index_column": 8
        },
        {
         "mean_fit_time": 0.002371549606323242,
         "std_fit_time": 0.0003027752886909246,
         "mean_score_time": 0.0016010856628417968,
         "std_score_time": 0.000229350579410429,
         "param_ccp_alpha": "0.1",
         "param_criterion": "gini",
         "param_max_depth": "2",
         "params": "{'ccp_alpha': 0.1, 'criterion': 'gini', 'max_depth': 2}",
         "mean_test_score": 0.9174545454545455,
         "std_test_score": 0.08187553545342542,
         "rank_test_score": 16,
         "mean_train_score": 0.955993281075028,
         "std_train_score": 0.008223922995747044,
         "_deepnote_index_column": 15
        },
        {
         "mean_fit_time": 0.002475476264953613,
         "std_fit_time": 0.00047781188344076105,
         "mean_score_time": 0.0016981983184814454,
         "std_score_time": 0.00034367472620480975,
         "param_ccp_alpha": "0.1",
         "param_criterion": "gini",
         "param_max_depth": "3",
         "params": "{'ccp_alpha': 0.1, 'criterion': 'gini', 'max_depth': 3}",
         "mean_test_score": 0.9174545454545455,
         "std_test_score": 0.08187553545342542,
         "rank_test_score": 16,
         "mean_train_score": 0.955993281075028,
         "std_train_score": 0.008223922995747044,
         "_deepnote_index_column": 16
        },
        {
         "mean_fit_time": 0.0030447721481323244,
         "std_fit_time": 0.0007497576623654209,
         "mean_score_time": 0.0019924163818359373,
         "std_score_time": 0.0005149877865979457,
         "param_ccp_alpha": "0.1",
         "param_criterion": "gini",
         "param_max_depth": "4",
         "params": "{'ccp_alpha': 0.1, 'criterion': 'gini', 'max_depth': 4}",
         "mean_test_score": 0.9174545454545455,
         "std_test_score": 0.08187553545342542,
         "rank_test_score": 16,
         "mean_train_score": 0.955993281075028,
         "std_train_score": 0.008223922995747044,
         "_deepnote_index_column": 17
        },
        {
         "mean_fit_time": 0.002525029182434082,
         "std_fit_time": 0.0005392908074947998,
         "mean_score_time": 0.0016684579849243165,
         "std_score_time": 0.00033073826260677066,
         "param_ccp_alpha": "0.1",
         "param_criterion": "gini",
         "param_max_depth": "5",
         "params": "{'ccp_alpha': 0.1, 'criterion': 'gini', 'max_depth': 5}",
         "mean_test_score": 0.9174545454545455,
         "std_test_score": 0.08187553545342542,
         "rank_test_score": 16,
         "mean_train_score": 0.955993281075028,
         "std_train_score": 0.008223922995747044,
         "_deepnote_index_column": 18
        },
        {
         "mean_fit_time": 0.0024317073822021484,
         "std_fit_time": 0.0004157583445631761,
         "mean_score_time": 0.001619858741760254,
         "std_score_time": 0.0002318233464521455,
         "param_ccp_alpha": "0.2",
         "param_criterion": "gini",
         "param_max_depth": "6",
         "params": "{'ccp_alpha': 0.2, 'criterion': 'gini', 'max_depth': 6}",
         "mean_test_score": 0.9174545454545455,
         "std_test_score": 0.08187553545342542,
         "rank_test_score": 16,
         "mean_train_score": 0.955993281075028,
         "std_train_score": 0.008223922995747044,
         "_deepnote_index_column": 33
        },
        {
         "mean_fit_time": 0.0023427915573120115,
         "std_fit_time": 0.00023253264523514895,
         "mean_score_time": 0.0015795516967773437,
         "std_score_time": 0.0001977094898227155,
         "param_ccp_alpha": "0.1",
         "param_criterion": "gini",
         "param_max_depth": "None",
         "params": "{'ccp_alpha': 0.1, 'criterion': 'gini', 'max_depth': None}",
         "mean_test_score": 0.9174545454545455,
         "std_test_score": 0.08187553545342542,
         "rank_test_score": 16,
         "mean_train_score": 0.955993281075028,
         "std_train_score": 0.008223922995747044,
         "_deepnote_index_column": 20
        },
        {
         "mean_fit_time": 0.002543597221374512,
         "std_fit_time": 0.00038302741572250495,
         "mean_score_time": 0.0017246532440185547,
         "std_score_time": 0.0003050647177359604,
         "param_ccp_alpha": "0.1",
         "param_criterion": "gini",
         "param_max_depth": "6",
         "params": "{'ccp_alpha': 0.1, 'criterion': 'gini', 'max_depth': 6}",
         "mean_test_score": 0.9174545454545455,
         "std_test_score": 0.08187553545342542,
         "rank_test_score": 16,
         "mean_train_score": 0.955993281075028,
         "std_train_score": 0.008223922995747044,
         "_deepnote_index_column": 19
        },
        {
         "mean_fit_time": 0.002494640350341797,
         "std_fit_time": 0.00037658758207830727,
         "mean_score_time": 0.0016439247131347656,
         "std_score_time": 0.0002490876442793898,
         "param_ccp_alpha": "0.2",
         "param_criterion": "gini",
         "param_max_depth": "4",
         "params": "{'ccp_alpha': 0.2, 'criterion': 'gini', 'max_depth': 4}",
         "mean_test_score": 0.9174545454545455,
         "std_test_score": 0.08187553545342542,
         "rank_test_score": 16,
         "mean_train_score": 0.955993281075028,
         "std_train_score": 0.008223922995747044,
         "_deepnote_index_column": 31
        },
        {
         "mean_fit_time": 0.0025789785385131837,
         "std_fit_time": 0.0005064743546834559,
         "mean_score_time": 0.0016870594024658203,
         "std_score_time": 0.00032215954753912437,
         "param_ccp_alpha": "0.2",
         "param_criterion": "gini",
         "param_max_depth": "3",
         "params": "{'ccp_alpha': 0.2, 'criterion': 'gini', 'max_depth': 3}",
         "mean_test_score": 0.9174545454545455,
         "std_test_score": 0.08187553545342542,
         "rank_test_score": 16,
         "mean_train_score": 0.955993281075028,
         "std_train_score": 0.008223922995747044,
         "_deepnote_index_column": 30
        },
        {
         "mean_fit_time": 0.003027834892272949,
         "std_fit_time": 0.0008757137981027879,
         "mean_score_time": 0.002003598213195801,
         "std_score_time": 0.0006100690199812386,
         "param_ccp_alpha": "0.1",
         "param_criterion": "entropy",
         "param_max_depth": "2",
         "params": "{'ccp_alpha': 0.1, 'criterion': 'entropy', 'max_depth': 2}",
         "mean_test_score": 0.9174545454545455,
         "std_test_score": 0.08187553545342542,
         "rank_test_score": 16,
         "mean_train_score": 0.955993281075028,
         "std_train_score": 0.008223922995747044,
         "_deepnote_index_column": 22
        },
        {
         "mean_fit_time": 0.0025966548919677734,
         "std_fit_time": 0.0006098028532095,
         "mean_score_time": 0.0017540645599365234,
         "std_score_time": 0.0004136252428477195,
         "param_ccp_alpha": "0.2",
         "param_criterion": "gini",
         "param_max_depth": "2",
         "params": "{'ccp_alpha': 0.2, 'criterion': 'gini', 'max_depth': 2}",
         "mean_test_score": 0.9174545454545455,
         "std_test_score": 0.08187553545342542,
         "rank_test_score": 16,
         "mean_train_score": 0.955993281075028,
         "std_train_score": 0.008223922995747044,
         "_deepnote_index_column": 29
        },
        {
         "mean_fit_time": 0.0027073717117309572,
         "std_fit_time": 0.000695785084545936,
         "mean_score_time": 0.0018189907073974609,
         "std_score_time": 0.00042816288593813015,
         "param_ccp_alpha": "0.3",
         "param_criterion": "gini",
         "param_max_depth": "3",
         "params": "{'ccp_alpha': 0.3, 'criterion': 'gini', 'max_depth': 3}",
         "mean_test_score": 0.6681818181818183,
         "std_test_score": 0.0318181818181818,
         "rank_test_score": 49,
         "mean_train_score": 0.6666853303471444,
         "std_train_score": 0.003527435610302388,
         "_deepnote_index_column": 44
        },
        {
         "mean_fit_time": 0.0025137710571289064,
         "std_fit_time": 0.0005119283007276449,
         "mean_score_time": 0.0017139244079589844,
         "std_score_time": 0.0003762792565589937,
         "param_ccp_alpha": "0.2",
         "param_criterion": "entropy",
         "param_max_depth": "1",
         "params": "{'ccp_alpha': 0.2, 'criterion': 'entropy', 'max_depth': 1}",
         "mean_test_score": 0.6681818181818183,
         "std_test_score": 0.0318181818181818,
         "rank_test_score": 49,
         "mean_train_score": 0.6666853303471444,
         "std_train_score": 0.003527435610302388,
         "_deepnote_index_column": 35
        },
        {
         "mean_fit_time": 0.003512258529663086,
         "std_fit_time": 0.0006606301722777592,
         "mean_score_time": 0.002430906295776367,
         "std_score_time": 0.00047489773439001706,
         "param_ccp_alpha": "0.0",
         "param_criterion": "entropy",
         "param_max_depth": "1",
         "params": "{'ccp_alpha': 0.0, 'criterion': 'entropy', 'max_depth': 1}",
         "mean_test_score": 0.6681818181818183,
         "std_test_score": 0.0318181818181818,
         "rank_test_score": 49,
         "mean_train_score": 0.6666853303471444,
         "std_train_score": 0.003527435610302388,
         "_deepnote_index_column": 7
        },
        {
         "mean_fit_time": 0.002356762886047363,
         "std_fit_time": 0.00035198507505257654,
         "mean_score_time": 0.0016136407852172852,
         "std_score_time": 0.0002837733577581435,
         "param_ccp_alpha": "0.1",
         "param_criterion": "gini",
         "param_max_depth": "1",
         "params": "{'ccp_alpha': 0.1, 'criterion': 'gini', 'max_depth': 1}",
         "mean_test_score": 0.6681818181818183,
         "std_test_score": 0.0318181818181818,
         "rank_test_score": 49,
         "mean_train_score": 0.6666853303471444,
         "std_train_score": 0.003527435610302388,
         "_deepnote_index_column": 14
        },
        {
         "mean_fit_time": 0.0024375295639038085,
         "std_fit_time": 0.00036375004911642304,
         "mean_score_time": 0.0016428899765014648,
         "std_score_time": 0.00023730437897715912,
         "param_ccp_alpha": "0.4",
         "param_criterion": "entropy",
         "param_max_depth": "1",
         "params": "{'ccp_alpha': 0.4, 'criterion': 'entropy', 'max_depth': 1}",
         "mean_test_score": 0.6681818181818183,
         "std_test_score": 0.0318181818181818,
         "rank_test_score": 49,
         "mean_train_score": 0.6666853303471444,
         "std_train_score": 0.003527435610302388,
         "_deepnote_index_column": 63
        },
        {
         "mean_fit_time": 0.002409067153930664,
         "std_fit_time": 0.00036354591484899946,
         "mean_score_time": 0.0016274309158325194,
         "std_score_time": 0.0002533972482922639,
         "param_ccp_alpha": "0.3",
         "param_criterion": "gini",
         "param_max_depth": "2",
         "params": "{'ccp_alpha': 0.3, 'criterion': 'gini', 'max_depth': 2}",
         "mean_test_score": 0.6681818181818183,
         "std_test_score": 0.0318181818181818,
         "rank_test_score": 49,
         "mean_train_score": 0.6666853303471444,
         "std_train_score": 0.003527435610302388,
         "_deepnote_index_column": 43
        },
        {
         "mean_fit_time": 0.002454824447631836,
         "std_fit_time": 0.0005269830526048201,
         "mean_score_time": 0.0017219018936157227,
         "std_score_time": 0.0003608064088560396,
         "param_ccp_alpha": "0.0",
         "param_criterion": "gini",
         "param_max_depth": "1",
         "params": "{'ccp_alpha': 0.0, 'criterion': 'gini', 'max_depth': 1}",
         "mean_test_score": 0.6681818181818183,
         "std_test_score": 0.0318181818181818,
         "rank_test_score": 49,
         "mean_train_score": 0.6666853303471444,
         "std_train_score": 0.003527435610302388,
         "_deepnote_index_column": 0
        },
        {
         "mean_fit_time": 0.0023288822174072268,
         "std_fit_time": 0.00027800034066601496,
         "mean_score_time": 0.0015788984298706055,
         "std_score_time": 0.00019594498416531194,
         "param_ccp_alpha": "0.1",
         "param_criterion": "entropy",
         "param_max_depth": "1",
         "params": "{'ccp_alpha': 0.1, 'criterion': 'entropy', 'max_depth': 1}",
         "mean_test_score": 0.6681818181818183,
         "std_test_score": 0.0318181818181818,
         "rank_test_score": 49,
         "mean_train_score": 0.6666853303471444,
         "std_train_score": 0.003527435610302388,
         "_deepnote_index_column": 21
        },
        {
         "mean_fit_time": 0.002380056381225586,
         "std_fit_time": 0.00033665661230859934,
         "mean_score_time": 0.001606287956237793,
         "std_score_time": 0.00020968358605571926,
         "param_ccp_alpha": "0.3",
         "param_criterion": "gini",
         "param_max_depth": "1",
         "params": "{'ccp_alpha': 0.3, 'criterion': 'gini', 'max_depth': 1}",
         "mean_test_score": 0.6681818181818183,
         "std_test_score": 0.0318181818181818,
         "rank_test_score": 49,
         "mean_train_score": 0.6666853303471444,
         "std_train_score": 0.003527435610302388,
         "_deepnote_index_column": 42
        },
        {
         "mean_fit_time": 0.0027590560913085937,
         "std_fit_time": 0.0006627415748728208,
         "mean_score_time": 0.0018906736373901368,
         "std_score_time": 0.000467590736711096,
         "param_ccp_alpha": "0.3",
         "param_criterion": "entropy",
         "param_max_depth": "1",
         "params": "{'ccp_alpha': 0.3, 'criterion': 'entropy', 'max_depth': 1}",
         "mean_test_score": 0.6681818181818183,
         "std_test_score": 0.0318181818181818,
         "rank_test_score": 49,
         "mean_train_score": 0.6666853303471444,
         "std_train_score": 0.003527435610302388,
         "_deepnote_index_column": 49
        },
        {
         "mean_fit_time": 0.003011178970336914,
         "std_fit_time": 0.0014950784294289732,
         "mean_score_time": 0.0019213008880615235,
         "std_score_time": 0.0004918873612846751,
         "param_ccp_alpha": "0.3",
         "param_criterion": "gini",
         "param_max_depth": "None",
         "params": "{'ccp_alpha': 0.3, 'criterion': 'gini', 'max_depth': None}",
         "mean_test_score": 0.6681818181818183,
         "std_test_score": 0.0318181818181818,
         "rank_test_score": 49,
         "mean_train_score": 0.6666853303471444,
         "std_train_score": 0.003527435610302388,
         "_deepnote_index_column": 48
        },
        {
         "mean_fit_time": 0.002477731704711914,
         "std_fit_time": 0.00033187189574852805,
         "mean_score_time": 0.0016396427154541015,
         "std_score_time": 0.0001932076931242125,
         "param_ccp_alpha": "0.3",
         "param_criterion": "gini",
         "param_max_depth": "6",
         "params": "{'ccp_alpha': 0.3, 'criterion': 'gini', 'max_depth': 6}",
         "mean_test_score": 0.6681818181818183,
         "std_test_score": 0.0318181818181818,
         "rank_test_score": 49,
         "mean_train_score": 0.6666853303471444,
         "std_train_score": 0.003527435610302388,
         "_deepnote_index_column": 47
        },
        {
         "mean_fit_time": 0.0024805212020874022,
         "std_fit_time": 0.0005201716163955729,
         "mean_score_time": 0.0016761398315429687,
         "std_score_time": 0.0004603959105761225,
         "param_ccp_alpha": "0.3",
         "param_criterion": "gini",
         "param_max_depth": "5",
         "params": "{'ccp_alpha': 0.3, 'criterion': 'gini', 'max_depth': 5}",
         "mean_test_score": 0.6681818181818183,
         "std_test_score": 0.0318181818181818,
         "rank_test_score": 49,
         "mean_train_score": 0.6666853303471444,
         "std_train_score": 0.003527435610302388,
         "_deepnote_index_column": 46
        },
        {
         "mean_fit_time": 0.0024442815780639647,
         "std_fit_time": 0.00041798839874829756,
         "mean_score_time": 0.00163177490234375,
         "std_score_time": 0.00028192713137240207,
         "param_ccp_alpha": "0.3",
         "param_criterion": "gini",
         "param_max_depth": "4",
         "params": "{'ccp_alpha': 0.3, 'criterion': 'gini', 'max_depth': 4}",
         "mean_test_score": 0.6681818181818183,
         "std_test_score": 0.0318181818181818,
         "rank_test_score": 49,
         "mean_train_score": 0.6666853303471444,
         "std_train_score": 0.003527435610302388,
         "_deepnote_index_column": 45
        },
        {
         "mean_fit_time": 0.002605109214782715,
         "std_fit_time": 0.0005070875943679944,
         "mean_score_time": 0.0017792224884033204,
         "std_score_time": 0.00037366961697685494,
         "param_ccp_alpha": "0.2",
         "param_criterion": "gini",
         "param_max_depth": "1",
         "params": "{'ccp_alpha': 0.2, 'criterion': 'gini', 'max_depth': 1}",
         "mean_test_score": 0.6681818181818183,
         "std_test_score": 0.0318181818181818,
         "rank_test_score": 49,
         "mean_train_score": 0.6666853303471444,
         "std_train_score": 0.003527435610302388,
         "_deepnote_index_column": 28
        },
        {
         "mean_fit_time": 0.002294754981994629,
         "std_fit_time": 0.00006226555332304801,
         "mean_score_time": 0.0015839576721191407,
         "std_score_time": 0.00015268754685029577,
         "param_ccp_alpha": "0.4",
         "param_criterion": "gini",
         "param_max_depth": "2",
         "params": "{'ccp_alpha': 0.4, 'criterion': 'gini', 'max_depth': 2}",
         "mean_test_score": 0.2863636363636364,
         "std_test_score": 0.013636363636363643,
         "rank_test_score": 64,
         "mean_train_score": 0.3386338185890258,
         "std_train_score": 0.0017917133258678608,
         "_deepnote_index_column": 57
        },
        {
         "mean_fit_time": 0.0024051284790039063,
         "std_fit_time": 0.00038286544860285915,
         "mean_score_time": 0.0016125202178955077,
         "std_score_time": 0.0002537203874178972,
         "param_ccp_alpha": "0.4",
         "param_criterion": "gini",
         "param_max_depth": "3",
         "params": "{'ccp_alpha': 0.4, 'criterion': 'gini', 'max_depth': 3}",
         "mean_test_score": 0.2863636363636364,
         "std_test_score": 0.013636363636363643,
         "rank_test_score": 64,
         "mean_train_score": 0.3386338185890258,
         "std_train_score": 0.0017917133258678608,
         "_deepnote_index_column": 58
        },
        {
         "mean_fit_time": 0.0024420595169067382,
         "std_fit_time": 0.00036040780379716173,
         "mean_score_time": 0.001674966812133789,
         "std_score_time": 0.0002734247982944564,
         "param_ccp_alpha": "0.4",
         "param_criterion": "gini",
         "param_max_depth": "4",
         "params": "{'ccp_alpha': 0.4, 'criterion': 'gini', 'max_depth': 4}",
         "mean_test_score": 0.2863636363636364,
         "std_test_score": 0.013636363636363643,
         "rank_test_score": 64,
         "mean_train_score": 0.3386338185890258,
         "std_train_score": 0.0017917133258678608,
         "_deepnote_index_column": 59
        },
        {
         "mean_fit_time": 0.0023057746887207033,
         "std_fit_time": 0.00009473621135536762,
         "mean_score_time": 0.0015513467788696288,
         "std_score_time": 0.00005545312101503142,
         "param_ccp_alpha": "0.4",
         "param_criterion": "gini",
         "param_max_depth": "5",
         "params": "{'ccp_alpha': 0.4, 'criterion': 'gini', 'max_depth': 5}",
         "mean_test_score": 0.2863636363636364,
         "std_test_score": 0.013636363636363643,
         "rank_test_score": 64,
         "mean_train_score": 0.3386338185890258,
         "std_train_score": 0.0017917133258678608,
         "_deepnote_index_column": 60
        },
        {
         "mean_fit_time": 0.0024051618576049804,
         "std_fit_time": 0.0003556427777672685,
         "mean_score_time": 0.0015964412689208984,
         "std_score_time": 0.00021346117468802248,
         "param_ccp_alpha": "0.4",
         "param_criterion": "gini",
         "param_max_depth": "6",
         "params": "{'ccp_alpha': 0.4, 'criterion': 'gini', 'max_depth': 6}",
         "mean_test_score": 0.2863636363636364,
         "std_test_score": 0.013636363636363643,
         "rank_test_score": 64,
         "mean_train_score": 0.3386338185890258,
         "std_train_score": 0.0017917133258678608,
         "_deepnote_index_column": 61
        },
        {
         "mean_fit_time": 0.00242795467376709,
         "std_fit_time": 0.00037510961758532087,
         "mean_score_time": 0.0017084026336669923,
         "std_score_time": 0.0003639270710408294,
         "param_ccp_alpha": "0.4",
         "param_criterion": "gini",
         "param_max_depth": "None",
         "params": "{'ccp_alpha': 0.4, 'criterion': 'gini', 'max_depth': None}",
         "mean_test_score": 0.2863636363636364,
         "std_test_score": 0.013636363636363643,
         "rank_test_score": 64,
         "mean_train_score": 0.3386338185890258,
         "std_train_score": 0.0017917133258678608,
         "_deepnote_index_column": 62
        },
        {
         "mean_fit_time": 0.0025278902053833007,
         "std_fit_time": 0.0005005512206378429,
         "mean_score_time": 0.0017208480834960938,
         "std_score_time": 0.0003651805302818431,
         "param_ccp_alpha": "0.4",
         "param_criterion": "gini",
         "param_max_depth": "1",
         "params": "{'ccp_alpha': 0.4, 'criterion': 'gini', 'max_depth': 1}",
         "mean_test_score": 0.2863636363636364,
         "std_test_score": 0.013636363636363643,
         "rank_test_score": 64,
         "mean_train_score": 0.3386338185890258,
         "std_train_score": 0.0017917133258678608,
         "_deepnote_index_column": 56
        }
       ],
       "rows_bottom": null
      },
      "text/plain": "    mean_fit_time  std_fit_time  mean_score_time  std_score_time  \\\n9        0.002387      0.000391         0.001635        0.000282   \n2        0.002242      0.000069         0.001561        0.000090   \n5        0.002229      0.000059         0.001555        0.000060   \n6        0.002500      0.000525         0.001732        0.000343   \n10       0.002724      0.000725         0.001821        0.000448   \n..            ...           ...              ...             ...   \n59       0.002442      0.000360         0.001675        0.000273   \n60       0.002306      0.000095         0.001551        0.000055   \n61       0.002405      0.000356         0.001596        0.000213   \n62       0.002428      0.000375         0.001708        0.000364   \n56       0.002528      0.000501         0.001721        0.000365   \n\n   param_ccp_alpha param_criterion param_max_depth  \\\n9              0.0         entropy               3   \n2              0.0            gini               3   \n5              0.0            gini               6   \n6              0.0            gini            None   \n10             0.0         entropy               4   \n..             ...             ...             ...   \n59             0.4            gini               4   \n60             0.4            gini               5   \n61             0.4            gini               6   \n62             0.4            gini            None   \n56             0.4            gini               1   \n\n                                               params  mean_test_score  \\\n9   {'ccp_alpha': 0.0, 'criterion': 'entropy', 'ma...         0.932545   \n2   {'ccp_alpha': 0.0, 'criterion': 'gini', 'max_d...         0.930727   \n5   {'ccp_alpha': 0.0, 'criterion': 'gini', 'max_d...         0.929091   \n6   {'ccp_alpha': 0.0, 'criterion': 'gini', 'max_d...         0.929091   \n10  {'ccp_alpha': 0.0, 'criterion': 'entropy', 'ma...         0.927273   \n..                                                ...              ...   \n59  {'ccp_alpha': 0.4, 'criterion': 'gini', 'max_d...         0.286364   \n60  {'ccp_alpha': 0.4, 'criterion': 'gini', 'max_d...         0.286364   \n61  {'ccp_alpha': 0.4, 'criterion': 'gini', 'max_d...         0.286364   \n62  {'ccp_alpha': 0.4, 'criterion': 'gini', 'max_d...         0.286364   \n56  {'ccp_alpha': 0.4, 'criterion': 'gini', 'max_d...         0.286364   \n\n    std_test_score  rank_test_score  mean_train_score  std_train_score  \n9         0.074547                1          0.973348         0.007664  \n2         0.076188                2          0.973774         0.007946  \n5         0.079357                3          1.000000         0.000000  \n6         0.079357                3          1.000000         0.000000  \n10        0.078309                5          0.989637         0.007486  \n..             ...              ...               ...              ...  \n59        0.013636               64          0.338634         0.001792  \n60        0.013636               64          0.338634         0.001792  \n61        0.013636               64          0.338634         0.001792  \n62        0.013636               64          0.338634         0.001792  \n56        0.013636               64          0.338634         0.001792  \n\n[70 rows x 13 columns]",
      "text/html": "<div>\n<style scoped>\n    .dataframe tbody tr th:only-of-type {\n        vertical-align: middle;\n    }\n\n    .dataframe tbody tr th {\n        vertical-align: top;\n    }\n\n    .dataframe thead th {\n        text-align: right;\n    }\n</style>\n<table border=\"1\" class=\"dataframe\">\n  <thead>\n    <tr style=\"text-align: right;\">\n      <th></th>\n      <th>mean_fit_time</th>\n      <th>std_fit_time</th>\n      <th>mean_score_time</th>\n      <th>std_score_time</th>\n      <th>param_ccp_alpha</th>\n      <th>param_criterion</th>\n      <th>param_max_depth</th>\n      <th>params</th>\n      <th>mean_test_score</th>\n      <th>std_test_score</th>\n      <th>rank_test_score</th>\n      <th>mean_train_score</th>\n      <th>std_train_score</th>\n    </tr>\n  </thead>\n  <tbody>\n    <tr>\n      <th>9</th>\n      <td>0.002387</td>\n      <td>0.000391</td>\n      <td>0.001635</td>\n      <td>0.000282</td>\n      <td>0.0</td>\n      <td>entropy</td>\n      <td>3</td>\n      <td>{'ccp_alpha': 0.0, 'criterion': 'entropy', 'ma...</td>\n      <td>0.932545</td>\n      <td>0.074547</td>\n      <td>1</td>\n      <td>0.973348</td>\n      <td>0.007664</td>\n    </tr>\n    <tr>\n      <th>2</th>\n      <td>0.002242</td>\n      <td>0.000069</td>\n      <td>0.001561</td>\n      <td>0.000090</td>\n      <td>0.0</td>\n      <td>gini</td>\n      <td>3</td>\n      <td>{'ccp_alpha': 0.0, 'criterion': 'gini', 'max_d...</td>\n      <td>0.930727</td>\n      <td>0.076188</td>\n      <td>2</td>\n      <td>0.973774</td>\n      <td>0.007946</td>\n    </tr>\n    <tr>\n      <th>5</th>\n      <td>0.002229</td>\n      <td>0.000059</td>\n      <td>0.001555</td>\n      <td>0.000060</td>\n      <td>0.0</td>\n      <td>gini</td>\n      <td>6</td>\n      <td>{'ccp_alpha': 0.0, 'criterion': 'gini', 'max_d...</td>\n      <td>0.929091</td>\n      <td>0.079357</td>\n      <td>3</td>\n      <td>1.000000</td>\n      <td>0.000000</td>\n    </tr>\n    <tr>\n      <th>6</th>\n      <td>0.002500</td>\n      <td>0.000525</td>\n      <td>0.001732</td>\n      <td>0.000343</td>\n      <td>0.0</td>\n      <td>gini</td>\n      <td>None</td>\n      <td>{'ccp_alpha': 0.0, 'criterion': 'gini', 'max_d...</td>\n      <td>0.929091</td>\n      <td>0.079357</td>\n      <td>3</td>\n      <td>1.000000</td>\n      <td>0.000000</td>\n    </tr>\n    <tr>\n      <th>10</th>\n      <td>0.002724</td>\n      <td>0.000725</td>\n      <td>0.001821</td>\n      <td>0.000448</td>\n      <td>0.0</td>\n      <td>entropy</td>\n      <td>4</td>\n      <td>{'ccp_alpha': 0.0, 'criterion': 'entropy', 'ma...</td>\n      <td>0.927273</td>\n      <td>0.078309</td>\n      <td>5</td>\n      <td>0.989637</td>\n      <td>0.007486</td>\n    </tr>\n    <tr>\n      <th>...</th>\n      <td>...</td>\n      <td>...</td>\n      <td>...</td>\n      <td>...</td>\n      <td>...</td>\n      <td>...</td>\n      <td>...</td>\n      <td>...</td>\n      <td>...</td>\n      <td>...</td>\n      <td>...</td>\n      <td>...</td>\n      <td>...</td>\n    </tr>\n    <tr>\n      <th>59</th>\n      <td>0.002442</td>\n      <td>0.000360</td>\n      <td>0.001675</td>\n      <td>0.000273</td>\n      <td>0.4</td>\n      <td>gini</td>\n      <td>4</td>\n      <td>{'ccp_alpha': 0.4, 'criterion': 'gini', 'max_d...</td>\n      <td>0.286364</td>\n      <td>0.013636</td>\n      <td>64</td>\n      <td>0.338634</td>\n      <td>0.001792</td>\n    </tr>\n    <tr>\n      <th>60</th>\n      <td>0.002306</td>\n      <td>0.000095</td>\n      <td>0.001551</td>\n      <td>0.000055</td>\n      <td>0.4</td>\n      <td>gini</td>\n      <td>5</td>\n      <td>{'ccp_alpha': 0.4, 'criterion': 'gini', 'max_d...</td>\n      <td>0.286364</td>\n      <td>0.013636</td>\n      <td>64</td>\n      <td>0.338634</td>\n      <td>0.001792</td>\n    </tr>\n    <tr>\n      <th>61</th>\n      <td>0.002405</td>\n      <td>0.000356</td>\n      <td>0.001596</td>\n      <td>0.000213</td>\n      <td>0.4</td>\n      <td>gini</td>\n      <td>6</td>\n      <td>{'ccp_alpha': 0.4, 'criterion': 'gini', 'max_d...</td>\n      <td>0.286364</td>\n      <td>0.013636</td>\n      <td>64</td>\n      <td>0.338634</td>\n      <td>0.001792</td>\n    </tr>\n    <tr>\n      <th>62</th>\n      <td>0.002428</td>\n      <td>0.000375</td>\n      <td>0.001708</td>\n      <td>0.000364</td>\n      <td>0.4</td>\n      <td>gini</td>\n      <td>None</td>\n      <td>{'ccp_alpha': 0.4, 'criterion': 'gini', 'max_d...</td>\n      <td>0.286364</td>\n      <td>0.013636</td>\n      <td>64</td>\n      <td>0.338634</td>\n      <td>0.001792</td>\n    </tr>\n    <tr>\n      <th>56</th>\n      <td>0.002528</td>\n      <td>0.000501</td>\n      <td>0.001721</td>\n      <td>0.000365</td>\n      <td>0.4</td>\n      <td>gini</td>\n      <td>1</td>\n      <td>{'ccp_alpha': 0.4, 'criterion': 'gini', 'max_d...</td>\n      <td>0.286364</td>\n      <td>0.013636</td>\n      <td>64</td>\n      <td>0.338634</td>\n      <td>0.001792</td>\n    </tr>\n  </tbody>\n</table>\n<p>70 rows × 13 columns</p>\n</div>"
     },
     "metadata": {},
     "output_type": "display_data"
    }
   ],
   "execution_count": 45
  },
  {
   "cell_type": "markdown",
   "source": "Lo que podemos observar es que los mejores hiperparámetros son podar con una altura máxima del árbol decisión de 3 y usar la ganancia de información como criterio de partición.",
   "metadata": {
    "papermill": {
     "duration": 0.070917,
     "end_time": "2020-12-14T07:58:11.523784",
     "exception": false,
     "start_time": "2020-12-14T07:58:11.452867",
     "status": "completed"
    },
    "tags": [],
    "cell_id": "00063-722fa366-87d7-4e21-84b8-509b8950729e",
    "deepnote_cell_type": "markdown"
   }
  },
  {
   "cell_type": "markdown",
   "source": "En *Adaptive Boosting* vamos a optimizar la tasa de aprendizaje (`learning_rate`) y el número de estimadores del ensemble (`n_estimators`). Además, podemos optimizar el criterio de partición y la altura máxima del árbol de decisión que vamos a usar como estimador base:\n\n---\n\n**Nota**: Se pueden optimizar los hiperparámetros de estimadores compuestos tal y como se detalla en este [enlace](https://scikit-learn.org/stable/modules/grid_search.html#composite-estimators-and-parameter-spaces).\n\n---",
   "metadata": {
    "papermill": {
     "duration": 0.069887,
     "end_time": "2020-12-14T07:58:11.664093",
     "exception": false,
     "start_time": "2020-12-14T07:58:11.594206",
     "status": "completed"
    },
    "tags": [],
    "cell_id": "00064-106673cc-4696-441d-8a9b-71b8f89b29f8",
    "deepnote_cell_type": "markdown"
   }
  },
  {
   "cell_type": "code",
   "metadata": {
    "tags": [],
    "cell_id": "00073-36640357-05a7-4892-816f-ef783a8c0f18",
    "deepnote_to_be_reexecuted": false,
    "source_hash": "9a6773e6",
    "execution_start": 1635873636697,
    "execution_millis": 1264352,
    "deepnote_cell_type": "code"
   },
   "source": "base_estimator = DecisionTreeClassifier(random_state=random_state)",
   "outputs": [],
   "execution_count": 46
  },
  {
   "cell_type": "code",
   "metadata": {
    "tags": [],
    "cell_id": "00074-72e18038-e5ef-4adf-a59f-266c425e51b2",
    "deepnote_to_be_reexecuted": false,
    "source_hash": "4957dd35",
    "execution_start": 1635873636698,
    "execution_millis": 1264352,
    "deepnote_cell_type": "code"
   },
   "source": "base_estimator = [base_estimator]",
   "outputs": [],
   "execution_count": 47
  },
  {
   "cell_type": "code",
   "metadata": {
    "tags": [],
    "cell_id": "00078-675d0bfa-042d-4e81-98ec-be64dee932be",
    "deepnote_to_be_reexecuted": false,
    "source_hash": "8fcaa524",
    "execution_start": 1635873636739,
    "execution_millis": 1264351,
    "deepnote_cell_type": "code"
   },
   "source": "n_estimators = [20, 50, 100]",
   "outputs": [],
   "execution_count": 48
  },
  {
   "cell_type": "code",
   "metadata": {
    "tags": [],
    "cell_id": "00075-adbd24b4-a5ab-4167-99cb-6f310be4c20e",
    "deepnote_to_be_reexecuted": false,
    "source_hash": "1038e17e",
    "execution_start": 1635873636739,
    "execution_millis": 1264311,
    "deepnote_cell_type": "code"
   },
   "source": "learning_rate = [0.95, 1.0]",
   "outputs": [],
   "execution_count": 49
  },
  {
   "cell_type": "code",
   "metadata": {
    "tags": [],
    "cell_id": "00077-21f0f754-021b-4507-9418-debeb157df77",
    "deepnote_to_be_reexecuted": false,
    "source_hash": "4be5b480",
    "execution_start": 1635873636740,
    "execution_millis": 1264312,
    "deepnote_cell_type": "code"
   },
   "source": "max_depth = [1, 2, 3]",
   "outputs": [],
   "execution_count": 50
  },
  {
   "cell_type": "code",
   "metadata": {
    "execution": {
     "iopub.execute_input": "2020-12-14T07:58:11.817153Z",
     "iopub.status.busy": "2020-12-14T07:58:11.816079Z",
     "iopub.status.idle": "2020-12-14T07:59:19.425612Z",
     "shell.execute_reply": "2020-12-14T07:59:19.423528Z"
    },
    "papermill": {
     "duration": 67.690677,
     "end_time": "2020-12-14T07:59:19.425999",
     "exception": false,
     "start_time": "2020-12-14T07:58:11.735322",
     "status": "completed"
    },
    "tags": [],
    "cell_id": "00065-80c6ba7a-5330-472f-98e0-d10d2811b049",
    "deepnote_to_be_reexecuted": false,
    "source_hash": "a34053cd",
    "execution_start": 1635873636740,
    "execution_millis": 178827,
    "deepnote_cell_type": "code"
   },
   "source": "adaboost_classifier = optimize_params(adaboost_model, X_train, y_train, cv, base_estimator=base_estimator, n_estimators=n_estimators, learning_rate=learning_rate, base_estimator__criterion=criterion, base_estimator__max_depth=max_depth)",
   "outputs": [
    {
     "data": {
      "application/vnd.deepnote.dataframe.v2+json": {
       "row_count": 36,
       "column_count": 15,
       "columns": [
        {
         "name": "mean_fit_time",
         "dtype": "float64",
         "stats": {
          "unique_count": 36,
          "nan_count": 0,
          "min": "0.024755663871765136",
          "max": "0.21662147521972655",
          "histogram": [
           {
            "bin_start": 0.024755663871765136,
            "bin_end": 0.04394224500656128,
            "count": 11
           },
           {
            "bin_start": 0.04394224500656128,
            "bin_end": 0.06312882614135742,
            "count": 5
           },
           {
            "bin_start": 0.06312882614135742,
            "bin_end": 0.08231540727615355,
            "count": 7
           },
           {
            "bin_start": 0.08231540727615355,
            "bin_end": 0.1015019884109497,
            "count": 4
           },
           {
            "bin_start": 0.1015019884109497,
            "bin_end": 0.12068856954574583,
            "count": 1
           },
           {
            "bin_start": 0.12068856954574583,
            "bin_end": 0.139875150680542,
            "count": 1
           },
           {
            "bin_start": 0.139875150680542,
            "bin_end": 0.15906173181533811,
            "count": 5
           },
           {
            "bin_start": 0.15906173181533811,
            "bin_end": 0.17824831295013427,
            "count": 1
           },
           {
            "bin_start": 0.17824831295013427,
            "bin_end": 0.19743489408493042,
            "count": 0
           },
           {
            "bin_start": 0.19743489408493042,
            "bin_end": 0.21662147521972655,
            "count": 1
           }
          ]
         }
        },
        {
         "name": "std_fit_time",
         "dtype": "float64",
         "stats": {
          "unique_count": 36,
          "nan_count": 0,
          "min": "0.004186117486183638",
          "max": "0.0639390248741926",
          "histogram": [
           {
            "bin_start": 0.004186117486183638,
            "bin_end": 0.010161408224984535,
            "count": 11
           },
           {
            "bin_start": 0.010161408224984535,
            "bin_end": 0.01613669896378543,
            "count": 13
           },
           {
            "bin_start": 0.01613669896378543,
            "bin_end": 0.022111989702586328,
            "count": 3
           },
           {
            "bin_start": 0.022111989702586328,
            "bin_end": 0.028087280441387225,
            "count": 1
           },
           {
            "bin_start": 0.028087280441387225,
            "bin_end": 0.03406257118018812,
            "count": 2
           },
           {
            "bin_start": 0.03406257118018812,
            "bin_end": 0.04003786191898902,
            "count": 2
           },
           {
            "bin_start": 0.04003786191898902,
            "bin_end": 0.046013152657789914,
            "count": 0
           },
           {
            "bin_start": 0.046013152657789914,
            "bin_end": 0.05198844339659081,
            "count": 0
           },
           {
            "bin_start": 0.05198844339659081,
            "bin_end": 0.05796373413539171,
            "count": 0
           },
           {
            "bin_start": 0.05796373413539171,
            "bin_end": 0.0639390248741926,
            "count": 4
           }
          ]
         }
        },
        {
         "name": "mean_score_time",
         "dtype": "float64",
         "stats": {
          "unique_count": 36,
          "nan_count": 0,
          "min": "0.0037943077087402343",
          "max": "0.02309133529663086",
          "histogram": [
           {
            "bin_start": 0.0037943077087402343,
            "bin_end": 0.005724010467529296,
            "count": 9
           },
           {
            "bin_start": 0.005724010467529296,
            "bin_end": 0.007653713226318359,
            "count": 7
           },
           {
            "bin_start": 0.007653713226318359,
            "bin_end": 0.00958341598510742,
            "count": 6
           },
           {
            "bin_start": 0.00958341598510742,
            "bin_end": 0.011513118743896485,
            "count": 5
           },
           {
            "bin_start": 0.011513118743896485,
            "bin_end": 0.013442821502685547,
            "count": 1
           },
           {
            "bin_start": 0.013442821502685547,
            "bin_end": 0.015372524261474608,
            "count": 6
           },
           {
            "bin_start": 0.015372524261474608,
            "bin_end": 0.017302227020263673,
            "count": 0
           },
           {
            "bin_start": 0.017302227020263673,
            "bin_end": 0.019231929779052734,
            "count": 1
           },
           {
            "bin_start": 0.019231929779052734,
            "bin_end": 0.021161632537841795,
            "count": 0
           },
           {
            "bin_start": 0.021161632537841795,
            "bin_end": 0.02309133529663086,
            "count": 1
           }
          ]
         }
        },
        {
         "name": "std_score_time",
         "dtype": "float64",
         "stats": {
          "unique_count": 36,
          "nan_count": 0,
          "min": "0.0008528616012370868",
          "max": "0.006951171157063566",
          "histogram": [
           {
            "bin_start": 0.0008528616012370868,
            "bin_end": 0.0014626925568197347,
            "count": 10
           },
           {
            "bin_start": 0.0014626925568197347,
            "bin_end": 0.002072523512402383,
            "count": 6
           },
           {
            "bin_start": 0.002072523512402383,
            "bin_end": 0.0026823544679850306,
            "count": 3
           },
           {
            "bin_start": 0.0026823544679850306,
            "bin_end": 0.0032921854235676788,
            "count": 6
           },
           {
            "bin_start": 0.0032921854235676788,
            "bin_end": 0.003902016379150327,
            "count": 5
           },
           {
            "bin_start": 0.003902016379150327,
            "bin_end": 0.004511847334732974,
            "count": 1
           },
           {
            "bin_start": 0.004511847334732974,
            "bin_end": 0.005121678290315622,
            "count": 0
           },
           {
            "bin_start": 0.005121678290315622,
            "bin_end": 0.005731509245898271,
            "count": 2
           },
           {
            "bin_start": 0.005731509245898271,
            "bin_end": 0.006341340201480919,
            "count": 1
           },
           {
            "bin_start": 0.006341340201480919,
            "bin_end": 0.006951171157063566,
            "count": 2
           }
          ]
         }
        },
        {
         "name": "param_base_estimator",
         "dtype": "object",
         "stats": {
          "unique_count": 1,
          "nan_count": 0,
          "categories": [
           {
            "name": "DecisionTreeClassifier(max_depth=1, random_state=27912)",
            "count": 36
           }
          ]
         }
        },
        {
         "name": "param_base_estimator__criterion",
         "dtype": "object",
         "stats": {
          "unique_count": 2,
          "nan_count": 0,
          "categories": [
           {
            "name": "gini",
            "count": 18
           },
           {
            "name": "entropy",
            "count": 18
           }
          ]
         }
        },
        {
         "name": "param_base_estimator__max_depth",
         "dtype": "object",
         "stats": {
          "unique_count": 3,
          "nan_count": 0,
          "categories": [
           {
            "name": "1",
            "count": 12
           },
           {
            "name": "3",
            "count": 12
           },
           {
            "name": "2",
            "count": 12
           }
          ]
         }
        },
        {
         "name": "param_learning_rate",
         "dtype": "object",
         "stats": {
          "unique_count": 2,
          "nan_count": 0,
          "categories": [
           {
            "name": "1.0",
            "count": 18
           },
           {
            "name": "0.95",
            "count": 18
           }
          ]
         }
        },
        {
         "name": "param_n_estimators",
         "dtype": "object",
         "stats": {
          "unique_count": 3,
          "nan_count": 0,
          "categories": [
           {
            "name": "20",
            "count": 12
           },
           {
            "name": "50",
            "count": 12
           },
           {
            "name": "100",
            "count": 12
           }
          ]
         }
        },
        {
         "name": "params",
         "dtype": "object",
         "stats": {
          "unique_count": 36,
          "nan_count": 0,
          "categories": [
           {
            "name": "{'base_estimator': DecisionTreeClassifier(max_depth=1, random_state=27912), 'base_estimator__criterion': 'gini', 'base_estimator__max_depth': 1, 'learning_rate': 1.0, 'n_estimators': 20}",
            "count": 1
           },
           {
            "name": "{'base_estimator': DecisionTreeClassifier(max_depth=1, random_state=27912), 'base_estimator__criterion': 'entropy', 'base_estimator__max_depth': 1, 'learning_rate': 1.0, 'n_estimators': 20}",
            "count": 1
           },
           {
            "name": "34 others",
            "count": 34
           }
          ]
         }
        },
        {
         "name": "mean_test_score",
         "dtype": "float64",
         "stats": {
          "unique_count": 23,
          "nan_count": 0,
          "min": "0.9307272727272727",
          "max": "0.9536363636363636",
          "histogram": [
           {
            "bin_start": 0.9307272727272727,
            "bin_end": 0.9330181818181819,
            "count": 4
           },
           {
            "bin_start": 0.9330181818181819,
            "bin_end": 0.9353090909090909,
            "count": 1
           },
           {
            "bin_start": 0.9353090909090909,
            "bin_end": 0.9376,
            "count": 3
           },
           {
            "bin_start": 0.9376,
            "bin_end": 0.9398909090909091,
            "count": 2
           },
           {
            "bin_start": 0.9398909090909091,
            "bin_end": 0.9421818181818182,
            "count": 9
           },
           {
            "bin_start": 0.9421818181818182,
            "bin_end": 0.9444727272727272,
            "count": 12
           },
           {
            "bin_start": 0.9444727272727272,
            "bin_end": 0.9467636363636364,
            "count": 3
           },
           {
            "bin_start": 0.9467636363636364,
            "bin_end": 0.9490545454545455,
            "count": 1
           },
           {
            "bin_start": 0.9490545454545455,
            "bin_end": 0.9513454545454545,
            "count": 0
           },
           {
            "bin_start": 0.9513454545454545,
            "bin_end": 0.9536363636363636,
            "count": 1
           }
          ]
         }
        },
        {
         "name": "std_test_score",
         "dtype": "float64",
         "stats": {
          "unique_count": 24,
          "nan_count": 0,
          "min": "0.06368543562498259",
          "max": "0.08195947396061559",
          "histogram": [
           {
            "bin_start": 0.06368543562498259,
            "bin_end": 0.06551283945854589,
            "count": 5
           },
           {
            "bin_start": 0.06551283945854589,
            "bin_end": 0.06734024329210919,
            "count": 14
           },
           {
            "bin_start": 0.06734024329210919,
            "bin_end": 0.0691676471256725,
            "count": 9
           },
           {
            "bin_start": 0.0691676471256725,
            "bin_end": 0.07099505095923579,
            "count": 1
           },
           {
            "bin_start": 0.07099505095923579,
            "bin_end": 0.07282245479279909,
            "count": 1
           },
           {
            "bin_start": 0.07282245479279909,
            "bin_end": 0.07464985862636239,
            "count": 1
           },
           {
            "bin_start": 0.07464985862636239,
            "bin_end": 0.0764772624599257,
            "count": 1
           },
           {
            "bin_start": 0.0764772624599257,
            "bin_end": 0.07830466629348899,
            "count": 0
           },
           {
            "bin_start": 0.07830466629348899,
            "bin_end": 0.08013207012705229,
            "count": 2
           },
           {
            "bin_start": 0.08013207012705229,
            "bin_end": 0.08195947396061559,
            "count": 2
           }
          ]
         }
        },
        {
         "name": "rank_test_score",
         "dtype": "int32",
         "stats": {
          "unique_count": 23,
          "nan_count": 0,
          "min": "1",
          "max": "36",
          "histogram": [
           {
            "bin_start": 1,
            "bin_end": 4.5,
            "count": 5
           },
           {
            "bin_start": 4.5,
            "bin_end": 8,
            "count": 3
           },
           {
            "bin_start": 8,
            "bin_end": 11.5,
            "count": 6
           },
           {
            "bin_start": 11.5,
            "bin_end": 15,
            "count": 0
           },
           {
            "bin_start": 15,
            "bin_end": 18.5,
            "count": 5
           },
           {
            "bin_start": 18.5,
            "bin_end": 22,
            "count": 2
           },
           {
            "bin_start": 22,
            "bin_end": 25.5,
            "count": 4
           },
           {
            "bin_start": 25.5,
            "bin_end": 29,
            "count": 3
           },
           {
            "bin_start": 29,
            "bin_end": 32.5,
            "count": 4
           },
           {
            "bin_start": 32.5,
            "bin_end": 36,
            "count": 4
           }
          ]
         }
        },
        {
         "name": "mean_train_score",
         "dtype": "float64",
         "stats": {
          "unique_count": 13,
          "nan_count": 0,
          "min": "0.9545173572228444",
          "max": "1.0",
          "histogram": [
           {
            "bin_start": 0.9545173572228444,
            "bin_end": 0.95906562150056,
            "count": 7
           },
           {
            "bin_start": 0.95906562150056,
            "bin_end": 0.9636138857782754,
            "count": 3
           },
           {
            "bin_start": 0.9636138857782754,
            "bin_end": 0.968162150055991,
            "count": 0
           },
           {
            "bin_start": 0.968162150055991,
            "bin_end": 0.9727104143337066,
            "count": 2
           },
           {
            "bin_start": 0.9727104143337066,
            "bin_end": 0.9772586786114221,
            "count": 0
           },
           {
            "bin_start": 0.9772586786114221,
            "bin_end": 0.9818069428891377,
            "count": 0
           },
           {
            "bin_start": 0.9818069428891377,
            "bin_end": 0.9863552071668533,
            "count": 0
           },
           {
            "bin_start": 0.9863552071668533,
            "bin_end": 0.9909034714445689,
            "count": 0
           },
           {
            "bin_start": 0.9909034714445689,
            "bin_end": 0.9954517357222844,
            "count": 0
           },
           {
            "bin_start": 0.9954517357222844,
            "bin_end": 1,
            "count": 24
           }
          ]
         }
        },
        {
         "name": "std_train_score",
         "dtype": "float64",
         "stats": {
          "unique_count": 13,
          "nan_count": 0,
          "min": "0.0",
          "max": "0.025585361242343205",
          "histogram": [
           {
            "bin_start": 0,
            "bin_end": 0.0025585361242343205,
            "count": 24
           },
           {
            "bin_start": 0.0025585361242343205,
            "bin_end": 0.005117072248468641,
            "count": 0
           },
           {
            "bin_start": 0.005117072248468641,
            "bin_end": 0.007675608372702961,
            "count": 0
           },
           {
            "bin_start": 0.007675608372702961,
            "bin_end": 0.010234144496937282,
            "count": 0
           },
           {
            "bin_start": 0.010234144496937282,
            "bin_end": 0.012792680621171603,
            "count": 0
           },
           {
            "bin_start": 0.012792680621171603,
            "bin_end": 0.015351216745405922,
            "count": 2
           },
           {
            "bin_start": 0.015351216745405922,
            "bin_end": 0.017909752869640243,
            "count": 3
           },
           {
            "bin_start": 0.017909752869640243,
            "bin_end": 0.020468288993874564,
            "count": 3
           },
           {
            "bin_start": 0.020468288993874564,
            "bin_end": 0.023026825118108885,
            "count": 0
           },
           {
            "bin_start": 0.023026825118108885,
            "bin_end": 0.025585361242343205,
            "count": 4
           }
          ]
         }
        },
        {
         "name": "_deepnote_index_column",
         "dtype": "int64"
        }
       ],
       "rows_top": [
        {
         "mean_fit_time": 0.029373440742492676,
         "std_fit_time": 0.004274834420373733,
         "mean_score_time": 0.004692873954772949,
         "std_score_time": 0.001156762648441521,
         "param_base_estimator": "DecisionTreeClassifier(max_depth=1, random_state=27912)",
         "param_base_estimator__criterion": "gini",
         "param_base_estimator__max_depth": "1",
         "param_learning_rate": "1.0",
         "param_n_estimators": "20",
         "params": "{'base_estimator': DecisionTreeClassifier(max_depth=1, random_state=27912), 'base_estimator__criter…",
         "mean_test_score": 0.9536363636363636,
         "std_test_score": 0.06434026283352907,
         "rank_test_score": 1,
         "mean_train_score": 0.9720582306830907,
         "std_train_score": 0.02402836206783883,
         "_deepnote_index_column": 3
        },
        {
         "mean_fit_time": 0.04652090072631836,
         "std_fit_time": 0.00786925727146941,
         "mean_score_time": 0.0070195341110229495,
         "std_score_time": 0.0012548976195084444,
         "param_base_estimator": "DecisionTreeClassifier(max_depth=1, random_state=27912)",
         "param_base_estimator__criterion": "entropy",
         "param_base_estimator__max_depth": "1",
         "param_learning_rate": "1.0",
         "param_n_estimators": "20",
         "params": "{'base_estimator': DecisionTreeClassifier(max_depth=1, random_state=27912), 'base_estimator__criter…",
         "mean_test_score": 0.9478181818181818,
         "std_test_score": 0.06427754900262705,
         "rank_test_score": 2,
         "mean_train_score": 0.9716371780515118,
         "std_train_score": 0.024821040631691403,
         "_deepnote_index_column": 21
        },
        {
         "mean_fit_time": 0.024755663871765136,
         "std_fit_time": 0.009760056725336067,
         "mean_score_time": 0.0037943077087402343,
         "std_score_time": 0.0010328634665020431,
         "param_base_estimator": "DecisionTreeClassifier(max_depth=1, random_state=27912)",
         "param_base_estimator__criterion": "entropy",
         "param_base_estimator__max_depth": "3",
         "param_learning_rate": "1.0",
         "param_n_estimators": "20",
         "params": "{'base_estimator': DecisionTreeClassifier(max_depth=1, random_state=27912), 'base_estimator__criter…",
         "mean_test_score": 0.9458181818181818,
         "std_test_score": 0.06670423184067518,
         "rank_test_score": 3,
         "mean_train_score": 1,
         "std_train_score": 0,
         "_deepnote_index_column": 33
        },
        {
         "mean_fit_time": 0.07430272579193115,
         "std_fit_time": 0.010204251652177776,
         "mean_score_time": 0.008238763809204101,
         "std_score_time": 0.001476716150423194,
         "param_base_estimator": "DecisionTreeClassifier(max_depth=1, random_state=27912)",
         "param_base_estimator__criterion": "entropy",
         "param_base_estimator__max_depth": "2",
         "param_learning_rate": "1.0",
         "param_n_estimators": "50",
         "params": "{'base_estimator': DecisionTreeClassifier(max_depth=1, random_state=27912), 'base_estimator__criter…",
         "mean_test_score": 0.9458181818181818,
         "std_test_score": 0.06670423184067518,
         "rank_test_score": 3,
         "mean_train_score": 1,
         "std_train_score": 0,
         "_deepnote_index_column": 28
        },
        {
         "mean_fit_time": 0.07348742008209229,
         "std_fit_time": 0.009546165964508156,
         "mean_score_time": 0.008425192832946777,
         "std_score_time": 0.001869801316055642,
         "param_base_estimator": "DecisionTreeClassifier(max_depth=1, random_state=27912)",
         "param_base_estimator__criterion": "entropy",
         "param_base_estimator__max_depth": "2",
         "param_learning_rate": "0.95",
         "param_n_estimators": "50",
         "params": "{'base_estimator': DecisionTreeClassifier(max_depth=1, random_state=27912), 'base_estimator__criter…",
         "mean_test_score": 0.9458181818181818,
         "std_test_score": 0.06670423184067518,
         "rank_test_score": 3,
         "mean_train_score": 1,
         "std_train_score": 0,
         "_deepnote_index_column": 25
        },
        {
         "mean_fit_time": 0.09522908687591553,
         "std_fit_time": 0.059927484410589364,
         "mean_score_time": 0.01021322727203369,
         "std_score_time": 0.005585277578581132,
         "param_base_estimator": "DecisionTreeClassifier(max_depth=1, random_state=27912)",
         "param_base_estimator__criterion": "gini",
         "param_base_estimator__max_depth": "3",
         "param_learning_rate": "1.0",
         "param_n_estimators": "100",
         "params": "{'base_estimator': DecisionTreeClassifier(max_depth=1, random_state=27912), 'base_estimator__criter…",
         "mean_test_score": 0.9440000000000001,
         "std_test_score": 0.06888390040885597,
         "rank_test_score": 6,
         "mean_train_score": 1,
         "std_train_score": 0,
         "_deepnote_index_column": 17
        },
        {
         "mean_fit_time": 0.028336353302001953,
         "std_fit_time": 0.010517577668837848,
         "mean_score_time": 0.004379386901855469,
         "std_score_time": 0.0014328843251508328,
         "param_base_estimator": "DecisionTreeClassifier(max_depth=1, random_state=27912)",
         "param_base_estimator__criterion": "entropy",
         "param_base_estimator__max_depth": "3",
         "param_learning_rate": "0.95",
         "param_n_estimators": "20",
         "params": "{'base_estimator': DecisionTreeClassifier(max_depth=1, random_state=27912), 'base_estimator__criter…",
         "mean_test_score": 0.9440000000000001,
         "std_test_score": 0.0664410507377818,
         "rank_test_score": 6,
         "mean_train_score": 1,
         "std_train_score": 0,
         "_deepnote_index_column": 30
        },
        {
         "mean_fit_time": 0.0313652229309082,
         "std_fit_time": 0.005547911995945502,
         "mean_score_time": 0.004792842864990234,
         "std_score_time": 0.001147442628701408,
         "param_base_estimator": "DecisionTreeClassifier(max_depth=1, random_state=27912)",
         "param_base_estimator__criterion": "entropy",
         "param_base_estimator__max_depth": "2",
         "param_learning_rate": "1.0",
         "param_n_estimators": "20",
         "params": "{'base_estimator': DecisionTreeClassifier(max_depth=1, random_state=27912), 'base_estimator__criter…",
         "mean_test_score": 0.9440000000000001,
         "std_test_score": 0.06888390040885597,
         "rank_test_score": 6,
         "mean_train_score": 1,
         "std_train_score": 0,
         "_deepnote_index_column": 27
        },
        {
         "mean_fit_time": 0.09238966464996339,
         "std_fit_time": 0.0639390248741926,
         "mean_score_time": 0.01021432876586914,
         "std_score_time": 0.0065498569513644765,
         "param_base_estimator": "DecisionTreeClassifier(max_depth=1, random_state=27912)",
         "param_base_estimator__criterion": "gini",
         "param_base_estimator__max_depth": "3",
         "param_learning_rate": "0.95",
         "param_n_estimators": "100",
         "params": "{'base_estimator': DecisionTreeClassifier(max_depth=1, random_state=27912), 'base_estimator__criter…",
         "mean_test_score": 0.944,
         "std_test_score": 0.0664410507377818,
         "rank_test_score": 9,
         "mean_train_score": 1,
         "std_train_score": 0,
         "_deepnote_index_column": 14
        },
        {
         "mean_fit_time": 0.09885540008544921,
         "std_fit_time": 0.06104319050114537,
         "mean_score_time": 0.01066577911376953,
         "std_score_time": 0.006159673280475694,
         "param_base_estimator": "DecisionTreeClassifier(max_depth=1, random_state=27912)",
         "param_base_estimator__criterion": "entropy",
         "param_base_estimator__max_depth": "3",
         "param_learning_rate": "0.95",
         "param_n_estimators": "100",
         "params": "{'base_estimator': DecisionTreeClassifier(max_depth=1, random_state=27912), 'base_estimator__criter…",
         "mean_test_score": 0.9438181818181818,
         "std_test_score": 0.06654868347854277,
         "rank_test_score": 10,
         "mean_train_score": 1,
         "std_train_score": 0,
         "_deepnote_index_column": 32
        },
        {
         "mean_fit_time": 0.053423500061035155,
         "std_fit_time": 0.02717317788580398,
         "mean_score_time": 0.006422238349914551,
         "std_score_time": 0.0027117630749306293,
         "param_base_estimator": "DecisionTreeClassifier(max_depth=1, random_state=27912)",
         "param_base_estimator__criterion": "entropy",
         "param_base_estimator__max_depth": "3",
         "param_learning_rate": "0.95",
         "param_n_estimators": "50",
         "params": "{'base_estimator': DecisionTreeClassifier(max_depth=1, random_state=27912), 'base_estimator__criter…",
         "mean_test_score": 0.9438181818181818,
         "std_test_score": 0.06654868347854277,
         "rank_test_score": 10,
         "mean_train_score": 1,
         "std_train_score": 0,
         "_deepnote_index_column": 31
        },
        {
         "mean_fit_time": 0.14428119659423827,
         "std_fit_time": 0.015650998336139806,
         "mean_score_time": 0.01510873317718506,
         "std_score_time": 0.003857631320191854,
         "param_base_estimator": "DecisionTreeClassifier(max_depth=1, random_state=27912)",
         "param_base_estimator__criterion": "entropy",
         "param_base_estimator__max_depth": "2",
         "param_learning_rate": "1.0",
         "param_n_estimators": "100",
         "params": "{'base_estimator': DecisionTreeClassifier(max_depth=1, random_state=27912), 'base_estimator__criter…",
         "mean_test_score": 0.9438181818181818,
         "std_test_score": 0.06654868347854277,
         "rank_test_score": 10,
         "mean_train_score": 1,
         "std_train_score": 0,
         "_deepnote_index_column": 29
        },
        {
         "mean_fit_time": 0.05471343040466309,
         "std_fit_time": 0.029256606119293833,
         "mean_score_time": 0.006768507957458496,
         "std_score_time": 0.0032390986089415007,
         "param_base_estimator": "DecisionTreeClassifier(max_depth=1, random_state=27912)",
         "param_base_estimator__criterion": "entropy",
         "param_base_estimator__max_depth": "3",
         "param_learning_rate": "1.0",
         "param_n_estimators": "50",
         "params": "{'base_estimator': DecisionTreeClassifier(max_depth=1, random_state=27912), 'base_estimator__criter…",
         "mean_test_score": 0.9438181818181818,
         "std_test_score": 0.06654868347854277,
         "rank_test_score": 10,
         "mean_train_score": 1,
         "std_train_score": 0,
         "_deepnote_index_column": 34
        },
        {
         "mean_fit_time": 0.09965334892272949,
         "std_fit_time": 0.06098270900828236,
         "mean_score_time": 0.010233821868896485,
         "std_score_time": 0.005651045012470638,
         "param_base_estimator": "DecisionTreeClassifier(max_depth=1, random_state=27912)",
         "param_base_estimator__criterion": "entropy",
         "param_base_estimator__max_depth": "3",
         "param_learning_rate": "1.0",
         "param_n_estimators": "100",
         "params": "{'base_estimator': DecisionTreeClassifier(max_depth=1, random_state=27912), 'base_estimator__criter…",
         "mean_test_score": 0.9438181818181818,
         "std_test_score": 0.06654868347854277,
         "rank_test_score": 10,
         "mean_train_score": 1,
         "std_train_score": 0,
         "_deepnote_index_column": 35
        },
        {
         "mean_fit_time": 0.03379767894744873,
         "std_fit_time": 0.015079575822904496,
         "mean_score_time": 0.005916109085083008,
         "std_score_time": 0.0018834219327722643,
         "param_base_estimator": "DecisionTreeClassifier(max_depth=1, random_state=27912)",
         "param_base_estimator__criterion": "gini",
         "param_base_estimator__max_depth": "3",
         "param_learning_rate": "0.95",
         "param_n_estimators": "20",
         "params": "{'base_estimator': DecisionTreeClassifier(max_depth=1, random_state=27912), 'base_estimator__criter…",
         "mean_test_score": 0.9421818181818182,
         "std_test_score": 0.06858089269596311,
         "rank_test_score": 15,
         "mean_train_score": 1,
         "std_train_score": 0,
         "_deepnote_index_column": 12
        },
        {
         "mean_fit_time": 0.21662147521972655,
         "std_fit_time": 0.019523782021495597,
         "mean_score_time": 0.02309133529663086,
         "std_score_time": 0.0034650578553104302,
         "param_base_estimator": "DecisionTreeClassifier(max_depth=1, random_state=27912)",
         "param_base_estimator__criterion": "gini",
         "param_base_estimator__max_depth": "2",
         "param_learning_rate": "1.0",
         "param_n_estimators": "100",
         "params": "{'base_estimator': DecisionTreeClassifier(max_depth=1, random_state=27912), 'base_estimator__criter…",
         "mean_test_score": 0.9421818181818182,
         "std_test_score": 0.06858089269596311,
         "rank_test_score": 15,
         "mean_train_score": 1,
         "std_train_score": 0,
         "_deepnote_index_column": 11
        },
        {
         "mean_fit_time": 0.030567169189453125,
         "std_fit_time": 0.004512268463990635,
         "mean_score_time": 0.004361577033996582,
         "std_score_time": 0.0008528616012370868,
         "param_base_estimator": "DecisionTreeClassifier(max_depth=1, random_state=27912)",
         "param_base_estimator__criterion": "entropy",
         "param_base_estimator__max_depth": "2",
         "param_learning_rate": "0.95",
         "param_n_estimators": "20",
         "params": "{'base_estimator': DecisionTreeClassifier(max_depth=1, random_state=27912), 'base_estimator__criter…",
         "mean_test_score": 0.9421818181818182,
         "std_test_score": 0.06858089269596311,
         "rank_test_score": 15,
         "mean_train_score": 1,
         "std_train_score": 0,
         "_deepnote_index_column": 24
        },
        {
         "mean_fit_time": 0.1424815273284912,
         "std_fit_time": 0.015673786298214497,
         "mean_score_time": 0.014057421684265136,
         "std_score_time": 0.0026382404615980246,
         "param_base_estimator": "DecisionTreeClassifier(max_depth=1, random_state=27912)",
         "param_base_estimator__criterion": "gini",
         "param_base_estimator__max_depth": "1",
         "param_learning_rate": "1.0",
         "param_n_estimators": "100",
         "params": "{'base_estimator': DecisionTreeClassifier(max_depth=1, random_state=27912), 'base_estimator__criter…",
         "mean_test_score": 0.9420000000000001,
         "std_test_score": 0.06368543562498259,
         "rank_test_score": 18,
         "mean_train_score": 0.9574826427771557,
         "std_train_score": 0.024520531735460507,
         "_deepnote_index_column": 5
        },
        {
         "mean_fit_time": 0.13824743270874024,
         "std_fit_time": 0.012962920487087404,
         "mean_score_time": 0.014218387603759765,
         "std_score_time": 0.0029571192064368375,
         "param_base_estimator": "DecisionTreeClassifier(max_depth=1, random_state=27912)",
         "param_base_estimator__criterion": "entropy",
         "param_base_estimator__max_depth": "1",
         "param_learning_rate": "1.0",
         "param_n_estimators": "100",
         "params": "{'base_estimator': DecisionTreeClassifier(max_depth=1, random_state=27912), 'base_estimator__criter…",
         "mean_test_score": 0.9420000000000001,
         "std_test_score": 0.06368543562498259,
         "rank_test_score": 18,
         "mean_train_score": 0.9583292273236281,
         "std_train_score": 0.025585361242343205,
         "_deepnote_index_column": 23
        },
        {
         "mean_fit_time": 0.025209765434265136,
         "std_fit_time": 0.010539585314549278,
         "mean_score_time": 0.00413938045501709,
         "std_score_time": 0.0014012643879862453,
         "param_base_estimator": "DecisionTreeClassifier(max_depth=1, random_state=27912)",
         "param_base_estimator__criterion": "gini",
         "param_base_estimator__max_depth": "3",
         "param_learning_rate": "1.0",
         "param_n_estimators": "20",
         "params": "{'base_estimator': DecisionTreeClassifier(max_depth=1, random_state=27912), 'base_estimator__criter…",
         "mean_test_score": 0.9419999999999998,
         "std_test_score": 0.06868035916866765,
         "rank_test_score": 20,
         "mean_train_score": 1,
         "std_train_score": 0,
         "_deepnote_index_column": 15
        },
        {
         "mean_fit_time": 0.03187444686889648,
         "std_fit_time": 0.005863127869751285,
         "mean_score_time": 0.004705262184143066,
         "std_score_time": 0.0011774395100066402,
         "param_base_estimator": "DecisionTreeClassifier(max_depth=1, random_state=27912)",
         "param_base_estimator__criterion": "gini",
         "param_base_estimator__max_depth": "2",
         "param_learning_rate": "0.95",
         "param_n_estimators": "20",
         "params": "{'base_estimator': DecisionTreeClassifier(max_depth=1, random_state=27912), 'base_estimator__criter…",
         "mean_test_score": 0.9419999999999998,
         "std_test_score": 0.06623000243953261,
         "rank_test_score": 20,
         "mean_train_score": 1,
         "std_train_score": 0,
         "_deepnote_index_column": 6
        },
        {
         "mean_fit_time": 0.1460522222518921,
         "std_fit_time": 0.015478739853688148,
         "mean_score_time": 0.014740524291992187,
         "std_score_time": 0.0031143818511727437,
         "param_base_estimator": "DecisionTreeClassifier(max_depth=1, random_state=27912)",
         "param_base_estimator__criterion": "gini",
         "param_base_estimator__max_depth": "2",
         "param_learning_rate": "0.95",
         "param_n_estimators": "100",
         "params": "{'base_estimator': DecisionTreeClassifier(max_depth=1, random_state=27912), 'base_estimator__criter…",
         "mean_test_score": 0.9418181818181819,
         "std_test_score": 0.06633249580710798,
         "rank_test_score": 22,
         "mean_train_score": 1,
         "std_train_score": 0,
         "_deepnote_index_column": 8
        },
        {
         "mean_fit_time": 0.141331524848938,
         "std_fit_time": 0.012200421949845743,
         "mean_score_time": 0.014692873954772949,
         "std_score_time": 0.00338025421094109,
         "param_base_estimator": "DecisionTreeClassifier(max_depth=1, random_state=27912)",
         "param_base_estimator__criterion": "entropy",
         "param_base_estimator__max_depth": "2",
         "param_learning_rate": "0.95",
         "param_n_estimators": "100",
         "params": "{'base_estimator': DecisionTreeClassifier(max_depth=1, random_state=27912), 'base_estimator__criter…",
         "mean_test_score": 0.9418181818181819,
         "std_test_score": 0.06633249580710798,
         "rank_test_score": 22,
         "mean_train_score": 1,
         "std_train_score": 0,
         "_deepnote_index_column": 26
        },
        {
         "mean_fit_time": 0.04207842350006104,
         "std_fit_time": 0.011261459275320424,
         "mean_score_time": 0.0062805557250976566,
         "std_score_time": 0.0021754881120677996,
         "param_base_estimator": "DecisionTreeClassifier(max_depth=1, random_state=27912)",
         "param_base_estimator__criterion": "gini",
         "param_base_estimator__max_depth": "2",
         "param_learning_rate": "1.0",
         "param_n_estimators": "20",
         "params": "{'base_estimator': DecisionTreeClassifier(max_depth=1, random_state=27912), 'base_estimator__criter…",
         "mean_test_score": 0.9416363636363636,
         "std_test_score": 0.06389790410303244,
         "rank_test_score": 24,
         "mean_train_score": 1,
         "std_train_score": 0,
         "_deepnote_index_column": 9
        },
        {
         "mean_fit_time": 0.05224606037139892,
         "std_fit_time": 0.02884431871877712,
         "mean_score_time": 0.0062923717498779294,
         "std_score_time": 0.0028393472178766515,
         "param_base_estimator": "DecisionTreeClassifier(max_depth=1, random_state=27912)",
         "param_base_estimator__criterion": "gini",
         "param_base_estimator__max_depth": "3",
         "param_learning_rate": "1.0",
         "param_n_estimators": "50",
         "params": "{'base_estimator': DecisionTreeClassifier(max_depth=1, random_state=27912), 'base_estimator__criter…",
         "mean_test_score": 0.9401818181818181,
         "std_test_score": 0.06832324725671693,
         "rank_test_score": 25,
         "mean_train_score": 1,
         "std_train_score": 0,
         "_deepnote_index_column": 16
        },
        {
         "mean_fit_time": 0.11055452346801758,
         "std_fit_time": 0.013346300119176348,
         "mean_score_time": 0.013278999328613282,
         "std_score_time": 0.0036103611290010714,
         "param_base_estimator": "DecisionTreeClassifier(max_depth=1, random_state=27912)",
         "param_base_estimator__criterion": "gini",
         "param_base_estimator__max_depth": "2",
         "param_learning_rate": "1.0",
         "param_n_estimators": "50",
         "params": "{'base_estimator': DecisionTreeClassifier(max_depth=1, random_state=27912), 'base_estimator__criter…",
         "mean_test_score": 0.94,
         "std_test_score": 0.0684177735353701,
         "rank_test_score": 26,
         "mean_train_score": 1,
         "std_train_score": 0,
         "_deepnote_index_column": 10
        },
        {
         "mean_fit_time": 0.07326455593109131,
         "std_fit_time": 0.011603416666224605,
         "mean_score_time": 0.009159450531005859,
         "std_score_time": 0.0023018795361402027,
         "param_base_estimator": "DecisionTreeClassifier(max_depth=1, random_state=27912)",
         "param_base_estimator__criterion": "gini",
         "param_base_estimator__max_depth": "2",
         "param_learning_rate": "0.95",
         "param_n_estimators": "50",
         "params": "{'base_estimator': DecisionTreeClassifier(max_depth=1, random_state=27912), 'base_estimator__criter…",
         "mean_test_score": 0.9398181818181819,
         "std_test_score": 0.06605507344082456,
         "rank_test_score": 27,
         "mean_train_score": 1,
         "std_train_score": 0,
         "_deepnote_index_column": 7
        },
        {
         "mean_fit_time": 0.05875832080841065,
         "std_fit_time": 0.03682567521595478,
         "mean_score_time": 0.0075119113922119144,
         "std_score_time": 0.003918506573978669,
         "param_base_estimator": "DecisionTreeClassifier(max_depth=1, random_state=27912)",
         "param_base_estimator__criterion": "gini",
         "param_base_estimator__max_depth": "3",
         "param_learning_rate": "0.95",
         "param_n_estimators": "50",
         "params": "{'base_estimator': DecisionTreeClassifier(max_depth=1, random_state=27912), 'base_estimator__criter…",
         "mean_test_score": 0.9383636363636364,
         "std_test_score": 0.06791560148905283,
         "rank_test_score": 28,
         "mean_train_score": 1,
         "std_train_score": 0,
         "_deepnote_index_column": 13
        },
        {
         "mean_fit_time": 0.07058609008789063,
         "std_fit_time": 0.008095986924936474,
         "mean_score_time": 0.008783745765686034,
         "std_score_time": 0.0020496683037164727,
         "param_base_estimator": "DecisionTreeClassifier(max_depth=1, random_state=27912)",
         "param_base_estimator__criterion": "gini",
         "param_base_estimator__max_depth": "1",
         "param_learning_rate": "1.0",
         "param_n_estimators": "50",
         "params": "{'base_estimator': DecisionTreeClassifier(max_depth=1, random_state=27912), 'base_estimator__criter…",
         "mean_test_score": 0.9365454545454546,
         "std_test_score": 0.07444538738215645,
         "rank_test_score": 29,
         "mean_train_score": 0.9570503919372899,
         "std_train_score": 0.01323848394706509,
         "_deepnote_index_column": 4
        },
        {
         "mean_fit_time": 0.14248126983642578,
         "std_fit_time": 0.019282311890514714,
         "mean_score_time": 0.014554662704467774,
         "std_score_time": 0.0029020119074887464,
         "param_base_estimator": "DecisionTreeClassifier(max_depth=1, random_state=27912)",
         "param_base_estimator__criterion": "gini",
         "param_base_estimator__max_depth": "1",
         "param_learning_rate": "0.95",
         "param_n_estimators": "100",
         "params": "{'base_estimator': DecisionTreeClassifier(max_depth=1, random_state=27912), 'base_estimator__criter…",
         "mean_test_score": 0.9363636363636364,
         "std_test_score": 0.07274999644997292,
         "rank_test_score": 30,
         "mean_train_score": 0.9574624860022396,
         "std_train_score": 0.016180213767868278,
         "_deepnote_index_column": 2
        },
        {
         "mean_fit_time": 0.16351535320281982,
         "std_fit_time": 0.03758602472853928,
         "mean_score_time": 0.017510318756103517,
         "std_score_time": 0.006951171157063566,
         "param_base_estimator": "DecisionTreeClassifier(max_depth=1, random_state=27912)",
         "param_base_estimator__criterion": "entropy",
         "param_base_estimator__max_depth": "1",
         "param_learning_rate": "0.95",
         "param_n_estimators": "100",
         "params": "{'base_estimator': DecisionTreeClassifier(max_depth=1, random_state=27912), 'base_estimator__criter…",
         "mean_test_score": 0.9363636363636363,
         "std_test_score": 0.06994685113335034,
         "rank_test_score": 31,
         "mean_train_score": 0.9598051511758118,
         "std_train_score": 0.018676293893785917,
         "_deepnote_index_column": 20
        },
        {
         "mean_fit_time": 0.08106098175048829,
         "std_fit_time": 0.020356647512463487,
         "mean_score_time": 0.00989344596862793,
         "std_score_time": 0.003481863915590333,
         "param_base_estimator": "DecisionTreeClassifier(max_depth=1, random_state=27912)",
         "param_base_estimator__criterion": "entropy",
         "param_base_estimator__max_depth": "1",
         "param_learning_rate": "1.0",
         "param_n_estimators": "50",
         "params": "{'base_estimator': DecisionTreeClassifier(max_depth=1, random_state=27912), 'base_estimator__criter…",
         "mean_test_score": 0.9347272727272727,
         "std_test_score": 0.07618355389647767,
         "rank_test_score": 32,
         "mean_train_score": 0.9600201567749158,
         "std_train_score": 0.016791719710973756,
         "_deepnote_index_column": 22
        },
        {
         "mean_fit_time": 0.031244168281555174,
         "std_fit_time": 0.005417671367285675,
         "mean_score_time": 0.004953851699829101,
         "std_score_time": 0.00141122072790145,
         "param_base_estimator": "DecisionTreeClassifier(max_depth=1, random_state=27912)",
         "param_base_estimator__criterion": "entropy",
         "param_base_estimator__max_depth": "1",
         "param_learning_rate": "0.95",
         "param_n_estimators": "20",
         "params": "{'base_estimator': DecisionTreeClassifier(max_depth=1, random_state=27912), 'base_estimator__criter…",
         "mean_test_score": 0.9327272727272728,
         "std_test_score": 0.08043271403852605,
         "rank_test_score": 33,
         "mean_train_score": 0.9593908174692047,
         "std_train_score": 0.018790430135950685,
         "_deepnote_index_column": 18
        },
        {
         "mean_fit_time": 0.07044827938079834,
         "std_fit_time": 0.009225086745773164,
         "mean_score_time": 0.008351120948791504,
         "std_score_time": 0.001964279290584175,
         "param_base_estimator": "DecisionTreeClassifier(max_depth=1, random_state=27912)",
         "param_base_estimator__criterion": "entropy",
         "param_base_estimator__max_depth": "1",
         "param_learning_rate": "0.95",
         "param_n_estimators": "50",
         "params": "{'base_estimator': DecisionTreeClassifier(max_depth=1, random_state=27912), 'base_estimator__criter…",
         "mean_test_score": 0.9309090909090909,
         "std_test_score": 0.0799173126394033,
         "rank_test_score": 34,
         "mean_train_score": 0.9545173572228444,
         "std_train_score": 0.02027635748681987,
         "_deepnote_index_column": 19
        },
        {
         "mean_fit_time": 0.07109095573425293,
         "std_fit_time": 0.011364555453805186,
         "mean_score_time": 0.008414607048034668,
         "std_score_time": 0.0017496265931396771,
         "param_base_estimator": "DecisionTreeClassifier(max_depth=1, random_state=27912)",
         "param_base_estimator__criterion": "gini",
         "param_base_estimator__max_depth": "1",
         "param_learning_rate": "0.95",
         "param_n_estimators": "50",
         "params": "{'base_estimator': DecisionTreeClassifier(max_depth=1, random_state=27912), 'base_estimator__criter…",
         "mean_test_score": 0.9309090909090908,
         "std_test_score": 0.08195947396061559,
         "rank_test_score": 35,
         "mean_train_score": 0.9566181410974244,
         "std_train_score": 0.014375341966145457,
         "_deepnote_index_column": 1
        },
        {
         "mean_fit_time": 0.029576692581176758,
         "std_fit_time": 0.004186117486183638,
         "mean_score_time": 0.0046617650985717775,
         "std_score_time": 0.0009555340812760532,
         "param_base_estimator": "DecisionTreeClassifier(max_depth=1, random_state=27912)",
         "param_base_estimator__criterion": "gini",
         "param_base_estimator__max_depth": "1",
         "param_learning_rate": "0.95",
         "param_n_estimators": "20",
         "params": "{'base_estimator': DecisionTreeClassifier(max_depth=1, random_state=27912), 'base_estimator__criter…",
         "mean_test_score": 0.9307272727272727,
         "std_test_score": 0.07997706282749069,
         "rank_test_score": 36,
         "mean_train_score": 0.9576842105263158,
         "std_train_score": 0.015797995365451168,
         "_deepnote_index_column": 0
        }
       ],
       "rows_bottom": null
      },
      "text/plain": "    mean_fit_time  std_fit_time  mean_score_time  std_score_time  \\\n3        0.029373      0.004275         0.004693        0.001157   \n21       0.046521      0.007869         0.007020        0.001255   \n33       0.024756      0.009760         0.003794        0.001033   \n28       0.074303      0.010204         0.008239        0.001477   \n25       0.073487      0.009546         0.008425        0.001870   \n17       0.095229      0.059927         0.010213        0.005585   \n30       0.028336      0.010518         0.004379        0.001433   \n27       0.031365      0.005548         0.004793        0.001147   \n14       0.092390      0.063939         0.010214        0.006550   \n32       0.098855      0.061043         0.010666        0.006160   \n31       0.053424      0.027173         0.006422        0.002712   \n29       0.144281      0.015651         0.015109        0.003858   \n34       0.054713      0.029257         0.006769        0.003239   \n35       0.099653      0.060983         0.010234        0.005651   \n12       0.033798      0.015080         0.005916        0.001883   \n11       0.216621      0.019524         0.023091        0.003465   \n24       0.030567      0.004512         0.004362        0.000853   \n5        0.142482      0.015674         0.014057        0.002638   \n23       0.138247      0.012963         0.014218        0.002957   \n15       0.025210      0.010540         0.004139        0.001401   \n6        0.031874      0.005863         0.004705        0.001177   \n8        0.146052      0.015479         0.014741        0.003114   \n26       0.141332      0.012200         0.014693        0.003380   \n9        0.042078      0.011261         0.006281        0.002175   \n16       0.052246      0.028844         0.006292        0.002839   \n10       0.110555      0.013346         0.013279        0.003610   \n7        0.073265      0.011603         0.009159        0.002302   \n13       0.058758      0.036826         0.007512        0.003919   \n4        0.070586      0.008096         0.008784        0.002050   \n2        0.142481      0.019282         0.014555        0.002902   \n20       0.163515      0.037586         0.017510        0.006951   \n22       0.081061      0.020357         0.009893        0.003482   \n18       0.031244      0.005418         0.004954        0.001411   \n19       0.070448      0.009225         0.008351        0.001964   \n1        0.071091      0.011365         0.008415        0.001750   \n0        0.029577      0.004186         0.004662        0.000956   \n\n                                 param_base_estimator  \\\n3   DecisionTreeClassifier(max_depth=1, random_sta...   \n21  DecisionTreeClassifier(max_depth=1, random_sta...   \n33  DecisionTreeClassifier(max_depth=1, random_sta...   \n28  DecisionTreeClassifier(max_depth=1, random_sta...   \n25  DecisionTreeClassifier(max_depth=1, random_sta...   \n17  DecisionTreeClassifier(max_depth=1, random_sta...   \n30  DecisionTreeClassifier(max_depth=1, random_sta...   \n27  DecisionTreeClassifier(max_depth=1, random_sta...   \n14  DecisionTreeClassifier(max_depth=1, random_sta...   \n32  DecisionTreeClassifier(max_depth=1, random_sta...   \n31  DecisionTreeClassifier(max_depth=1, random_sta...   \n29  DecisionTreeClassifier(max_depth=1, random_sta...   \n34  DecisionTreeClassifier(max_depth=1, random_sta...   \n35  DecisionTreeClassifier(max_depth=1, random_sta...   \n12  DecisionTreeClassifier(max_depth=1, random_sta...   \n11  DecisionTreeClassifier(max_depth=1, random_sta...   \n24  DecisionTreeClassifier(max_depth=1, random_sta...   \n5   DecisionTreeClassifier(max_depth=1, random_sta...   \n23  DecisionTreeClassifier(max_depth=1, random_sta...   \n15  DecisionTreeClassifier(max_depth=1, random_sta...   \n6   DecisionTreeClassifier(max_depth=1, random_sta...   \n8   DecisionTreeClassifier(max_depth=1, random_sta...   \n26  DecisionTreeClassifier(max_depth=1, random_sta...   \n9   DecisionTreeClassifier(max_depth=1, random_sta...   \n16  DecisionTreeClassifier(max_depth=1, random_sta...   \n10  DecisionTreeClassifier(max_depth=1, random_sta...   \n7   DecisionTreeClassifier(max_depth=1, random_sta...   \n13  DecisionTreeClassifier(max_depth=1, random_sta...   \n4   DecisionTreeClassifier(max_depth=1, random_sta...   \n2   DecisionTreeClassifier(max_depth=1, random_sta...   \n20  DecisionTreeClassifier(max_depth=1, random_sta...   \n22  DecisionTreeClassifier(max_depth=1, random_sta...   \n18  DecisionTreeClassifier(max_depth=1, random_sta...   \n19  DecisionTreeClassifier(max_depth=1, random_sta...   \n1   DecisionTreeClassifier(max_depth=1, random_sta...   \n0   DecisionTreeClassifier(max_depth=1, random_sta...   \n\n   param_base_estimator__criterion param_base_estimator__max_depth  \\\n3                             gini                               1   \n21                         entropy                               1   \n33                         entropy                               3   \n28                         entropy                               2   \n25                         entropy                               2   \n17                            gini                               3   \n30                         entropy                               3   \n27                         entropy                               2   \n14                            gini                               3   \n32                         entropy                               3   \n31                         entropy                               3   \n29                         entropy                               2   \n34                         entropy                               3   \n35                         entropy                               3   \n12                            gini                               3   \n11                            gini                               2   \n24                         entropy                               2   \n5                             gini                               1   \n23                         entropy                               1   \n15                            gini                               3   \n6                             gini                               2   \n8                             gini                               2   \n26                         entropy                               2   \n9                             gini                               2   \n16                            gini                               3   \n10                            gini                               2   \n7                             gini                               2   \n13                            gini                               3   \n4                             gini                               1   \n2                             gini                               1   \n20                         entropy                               1   \n22                         entropy                               1   \n18                         entropy                               1   \n19                         entropy                               1   \n1                             gini                               1   \n0                             gini                               1   \n\n   param_learning_rate param_n_estimators  \\\n3                  1.0                 20   \n21                 1.0                 20   \n33                 1.0                 20   \n28                 1.0                 50   \n25                0.95                 50   \n17                 1.0                100   \n30                0.95                 20   \n27                 1.0                 20   \n14                0.95                100   \n32                0.95                100   \n31                0.95                 50   \n29                 1.0                100   \n34                 1.0                 50   \n35                 1.0                100   \n12                0.95                 20   \n11                 1.0                100   \n24                0.95                 20   \n5                  1.0                100   \n23                 1.0                100   \n15                 1.0                 20   \n6                 0.95                 20   \n8                 0.95                100   \n26                0.95                100   \n9                  1.0                 20   \n16                 1.0                 50   \n10                 1.0                 50   \n7                 0.95                 50   \n13                0.95                 50   \n4                  1.0                 50   \n2                 0.95                100   \n20                0.95                100   \n22                 1.0                 50   \n18                0.95                 20   \n19                0.95                 50   \n1                 0.95                 50   \n0                 0.95                 20   \n\n                                               params  mean_test_score  \\\n3   {'base_estimator': DecisionTreeClassifier(max_...         0.953636   \n21  {'base_estimator': DecisionTreeClassifier(max_...         0.947818   \n33  {'base_estimator': DecisionTreeClassifier(max_...         0.945818   \n28  {'base_estimator': DecisionTreeClassifier(max_...         0.945818   \n25  {'base_estimator': DecisionTreeClassifier(max_...         0.945818   \n17  {'base_estimator': DecisionTreeClassifier(max_...         0.944000   \n30  {'base_estimator': DecisionTreeClassifier(max_...         0.944000   \n27  {'base_estimator': DecisionTreeClassifier(max_...         0.944000   \n14  {'base_estimator': DecisionTreeClassifier(max_...         0.944000   \n32  {'base_estimator': DecisionTreeClassifier(max_...         0.943818   \n31  {'base_estimator': DecisionTreeClassifier(max_...         0.943818   \n29  {'base_estimator': DecisionTreeClassifier(max_...         0.943818   \n34  {'base_estimator': DecisionTreeClassifier(max_...         0.943818   \n35  {'base_estimator': DecisionTreeClassifier(max_...         0.943818   \n12  {'base_estimator': DecisionTreeClassifier(max_...         0.942182   \n11  {'base_estimator': DecisionTreeClassifier(max_...         0.942182   \n24  {'base_estimator': DecisionTreeClassifier(max_...         0.942182   \n5   {'base_estimator': DecisionTreeClassifier(max_...         0.942000   \n23  {'base_estimator': DecisionTreeClassifier(max_...         0.942000   \n15  {'base_estimator': DecisionTreeClassifier(max_...         0.942000   \n6   {'base_estimator': DecisionTreeClassifier(max_...         0.942000   \n8   {'base_estimator': DecisionTreeClassifier(max_...         0.941818   \n26  {'base_estimator': DecisionTreeClassifier(max_...         0.941818   \n9   {'base_estimator': DecisionTreeClassifier(max_...         0.941636   \n16  {'base_estimator': DecisionTreeClassifier(max_...         0.940182   \n10  {'base_estimator': DecisionTreeClassifier(max_...         0.940000   \n7   {'base_estimator': DecisionTreeClassifier(max_...         0.939818   \n13  {'base_estimator': DecisionTreeClassifier(max_...         0.938364   \n4   {'base_estimator': DecisionTreeClassifier(max_...         0.936545   \n2   {'base_estimator': DecisionTreeClassifier(max_...         0.936364   \n20  {'base_estimator': DecisionTreeClassifier(max_...         0.936364   \n22  {'base_estimator': DecisionTreeClassifier(max_...         0.934727   \n18  {'base_estimator': DecisionTreeClassifier(max_...         0.932727   \n19  {'base_estimator': DecisionTreeClassifier(max_...         0.930909   \n1   {'base_estimator': DecisionTreeClassifier(max_...         0.930909   \n0   {'base_estimator': DecisionTreeClassifier(max_...         0.930727   \n\n    std_test_score  rank_test_score  mean_train_score  std_train_score  \n3         0.064340                1          0.972058         0.024028  \n21        0.064278                2          0.971637         0.024821  \n33        0.066704                3          1.000000         0.000000  \n28        0.066704                3          1.000000         0.000000  \n25        0.066704                3          1.000000         0.000000  \n17        0.068884                6          1.000000         0.000000  \n30        0.066441                6          1.000000         0.000000  \n27        0.068884                6          1.000000         0.000000  \n14        0.066441                9          1.000000         0.000000  \n32        0.066549               10          1.000000         0.000000  \n31        0.066549               10          1.000000         0.000000  \n29        0.066549               10          1.000000         0.000000  \n34        0.066549               10          1.000000         0.000000  \n35        0.066549               10          1.000000         0.000000  \n12        0.068581               15          1.000000         0.000000  \n11        0.068581               15          1.000000         0.000000  \n24        0.068581               15          1.000000         0.000000  \n5         0.063685               18          0.957483         0.024521  \n23        0.063685               18          0.958329         0.025585  \n15        0.068680               20          1.000000         0.000000  \n6         0.066230               20          1.000000         0.000000  \n8         0.066332               22          1.000000         0.000000  \n26        0.066332               22          1.000000         0.000000  \n9         0.063898               24          1.000000         0.000000  \n16        0.068323               25          1.000000         0.000000  \n10        0.068418               26          1.000000         0.000000  \n7         0.066055               27          1.000000         0.000000  \n13        0.067916               28          1.000000         0.000000  \n4         0.074445               29          0.957050         0.013238  \n2         0.072750               30          0.957462         0.016180  \n20        0.069947               31          0.959805         0.018676  \n22        0.076184               32          0.960020         0.016792  \n18        0.080433               33          0.959391         0.018790  \n19        0.079917               34          0.954517         0.020276  \n1         0.081959               35          0.956618         0.014375  \n0         0.079977               36          0.957684         0.015798  ",
      "text/html": "<div>\n<style scoped>\n    .dataframe tbody tr th:only-of-type {\n        vertical-align: middle;\n    }\n\n    .dataframe tbody tr th {\n        vertical-align: top;\n    }\n\n    .dataframe thead th {\n        text-align: right;\n    }\n</style>\n<table border=\"1\" class=\"dataframe\">\n  <thead>\n    <tr style=\"text-align: right;\">\n      <th></th>\n      <th>mean_fit_time</th>\n      <th>std_fit_time</th>\n      <th>mean_score_time</th>\n      <th>std_score_time</th>\n      <th>param_base_estimator</th>\n      <th>param_base_estimator__criterion</th>\n      <th>param_base_estimator__max_depth</th>\n      <th>param_learning_rate</th>\n      <th>param_n_estimators</th>\n      <th>params</th>\n      <th>mean_test_score</th>\n      <th>std_test_score</th>\n      <th>rank_test_score</th>\n      <th>mean_train_score</th>\n      <th>std_train_score</th>\n    </tr>\n  </thead>\n  <tbody>\n    <tr>\n      <th>3</th>\n      <td>0.029373</td>\n      <td>0.004275</td>\n      <td>0.004693</td>\n      <td>0.001157</td>\n      <td>DecisionTreeClassifier(max_depth=1, random_sta...</td>\n      <td>gini</td>\n      <td>1</td>\n      <td>1.0</td>\n      <td>20</td>\n      <td>{'base_estimator': DecisionTreeClassifier(max_...</td>\n      <td>0.953636</td>\n      <td>0.064340</td>\n      <td>1</td>\n      <td>0.972058</td>\n      <td>0.024028</td>\n    </tr>\n    <tr>\n      <th>21</th>\n      <td>0.046521</td>\n      <td>0.007869</td>\n      <td>0.007020</td>\n      <td>0.001255</td>\n      <td>DecisionTreeClassifier(max_depth=1, random_sta...</td>\n      <td>entropy</td>\n      <td>1</td>\n      <td>1.0</td>\n      <td>20</td>\n      <td>{'base_estimator': DecisionTreeClassifier(max_...</td>\n      <td>0.947818</td>\n      <td>0.064278</td>\n      <td>2</td>\n      <td>0.971637</td>\n      <td>0.024821</td>\n    </tr>\n    <tr>\n      <th>33</th>\n      <td>0.024756</td>\n      <td>0.009760</td>\n      <td>0.003794</td>\n      <td>0.001033</td>\n      <td>DecisionTreeClassifier(max_depth=1, random_sta...</td>\n      <td>entropy</td>\n      <td>3</td>\n      <td>1.0</td>\n      <td>20</td>\n      <td>{'base_estimator': DecisionTreeClassifier(max_...</td>\n      <td>0.945818</td>\n      <td>0.066704</td>\n      <td>3</td>\n      <td>1.000000</td>\n      <td>0.000000</td>\n    </tr>\n    <tr>\n      <th>28</th>\n      <td>0.074303</td>\n      <td>0.010204</td>\n      <td>0.008239</td>\n      <td>0.001477</td>\n      <td>DecisionTreeClassifier(max_depth=1, random_sta...</td>\n      <td>entropy</td>\n      <td>2</td>\n      <td>1.0</td>\n      <td>50</td>\n      <td>{'base_estimator': DecisionTreeClassifier(max_...</td>\n      <td>0.945818</td>\n      <td>0.066704</td>\n      <td>3</td>\n      <td>1.000000</td>\n      <td>0.000000</td>\n    </tr>\n    <tr>\n      <th>25</th>\n      <td>0.073487</td>\n      <td>0.009546</td>\n      <td>0.008425</td>\n      <td>0.001870</td>\n      <td>DecisionTreeClassifier(max_depth=1, random_sta...</td>\n      <td>entropy</td>\n      <td>2</td>\n      <td>0.95</td>\n      <td>50</td>\n      <td>{'base_estimator': DecisionTreeClassifier(max_...</td>\n      <td>0.945818</td>\n      <td>0.066704</td>\n      <td>3</td>\n      <td>1.000000</td>\n      <td>0.000000</td>\n    </tr>\n    <tr>\n      <th>17</th>\n      <td>0.095229</td>\n      <td>0.059927</td>\n      <td>0.010213</td>\n      <td>0.005585</td>\n      <td>DecisionTreeClassifier(max_depth=1, random_sta...</td>\n      <td>gini</td>\n      <td>3</td>\n      <td>1.0</td>\n      <td>100</td>\n      <td>{'base_estimator': DecisionTreeClassifier(max_...</td>\n      <td>0.944000</td>\n      <td>0.068884</td>\n      <td>6</td>\n      <td>1.000000</td>\n      <td>0.000000</td>\n    </tr>\n    <tr>\n      <th>30</th>\n      <td>0.028336</td>\n      <td>0.010518</td>\n      <td>0.004379</td>\n      <td>0.001433</td>\n      <td>DecisionTreeClassifier(max_depth=1, random_sta...</td>\n      <td>entropy</td>\n      <td>3</td>\n      <td>0.95</td>\n      <td>20</td>\n      <td>{'base_estimator': DecisionTreeClassifier(max_...</td>\n      <td>0.944000</td>\n      <td>0.066441</td>\n      <td>6</td>\n      <td>1.000000</td>\n      <td>0.000000</td>\n    </tr>\n    <tr>\n      <th>27</th>\n      <td>0.031365</td>\n      <td>0.005548</td>\n      <td>0.004793</td>\n      <td>0.001147</td>\n      <td>DecisionTreeClassifier(max_depth=1, random_sta...</td>\n      <td>entropy</td>\n      <td>2</td>\n      <td>1.0</td>\n      <td>20</td>\n      <td>{'base_estimator': DecisionTreeClassifier(max_...</td>\n      <td>0.944000</td>\n      <td>0.068884</td>\n      <td>6</td>\n      <td>1.000000</td>\n      <td>0.000000</td>\n    </tr>\n    <tr>\n      <th>14</th>\n      <td>0.092390</td>\n      <td>0.063939</td>\n      <td>0.010214</td>\n      <td>0.006550</td>\n      <td>DecisionTreeClassifier(max_depth=1, random_sta...</td>\n      <td>gini</td>\n      <td>3</td>\n      <td>0.95</td>\n      <td>100</td>\n      <td>{'base_estimator': DecisionTreeClassifier(max_...</td>\n      <td>0.944000</td>\n      <td>0.066441</td>\n      <td>9</td>\n      <td>1.000000</td>\n      <td>0.000000</td>\n    </tr>\n    <tr>\n      <th>32</th>\n      <td>0.098855</td>\n      <td>0.061043</td>\n      <td>0.010666</td>\n      <td>0.006160</td>\n      <td>DecisionTreeClassifier(max_depth=1, random_sta...</td>\n      <td>entropy</td>\n      <td>3</td>\n      <td>0.95</td>\n      <td>100</td>\n      <td>{'base_estimator': DecisionTreeClassifier(max_...</td>\n      <td>0.943818</td>\n      <td>0.066549</td>\n      <td>10</td>\n      <td>1.000000</td>\n      <td>0.000000</td>\n    </tr>\n    <tr>\n      <th>31</th>\n      <td>0.053424</td>\n      <td>0.027173</td>\n      <td>0.006422</td>\n      <td>0.002712</td>\n      <td>DecisionTreeClassifier(max_depth=1, random_sta...</td>\n      <td>entropy</td>\n      <td>3</td>\n      <td>0.95</td>\n      <td>50</td>\n      <td>{'base_estimator': DecisionTreeClassifier(max_...</td>\n      <td>0.943818</td>\n      <td>0.066549</td>\n      <td>10</td>\n      <td>1.000000</td>\n      <td>0.000000</td>\n    </tr>\n    <tr>\n      <th>29</th>\n      <td>0.144281</td>\n      <td>0.015651</td>\n      <td>0.015109</td>\n      <td>0.003858</td>\n      <td>DecisionTreeClassifier(max_depth=1, random_sta...</td>\n      <td>entropy</td>\n      <td>2</td>\n      <td>1.0</td>\n      <td>100</td>\n      <td>{'base_estimator': DecisionTreeClassifier(max_...</td>\n      <td>0.943818</td>\n      <td>0.066549</td>\n      <td>10</td>\n      <td>1.000000</td>\n      <td>0.000000</td>\n    </tr>\n    <tr>\n      <th>34</th>\n      <td>0.054713</td>\n      <td>0.029257</td>\n      <td>0.006769</td>\n      <td>0.003239</td>\n      <td>DecisionTreeClassifier(max_depth=1, random_sta...</td>\n      <td>entropy</td>\n      <td>3</td>\n      <td>1.0</td>\n      <td>50</td>\n      <td>{'base_estimator': DecisionTreeClassifier(max_...</td>\n      <td>0.943818</td>\n      <td>0.066549</td>\n      <td>10</td>\n      <td>1.000000</td>\n      <td>0.000000</td>\n    </tr>\n    <tr>\n      <th>35</th>\n      <td>0.099653</td>\n      <td>0.060983</td>\n      <td>0.010234</td>\n      <td>0.005651</td>\n      <td>DecisionTreeClassifier(max_depth=1, random_sta...</td>\n      <td>entropy</td>\n      <td>3</td>\n      <td>1.0</td>\n      <td>100</td>\n      <td>{'base_estimator': DecisionTreeClassifier(max_...</td>\n      <td>0.943818</td>\n      <td>0.066549</td>\n      <td>10</td>\n      <td>1.000000</td>\n      <td>0.000000</td>\n    </tr>\n    <tr>\n      <th>12</th>\n      <td>0.033798</td>\n      <td>0.015080</td>\n      <td>0.005916</td>\n      <td>0.001883</td>\n      <td>DecisionTreeClassifier(max_depth=1, random_sta...</td>\n      <td>gini</td>\n      <td>3</td>\n      <td>0.95</td>\n      <td>20</td>\n      <td>{'base_estimator': DecisionTreeClassifier(max_...</td>\n      <td>0.942182</td>\n      <td>0.068581</td>\n      <td>15</td>\n      <td>1.000000</td>\n      <td>0.000000</td>\n    </tr>\n    <tr>\n      <th>11</th>\n      <td>0.216621</td>\n      <td>0.019524</td>\n      <td>0.023091</td>\n      <td>0.003465</td>\n      <td>DecisionTreeClassifier(max_depth=1, random_sta...</td>\n      <td>gini</td>\n      <td>2</td>\n      <td>1.0</td>\n      <td>100</td>\n      <td>{'base_estimator': DecisionTreeClassifier(max_...</td>\n      <td>0.942182</td>\n      <td>0.068581</td>\n      <td>15</td>\n      <td>1.000000</td>\n      <td>0.000000</td>\n    </tr>\n    <tr>\n      <th>24</th>\n      <td>0.030567</td>\n      <td>0.004512</td>\n      <td>0.004362</td>\n      <td>0.000853</td>\n      <td>DecisionTreeClassifier(max_depth=1, random_sta...</td>\n      <td>entropy</td>\n      <td>2</td>\n      <td>0.95</td>\n      <td>20</td>\n      <td>{'base_estimator': DecisionTreeClassifier(max_...</td>\n      <td>0.942182</td>\n      <td>0.068581</td>\n      <td>15</td>\n      <td>1.000000</td>\n      <td>0.000000</td>\n    </tr>\n    <tr>\n      <th>5</th>\n      <td>0.142482</td>\n      <td>0.015674</td>\n      <td>0.014057</td>\n      <td>0.002638</td>\n      <td>DecisionTreeClassifier(max_depth=1, random_sta...</td>\n      <td>gini</td>\n      <td>1</td>\n      <td>1.0</td>\n      <td>100</td>\n      <td>{'base_estimator': DecisionTreeClassifier(max_...</td>\n      <td>0.942000</td>\n      <td>0.063685</td>\n      <td>18</td>\n      <td>0.957483</td>\n      <td>0.024521</td>\n    </tr>\n    <tr>\n      <th>23</th>\n      <td>0.138247</td>\n      <td>0.012963</td>\n      <td>0.014218</td>\n      <td>0.002957</td>\n      <td>DecisionTreeClassifier(max_depth=1, random_sta...</td>\n      <td>entropy</td>\n      <td>1</td>\n      <td>1.0</td>\n      <td>100</td>\n      <td>{'base_estimator': DecisionTreeClassifier(max_...</td>\n      <td>0.942000</td>\n      <td>0.063685</td>\n      <td>18</td>\n      <td>0.958329</td>\n      <td>0.025585</td>\n    </tr>\n    <tr>\n      <th>15</th>\n      <td>0.025210</td>\n      <td>0.010540</td>\n      <td>0.004139</td>\n      <td>0.001401</td>\n      <td>DecisionTreeClassifier(max_depth=1, random_sta...</td>\n      <td>gini</td>\n      <td>3</td>\n      <td>1.0</td>\n      <td>20</td>\n      <td>{'base_estimator': DecisionTreeClassifier(max_...</td>\n      <td>0.942000</td>\n      <td>0.068680</td>\n      <td>20</td>\n      <td>1.000000</td>\n      <td>0.000000</td>\n    </tr>\n    <tr>\n      <th>6</th>\n      <td>0.031874</td>\n      <td>0.005863</td>\n      <td>0.004705</td>\n      <td>0.001177</td>\n      <td>DecisionTreeClassifier(max_depth=1, random_sta...</td>\n      <td>gini</td>\n      <td>2</td>\n      <td>0.95</td>\n      <td>20</td>\n      <td>{'base_estimator': DecisionTreeClassifier(max_...</td>\n      <td>0.942000</td>\n      <td>0.066230</td>\n      <td>20</td>\n      <td>1.000000</td>\n      <td>0.000000</td>\n    </tr>\n    <tr>\n      <th>8</th>\n      <td>0.146052</td>\n      <td>0.015479</td>\n      <td>0.014741</td>\n      <td>0.003114</td>\n      <td>DecisionTreeClassifier(max_depth=1, random_sta...</td>\n      <td>gini</td>\n      <td>2</td>\n      <td>0.95</td>\n      <td>100</td>\n      <td>{'base_estimator': DecisionTreeClassifier(max_...</td>\n      <td>0.941818</td>\n      <td>0.066332</td>\n      <td>22</td>\n      <td>1.000000</td>\n      <td>0.000000</td>\n    </tr>\n    <tr>\n      <th>26</th>\n      <td>0.141332</td>\n      <td>0.012200</td>\n      <td>0.014693</td>\n      <td>0.003380</td>\n      <td>DecisionTreeClassifier(max_depth=1, random_sta...</td>\n      <td>entropy</td>\n      <td>2</td>\n      <td>0.95</td>\n      <td>100</td>\n      <td>{'base_estimator': DecisionTreeClassifier(max_...</td>\n      <td>0.941818</td>\n      <td>0.066332</td>\n      <td>22</td>\n      <td>1.000000</td>\n      <td>0.000000</td>\n    </tr>\n    <tr>\n      <th>9</th>\n      <td>0.042078</td>\n      <td>0.011261</td>\n      <td>0.006281</td>\n      <td>0.002175</td>\n      <td>DecisionTreeClassifier(max_depth=1, random_sta...</td>\n      <td>gini</td>\n      <td>2</td>\n      <td>1.0</td>\n      <td>20</td>\n      <td>{'base_estimator': DecisionTreeClassifier(max_...</td>\n      <td>0.941636</td>\n      <td>0.063898</td>\n      <td>24</td>\n      <td>1.000000</td>\n      <td>0.000000</td>\n    </tr>\n    <tr>\n      <th>16</th>\n      <td>0.052246</td>\n      <td>0.028844</td>\n      <td>0.006292</td>\n      <td>0.002839</td>\n      <td>DecisionTreeClassifier(max_depth=1, random_sta...</td>\n      <td>gini</td>\n      <td>3</td>\n      <td>1.0</td>\n      <td>50</td>\n      <td>{'base_estimator': DecisionTreeClassifier(max_...</td>\n      <td>0.940182</td>\n      <td>0.068323</td>\n      <td>25</td>\n      <td>1.000000</td>\n      <td>0.000000</td>\n    </tr>\n    <tr>\n      <th>10</th>\n      <td>0.110555</td>\n      <td>0.013346</td>\n      <td>0.013279</td>\n      <td>0.003610</td>\n      <td>DecisionTreeClassifier(max_depth=1, random_sta...</td>\n      <td>gini</td>\n      <td>2</td>\n      <td>1.0</td>\n      <td>50</td>\n      <td>{'base_estimator': DecisionTreeClassifier(max_...</td>\n      <td>0.940000</td>\n      <td>0.068418</td>\n      <td>26</td>\n      <td>1.000000</td>\n      <td>0.000000</td>\n    </tr>\n    <tr>\n      <th>7</th>\n      <td>0.073265</td>\n      <td>0.011603</td>\n      <td>0.009159</td>\n      <td>0.002302</td>\n      <td>DecisionTreeClassifier(max_depth=1, random_sta...</td>\n      <td>gini</td>\n      <td>2</td>\n      <td>0.95</td>\n      <td>50</td>\n      <td>{'base_estimator': DecisionTreeClassifier(max_...</td>\n      <td>0.939818</td>\n      <td>0.066055</td>\n      <td>27</td>\n      <td>1.000000</td>\n      <td>0.000000</td>\n    </tr>\n    <tr>\n      <th>13</th>\n      <td>0.058758</td>\n      <td>0.036826</td>\n      <td>0.007512</td>\n      <td>0.003919</td>\n      <td>DecisionTreeClassifier(max_depth=1, random_sta...</td>\n      <td>gini</td>\n      <td>3</td>\n      <td>0.95</td>\n      <td>50</td>\n      <td>{'base_estimator': DecisionTreeClassifier(max_...</td>\n      <td>0.938364</td>\n      <td>0.067916</td>\n      <td>28</td>\n      <td>1.000000</td>\n      <td>0.000000</td>\n    </tr>\n    <tr>\n      <th>4</th>\n      <td>0.070586</td>\n      <td>0.008096</td>\n      <td>0.008784</td>\n      <td>0.002050</td>\n      <td>DecisionTreeClassifier(max_depth=1, random_sta...</td>\n      <td>gini</td>\n      <td>1</td>\n      <td>1.0</td>\n      <td>50</td>\n      <td>{'base_estimator': DecisionTreeClassifier(max_...</td>\n      <td>0.936545</td>\n      <td>0.074445</td>\n      <td>29</td>\n      <td>0.957050</td>\n      <td>0.013238</td>\n    </tr>\n    <tr>\n      <th>2</th>\n      <td>0.142481</td>\n      <td>0.019282</td>\n      <td>0.014555</td>\n      <td>0.002902</td>\n      <td>DecisionTreeClassifier(max_depth=1, random_sta...</td>\n      <td>gini</td>\n      <td>1</td>\n      <td>0.95</td>\n      <td>100</td>\n      <td>{'base_estimator': DecisionTreeClassifier(max_...</td>\n      <td>0.936364</td>\n      <td>0.072750</td>\n      <td>30</td>\n      <td>0.957462</td>\n      <td>0.016180</td>\n    </tr>\n    <tr>\n      <th>20</th>\n      <td>0.163515</td>\n      <td>0.037586</td>\n      <td>0.017510</td>\n      <td>0.006951</td>\n      <td>DecisionTreeClassifier(max_depth=1, random_sta...</td>\n      <td>entropy</td>\n      <td>1</td>\n      <td>0.95</td>\n      <td>100</td>\n      <td>{'base_estimator': DecisionTreeClassifier(max_...</td>\n      <td>0.936364</td>\n      <td>0.069947</td>\n      <td>31</td>\n      <td>0.959805</td>\n      <td>0.018676</td>\n    </tr>\n    <tr>\n      <th>22</th>\n      <td>0.081061</td>\n      <td>0.020357</td>\n      <td>0.009893</td>\n      <td>0.003482</td>\n      <td>DecisionTreeClassifier(max_depth=1, random_sta...</td>\n      <td>entropy</td>\n      <td>1</td>\n      <td>1.0</td>\n      <td>50</td>\n      <td>{'base_estimator': DecisionTreeClassifier(max_...</td>\n      <td>0.934727</td>\n      <td>0.076184</td>\n      <td>32</td>\n      <td>0.960020</td>\n      <td>0.016792</td>\n    </tr>\n    <tr>\n      <th>18</th>\n      <td>0.031244</td>\n      <td>0.005418</td>\n      <td>0.004954</td>\n      <td>0.001411</td>\n      <td>DecisionTreeClassifier(max_depth=1, random_sta...</td>\n      <td>entropy</td>\n      <td>1</td>\n      <td>0.95</td>\n      <td>20</td>\n      <td>{'base_estimator': DecisionTreeClassifier(max_...</td>\n      <td>0.932727</td>\n      <td>0.080433</td>\n      <td>33</td>\n      <td>0.959391</td>\n      <td>0.018790</td>\n    </tr>\n    <tr>\n      <th>19</th>\n      <td>0.070448</td>\n      <td>0.009225</td>\n      <td>0.008351</td>\n      <td>0.001964</td>\n      <td>DecisionTreeClassifier(max_depth=1, random_sta...</td>\n      <td>entropy</td>\n      <td>1</td>\n      <td>0.95</td>\n      <td>50</td>\n      <td>{'base_estimator': DecisionTreeClassifier(max_...</td>\n      <td>0.930909</td>\n      <td>0.079917</td>\n      <td>34</td>\n      <td>0.954517</td>\n      <td>0.020276</td>\n    </tr>\n    <tr>\n      <th>1</th>\n      <td>0.071091</td>\n      <td>0.011365</td>\n      <td>0.008415</td>\n      <td>0.001750</td>\n      <td>DecisionTreeClassifier(max_depth=1, random_sta...</td>\n      <td>gini</td>\n      <td>1</td>\n      <td>0.95</td>\n      <td>50</td>\n      <td>{'base_estimator': DecisionTreeClassifier(max_...</td>\n      <td>0.930909</td>\n      <td>0.081959</td>\n      <td>35</td>\n      <td>0.956618</td>\n      <td>0.014375</td>\n    </tr>\n    <tr>\n      <th>0</th>\n      <td>0.029577</td>\n      <td>0.004186</td>\n      <td>0.004662</td>\n      <td>0.000956</td>\n      <td>DecisionTreeClassifier(max_depth=1, random_sta...</td>\n      <td>gini</td>\n      <td>1</td>\n      <td>0.95</td>\n      <td>20</td>\n      <td>{'base_estimator': DecisionTreeClassifier(max_...</td>\n      <td>0.930727</td>\n      <td>0.079977</td>\n      <td>36</td>\n      <td>0.957684</td>\n      <td>0.015798</td>\n    </tr>\n  </tbody>\n</table>\n</div>"
     },
     "metadata": {},
     "output_type": "display_data"
    }
   ],
   "execution_count": 51
  },
  {
   "cell_type": "markdown",
   "source": "La mejor configuración de hiperparámetros es usar un tamaño máximo del árbol de decisión de 1 y como criterio el índice *Gini*, una tasa de aprendizaje de 1.0 y 20 estimadores en el ensemble.",
   "metadata": {
    "papermill": {
     "duration": 0.106917,
     "end_time": "2020-12-14T07:59:19.652223",
     "exception": false,
     "start_time": "2020-12-14T07:59:19.545306",
     "status": "completed"
    },
    "tags": [],
    "cell_id": "00066-a1ca8e64-e8c9-482e-b3ff-2ea5d6c6202e",
    "deepnote_cell_type": "markdown"
   }
  },
  {
   "cell_type": "markdown",
   "source": "En *Bootstrap Aggregating* únicamente vamos a optimizar el número de estimadores del ensemble y el criterio de partición de los árboles de decisión que vamos a usar como estimador base:",
   "metadata": {
    "papermill": {
     "duration": 0.101891,
     "end_time": "2020-12-14T07:59:19.842863",
     "exception": false,
     "start_time": "2020-12-14T07:59:19.740972",
     "status": "completed"
    },
    "tags": [],
    "cell_id": "00067-dcb2ff36-7aaa-4ec8-a600-275e5a651b1c",
    "deepnote_cell_type": "markdown"
   }
  },
  {
   "cell_type": "code",
   "metadata": {
    "tags": [],
    "cell_id": "00085-8209482e-be05-4097-9eeb-d1ea0806de64",
    "deepnote_to_be_reexecuted": false,
    "source_hash": "9a6773e6",
    "execution_start": 1635873815604,
    "execution_millis": 1253959,
    "deepnote_cell_type": "code"
   },
   "source": "base_estimator = DecisionTreeClassifier(random_state=random_state)",
   "outputs": [],
   "execution_count": 52
  },
  {
   "cell_type": "code",
   "metadata": {
    "tags": [],
    "cell_id": "00086-ed80d660-3af5-4e5f-b5ad-0c34150d264c",
    "deepnote_to_be_reexecuted": false,
    "source_hash": "4957dd35",
    "execution_start": 1635873815604,
    "execution_millis": 1253959,
    "deepnote_cell_type": "code"
   },
   "source": "base_estimator = [base_estimator]",
   "outputs": [],
   "execution_count": 53
  },
  {
   "cell_type": "code",
   "metadata": {
    "execution": {
     "iopub.execute_input": "2020-12-14T07:59:20.026622Z",
     "iopub.status.busy": "2020-12-14T07:59:20.024890Z",
     "iopub.status.idle": "2020-12-14T07:59:22.330851Z",
     "shell.execute_reply": "2020-12-14T07:59:22.330108Z"
    },
    "papermill": {
     "duration": 2.40839,
     "end_time": "2020-12-14T07:59:22.331011",
     "exception": false,
     "start_time": "2020-12-14T07:59:19.922621",
     "status": "completed"
    },
    "tags": [],
    "cell_id": "00068-1eacd2ab-35ca-4846-bf0a-4f86001b2ea6",
    "deepnote_to_be_reexecuted": false,
    "source_hash": "18a56131",
    "execution_start": 1635873815605,
    "execution_millis": 29423,
    "deepnote_cell_type": "code"
   },
   "source": "bagging_classifier = optimize_params(bagging_model, X_train, y_train, cv, base_estimator=base_estimator, n_estimators=n_estimators, base_estimator__criterion=criterion)",
   "outputs": [
    {
     "data": {
      "application/vnd.deepnote.dataframe.v2+json": {
       "row_count": 6,
       "column_count": 13,
       "columns": [
        {
         "name": "mean_fit_time",
         "dtype": "float64",
         "stats": {
          "unique_count": 6,
          "nan_count": 0,
          "min": "0.030230188369750978",
          "max": "0.14470661640167237",
          "histogram": [
           {
            "bin_start": 0.030230188369750978,
            "bin_end": 0.04167783117294312,
            "count": 2
           },
           {
            "bin_start": 0.04167783117294312,
            "bin_end": 0.05312547397613526,
            "count": 0
           },
           {
            "bin_start": 0.05312547397613526,
            "bin_end": 0.0645731167793274,
            "count": 0
           },
           {
            "bin_start": 0.0645731167793274,
            "bin_end": 0.07602075958251954,
            "count": 2
           },
           {
            "bin_start": 0.07602075958251954,
            "bin_end": 0.08746840238571169,
            "count": 0
           },
           {
            "bin_start": 0.08746840238571169,
            "bin_end": 0.09891604518890382,
            "count": 0
           },
           {
            "bin_start": 0.09891604518890382,
            "bin_end": 0.11036368799209595,
            "count": 0
           },
           {
            "bin_start": 0.11036368799209595,
            "bin_end": 0.12181133079528811,
            "count": 0
           },
           {
            "bin_start": 0.12181133079528811,
            "bin_end": 0.13325897359848024,
            "count": 0
           },
           {
            "bin_start": 0.13325897359848024,
            "bin_end": 0.14470661640167237,
            "count": 2
           }
          ]
         }
        },
        {
         "name": "std_fit_time",
         "dtype": "float64",
         "stats": {
          "unique_count": 6,
          "nan_count": 0,
          "min": "0.0034894375423102776",
          "max": "0.01640359654381092",
          "histogram": [
           {
            "bin_start": 0.0034894375423102776,
            "bin_end": 0.004780853442460342,
            "count": 1
           },
           {
            "bin_start": 0.004780853442460342,
            "bin_end": 0.006072269342610405,
            "count": 1
           },
           {
            "bin_start": 0.006072269342610405,
            "bin_end": 0.00736368524276047,
            "count": 0
           },
           {
            "bin_start": 0.00736368524276047,
            "bin_end": 0.008655101142910534,
            "count": 1
           },
           {
            "bin_start": 0.008655101142910534,
            "bin_end": 0.009946517043060599,
            "count": 0
           },
           {
            "bin_start": 0.009946517043060599,
            "bin_end": 0.011237932943210661,
            "count": 0
           },
           {
            "bin_start": 0.011237932943210661,
            "bin_end": 0.012529348843360726,
            "count": 1
           },
           {
            "bin_start": 0.012529348843360726,
            "bin_end": 0.01382076474351079,
            "count": 1
           },
           {
            "bin_start": 0.01382076474351079,
            "bin_end": 0.015112180643660855,
            "count": 0
           },
           {
            "bin_start": 0.015112180643660855,
            "bin_end": 0.01640359654381092,
            "count": 1
           }
          ]
         }
        },
        {
         "name": "mean_score_time",
         "dtype": "float64",
         "stats": {
          "unique_count": 6,
          "nan_count": 0,
          "min": "0.0037462472915649413",
          "max": "0.01106515884399414",
          "histogram": [
           {
            "bin_start": 0.0037462472915649413,
            "bin_end": 0.004478138446807861,
            "count": 2
           },
           {
            "bin_start": 0.004478138446807861,
            "bin_end": 0.005210029602050781,
            "count": 0
           },
           {
            "bin_start": 0.005210029602050781,
            "bin_end": 0.0059419207572937015,
            "count": 0
           },
           {
            "bin_start": 0.0059419207572937015,
            "bin_end": 0.006673811912536621,
            "count": 1
           },
           {
            "bin_start": 0.006673811912536621,
            "bin_end": 0.00740570306777954,
            "count": 1
           },
           {
            "bin_start": 0.00740570306777954,
            "bin_end": 0.008137594223022461,
            "count": 0
           },
           {
            "bin_start": 0.008137594223022461,
            "bin_end": 0.00886948537826538,
            "count": 0
           },
           {
            "bin_start": 0.00886948537826538,
            "bin_end": 0.0096013765335083,
            "count": 0
           },
           {
            "bin_start": 0.0096013765335083,
            "bin_end": 0.010333267688751221,
            "count": 0
           },
           {
            "bin_start": 0.010333267688751221,
            "bin_end": 0.01106515884399414,
            "count": 2
           }
          ]
         }
        },
        {
         "name": "std_score_time",
         "dtype": "float64",
         "stats": {
          "unique_count": 6,
          "nan_count": 0,
          "min": "0.0006777238490870382",
          "max": "0.0031003672081686136",
          "histogram": [
           {
            "bin_start": 0.0006777238490870382,
            "bin_end": 0.0009199881849951958,
            "count": 2
           },
           {
            "bin_start": 0.0009199881849951958,
            "bin_end": 0.0011622525209033533,
            "count": 1
           },
           {
            "bin_start": 0.0011622525209033533,
            "bin_end": 0.0014045168568115108,
            "count": 0
           },
           {
            "bin_start": 0.0014045168568115108,
            "bin_end": 0.0016467811927196683,
            "count": 0
           },
           {
            "bin_start": 0.0016467811927196683,
            "bin_end": 0.001889045528627826,
            "count": 1
           },
           {
            "bin_start": 0.001889045528627826,
            "bin_end": 0.0021313098645359832,
            "count": 0
           },
           {
            "bin_start": 0.0021313098645359832,
            "bin_end": 0.002373574200444141,
            "count": 0
           },
           {
            "bin_start": 0.002373574200444141,
            "bin_end": 0.0026158385363522986,
            "count": 1
           },
           {
            "bin_start": 0.0026158385363522986,
            "bin_end": 0.002858102872260456,
            "count": 0
           },
           {
            "bin_start": 0.002858102872260456,
            "bin_end": 0.0031003672081686136,
            "count": 1
           }
          ]
         }
        },
        {
         "name": "param_base_estimator",
         "dtype": "object",
         "stats": {
          "unique_count": 1,
          "nan_count": 0,
          "categories": [
           {
            "name": "DecisionTreeClassifier(random_state=27912)",
            "count": 6
           }
          ]
         }
        },
        {
         "name": "param_base_estimator__criterion",
         "dtype": "object",
         "stats": {
          "unique_count": 2,
          "nan_count": 0,
          "categories": [
           {
            "name": "gini",
            "count": 3
           },
           {
            "name": "entropy",
            "count": 3
           }
          ]
         }
        },
        {
         "name": "param_n_estimators",
         "dtype": "object",
         "stats": {
          "unique_count": 3,
          "nan_count": 0,
          "categories": [
           {
            "name": "50",
            "count": 2
           },
           {
            "name": "100",
            "count": 2
           },
           {
            "name": "20",
            "count": 2
           }
          ]
         }
        },
        {
         "name": "params",
         "dtype": "object",
         "stats": {
          "unique_count": 6,
          "nan_count": 0,
          "categories": [
           {
            "name": "{'base_estimator': DecisionTreeClassifier(random_state=27912), 'base_estimator__criterion': 'gini', 'n_estimators': 50}",
            "count": 1
           },
           {
            "name": "{'base_estimator': DecisionTreeClassifier(random_state=27912), 'base_estimator__criterion': 'gini', 'n_estimators': 100}",
            "count": 1
           },
           {
            "name": "4 others",
            "count": 4
           }
          ]
         }
        },
        {
         "name": "mean_test_score",
         "dtype": "float64",
         "stats": {
          "unique_count": 5,
          "nan_count": 0,
          "min": "0.9440000000000001",
          "max": "0.9514545454545452",
          "histogram": [
           {
            "bin_start": 0.9440000000000001,
            "bin_end": 0.9447454545454546,
            "count": 1
           },
           {
            "bin_start": 0.9447454545454546,
            "bin_end": 0.945490909090909,
            "count": 0
           },
           {
            "bin_start": 0.945490909090909,
            "bin_end": 0.9462363636363637,
            "count": 1
           },
           {
            "bin_start": 0.9462363636363637,
            "bin_end": 0.9469818181818181,
            "count": 0
           },
           {
            "bin_start": 0.9469818181818181,
            "bin_end": 0.9477272727272726,
            "count": 1
           },
           {
            "bin_start": 0.9477272727272726,
            "bin_end": 0.9484727272727271,
            "count": 0
           },
           {
            "bin_start": 0.9484727272727271,
            "bin_end": 0.9492181818181816,
            "count": 0
           },
           {
            "bin_start": 0.9492181818181816,
            "bin_end": 0.9499636363636362,
            "count": 2
           },
           {
            "bin_start": 0.9499636363636362,
            "bin_end": 0.9507090909090907,
            "count": 0
           },
           {
            "bin_start": 0.9507090909090907,
            "bin_end": 0.9514545454545452,
            "count": 1
           }
          ]
         }
        },
        {
         "name": "std_test_score",
         "dtype": "float64",
         "stats": {
          "unique_count": 6,
          "nan_count": 0,
          "min": "0.056368328250464075",
          "max": "0.06888390040885597",
          "histogram": [
           {
            "bin_start": 0.056368328250464075,
            "bin_end": 0.05761988546630326,
            "count": 1
           },
           {
            "bin_start": 0.05761988546630326,
            "bin_end": 0.05887144268214246,
            "count": 0
           },
           {
            "bin_start": 0.05887144268214246,
            "bin_end": 0.060122999897981644,
            "count": 3
           },
           {
            "bin_start": 0.060122999897981644,
            "bin_end": 0.06137455711382084,
            "count": 0
           },
           {
            "bin_start": 0.06137455711382084,
            "bin_end": 0.06262611432966003,
            "count": 0
           },
           {
            "bin_start": 0.06262611432966003,
            "bin_end": 0.06387767154549921,
            "count": 0
           },
           {
            "bin_start": 0.06387767154549921,
            "bin_end": 0.0651292287613384,
            "count": 0
           },
           {
            "bin_start": 0.0651292287613384,
            "bin_end": 0.0663807859771776,
            "count": 0
           },
           {
            "bin_start": 0.0663807859771776,
            "bin_end": 0.06763234319301678,
            "count": 1
           },
           {
            "bin_start": 0.06763234319301678,
            "bin_end": 0.06888390040885597,
            "count": 1
           }
          ]
         }
        },
        {
         "name": "rank_test_score",
         "dtype": "int32",
         "stats": {
          "unique_count": 5,
          "nan_count": 0,
          "min": "1",
          "max": "6",
          "histogram": [
           {
            "bin_start": 1,
            "bin_end": 1.5,
            "count": 1
           },
           {
            "bin_start": 1.5,
            "bin_end": 2,
            "count": 0
           },
           {
            "bin_start": 2,
            "bin_end": 2.5,
            "count": 2
           },
           {
            "bin_start": 2.5,
            "bin_end": 3,
            "count": 0
           },
           {
            "bin_start": 3,
            "bin_end": 3.5,
            "count": 0
           },
           {
            "bin_start": 3.5,
            "bin_end": 4,
            "count": 0
           },
           {
            "bin_start": 4,
            "bin_end": 4.5,
            "count": 1
           },
           {
            "bin_start": 4.5,
            "bin_end": 5,
            "count": 0
           },
           {
            "bin_start": 5,
            "bin_end": 5.5,
            "count": 1
           },
           {
            "bin_start": 5.5,
            "bin_end": 6,
            "count": 1
           }
          ]
         }
        },
        {
         "name": "mean_train_score",
         "dtype": "float64",
         "stats": {
          "unique_count": 4,
          "nan_count": 0,
          "min": "0.9972541993281075",
          "max": "1.0",
          "histogram": [
           {
            "bin_start": 0.9972541993281075,
            "bin_end": 0.9975287793952968,
            "count": 1
           },
           {
            "bin_start": 0.9975287793952968,
            "bin_end": 0.997803359462486,
            "count": 1
           },
           {
            "bin_start": 0.997803359462486,
            "bin_end": 0.9980779395296753,
            "count": 0
           },
           {
            "bin_start": 0.9980779395296753,
            "bin_end": 0.9983525195968646,
            "count": 0
           },
           {
            "bin_start": 0.9983525195968646,
            "bin_end": 0.9986270996640538,
            "count": 0
           },
           {
            "bin_start": 0.9986270996640538,
            "bin_end": 0.998901679731243,
            "count": 0
           },
           {
            "bin_start": 0.998901679731243,
            "bin_end": 0.9991762597984323,
            "count": 0
           },
           {
            "bin_start": 0.9991762597984323,
            "bin_end": 0.9994508398656216,
            "count": 0
           },
           {
            "bin_start": 0.9994508398656216,
            "bin_end": 0.9997254199328107,
            "count": 0
           },
           {
            "bin_start": 0.9997254199328107,
            "bin_end": 1,
            "count": 4
           }
          ]
         }
        },
        {
         "name": "std_train_score",
         "dtype": "float64",
         "stats": {
          "unique_count": 4,
          "nan_count": 0,
          "min": "0.0",
          "max": "0.0059034099239879834",
          "histogram": [
           {
            "bin_start": 0,
            "bin_end": 0.0005903409923987983,
            "count": 2
           },
           {
            "bin_start": 0.0005903409923987983,
            "bin_end": 0.0011806819847975966,
            "count": 0
           },
           {
            "bin_start": 0.0011806819847975966,
            "bin_end": 0.001771022977196395,
            "count": 2
           },
           {
            "bin_start": 0.001771022977196395,
            "bin_end": 0.002361363969595193,
            "count": 0
           },
           {
            "bin_start": 0.002361363969595193,
            "bin_end": 0.0029517049619939917,
            "count": 0
           },
           {
            "bin_start": 0.0029517049619939917,
            "bin_end": 0.00354204595439279,
            "count": 0
           },
           {
            "bin_start": 0.00354204595439279,
            "bin_end": 0.004132386946791588,
            "count": 0
           },
           {
            "bin_start": 0.004132386946791588,
            "bin_end": 0.004722727939190386,
            "count": 0
           },
           {
            "bin_start": 0.004722727939190386,
            "bin_end": 0.005313068931589185,
            "count": 0
           },
           {
            "bin_start": 0.005313068931589185,
            "bin_end": 0.0059034099239879834,
            "count": 2
           }
          ]
         }
        },
        {
         "name": "_deepnote_index_column",
         "dtype": "int64"
        }
       ],
       "rows_top": [
        {
         "mean_fit_time": 0.07448922634124756,
         "std_fit_time": 0.011783250332909194,
         "mean_score_time": 0.006719584465026855,
         "std_score_time": 0.0017978659514948257,
         "param_base_estimator": "DecisionTreeClassifier(random_state=27912)",
         "param_base_estimator__criterion": "gini",
         "param_n_estimators": "50",
         "params": "{'base_estimator': DecisionTreeClassifier(random_state=27912), 'base_estimator__criterion': 'gini',…",
         "mean_test_score": 0.9514545454545452,
         "std_test_score": 0.05921274153702544,
         "rank_test_score": 1,
         "mean_train_score": 0.9997872340425532,
         "std_train_score": 0.0014893617021276538,
         "_deepnote_index_column": 1
        },
        {
         "mean_fit_time": 0.14470661640167237,
         "std_fit_time": 0.01640359654381092,
         "mean_score_time": 0.01106515884399414,
         "std_score_time": 0.0026102134533068574,
         "param_base_estimator": "DecisionTreeClassifier(random_state=27912)",
         "param_base_estimator__criterion": "gini",
         "param_n_estimators": "100",
         "params": "{'base_estimator': DecisionTreeClassifier(random_state=27912), 'base_estimator__criterion': 'gini',…",
         "mean_test_score": 0.9494545454545453,
         "std_test_score": 0.056368328250464075,
         "rank_test_score": 2,
         "mean_train_score": 1,
         "std_train_score": 0,
         "_deepnote_index_column": 2
        },
        {
         "mean_fit_time": 0.14349702835083009,
         "std_fit_time": 0.013427293297986793,
         "mean_score_time": 0.010770478248596192,
         "std_score_time": 0.0031003672081686136,
         "param_base_estimator": "DecisionTreeClassifier(random_state=27912)",
         "param_base_estimator__criterion": "entropy",
         "param_n_estimators": "100",
         "params": "{'base_estimator': DecisionTreeClassifier(random_state=27912), 'base_estimator__criterion': 'entrop…",
         "mean_test_score": 0.9494545454545453,
         "std_test_score": 0.059228092508105984,
         "rank_test_score": 2,
         "mean_train_score": 1,
         "std_train_score": 0,
         "_deepnote_index_column": 5
        },
        {
         "mean_fit_time": 0.0722776985168457,
         "std_fit_time": 0.007713175049696679,
         "mean_score_time": 0.0061972618103027345,
         "std_score_time": 0.0010473276461145794,
         "param_base_estimator": "DecisionTreeClassifier(random_state=27912)",
         "param_base_estimator__criterion": "entropy",
         "param_n_estimators": "50",
         "params": "{'base_estimator': DecisionTreeClassifier(random_state=27912), 'base_estimator__criterion': 'entrop…",
         "mean_test_score": 0.9476363636363635,
         "std_test_score": 0.05904361743940303,
         "rank_test_score": 4,
         "mean_train_score": 0.9997872340425532,
         "std_train_score": 0.0014893617021276538,
         "_deepnote_index_column": 4
        },
        {
         "mean_fit_time": 0.03111661434173584,
         "std_fit_time": 0.005181782569726738,
         "mean_score_time": 0.0037574052810668947,
         "std_score_time": 0.0006777238490870382,
         "param_base_estimator": "DecisionTreeClassifier(random_state=27912)",
         "param_base_estimator__criterion": "gini",
         "param_n_estimators": "20",
         "params": "{'base_estimator': DecisionTreeClassifier(random_state=27912), 'base_estimator__criterion': 'gini',…",
         "mean_test_score": 0.946,
         "std_test_score": 0.06659139000757151,
         "rank_test_score": 5,
         "mean_train_score": 0.9976752519596865,
         "std_train_score": 0.005705530969635908,
         "_deepnote_index_column": 0
        },
        {
         "mean_fit_time": 0.030230188369750978,
         "std_fit_time": 0.0034894375423102776,
         "mean_score_time": 0.0037462472915649413,
         "std_score_time": 0.0006995899254825055,
         "param_base_estimator": "DecisionTreeClassifier(random_state=27912)",
         "param_base_estimator__criterion": "entropy",
         "param_n_estimators": "20",
         "params": "{'base_estimator': DecisionTreeClassifier(random_state=27912), 'base_estimator__criterion': 'entrop…",
         "mean_test_score": 0.9440000000000001,
         "std_test_score": 0.06888390040885597,
         "rank_test_score": 6,
         "mean_train_score": 0.9972541993281075,
         "std_train_score": 0.0059034099239879834,
         "_deepnote_index_column": 3
        }
       ],
       "rows_bottom": null
      },
      "text/plain": "   mean_fit_time  std_fit_time  mean_score_time  std_score_time  \\\n1       0.074489      0.011783         0.006720        0.001798   \n2       0.144707      0.016404         0.011065        0.002610   \n5       0.143497      0.013427         0.010770        0.003100   \n4       0.072278      0.007713         0.006197        0.001047   \n0       0.031117      0.005182         0.003757        0.000678   \n3       0.030230      0.003489         0.003746        0.000700   \n\n                         param_base_estimator param_base_estimator__criterion  \\\n1  DecisionTreeClassifier(random_state=27912)                            gini   \n2  DecisionTreeClassifier(random_state=27912)                            gini   \n5  DecisionTreeClassifier(random_state=27912)                         entropy   \n4  DecisionTreeClassifier(random_state=27912)                         entropy   \n0  DecisionTreeClassifier(random_state=27912)                            gini   \n3  DecisionTreeClassifier(random_state=27912)                         entropy   \n\n  param_n_estimators                                             params  \\\n1                 50  {'base_estimator': DecisionTreeClassifier(rand...   \n2                100  {'base_estimator': DecisionTreeClassifier(rand...   \n5                100  {'base_estimator': DecisionTreeClassifier(rand...   \n4                 50  {'base_estimator': DecisionTreeClassifier(rand...   \n0                 20  {'base_estimator': DecisionTreeClassifier(rand...   \n3                 20  {'base_estimator': DecisionTreeClassifier(rand...   \n\n   mean_test_score  std_test_score  rank_test_score  mean_train_score  \\\n1         0.951455        0.059213                1          0.999787   \n2         0.949455        0.056368                2          1.000000   \n5         0.949455        0.059228                2          1.000000   \n4         0.947636        0.059044                4          0.999787   \n0         0.946000        0.066591                5          0.997675   \n3         0.944000        0.068884                6          0.997254   \n\n   std_train_score  \n1         0.001489  \n2         0.000000  \n5         0.000000  \n4         0.001489  \n0         0.005706  \n3         0.005903  ",
      "text/html": "<div>\n<style scoped>\n    .dataframe tbody tr th:only-of-type {\n        vertical-align: middle;\n    }\n\n    .dataframe tbody tr th {\n        vertical-align: top;\n    }\n\n    .dataframe thead th {\n        text-align: right;\n    }\n</style>\n<table border=\"1\" class=\"dataframe\">\n  <thead>\n    <tr style=\"text-align: right;\">\n      <th></th>\n      <th>mean_fit_time</th>\n      <th>std_fit_time</th>\n      <th>mean_score_time</th>\n      <th>std_score_time</th>\n      <th>param_base_estimator</th>\n      <th>param_base_estimator__criterion</th>\n      <th>param_n_estimators</th>\n      <th>params</th>\n      <th>mean_test_score</th>\n      <th>std_test_score</th>\n      <th>rank_test_score</th>\n      <th>mean_train_score</th>\n      <th>std_train_score</th>\n    </tr>\n  </thead>\n  <tbody>\n    <tr>\n      <th>1</th>\n      <td>0.074489</td>\n      <td>0.011783</td>\n      <td>0.006720</td>\n      <td>0.001798</td>\n      <td>DecisionTreeClassifier(random_state=27912)</td>\n      <td>gini</td>\n      <td>50</td>\n      <td>{'base_estimator': DecisionTreeClassifier(rand...</td>\n      <td>0.951455</td>\n      <td>0.059213</td>\n      <td>1</td>\n      <td>0.999787</td>\n      <td>0.001489</td>\n    </tr>\n    <tr>\n      <th>2</th>\n      <td>0.144707</td>\n      <td>0.016404</td>\n      <td>0.011065</td>\n      <td>0.002610</td>\n      <td>DecisionTreeClassifier(random_state=27912)</td>\n      <td>gini</td>\n      <td>100</td>\n      <td>{'base_estimator': DecisionTreeClassifier(rand...</td>\n      <td>0.949455</td>\n      <td>0.056368</td>\n      <td>2</td>\n      <td>1.000000</td>\n      <td>0.000000</td>\n    </tr>\n    <tr>\n      <th>5</th>\n      <td>0.143497</td>\n      <td>0.013427</td>\n      <td>0.010770</td>\n      <td>0.003100</td>\n      <td>DecisionTreeClassifier(random_state=27912)</td>\n      <td>entropy</td>\n      <td>100</td>\n      <td>{'base_estimator': DecisionTreeClassifier(rand...</td>\n      <td>0.949455</td>\n      <td>0.059228</td>\n      <td>2</td>\n      <td>1.000000</td>\n      <td>0.000000</td>\n    </tr>\n    <tr>\n      <th>4</th>\n      <td>0.072278</td>\n      <td>0.007713</td>\n      <td>0.006197</td>\n      <td>0.001047</td>\n      <td>DecisionTreeClassifier(random_state=27912)</td>\n      <td>entropy</td>\n      <td>50</td>\n      <td>{'base_estimator': DecisionTreeClassifier(rand...</td>\n      <td>0.947636</td>\n      <td>0.059044</td>\n      <td>4</td>\n      <td>0.999787</td>\n      <td>0.001489</td>\n    </tr>\n    <tr>\n      <th>0</th>\n      <td>0.031117</td>\n      <td>0.005182</td>\n      <td>0.003757</td>\n      <td>0.000678</td>\n      <td>DecisionTreeClassifier(random_state=27912)</td>\n      <td>gini</td>\n      <td>20</td>\n      <td>{'base_estimator': DecisionTreeClassifier(rand...</td>\n      <td>0.946000</td>\n      <td>0.066591</td>\n      <td>5</td>\n      <td>0.997675</td>\n      <td>0.005706</td>\n    </tr>\n    <tr>\n      <th>3</th>\n      <td>0.030230</td>\n      <td>0.003489</td>\n      <td>0.003746</td>\n      <td>0.000700</td>\n      <td>DecisionTreeClassifier(random_state=27912)</td>\n      <td>entropy</td>\n      <td>20</td>\n      <td>{'base_estimator': DecisionTreeClassifier(rand...</td>\n      <td>0.944000</td>\n      <td>0.068884</td>\n      <td>6</td>\n      <td>0.997254</td>\n      <td>0.005903</td>\n    </tr>\n  </tbody>\n</table>\n</div>"
     },
     "metadata": {},
     "output_type": "display_data"
    }
   ],
   "execution_count": 54
  },
  {
   "cell_type": "markdown",
   "source": "Sin mucho misterio, la mejor configuración de hiperparámetros es usar el índice *Gini* como criterio de partición en los árboles de decisión y un total de 50 estimadores en el ensemble.",
   "metadata": {
    "papermill": {
     "duration": 0.112159,
     "end_time": "2020-12-14T07:59:22.534029",
     "exception": false,
     "start_time": "2020-12-14T07:59:22.421870",
     "status": "completed"
    },
    "tags": [],
    "cell_id": "00069-0c7a5eb4-91c1-48a3-b2d4-bd0c65e5ee79",
    "deepnote_cell_type": "markdown"
   }
  },
  {
   "cell_type": "markdown",
   "source": "En *Random Forests* vamos a optimizar los mismos hiperparámetros que para *Bootstrap Aggregating*, pero añadiendo el número máximo de características a considerar en cada nodo de los árboles de decisión:",
   "metadata": {
    "papermill": {
     "duration": 0.107379,
     "end_time": "2020-12-14T07:59:22.741686",
     "exception": false,
     "start_time": "2020-12-14T07:59:22.634307",
     "status": "completed"
    },
    "tags": [],
    "cell_id": "00070-90a176f1-8af9-4920-8b36-952bf3115bc4",
    "deepnote_cell_type": "markdown"
   }
  },
  {
   "cell_type": "code",
   "metadata": {
    "tags": [],
    "cell_id": "00092-eb6aaf42-0651-4be6-bf1c-ad7677eae889",
    "deepnote_to_be_reexecuted": false,
    "source_hash": "b7d4f016",
    "execution_start": 1635873845043,
    "execution_millis": 1254178,
    "deepnote_cell_type": "code"
   },
   "source": "max_features = [\"sqrt\", \"log2\"]",
   "outputs": [],
   "execution_count": 55
  },
  {
   "cell_type": "code",
   "metadata": {
    "execution": {
     "iopub.execute_input": "2020-12-14T07:59:22.971841Z",
     "iopub.status.busy": "2020-12-14T07:59:22.968934Z",
     "iopub.status.idle": "2020-12-14T07:59:43.449727Z",
     "shell.execute_reply": "2020-12-14T07:59:43.450453Z"
    },
    "papermill": {
     "duration": 20.599947,
     "end_time": "2020-12-14T07:59:43.450651",
     "exception": false,
     "start_time": "2020-12-14T07:59:22.850704",
     "status": "completed"
    },
    "tags": [],
    "cell_id": "00071-4b647adc-414a-41a9-baf8-c014d101c03e",
    "deepnote_to_be_reexecuted": false,
    "source_hash": "28972fb4",
    "execution_start": 1635873845044,
    "execution_millis": 53556,
    "deepnote_cell_type": "code"
   },
   "source": "random_forest_classifier = optimize_params(random_forest_model, X_train, y_train, cv, n_estimators=n_estimators, criterion=criterion, max_features=max_features)",
   "outputs": [
    {
     "data": {
      "application/vnd.deepnote.dataframe.v2+json": {
       "row_count": 12,
       "column_count": 13,
       "columns": [
        {
         "name": "mean_fit_time",
         "dtype": "float64",
         "stats": {
          "unique_count": 12,
          "nan_count": 0,
          "min": "0.025437641143798827",
          "max": "0.1389246654510498",
          "histogram": [
           {
            "bin_start": 0.025437641143798827,
            "bin_end": 0.03678634357452393,
            "count": 4
           },
           {
            "bin_start": 0.03678634357452393,
            "bin_end": 0.048135046005249024,
            "count": 0
           },
           {
            "bin_start": 0.048135046005249024,
            "bin_end": 0.05948374843597412,
            "count": 0
           },
           {
            "bin_start": 0.05948374843597412,
            "bin_end": 0.07083245086669922,
            "count": 3
           },
           {
            "bin_start": 0.07083245086669922,
            "bin_end": 0.08218115329742431,
            "count": 1
           },
           {
            "bin_start": 0.08218115329742431,
            "bin_end": 0.09352985572814942,
            "count": 0
           },
           {
            "bin_start": 0.09352985572814942,
            "bin_end": 0.10487855815887452,
            "count": 0
           },
           {
            "bin_start": 0.10487855815887452,
            "bin_end": 0.11622726058959962,
            "count": 0
           },
           {
            "bin_start": 0.11622726058959962,
            "bin_end": 0.1275759630203247,
            "count": 3
           },
           {
            "bin_start": 0.1275759630203247,
            "bin_end": 0.1389246654510498,
            "count": 1
           }
          ]
         }
        },
        {
         "name": "std_fit_time",
         "dtype": "float64",
         "stats": {
          "unique_count": 12,
          "nan_count": 0,
          "min": "0.0030716920691756283",
          "max": "0.039612855967844515",
          "histogram": [
           {
            "bin_start": 0.0030716920691756283,
            "bin_end": 0.006725808459042517,
            "count": 5
           },
           {
            "bin_start": 0.006725808459042517,
            "bin_end": 0.010379924848909405,
            "count": 2
           },
           {
            "bin_start": 0.010379924848909405,
            "bin_end": 0.014034041238776294,
            "count": 1
           },
           {
            "bin_start": 0.014034041238776294,
            "bin_end": 0.017688157628643182,
            "count": 2
           },
           {
            "bin_start": 0.017688157628643182,
            "bin_end": 0.02134227401851007,
            "count": 0
           },
           {
            "bin_start": 0.02134227401851007,
            "bin_end": 0.02499639040837696,
            "count": 1
           },
           {
            "bin_start": 0.02499639040837696,
            "bin_end": 0.02865050679824385,
            "count": 0
           },
           {
            "bin_start": 0.02865050679824385,
            "bin_end": 0.03230462318811074,
            "count": 0
           },
           {
            "bin_start": 0.03230462318811074,
            "bin_end": 0.03595873957797763,
            "count": 0
           },
           {
            "bin_start": 0.03595873957797763,
            "bin_end": 0.039612855967844515,
            "count": 1
           }
          ]
         }
        },
        {
         "name": "mean_score_time",
         "dtype": "float64",
         "stats": {
          "unique_count": 12,
          "nan_count": 0,
          "min": "0.0037413501739501955",
          "max": "0.013410563468933106",
          "histogram": [
           {
            "bin_start": 0.0037413501739501955,
            "bin_end": 0.004708271503448487,
            "count": 4
           },
           {
            "bin_start": 0.004708271503448487,
            "bin_end": 0.0056751928329467774,
            "count": 0
           },
           {
            "bin_start": 0.0056751928329467774,
            "bin_end": 0.006642114162445069,
            "count": 1
           },
           {
            "bin_start": 0.006642114162445069,
            "bin_end": 0.007609035491943359,
            "count": 2
           },
           {
            "bin_start": 0.007609035491943359,
            "bin_end": 0.00857595682144165,
            "count": 1
           },
           {
            "bin_start": 0.00857595682144165,
            "bin_end": 0.009542878150939942,
            "count": 0
           },
           {
            "bin_start": 0.009542878150939942,
            "bin_end": 0.010509799480438233,
            "count": 0
           },
           {
            "bin_start": 0.010509799480438233,
            "bin_end": 0.011476720809936523,
            "count": 3
           },
           {
            "bin_start": 0.011476720809936523,
            "bin_end": 0.012443642139434816,
            "count": 0
           },
           {
            "bin_start": 0.012443642139434816,
            "bin_end": 0.013410563468933106,
            "count": 1
           }
          ]
         }
        },
        {
         "name": "std_score_time",
         "dtype": "float64",
         "stats": {
          "unique_count": 12,
          "nan_count": 0,
          "min": "0.0005168378056040831",
          "max": "0.004572748801309115",
          "histogram": [
           {
            "bin_start": 0.0005168378056040831,
            "bin_end": 0.0009224289051745863,
            "count": 4
           },
           {
            "bin_start": 0.0009224289051745863,
            "bin_end": 0.0013280200047450894,
            "count": 2
           },
           {
            "bin_start": 0.0013280200047450894,
            "bin_end": 0.0017336111043155925,
            "count": 0
           },
           {
            "bin_start": 0.0017336111043155925,
            "bin_end": 0.0021392022038860957,
            "count": 3
           },
           {
            "bin_start": 0.0021392022038860957,
            "bin_end": 0.002544793303456599,
            "count": 2
           },
           {
            "bin_start": 0.002544793303456599,
            "bin_end": 0.002950384403027102,
            "count": 0
           },
           {
            "bin_start": 0.002950384403027102,
            "bin_end": 0.0033559755025976052,
            "count": 0
           },
           {
            "bin_start": 0.0033559755025976052,
            "bin_end": 0.0037615666021681084,
            "count": 0
           },
           {
            "bin_start": 0.0037615666021681084,
            "bin_end": 0.004167157701738612,
            "count": 0
           },
           {
            "bin_start": 0.004167157701738612,
            "bin_end": 0.004572748801309115,
            "count": 1
           }
          ]
         }
        },
        {
         "name": "param_criterion",
         "dtype": "object",
         "stats": {
          "unique_count": 2,
          "nan_count": 0,
          "categories": [
           {
            "name": "gini",
            "count": 6
           },
           {
            "name": "entropy",
            "count": 6
           }
          ]
         }
        },
        {
         "name": "param_max_features",
         "dtype": "object",
         "stats": {
          "unique_count": 2,
          "nan_count": 0,
          "categories": [
           {
            "name": "sqrt",
            "count": 6
           },
           {
            "name": "log2",
            "count": 6
           }
          ]
         }
        },
        {
         "name": "param_n_estimators",
         "dtype": "object",
         "stats": {
          "unique_count": 3,
          "nan_count": 0,
          "categories": [
           {
            "name": "50",
            "count": 4
           },
           {
            "name": "100",
            "count": 4
           },
           {
            "name": "20",
            "count": 4
           }
          ]
         }
        },
        {
         "name": "params",
         "dtype": "object",
         "stats": {
          "unique_count": 12,
          "nan_count": 0,
          "categories": [
           {
            "name": "{'criterion': 'gini', 'max_features': 'sqrt', 'n_estimators': 50}",
            "count": 1
           },
           {
            "name": "{'criterion': 'gini', 'max_features': 'log2', 'n_estimators': 50}",
            "count": 1
           },
           {
            "name": "10 others",
            "count": 10
           }
          ]
         }
        },
        {
         "name": "mean_test_score",
         "dtype": "float64",
         "stats": {
          "unique_count": 5,
          "nan_count": 0,
          "min": "0.9476363636363635",
          "max": "0.953090909090909",
          "histogram": [
           {
            "bin_start": 0.9476363636363635,
            "bin_end": 0.948181818181818,
            "count": 2
           },
           {
            "bin_start": 0.948181818181818,
            "bin_end": 0.9487272727272726,
            "count": 0
           },
           {
            "bin_start": 0.9487272727272726,
            "bin_end": 0.9492727272727272,
            "count": 0
           },
           {
            "bin_start": 0.9492727272727272,
            "bin_end": 0.9498181818181817,
            "count": 4
           },
           {
            "bin_start": 0.9498181818181817,
            "bin_end": 0.9503636363636363,
            "count": 0
           },
           {
            "bin_start": 0.9503636363636363,
            "bin_end": 0.9509090909090908,
            "count": 0
           },
           {
            "bin_start": 0.9509090909090908,
            "bin_end": 0.9514545454545453,
            "count": 4
           },
           {
            "bin_start": 0.9514545454545453,
            "bin_end": 0.9519999999999998,
            "count": 0
           },
           {
            "bin_start": 0.9519999999999998,
            "bin_end": 0.9525454545454545,
            "count": 0
           },
           {
            "bin_start": 0.9525454545454545,
            "bin_end": 0.953090909090909,
            "count": 2
           }
          ]
         }
        },
        {
         "name": "std_test_score",
         "dtype": "float64",
         "stats": {
          "unique_count": 5,
          "nan_count": 0,
          "min": "0.05650305338052373",
          "max": "0.06439957907567383",
          "histogram": [
           {
            "bin_start": 0.05650305338052373,
            "bin_end": 0.05729270595003874,
            "count": 6
           },
           {
            "bin_start": 0.05729270595003874,
            "bin_end": 0.05808235851955375,
            "count": 0
           },
           {
            "bin_start": 0.05808235851955375,
            "bin_end": 0.058872011089068754,
            "count": 0
           },
           {
            "bin_start": 0.058872011089068754,
            "bin_end": 0.05966166365858377,
            "count": 2
           },
           {
            "bin_start": 0.05966166365858377,
            "bin_end": 0.06045131622809878,
            "count": 0
           },
           {
            "bin_start": 0.06045131622809878,
            "bin_end": 0.06124096879761379,
            "count": 0
           },
           {
            "bin_start": 0.06124096879761379,
            "bin_end": 0.062030621367128794,
            "count": 2
           },
           {
            "bin_start": 0.062030621367128794,
            "bin_end": 0.0628202739366438,
            "count": 0
           },
           {
            "bin_start": 0.0628202739366438,
            "bin_end": 0.06360992650615882,
            "count": 0
           },
           {
            "bin_start": 0.06360992650615882,
            "bin_end": 0.06439957907567383,
            "count": 2
           }
          ]
         }
        },
        {
         "name": "rank_test_score",
         "dtype": "int32",
         "stats": {
          "unique_count": 5,
          "nan_count": 0,
          "min": "1",
          "max": "11",
          "histogram": [
           {
            "bin_start": 1,
            "bin_end": 2,
            "count": 2
           },
           {
            "bin_start": 2,
            "bin_end": 3,
            "count": 0
           },
           {
            "bin_start": 3,
            "bin_end": 4,
            "count": 4
           },
           {
            "bin_start": 4,
            "bin_end": 5,
            "count": 0
           },
           {
            "bin_start": 5,
            "bin_end": 6,
            "count": 0
           },
           {
            "bin_start": 6,
            "bin_end": 7,
            "count": 0
           },
           {
            "bin_start": 7,
            "bin_end": 8,
            "count": 2
           },
           {
            "bin_start": 8,
            "bin_end": 9,
            "count": 0
           },
           {
            "bin_start": 9,
            "bin_end": 10,
            "count": 2
           },
           {
            "bin_start": 10,
            "bin_end": 11,
            "count": 2
           }
          ]
         }
        },
        {
         "name": "mean_train_score",
         "dtype": "float64",
         "stats": {
          "unique_count": 3,
          "nan_count": 0,
          "min": "0.9987301231802911",
          "max": "1.0",
          "histogram": [
           {
            "bin_start": 0.9987301231802911,
            "bin_end": 0.9988571108622619,
            "count": 4
           },
           {
            "bin_start": 0.9988571108622619,
            "bin_end": 0.9989840985442329,
            "count": 0
           },
           {
            "bin_start": 0.9989840985442329,
            "bin_end": 0.9991110862262038,
            "count": 0
           },
           {
            "bin_start": 0.9991110862262038,
            "bin_end": 0.9992380739081747,
            "count": 0
           },
           {
            "bin_start": 0.9992380739081747,
            "bin_end": 0.9993650615901455,
            "count": 0
           },
           {
            "bin_start": 0.9993650615901455,
            "bin_end": 0.9994920492721164,
            "count": 0
           },
           {
            "bin_start": 0.9994920492721164,
            "bin_end": 0.9996190369540874,
            "count": 0
           },
           {
            "bin_start": 0.9996190369540874,
            "bin_end": 0.9997460246360582,
            "count": 0
           },
           {
            "bin_start": 0.9997460246360582,
            "bin_end": 0.999873012318029,
            "count": 0
           },
           {
            "bin_start": 0.999873012318029,
            "bin_end": 1,
            "count": 8
           }
          ]
         }
        },
        {
         "name": "std_train_score",
         "dtype": "float64",
         "stats": {
          "unique_count": 3,
          "nan_count": 0,
          "min": "0.0",
          "max": "0.0034388973822997515",
          "histogram": [
           {
            "bin_start": 0,
            "bin_end": 0.00034388973822997514,
            "count": 8
           },
           {
            "bin_start": 0.00034388973822997514,
            "bin_end": 0.0006877794764599503,
            "count": 0
           },
           {
            "bin_start": 0.0006877794764599503,
            "bin_end": 0.0010316692146899254,
            "count": 0
           },
           {
            "bin_start": 0.0010316692146899254,
            "bin_end": 0.0013755589529199006,
            "count": 0
           },
           {
            "bin_start": 0.0013755589529199006,
            "bin_end": 0.0017194486911498758,
            "count": 0
           },
           {
            "bin_start": 0.0017194486911498758,
            "bin_end": 0.0020633384293798507,
            "count": 0
           },
           {
            "bin_start": 0.0020633384293798507,
            "bin_end": 0.002407228167609826,
            "count": 0
           },
           {
            "bin_start": 0.002407228167609826,
            "bin_end": 0.002751117905839801,
            "count": 0
           },
           {
            "bin_start": 0.002751117905839801,
            "bin_end": 0.003095007644069776,
            "count": 0
           },
           {
            "bin_start": 0.003095007644069776,
            "bin_end": 0.0034388973822997515,
            "count": 4
           }
          ]
         }
        },
        {
         "name": "_deepnote_index_column",
         "dtype": "int64"
        }
       ],
       "rows_top": [
        {
         "mean_fit_time": 0.0801238775253296,
         "std_fit_time": 0.02331336520313634,
         "mean_score_time": 0.0083111572265625,
         "std_score_time": 0.0024829018041314403,
         "param_criterion": "gini",
         "param_max_features": "sqrt",
         "param_n_estimators": "50",
         "params": "{'criterion': 'gini', 'max_features': 'sqrt', 'n_estimators': 50}",
         "mean_test_score": 0.953090909090909,
         "std_test_score": 0.056579060460957,
         "rank_test_score": 1,
         "mean_train_score": 1,
         "std_train_score": 0,
         "_deepnote_index_column": 1
        },
        {
         "mean_fit_time": 0.05954161167144775,
         "std_fit_time": 0.005646272107132457,
         "mean_score_time": 0.006519193649291992,
         "std_score_time": 0.001222551340154948,
         "param_criterion": "gini",
         "param_max_features": "log2",
         "param_n_estimators": "50",
         "params": "{'criterion': 'gini', 'max_features': 'log2', 'n_estimators': 50}",
         "mean_test_score": 0.953090909090909,
         "std_test_score": 0.056579060460957,
         "rank_test_score": 1,
         "mean_train_score": 1,
         "std_train_score": 0,
         "_deepnote_index_column": 4
        },
        {
         "mean_fit_time": 0.1389246654510498,
         "std_fit_time": 0.039612855967844515,
         "mean_score_time": 0.013410563468933106,
         "std_score_time": 0.004572748801309115,
         "param_criterion": "gini",
         "param_max_features": "sqrt",
         "param_n_estimators": "100",
         "params": "{'criterion': 'gini', 'max_features': 'sqrt', 'n_estimators': 100}",
         "mean_test_score": 0.9512727272727273,
         "std_test_score": 0.05650305338052373,
         "rank_test_score": 3,
         "mean_train_score": 1,
         "std_train_score": 0,
         "_deepnote_index_column": 2
        },
        {
         "mean_fit_time": 0.12162881851196289,
         "std_fit_time": 0.015706657273808954,
         "mean_score_time": 0.010635013580322266,
         "std_score_time": 0.0017724345683034167,
         "param_criterion": "gini",
         "param_max_features": "log2",
         "param_n_estimators": "100",
         "params": "{'criterion': 'gini', 'max_features': 'log2', 'n_estimators': 100}",
         "mean_test_score": 0.9512727272727273,
         "std_test_score": 0.05650305338052373,
         "rank_test_score": 3,
         "mean_train_score": 1,
         "std_train_score": 0,
         "_deepnote_index_column": 5
        },
        {
         "mean_fit_time": 0.12577489376068116,
         "std_fit_time": 0.01744564978984979,
         "mean_score_time": 0.011162853240966797,
         "std_score_time": 0.002163545412697617,
         "param_criterion": "entropy",
         "param_max_features": "sqrt",
         "param_n_estimators": "100",
         "params": "{'criterion': 'entropy', 'max_features': 'sqrt', 'n_estimators': 100}",
         "mean_test_score": 0.9512727272727273,
         "std_test_score": 0.05650305338052373,
         "rank_test_score": 3,
         "mean_train_score": 1,
         "std_train_score": 0,
         "_deepnote_index_column": 8
        },
        {
         "mean_fit_time": 0.12070595264434815,
         "std_fit_time": 0.012337837588091417,
         "mean_score_time": 0.01086082935333252,
         "std_score_time": 0.002056528929765961,
         "param_criterion": "entropy",
         "param_max_features": "log2",
         "param_n_estimators": "100",
         "params": "{'criterion': 'entropy', 'max_features': 'log2', 'n_estimators': 100}",
         "mean_test_score": 0.9512727272727273,
         "std_test_score": 0.05650305338052373,
         "rank_test_score": 3,
         "mean_train_score": 1,
         "std_train_score": 0,
         "_deepnote_index_column": 11
        },
        {
         "mean_fit_time": 0.026431097984313964,
         "std_fit_time": 0.004588642580636897,
         "mean_score_time": 0.004061250686645508,
         "std_score_time": 0.0007265298978862004,
         "param_criterion": "gini",
         "param_max_features": "sqrt",
         "param_n_estimators": "20",
         "params": "{'criterion': 'gini', 'max_features': 'sqrt', 'n_estimators': 20}",
         "mean_test_score": 0.9494545454545453,
         "std_test_score": 0.061955996114544505,
         "rank_test_score": 7,
         "mean_train_score": 0.9987301231802911,
         "std_train_score": 0.0034388973822997515,
         "_deepnote_index_column": 0
        },
        {
         "mean_fit_time": 0.02628058910369873,
         "std_fit_time": 0.004320749931294014,
         "mean_score_time": 0.003920068740844726,
         "std_score_time": 0.0008754281450645622,
         "param_criterion": "gini",
         "param_max_features": "log2",
         "param_n_estimators": "20",
         "params": "{'criterion': 'gini', 'max_features': 'log2', 'n_estimators': 20}",
         "mean_test_score": 0.9494545454545453,
         "std_test_score": 0.061955996114544505,
         "rank_test_score": 7,
         "mean_train_score": 0.9987301231802911,
         "std_train_score": 0.0034388973822997515,
         "_deepnote_index_column": 3
        },
        {
         "mean_fit_time": 0.060911517143249515,
         "std_fit_time": 0.007492083162668964,
         "mean_score_time": 0.0067064142227172855,
         "std_score_time": 0.0011316067756678312,
         "param_criterion": "entropy",
         "param_max_features": "sqrt",
         "param_n_estimators": "50",
         "params": "{'criterion': 'entropy', 'max_features': 'sqrt', 'n_estimators': 50}",
         "mean_test_score": 0.9492727272727273,
         "std_test_score": 0.05936551577144695,
         "rank_test_score": 9,
         "mean_train_score": 1,
         "std_train_score": 0,
         "_deepnote_index_column": 7
        },
        {
         "mean_fit_time": 0.0637835454940796,
         "std_fit_time": 0.010219123086349697,
         "mean_score_time": 0.007351961135864258,
         "std_score_time": 0.001862352031996454,
         "param_criterion": "entropy",
         "param_max_features": "log2",
         "param_n_estimators": "50",
         "params": "{'criterion': 'entropy', 'max_features': 'log2', 'n_estimators': 50}",
         "mean_test_score": 0.9492727272727273,
         "std_test_score": 0.05936551577144695,
         "rank_test_score": 9,
         "mean_train_score": 1,
         "std_train_score": 0,
         "_deepnote_index_column": 10
        },
        {
         "mean_fit_time": 0.025437641143798827,
         "std_fit_time": 0.0030716920691756283,
         "mean_score_time": 0.0037413501739501955,
         "std_score_time": 0.0005168378056040831,
         "param_criterion": "entropy",
         "param_max_features": "sqrt",
         "param_n_estimators": "20",
         "params": "{'criterion': 'entropy', 'max_features': 'sqrt', 'n_estimators': 20}",
         "mean_test_score": 0.9476363636363635,
         "std_test_score": 0.06439957907567383,
         "rank_test_score": 11,
         "mean_train_score": 0.9987323628219485,
         "std_train_score": 0.0034328264123933173,
         "_deepnote_index_column": 6
        },
        {
         "mean_fit_time": 0.02776803493499756,
         "std_fit_time": 0.0053863448989594645,
         "mean_score_time": 0.004156503677368164,
         "std_score_time": 0.0009179803757548808,
         "param_criterion": "entropy",
         "param_max_features": "log2",
         "param_n_estimators": "20",
         "params": "{'criterion': 'entropy', 'max_features': 'log2', 'n_estimators': 20}",
         "mean_test_score": 0.9476363636363635,
         "std_test_score": 0.06439957907567383,
         "rank_test_score": 11,
         "mean_train_score": 0.9987323628219485,
         "std_train_score": 0.0034328264123933173,
         "_deepnote_index_column": 9
        }
       ],
       "rows_bottom": null
      },
      "text/plain": "    mean_fit_time  std_fit_time  mean_score_time  std_score_time  \\\n1        0.080124      0.023313         0.008311        0.002483   \n4        0.059542      0.005646         0.006519        0.001223   \n2        0.138925      0.039613         0.013411        0.004573   \n5        0.121629      0.015707         0.010635        0.001772   \n8        0.125775      0.017446         0.011163        0.002164   \n11       0.120706      0.012338         0.010861        0.002057   \n0        0.026431      0.004589         0.004061        0.000727   \n3        0.026281      0.004321         0.003920        0.000875   \n7        0.060912      0.007492         0.006706        0.001132   \n10       0.063784      0.010219         0.007352        0.001862   \n6        0.025438      0.003072         0.003741        0.000517   \n9        0.027768      0.005386         0.004157        0.000918   \n\n   param_criterion param_max_features param_n_estimators  \\\n1             gini               sqrt                 50   \n4             gini               log2                 50   \n2             gini               sqrt                100   \n5             gini               log2                100   \n8          entropy               sqrt                100   \n11         entropy               log2                100   \n0             gini               sqrt                 20   \n3             gini               log2                 20   \n7          entropy               sqrt                 50   \n10         entropy               log2                 50   \n6          entropy               sqrt                 20   \n9          entropy               log2                 20   \n\n                                               params  mean_test_score  \\\n1   {'criterion': 'gini', 'max_features': 'sqrt', ...         0.953091   \n4   {'criterion': 'gini', 'max_features': 'log2', ...         0.953091   \n2   {'criterion': 'gini', 'max_features': 'sqrt', ...         0.951273   \n5   {'criterion': 'gini', 'max_features': 'log2', ...         0.951273   \n8   {'criterion': 'entropy', 'max_features': 'sqrt...         0.951273   \n11  {'criterion': 'entropy', 'max_features': 'log2...         0.951273   \n0   {'criterion': 'gini', 'max_features': 'sqrt', ...         0.949455   \n3   {'criterion': 'gini', 'max_features': 'log2', ...         0.949455   \n7   {'criterion': 'entropy', 'max_features': 'sqrt...         0.949273   \n10  {'criterion': 'entropy', 'max_features': 'log2...         0.949273   \n6   {'criterion': 'entropy', 'max_features': 'sqrt...         0.947636   \n9   {'criterion': 'entropy', 'max_features': 'log2...         0.947636   \n\n    std_test_score  rank_test_score  mean_train_score  std_train_score  \n1         0.056579                1          1.000000         0.000000  \n4         0.056579                1          1.000000         0.000000  \n2         0.056503                3          1.000000         0.000000  \n5         0.056503                3          1.000000         0.000000  \n8         0.056503                3          1.000000         0.000000  \n11        0.056503                3          1.000000         0.000000  \n0         0.061956                7          0.998730         0.003439  \n3         0.061956                7          0.998730         0.003439  \n7         0.059366                9          1.000000         0.000000  \n10        0.059366                9          1.000000         0.000000  \n6         0.064400               11          0.998732         0.003433  \n9         0.064400               11          0.998732         0.003433  ",
      "text/html": "<div>\n<style scoped>\n    .dataframe tbody tr th:only-of-type {\n        vertical-align: middle;\n    }\n\n    .dataframe tbody tr th {\n        vertical-align: top;\n    }\n\n    .dataframe thead th {\n        text-align: right;\n    }\n</style>\n<table border=\"1\" class=\"dataframe\">\n  <thead>\n    <tr style=\"text-align: right;\">\n      <th></th>\n      <th>mean_fit_time</th>\n      <th>std_fit_time</th>\n      <th>mean_score_time</th>\n      <th>std_score_time</th>\n      <th>param_criterion</th>\n      <th>param_max_features</th>\n      <th>param_n_estimators</th>\n      <th>params</th>\n      <th>mean_test_score</th>\n      <th>std_test_score</th>\n      <th>rank_test_score</th>\n      <th>mean_train_score</th>\n      <th>std_train_score</th>\n    </tr>\n  </thead>\n  <tbody>\n    <tr>\n      <th>1</th>\n      <td>0.080124</td>\n      <td>0.023313</td>\n      <td>0.008311</td>\n      <td>0.002483</td>\n      <td>gini</td>\n      <td>sqrt</td>\n      <td>50</td>\n      <td>{'criterion': 'gini', 'max_features': 'sqrt', ...</td>\n      <td>0.953091</td>\n      <td>0.056579</td>\n      <td>1</td>\n      <td>1.000000</td>\n      <td>0.000000</td>\n    </tr>\n    <tr>\n      <th>4</th>\n      <td>0.059542</td>\n      <td>0.005646</td>\n      <td>0.006519</td>\n      <td>0.001223</td>\n      <td>gini</td>\n      <td>log2</td>\n      <td>50</td>\n      <td>{'criterion': 'gini', 'max_features': 'log2', ...</td>\n      <td>0.953091</td>\n      <td>0.056579</td>\n      <td>1</td>\n      <td>1.000000</td>\n      <td>0.000000</td>\n    </tr>\n    <tr>\n      <th>2</th>\n      <td>0.138925</td>\n      <td>0.039613</td>\n      <td>0.013411</td>\n      <td>0.004573</td>\n      <td>gini</td>\n      <td>sqrt</td>\n      <td>100</td>\n      <td>{'criterion': 'gini', 'max_features': 'sqrt', ...</td>\n      <td>0.951273</td>\n      <td>0.056503</td>\n      <td>3</td>\n      <td>1.000000</td>\n      <td>0.000000</td>\n    </tr>\n    <tr>\n      <th>5</th>\n      <td>0.121629</td>\n      <td>0.015707</td>\n      <td>0.010635</td>\n      <td>0.001772</td>\n      <td>gini</td>\n      <td>log2</td>\n      <td>100</td>\n      <td>{'criterion': 'gini', 'max_features': 'log2', ...</td>\n      <td>0.951273</td>\n      <td>0.056503</td>\n      <td>3</td>\n      <td>1.000000</td>\n      <td>0.000000</td>\n    </tr>\n    <tr>\n      <th>8</th>\n      <td>0.125775</td>\n      <td>0.017446</td>\n      <td>0.011163</td>\n      <td>0.002164</td>\n      <td>entropy</td>\n      <td>sqrt</td>\n      <td>100</td>\n      <td>{'criterion': 'entropy', 'max_features': 'sqrt...</td>\n      <td>0.951273</td>\n      <td>0.056503</td>\n      <td>3</td>\n      <td>1.000000</td>\n      <td>0.000000</td>\n    </tr>\n    <tr>\n      <th>11</th>\n      <td>0.120706</td>\n      <td>0.012338</td>\n      <td>0.010861</td>\n      <td>0.002057</td>\n      <td>entropy</td>\n      <td>log2</td>\n      <td>100</td>\n      <td>{'criterion': 'entropy', 'max_features': 'log2...</td>\n      <td>0.951273</td>\n      <td>0.056503</td>\n      <td>3</td>\n      <td>1.000000</td>\n      <td>0.000000</td>\n    </tr>\n    <tr>\n      <th>0</th>\n      <td>0.026431</td>\n      <td>0.004589</td>\n      <td>0.004061</td>\n      <td>0.000727</td>\n      <td>gini</td>\n      <td>sqrt</td>\n      <td>20</td>\n      <td>{'criterion': 'gini', 'max_features': 'sqrt', ...</td>\n      <td>0.949455</td>\n      <td>0.061956</td>\n      <td>7</td>\n      <td>0.998730</td>\n      <td>0.003439</td>\n    </tr>\n    <tr>\n      <th>3</th>\n      <td>0.026281</td>\n      <td>0.004321</td>\n      <td>0.003920</td>\n      <td>0.000875</td>\n      <td>gini</td>\n      <td>log2</td>\n      <td>20</td>\n      <td>{'criterion': 'gini', 'max_features': 'log2', ...</td>\n      <td>0.949455</td>\n      <td>0.061956</td>\n      <td>7</td>\n      <td>0.998730</td>\n      <td>0.003439</td>\n    </tr>\n    <tr>\n      <th>7</th>\n      <td>0.060912</td>\n      <td>0.007492</td>\n      <td>0.006706</td>\n      <td>0.001132</td>\n      <td>entropy</td>\n      <td>sqrt</td>\n      <td>50</td>\n      <td>{'criterion': 'entropy', 'max_features': 'sqrt...</td>\n      <td>0.949273</td>\n      <td>0.059366</td>\n      <td>9</td>\n      <td>1.000000</td>\n      <td>0.000000</td>\n    </tr>\n    <tr>\n      <th>10</th>\n      <td>0.063784</td>\n      <td>0.010219</td>\n      <td>0.007352</td>\n      <td>0.001862</td>\n      <td>entropy</td>\n      <td>log2</td>\n      <td>50</td>\n      <td>{'criterion': 'entropy', 'max_features': 'log2...</td>\n      <td>0.949273</td>\n      <td>0.059366</td>\n      <td>9</td>\n      <td>1.000000</td>\n      <td>0.000000</td>\n    </tr>\n    <tr>\n      <th>6</th>\n      <td>0.025438</td>\n      <td>0.003072</td>\n      <td>0.003741</td>\n      <td>0.000517</td>\n      <td>entropy</td>\n      <td>sqrt</td>\n      <td>20</td>\n      <td>{'criterion': 'entropy', 'max_features': 'sqrt...</td>\n      <td>0.947636</td>\n      <td>0.064400</td>\n      <td>11</td>\n      <td>0.998732</td>\n      <td>0.003433</td>\n    </tr>\n    <tr>\n      <th>9</th>\n      <td>0.027768</td>\n      <td>0.005386</td>\n      <td>0.004157</td>\n      <td>0.000918</td>\n      <td>entropy</td>\n      <td>log2</td>\n      <td>20</td>\n      <td>{'criterion': 'entropy', 'max_features': 'log2...</td>\n      <td>0.947636</td>\n      <td>0.064400</td>\n      <td>11</td>\n      <td>0.998732</td>\n      <td>0.003433</td>\n    </tr>\n  </tbody>\n</table>\n</div>"
     },
     "metadata": {},
     "output_type": "display_data"
    }
   ],
   "execution_count": 56
  },
  {
   "cell_type": "markdown",
   "source": "Los mejores hiperparámetros son usar el índice *Gini* como criterio de partición, únicamente considerar la raíz del número de características en cada nodo y un total de 50 estimadores en el ensemble.",
   "metadata": {
    "papermill": {
     "duration": 0.084788,
     "end_time": "2020-12-14T07:59:43.621009",
     "exception": false,
     "start_time": "2020-12-14T07:59:43.536221",
     "status": "completed"
    },
    "tags": [],
    "cell_id": "00072-eacce0a2-16c3-4afb-a4e1-4877fab6504d",
    "deepnote_cell_type": "markdown"
   }
  },
  {
   "cell_type": "markdown",
   "source": "Continuamos con la optimización de hiperparámetros para *Gradient Tree Boosting*. Vamos a probar el parámetro de regularización (`learning_rate`), el número de estimadores del ensemble y el criterio de partición y la altura máxima de los árboles de decisión base:",
   "metadata": {
    "papermill": {
     "duration": 0.08761,
     "end_time": "2020-12-14T07:59:43.795799",
     "exception": false,
     "start_time": "2020-12-14T07:59:43.708189",
     "status": "completed"
    },
    "tags": [],
    "cell_id": "00073-92bbb4a7-f145-4c38-a2d0-413a538ed166",
    "deepnote_cell_type": "markdown"
   }
  },
  {
   "cell_type": "code",
   "metadata": {
    "tags": [],
    "cell_id": "00093-ce3508e0-77e6-435f-8b0c-3302281df210",
    "deepnote_to_be_reexecuted": false,
    "source_hash": "9a16b816",
    "execution_start": 1635873898620,
    "execution_millis": 1248021,
    "deepnote_cell_type": "code"
   },
   "source": "learning_rate = [0.01, 0.05, 0.1]",
   "outputs": [],
   "execution_count": 57
  },
  {
   "cell_type": "code",
   "metadata": {
    "tags": [],
    "cell_id": "00094-cef142a9-dd40-4a36-894d-8303cf164c2d",
    "deepnote_to_be_reexecuted": false,
    "source_hash": "c919cc42",
    "execution_start": 1635873898620,
    "execution_millis": 1248020,
    "deepnote_cell_type": "code"
   },
   "source": "criterion = [\"friedman_mse\", \"squared_error\"]",
   "outputs": [],
   "execution_count": 58
  },
  {
   "cell_type": "code",
   "metadata": {
    "execution": {
     "iopub.execute_input": "2020-12-14T07:59:43.978971Z",
     "iopub.status.busy": "2020-12-14T07:59:43.978099Z",
     "iopub.status.idle": "2020-12-14T08:02:26.552442Z",
     "shell.execute_reply": "2020-12-14T08:02:26.553056Z"
    },
    "papermill": {
     "duration": 162.672812,
     "end_time": "2020-12-14T08:02:26.553230",
     "exception": false,
     "start_time": "2020-12-14T07:59:43.880418",
     "status": "completed"
    },
    "tags": [],
    "cell_id": "00074-d75939c6-3e7a-4305-919a-032f22628ef1",
    "deepnote_to_be_reexecuted": false,
    "source_hash": "33734a31",
    "execution_start": 1635873898624,
    "execution_millis": 332272,
    "deepnote_cell_type": "code"
   },
   "source": "gradient_boosting_classifier = optimize_params(gradient_boosting_model, X_train, y_train, cv, learning_rate=learning_rate, n_estimators=n_estimators, criterion=criterion, max_depth=max_depth)",
   "outputs": [
    {
     "data": {
      "application/vnd.deepnote.dataframe.v2+json": {
       "row_count": 54,
       "column_count": 14,
       "columns": [
        {
         "name": "mean_fit_time",
         "dtype": "float64",
         "stats": {
          "unique_count": 54,
          "nan_count": 0,
          "min": "0.03174245357513428",
          "max": "0.28909103870391845",
          "histogram": [
           {
            "bin_start": 0.03174245357513428,
            "bin_end": 0.0574773120880127,
            "count": 17
           },
           {
            "bin_start": 0.0574773120880127,
            "bin_end": 0.08321217060089112,
            "count": 5
           },
           {
            "bin_start": 0.08321217060089112,
            "bin_end": 0.10894702911376952,
            "count": 7
           },
           {
            "bin_start": 0.10894702911376952,
            "bin_end": 0.13468188762664796,
            "count": 5
           },
           {
            "bin_start": 0.13468188762664796,
            "bin_end": 0.16041674613952636,
            "count": 5
           },
           {
            "bin_start": 0.16041674613952636,
            "bin_end": 0.18615160465240477,
            "count": 3
           },
           {
            "bin_start": 0.18615160465240477,
            "bin_end": 0.2118864631652832,
            "count": 5
           },
           {
            "bin_start": 0.2118864631652832,
            "bin_end": 0.2376213216781616,
            "count": 3
           },
           {
            "bin_start": 0.2376213216781616,
            "bin_end": 0.26335618019104,
            "count": 2
           },
           {
            "bin_start": 0.26335618019104,
            "bin_end": 0.28909103870391845,
            "count": 2
           }
          ]
         }
        },
        {
         "name": "std_fit_time",
         "dtype": "float64",
         "stats": {
          "unique_count": 54,
          "nan_count": 0,
          "min": "0.003390678324291589",
          "max": "0.0642965265828361",
          "histogram": [
           {
            "bin_start": 0.003390678324291589,
            "bin_end": 0.009481263150146042,
            "count": 21
           },
           {
            "bin_start": 0.009481263150146042,
            "bin_end": 0.015571847976000494,
            "count": 13
           },
           {
            "bin_start": 0.015571847976000494,
            "bin_end": 0.021662432801854946,
            "count": 6
           },
           {
            "bin_start": 0.021662432801854946,
            "bin_end": 0.027753017627709396,
            "count": 5
           },
           {
            "bin_start": 0.027753017627709396,
            "bin_end": 0.03384360245356385,
            "count": 2
           },
           {
            "bin_start": 0.03384360245356385,
            "bin_end": 0.039934187279418304,
            "count": 0
           },
           {
            "bin_start": 0.039934187279418304,
            "bin_end": 0.046024772105272754,
            "count": 4
           },
           {
            "bin_start": 0.046024772105272754,
            "bin_end": 0.052115356931127205,
            "count": 1
           },
           {
            "bin_start": 0.052115356931127205,
            "bin_end": 0.058205941756981655,
            "count": 1
           },
           {
            "bin_start": 0.058205941756981655,
            "bin_end": 0.0642965265828361,
            "count": 1
           }
          ]
         }
        },
        {
         "name": "mean_score_time",
         "dtype": "float64",
         "stats": {
          "unique_count": 54,
          "nan_count": 0,
          "min": "0.0022457933425903322",
          "max": "0.004827985763549805",
          "histogram": [
           {
            "bin_start": 0.0022457933425903322,
            "bin_end": 0.0025040125846862793,
            "count": 12
           },
           {
            "bin_start": 0.0025040125846862793,
            "bin_end": 0.002762231826782227,
            "count": 19
           },
           {
            "bin_start": 0.002762231826782227,
            "bin_end": 0.003020451068878174,
            "count": 3
           },
           {
            "bin_start": 0.003020451068878174,
            "bin_end": 0.0032786703109741215,
            "count": 3
           },
           {
            "bin_start": 0.0032786703109741215,
            "bin_end": 0.0035368895530700686,
            "count": 7
           },
           {
            "bin_start": 0.0035368895530700686,
            "bin_end": 0.0037951087951660157,
            "count": 4
           },
           {
            "bin_start": 0.0037951087951660157,
            "bin_end": 0.004053328037261963,
            "count": 5
           },
           {
            "bin_start": 0.004053328037261963,
            "bin_end": 0.004311547279357911,
            "count": 0
           },
           {
            "bin_start": 0.004311547279357911,
            "bin_end": 0.004569766521453857,
            "count": 0
           },
           {
            "bin_start": 0.004569766521453857,
            "bin_end": 0.004827985763549805,
            "count": 1
           }
          ]
         }
        },
        {
         "name": "std_score_time",
         "dtype": "float64",
         "stats": {
          "unique_count": 54,
          "nan_count": 0,
          "min": "0.0003116211930250597",
          "max": "0.008428015624760435",
          "histogram": [
           {
            "bin_start": 0.0003116211930250597,
            "bin_end": 0.0011232606361985973,
            "count": 44
           },
           {
            "bin_start": 0.0011232606361985973,
            "bin_end": 0.0019349000793721348,
            "count": 9
           },
           {
            "bin_start": 0.0019349000793721348,
            "bin_end": 0.002746539522545672,
            "count": 0
           },
           {
            "bin_start": 0.002746539522545672,
            "bin_end": 0.00355817896571921,
            "count": 0
           },
           {
            "bin_start": 0.00355817896571921,
            "bin_end": 0.004369818408892747,
            "count": 0
           },
           {
            "bin_start": 0.004369818408892747,
            "bin_end": 0.005181457852066284,
            "count": 0
           },
           {
            "bin_start": 0.005181457852066284,
            "bin_end": 0.005993097295239823,
            "count": 0
           },
           {
            "bin_start": 0.005993097295239823,
            "bin_end": 0.0068047367384133604,
            "count": 0
           },
           {
            "bin_start": 0.0068047367384133604,
            "bin_end": 0.007616376181586898,
            "count": 0
           },
           {
            "bin_start": 0.007616376181586898,
            "bin_end": 0.008428015624760435,
            "count": 1
           }
          ]
         }
        },
        {
         "name": "param_criterion",
         "dtype": "object",
         "stats": {
          "unique_count": 2,
          "nan_count": 0,
          "categories": [
           {
            "name": "squared_error",
            "count": 27
           },
           {
            "name": "friedman_mse",
            "count": 27
           }
          ]
         }
        },
        {
         "name": "param_learning_rate",
         "dtype": "object",
         "stats": {
          "unique_count": 3,
          "nan_count": 0,
          "categories": [
           {
            "name": "0.01",
            "count": 18
           },
           {
            "name": "0.05",
            "count": 18
           },
           {
            "name": "0.1",
            "count": 18
           }
          ]
         }
        },
        {
         "name": "param_max_depth",
         "dtype": "object",
         "stats": {
          "unique_count": 3,
          "nan_count": 0,
          "categories": [
           {
            "name": "3",
            "count": 18
           },
           {
            "name": "2",
            "count": 18
           },
           {
            "name": "1",
            "count": 18
           }
          ]
         }
        },
        {
         "name": "param_n_estimators",
         "dtype": "object",
         "stats": {
          "unique_count": 3,
          "nan_count": 0,
          "categories": [
           {
            "name": "50",
            "count": 18
           },
           {
            "name": "100",
            "count": 18
           },
           {
            "name": "20",
            "count": 18
           }
          ]
         }
        },
        {
         "name": "params",
         "dtype": "object",
         "stats": {
          "unique_count": 54,
          "nan_count": 0,
          "categories": [
           {
            "name": "{'criterion': 'squared_error', 'learning_rate': 0.01, 'max_depth': 3, 'n_estimators': 50}",
            "count": 1
           },
           {
            "name": "{'criterion': 'friedman_mse', 'learning_rate': 0.01, 'max_depth': 3, 'n_estimators': 50}",
            "count": 1
           },
           {
            "name": "52 others",
            "count": 52
           }
          ]
         }
        },
        {
         "name": "mean_test_score",
         "dtype": "float64",
         "stats": {
          "unique_count": 14,
          "nan_count": 0,
          "min": "0.9138181818181818",
          "max": "0.946",
          "histogram": [
           {
            "bin_start": 0.9138181818181818,
            "bin_end": 0.9170363636363635,
            "count": 8
           },
           {
            "bin_start": 0.9170363636363635,
            "bin_end": 0.9202545454545454,
            "count": 0
           },
           {
            "bin_start": 0.9202545454545454,
            "bin_end": 0.9234727272727272,
            "count": 0
           },
           {
            "bin_start": 0.9234727272727272,
            "bin_end": 0.926690909090909,
            "count": 2
           },
           {
            "bin_start": 0.926690909090909,
            "bin_end": 0.9299090909090908,
            "count": 6
           },
           {
            "bin_start": 0.9299090909090908,
            "bin_end": 0.9331272727272727,
            "count": 0
           },
           {
            "bin_start": 0.9331272727272727,
            "bin_end": 0.9363454545454545,
            "count": 4
           },
           {
            "bin_start": 0.9363454545454545,
            "bin_end": 0.9395636363636363,
            "count": 10
           },
           {
            "bin_start": 0.9395636363636363,
            "bin_end": 0.9427818181818182,
            "count": 18
           },
           {
            "bin_start": 0.9427818181818182,
            "bin_end": 0.946,
            "count": 6
           }
          ]
         }
        },
        {
         "name": "std_test_score",
         "dtype": "float64",
         "stats": {
          "unique_count": 17,
          "nan_count": 0,
          "min": "0.06595766235351655",
          "max": "0.0860950848560104",
          "histogram": [
           {
            "bin_start": 0.06595766235351655,
            "bin_end": 0.06797140460376594,
            "count": 20
           },
           {
            "bin_start": 0.06797140460376594,
            "bin_end": 0.06998514685401531,
            "count": 8
           },
           {
            "bin_start": 0.06998514685401531,
            "bin_end": 0.0719988891042647,
            "count": 10
           },
           {
            "bin_start": 0.0719988891042647,
            "bin_end": 0.0740126313545141,
            "count": 4
           },
           {
            "bin_start": 0.0740126313545141,
            "bin_end": 0.07602637360476347,
            "count": 4
           },
           {
            "bin_start": 0.07602637360476347,
            "bin_end": 0.07804011585501286,
            "count": 0
           },
           {
            "bin_start": 0.07804011585501286,
            "bin_end": 0.08005385810526225,
            "count": 0
           },
           {
            "bin_start": 0.08005385810526225,
            "bin_end": 0.08206760035551164,
            "count": 0
           },
           {
            "bin_start": 0.08206760035551164,
            "bin_end": 0.08408134260576101,
            "count": 4
           },
           {
            "bin_start": 0.08408134260576101,
            "bin_end": 0.0860950848560104,
            "count": 4
           }
          ]
         }
        },
        {
         "name": "rank_test_score",
         "dtype": "int32",
         "stats": {
          "unique_count": 14,
          "nan_count": 0,
          "min": "1",
          "max": "51",
          "histogram": [
           {
            "bin_start": 1,
            "bin_end": 6,
            "count": 6
           },
           {
            "bin_start": 6,
            "bin_end": 11,
            "count": 8
           },
           {
            "bin_start": 11,
            "bin_end": 16,
            "count": 1
           },
           {
            "bin_start": 16,
            "bin_end": 21,
            "count": 9
           },
           {
            "bin_start": 21,
            "bin_end": 26,
            "count": 6
           },
           {
            "bin_start": 26,
            "bin_end": 31,
            "count": 0
           },
           {
            "bin_start": 31,
            "bin_end": 36,
            "count": 8
           },
           {
            "bin_start": 36,
            "bin_end": 41,
            "count": 4
           },
           {
            "bin_start": 41,
            "bin_end": 46,
            "count": 4
           },
           {
            "bin_start": 46,
            "bin_end": 51,
            "count": 8
           }
          ]
         }
        },
        {
         "name": "mean_train_score",
         "dtype": "float64",
         "stats": {
          "unique_count": 22,
          "nan_count": 0,
          "min": "0.9521948488241881",
          "max": "1.0",
          "histogram": [
           {
            "bin_start": 0.9521948488241881,
            "bin_end": 0.9569753639417693,
            "count": 6
           },
           {
            "bin_start": 0.9569753639417693,
            "bin_end": 0.9617558790593506,
            "count": 2
           },
           {
            "bin_start": 0.9617558790593506,
            "bin_end": 0.9665363941769317,
            "count": 6
           },
           {
            "bin_start": 0.9665363941769317,
            "bin_end": 0.9713169092945129,
            "count": 2
           },
           {
            "bin_start": 0.9713169092945129,
            "bin_end": 0.9760974244120941,
            "count": 0
           },
           {
            "bin_start": 0.9760974244120941,
            "bin_end": 0.9808779395296753,
            "count": 8
           },
           {
            "bin_start": 0.9808779395296753,
            "bin_end": 0.9856584546472564,
            "count": 0
           },
           {
            "bin_start": 0.9856584546472564,
            "bin_end": 0.9904389697648376,
            "count": 2
           },
           {
            "bin_start": 0.9904389697648376,
            "bin_end": 0.9952194848824188,
            "count": 10
           },
           {
            "bin_start": 0.9952194848824188,
            "bin_end": 1,
            "count": 18
           }
          ]
         }
        },
        {
         "name": "std_train_score",
         "dtype": "float64",
         "stats": {
          "unique_count": 22,
          "nan_count": 0,
          "min": "0.0",
          "max": "0.014924821439574795",
          "histogram": [
           {
            "bin_start": 0,
            "bin_end": 0.0014924821439574795,
            "count": 14
           },
           {
            "bin_start": 0.0014924821439574795,
            "bin_end": 0.002984964287914959,
            "count": 2
           },
           {
            "bin_start": 0.002984964287914959,
            "bin_end": 0.004477446431872438,
            "count": 2
           },
           {
            "bin_start": 0.004477446431872438,
            "bin_end": 0.005969928575829918,
            "count": 8
           },
           {
            "bin_start": 0.005969928575829918,
            "bin_end": 0.007462410719787397,
            "count": 4
           },
           {
            "bin_start": 0.007462410719787397,
            "bin_end": 0.008954892863744877,
            "count": 6
           },
           {
            "bin_start": 0.008954892863744877,
            "bin_end": 0.010447375007702356,
            "count": 4
           },
           {
            "bin_start": 0.010447375007702356,
            "bin_end": 0.011939857151659836,
            "count": 4
           },
           {
            "bin_start": 0.011939857151659836,
            "bin_end": 0.013432339295617315,
            "count": 6
           },
           {
            "bin_start": 0.013432339295617315,
            "bin_end": 0.014924821439574795,
            "count": 4
           }
          ]
         }
        },
        {
         "name": "_deepnote_index_column",
         "dtype": "int64"
        }
       ],
       "rows_top": [
        {
         "mean_fit_time": 0.09606958389282226,
         "std_fit_time": 0.010887595651950436,
         "mean_score_time": 0.002550220489501953,
         "std_score_time": 0.0005339765040073484,
         "param_criterion": "squared_error",
         "param_learning_rate": "0.01",
         "param_max_depth": "3",
         "param_n_estimators": "50",
         "params": "{'criterion': 'squared_error', 'learning_rate': 0.01, 'max_depth': 3, 'n_estimators': 50}",
         "mean_test_score": 0.946,
         "std_test_score": 0.07138326307989769,
         "rank_test_score": 1,
         "mean_train_score": 0.9932340425531914,
         "std_train_score": 0.0050746588266836565,
         "_deepnote_index_column": 34
        },
        {
         "mean_fit_time": 0.14735761165618896,
         "std_fit_time": 0.016820676635178555,
         "mean_score_time": 0.003670501708984375,
         "std_score_time": 0.0008477740510493366,
         "param_criterion": "friedman_mse",
         "param_learning_rate": "0.01",
         "param_max_depth": "3",
         "param_n_estimators": "50",
         "params": "{'criterion': 'friedman_mse', 'learning_rate': 0.01, 'max_depth': 3, 'n_estimators': 50}",
         "mean_test_score": 0.946,
         "std_test_score": 0.07138326307989769,
         "rank_test_score": 1,
         "mean_train_score": 0.9932340425531914,
         "std_train_score": 0.0050746588266836565,
         "_deepnote_index_column": 7
        },
        {
         "mean_fit_time": 0.211096453666687,
         "std_fit_time": 0.04986345799399583,
         "mean_score_time": 0.003075051307678223,
         "std_score_time": 0.0006649922648268663,
         "param_criterion": "squared_error",
         "param_learning_rate": "0.05",
         "param_max_depth": "2",
         "param_n_estimators": "100",
         "params": "{'criterion': 'squared_error', 'learning_rate': 0.05, 'max_depth': 2, 'n_estimators': 100}",
         "mean_test_score": 0.9438181818181818,
         "std_test_score": 0.06706823957977859,
         "rank_test_score": 3,
         "mean_train_score": 1,
         "std_train_score": 0,
         "_deepnote_index_column": 41
        },
        {
         "mean_fit_time": 0.1340734529495239,
         "std_fit_time": 0.014913136153248276,
         "mean_score_time": 0.003846907615661621,
         "std_score_time": 0.00114412796047169,
         "param_criterion": "friedman_mse",
         "param_learning_rate": "0.1",
         "param_max_depth": "2",
         "param_n_estimators": "50",
         "params": "{'criterion': 'friedman_mse', 'learning_rate': 0.1, 'max_depth': 2, 'n_estimators': 50}",
         "mean_test_score": 0.9438181818181818,
         "std_test_score": 0.06706823957977859,
         "rank_test_score": 3,
         "mean_train_score": 1,
         "std_train_score": 0,
         "_deepnote_index_column": 22
        },
        {
         "mean_fit_time": 0.08674559593200684,
         "std_fit_time": 0.010089304268710332,
         "mean_score_time": 0.0025083541870117186,
         "std_score_time": 0.0003813203340303398,
         "param_criterion": "squared_error",
         "param_learning_rate": "0.1",
         "param_max_depth": "2",
         "param_n_estimators": "50",
         "params": "{'criterion': 'squared_error', 'learning_rate': 0.1, 'max_depth': 2, 'n_estimators': 50}",
         "mean_test_score": 0.9438181818181818,
         "std_test_score": 0.06706823957977859,
         "rank_test_score": 3,
         "mean_train_score": 1,
         "std_train_score": 0,
         "_deepnote_index_column": 49
        },
        {
         "mean_fit_time": 0.20760844230651856,
         "std_fit_time": 0.04286566995978182,
         "mean_score_time": 0.0033203077316284178,
         "std_score_time": 0.0019085350750691185,
         "param_criterion": "friedman_mse",
         "param_learning_rate": "0.05",
         "param_max_depth": "2",
         "param_n_estimators": "100",
         "params": "{'criterion': 'friedman_mse', 'learning_rate': 0.05, 'max_depth': 2, 'n_estimators': 100}",
         "mean_test_score": 0.9438181818181818,
         "std_test_score": 0.06706823957977859,
         "rank_test_score": 3,
         "mean_train_score": 1,
         "std_train_score": 0,
         "_deepnote_index_column": 14
        },
        {
         "mean_fit_time": 0.039895243644714355,
         "std_fit_time": 0.004653990746693128,
         "mean_score_time": 0.002274479866027832,
         "std_score_time": 0.0004626200533488044,
         "param_criterion": "squared_error",
         "param_learning_rate": "0.01",
         "param_max_depth": "3",
         "param_n_estimators": "20",
         "params": "{'criterion': 'squared_error', 'learning_rate': 0.01, 'max_depth': 3, 'n_estimators': 20}",
         "mean_test_score": 0.9421818181818182,
         "std_test_score": 0.06612685029984804,
         "rank_test_score": 7,
         "mean_train_score": 0.9862530795072789,
         "std_train_score": 0.007693244399304762,
         "_deepnote_index_column": 33
        },
        {
         "mean_fit_time": 0.0597502613067627,
         "std_fit_time": 0.0077698223346366994,
         "mean_score_time": 0.0033240509033203125,
         "std_score_time": 0.0008191711817957802,
         "param_criterion": "friedman_mse",
         "param_learning_rate": "0.01",
         "param_max_depth": "3",
         "param_n_estimators": "20",
         "params": "{'criterion': 'friedman_mse', 'learning_rate': 0.01, 'max_depth': 3, 'n_estimators': 20}",
         "mean_test_score": 0.9421818181818182,
         "std_test_score": 0.06612685029984804,
         "rank_test_score": 7,
         "mean_train_score": 0.986676371780515,
         "std_train_score": 0.007857041199534405,
         "_deepnote_index_column": 6
        },
        {
         "mean_fit_time": 0.28909103870391845,
         "std_fit_time": 0.02516443233264921,
         "mean_score_time": 0.004007258415222168,
         "std_score_time": 0.001220171455563389,
         "param_criterion": "friedman_mse",
         "param_learning_rate": "0.01",
         "param_max_depth": "3",
         "param_n_estimators": "100",
         "params": "{'criterion': 'friedman_mse', 'learning_rate': 0.01, 'max_depth': 3, 'n_estimators': 100}",
         "mean_test_score": 0.9419999999999998,
         "std_test_score": 0.06918390870094357,
         "rank_test_score": 9,
         "mean_train_score": 0.9947144456886897,
         "std_train_score": 0.0052856966594987025,
         "_deepnote_index_column": 8
        },
        {
         "mean_fit_time": 0.05405912876129151,
         "std_fit_time": 0.008954082099781602,
         "mean_score_time": 0.003431696891784668,
         "std_score_time": 0.0006959101378499989,
         "param_criterion": "friedman_mse",
         "param_learning_rate": "0.1",
         "param_max_depth": "2",
         "param_n_estimators": "20",
         "params": "{'criterion': 'friedman_mse', 'learning_rate': 0.1, 'max_depth': 2, 'n_estimators': 20}",
         "mean_test_score": 0.9419999999999998,
         "std_test_score": 0.06675203900064627,
         "rank_test_score": 9,
         "mean_train_score": 0.9936506159014558,
         "std_train_score": 0.005994347655493036,
         "_deepnote_index_column": 21
        },
        {
         "mean_fit_time": 0.1271774673461914,
         "std_fit_time": 0.01270171848026175,
         "mean_score_time": 0.0037183666229248045,
         "std_score_time": 0.0011745479488621425,
         "param_criterion": "friedman_mse",
         "param_learning_rate": "0.05",
         "param_max_depth": "2",
         "param_n_estimators": "50",
         "params": "{'criterion': 'friedman_mse', 'learning_rate': 0.05, 'max_depth': 2, 'n_estimators': 50}",
         "mean_test_score": 0.9419999999999998,
         "std_test_score": 0.06675203900064627,
         "rank_test_score": 9,
         "mean_train_score": 0.9978835386338187,
         "std_train_score": 0.0042329967939390275,
         "_deepnote_index_column": 13
        },
        {
         "mean_fit_time": 0.03494720458984375,
         "std_fit_time": 0.003390678324291589,
         "mean_score_time": 0.0023278045654296876,
         "std_score_time": 0.0003286695824517286,
         "param_criterion": "squared_error",
         "param_learning_rate": "0.1",
         "param_max_depth": "2",
         "param_n_estimators": "20",
         "params": "{'criterion': 'squared_error', 'learning_rate': 0.1, 'max_depth': 2, 'n_estimators': 20}",
         "mean_test_score": 0.9419999999999998,
         "std_test_score": 0.06675203900064627,
         "rank_test_score": 9,
         "mean_train_score": 0.9936506159014558,
         "std_train_score": 0.005994347655493036,
         "_deepnote_index_column": 48
        },
        {
         "mean_fit_time": 0.08752073287963867,
         "std_fit_time": 0.012536692717162826,
         "mean_score_time": 0.0024707365036010743,
         "std_score_time": 0.0003815676220510018,
         "param_criterion": "squared_error",
         "param_learning_rate": "0.05",
         "param_max_depth": "2",
         "param_n_estimators": "50",
         "params": "{'criterion': 'squared_error', 'learning_rate': 0.05, 'max_depth': 2, 'n_estimators': 50}",
         "mean_test_score": 0.9419999999999998,
         "std_test_score": 0.06675203900064627,
         "rank_test_score": 9,
         "mean_train_score": 0.9978835386338187,
         "std_train_score": 0.0042329967939390275,
         "_deepnote_index_column": 40
        },
        {
         "mean_fit_time": 0.19589422702789305,
         "std_fit_time": 0.023231725075775807,
         "mean_score_time": 0.0027216577529907224,
         "std_score_time": 0.0005661847338599247,
         "param_criterion": "squared_error",
         "param_learning_rate": "0.01",
         "param_max_depth": "3",
         "param_n_estimators": "100",
         "params": "{'criterion': 'squared_error', 'learning_rate': 0.01, 'max_depth': 3, 'n_estimators': 100}",
         "mean_test_score": 0.9419999999999998,
         "std_test_score": 0.06918390870094357,
         "rank_test_score": 9,
         "mean_train_score": 0.9947144456886897,
         "std_train_score": 0.0052856966594987025,
         "_deepnote_index_column": 35
        },
        {
         "mean_fit_time": 0.09672747135162353,
         "std_fit_time": 0.008756584415902038,
         "mean_score_time": 0.0024314022064208986,
         "std_score_time": 0.00036748357628849364,
         "param_criterion": "squared_error",
         "param_learning_rate": "0.05",
         "param_max_depth": "3",
         "param_n_estimators": "50",
         "params": "{'criterion': 'squared_error', 'learning_rate': 0.05, 'max_depth': 3, 'n_estimators': 50}",
         "mean_test_score": 0.9418181818181818,
         "std_test_score": 0.0668537320394554,
         "rank_test_score": 15,
         "mean_train_score": 1,
         "std_train_score": 0,
         "_deepnote_index_column": 43
        },
        {
         "mean_fit_time": 0.1704990816116333,
         "std_fit_time": 0.03218721017815459,
         "mean_score_time": 0.003029751777648926,
         "std_score_time": 0.000710485985213737,
         "param_criterion": "squared_error",
         "param_learning_rate": "0.1",
         "param_max_depth": "1",
         "param_n_estimators": "100",
         "params": "{'criterion': 'squared_error', 'learning_rate': 0.1, 'max_depth': 1, 'n_estimators': 100}",
         "mean_test_score": 0.94,
         "std_test_score": 0.06595766235351655,
         "rank_test_score": 16,
         "mean_train_score": 0.9940828667413214,
         "std_train_score": 0.0052451317427752294,
         "_deepnote_index_column": 47
        },
        {
         "mean_fit_time": 0.1970107889175415,
         "std_fit_time": 0.045487708237891784,
         "mean_score_time": 0.002954268455505371,
         "std_score_time": 0.0007767599769478104,
         "param_criterion": "friedman_mse",
         "param_learning_rate": "0.1",
         "param_max_depth": "2",
         "param_n_estimators": "100",
         "params": "{'criterion': 'friedman_mse', 'learning_rate': 0.1, 'max_depth': 2, 'n_estimators': 100}",
         "mean_test_score": 0.94,
         "std_test_score": 0.0689232415309995,
         "rank_test_score": 16,
         "mean_train_score": 1,
         "std_train_score": 0,
         "_deepnote_index_column": 23
        },
        {
         "mean_fit_time": 0.04371837615966797,
         "std_fit_time": 0.008744872104242235,
         "mean_score_time": 0.0025941944122314453,
         "std_score_time": 0.0005359422399752859,
         "param_criterion": "squared_error",
         "param_learning_rate": "0.1",
         "param_max_depth": "3",
         "param_n_estimators": "20",
         "params": "{'criterion': 'squared_error', 'learning_rate': 0.1, 'max_depth': 3, 'n_estimators': 20}",
         "mean_test_score": 0.94,
         "std_test_score": 0.0689232415309995,
         "rank_test_score": 16,
         "mean_train_score": 0.9995767077267638,
         "std_train_score": 0.0020737303985392543,
         "_deepnote_index_column": 51
        },
        {
         "mean_fit_time": 0.22517087936401367,
         "std_fit_time": 0.023781042453022868,
         "mean_score_time": 0.004000105857849121,
         "std_score_time": 0.0014553710312918183,
         "param_criterion": "friedman_mse",
         "param_learning_rate": "0.1",
         "param_max_depth": "1",
         "param_n_estimators": "100",
         "params": "{'criterion': 'friedman_mse', 'learning_rate': 0.1, 'max_depth': 1, 'n_estimators': 100}",
         "mean_test_score": 0.94,
         "std_test_score": 0.06595766235351655,
         "rank_test_score": 16,
         "mean_train_score": 0.9940828667413214,
         "std_train_score": 0.0052451317427752294,
         "_deepnote_index_column": 20
        },
        {
         "mean_fit_time": 0.1391719388961792,
         "std_fit_time": 0.03225751839587293,
         "mean_score_time": 0.0035359477996826172,
         "std_score_time": 0.0014590909246863426,
         "param_criterion": "friedman_mse",
         "param_learning_rate": "0.05",
         "param_max_depth": "3",
         "param_n_estimators": "50",
         "params": "{'criterion': 'friedman_mse', 'learning_rate': 0.05, 'max_depth': 3, 'n_estimators': 50}",
         "mean_test_score": 0.94,
         "std_test_score": 0.06648183745011717,
         "rank_test_score": 16,
         "mean_train_score": 1,
         "std_train_score": 0,
         "_deepnote_index_column": 16
        },
        {
         "mean_fit_time": 0.04266843795776367,
         "std_fit_time": 0.007631709756036128,
         "mean_score_time": 0.0025872373580932617,
         "std_score_time": 0.0006507014427555962,
         "param_criterion": "friedman_mse",
         "param_learning_rate": "0.05",
         "param_max_depth": "3",
         "param_n_estimators": "20",
         "params": "{'criterion': 'friedman_mse', 'learning_rate': 0.05, 'max_depth': 3, 'n_estimators': 20}",
         "mean_test_score": 0.94,
         "std_test_score": 0.0689232415309995,
         "rank_test_score": 16,
         "mean_train_score": 0.9949272116461367,
         "std_train_score": 0.005280059113167264,
         "_deepnote_index_column": 15
        },
        {
         "mean_fit_time": 0.04083999633789062,
         "std_fit_time": 0.006518876054888985,
         "mean_score_time": 0.0024635648727416993,
         "std_score_time": 0.0005141999367156107,
         "param_criterion": "friedman_mse",
         "param_learning_rate": "0.1",
         "param_max_depth": "3",
         "param_n_estimators": "20",
         "params": "{'criterion': 'friedman_mse', 'learning_rate': 0.1, 'max_depth': 3, 'n_estimators': 20}",
         "mean_test_score": 0.94,
         "std_test_score": 0.0689232415309995,
         "rank_test_score": 16,
         "mean_train_score": 0.9995767077267638,
         "std_train_score": 0.0020737303985392543,
         "_deepnote_index_column": 24
        },
        {
         "mean_fit_time": 0.040590887069702146,
         "std_fit_time": 0.005522037022035887,
         "mean_score_time": 0.0024167728424072266,
         "std_score_time": 0.0005526905287364816,
         "param_criterion": "squared_error",
         "param_learning_rate": "0.05",
         "param_max_depth": "3",
         "param_n_estimators": "20",
         "params": "{'criterion': 'squared_error', 'learning_rate': 0.05, 'max_depth': 3, 'n_estimators': 20}",
         "mean_test_score": 0.94,
         "std_test_score": 0.0689232415309995,
         "rank_test_score": 16,
         "mean_train_score": 0.9949272116461367,
         "std_train_score": 0.005280059113167264,
         "_deepnote_index_column": 42
        },
        {
         "mean_fit_time": 0.17631772994995118,
         "std_fit_time": 0.022163805975287436,
         "mean_score_time": 0.002822914123535156,
         "std_score_time": 0.0008720723192089522,
         "param_criterion": "squared_error",
         "param_learning_rate": "0.1",
         "param_max_depth": "2",
         "param_n_estimators": "100",
         "params": "{'criterion': 'squared_error', 'learning_rate': 0.1, 'max_depth': 2, 'n_estimators': 100}",
         "mean_test_score": 0.94,
         "std_test_score": 0.0689232415309995,
         "rank_test_score": 16,
         "mean_train_score": 1,
         "std_train_score": 0,
         "_deepnote_index_column": 50
        },
        {
         "mean_fit_time": 0.22328611850738525,
         "std_fit_time": 0.0453506460151437,
         "mean_score_time": 0.0029307699203491213,
         "std_score_time": 0.0008859392387263958,
         "param_criterion": "squared_error",
         "param_learning_rate": "0.05",
         "param_max_depth": "3",
         "param_n_estimators": "100",
         "params": "{'criterion': 'squared_error', 'learning_rate': 0.05, 'max_depth': 3, 'n_estimators': 100}",
         "mean_test_score": 0.9381818181818181,
         "std_test_score": 0.06605782590758162,
         "rank_test_score": 25,
         "mean_train_score": 1,
         "std_train_score": 0,
         "_deepnote_index_column": 44
        },
        {
         "mean_fit_time": 0.2048460388183594,
         "std_fit_time": 0.01923852707847827,
         "mean_score_time": 0.002650322914123535,
         "std_score_time": 0.0004582916205707352,
         "param_criterion": "friedman_mse",
         "param_learning_rate": "0.1",
         "param_max_depth": "3",
         "param_n_estimators": "100",
         "params": "{'criterion': 'friedman_mse', 'learning_rate': 0.1, 'max_depth': 3, 'n_estimators': 100}",
         "mean_test_score": 0.9381818181818181,
         "std_test_score": 0.06605782590758162,
         "rank_test_score": 25,
         "mean_train_score": 1,
         "std_train_score": 0,
         "_deepnote_index_column": 26
        },
        {
         "mean_fit_time": 0.25532849311828615,
         "std_fit_time": 0.0642965265828361,
         "mean_score_time": 0.003618621826171875,
         "std_score_time": 0.0019221656634527899,
         "param_criterion": "squared_error",
         "param_learning_rate": "0.1",
         "param_max_depth": "3",
         "param_n_estimators": "100",
         "params": "{'criterion': 'squared_error', 'learning_rate': 0.1, 'max_depth': 3, 'n_estimators': 100}",
         "mean_test_score": 0.9381818181818181,
         "std_test_score": 0.06605782590758162,
         "rank_test_score": 25,
         "mean_train_score": 1,
         "std_train_score": 0,
         "_deepnote_index_column": 53
        },
        {
         "mean_fit_time": 0.26483524322509766,
         "std_fit_time": 0.052122830910346106,
         "mean_score_time": 0.0033050298690795897,
         "std_score_time": 0.0008562250881601588,
         "param_criterion": "friedman_mse",
         "param_learning_rate": "0.05",
         "param_max_depth": "3",
         "param_n_estimators": "100",
         "params": "{'criterion': 'friedman_mse', 'learning_rate': 0.05, 'max_depth': 3, 'n_estimators': 100}",
         "mean_test_score": 0.9381818181818181,
         "std_test_score": 0.06605782590758162,
         "rank_test_score": 25,
         "mean_train_score": 1,
         "std_train_score": 0,
         "_deepnote_index_column": 17
        },
        {
         "mean_fit_time": 0.11057908535003662,
         "std_fit_time": 0.015246330955521767,
         "mean_score_time": 0.0027205801010131837,
         "std_score_time": 0.0005468579136433917,
         "param_criterion": "squared_error",
         "param_learning_rate": "0.1",
         "param_max_depth": "3",
         "param_n_estimators": "50",
         "params": "{'criterion': 'squared_error', 'learning_rate': 0.1, 'max_depth': 3, 'n_estimators': 50}",
         "mean_test_score": 0.9381818181818181,
         "std_test_score": 0.06605782590758162,
         "rank_test_score": 25,
         "mean_train_score": 1,
         "std_train_score": 0,
         "_deepnote_index_column": 52
        },
        {
         "mean_fit_time": 0.10233081340789794,
         "std_fit_time": 0.011506371195374355,
         "mean_score_time": 0.002550973892211914,
         "std_score_time": 0.0004225387113736554,
         "param_criterion": "friedman_mse",
         "param_learning_rate": "0.1",
         "param_max_depth": "3",
         "param_n_estimators": "50",
         "params": "{'criterion': 'friedman_mse', 'learning_rate': 0.1, 'max_depth': 3, 'n_estimators': 50}",
         "mean_test_score": 0.9381818181818181,
         "std_test_score": 0.06605782590758162,
         "rank_test_score": 25,
         "mean_train_score": 1,
         "std_train_score": 0,
         "_deepnote_index_column": 25
        },
        {
         "mean_fit_time": 0.22265327453613282,
         "std_fit_time": 0.022687334250654285,
         "mean_score_time": 0.0038971948623657228,
         "std_score_time": 0.0012551188563383882,
         "param_criterion": "friedman_mse",
         "param_learning_rate": "0.05",
         "param_max_depth": "1",
         "param_n_estimators": "100",
         "params": "{'criterion': 'friedman_mse', 'learning_rate': 0.05, 'max_depth': 1, 'n_estimators': 100}",
         "mean_test_score": 0.9363636363636363,
         "std_test_score": 0.07227129787037014,
         "rank_test_score": 31,
         "mean_train_score": 0.9769428891377379,
         "std_train_score": 0.010289496093399254,
         "_deepnote_index_column": 11
        },
        {
         "mean_fit_time": 0.14860848903656007,
         "std_fit_time": 0.017020512256309413,
         "mean_score_time": 0.0026252269744873047,
         "std_score_time": 0.0004181911545418291,
         "param_criterion": "squared_error",
         "param_learning_rate": "0.05",
         "param_max_depth": "1",
         "param_n_estimators": "100",
         "params": "{'criterion': 'squared_error', 'learning_rate': 0.05, 'max_depth': 1, 'n_estimators': 100}",
         "mean_test_score": 0.9363636363636363,
         "std_test_score": 0.07227129787037014,
         "rank_test_score": 31,
         "mean_train_score": 0.9769428891377379,
         "std_train_score": 0.010289496093399254,
         "_deepnote_index_column": 38
        },
        {
         "mean_fit_time": 0.07859642505645752,
         "std_fit_time": 0.013890833843760702,
         "mean_score_time": 0.0026764726638793947,
         "std_score_time": 0.0005315811124332003,
         "param_criterion": "friedman_mse",
         "param_learning_rate": "0.1",
         "param_max_depth": "1",
         "param_n_estimators": "50",
         "params": "{'criterion': 'friedman_mse', 'learning_rate': 0.1, 'max_depth': 1, 'n_estimators': 50}",
         "mean_test_score": 0.9363636363636363,
         "std_test_score": 0.07227129787037014,
         "rank_test_score": 31,
         "mean_train_score": 0.9773706606942888,
         "std_train_score": 0.011179914284284756,
         "_deepnote_index_column": 19
        },
        {
         "mean_fit_time": 0.11674543857574463,
         "std_fit_time": 0.013521476695373786,
         "mean_score_time": 0.0038986301422119143,
         "std_score_time": 0.0011882621335433132,
         "param_criterion": "squared_error",
         "param_learning_rate": "0.1",
         "param_max_depth": "1",
         "param_n_estimators": "50",
         "params": "{'criterion': 'squared_error', 'learning_rate': 0.1, 'max_depth': 1, 'n_estimators': 50}",
         "mean_test_score": 0.9363636363636363,
         "std_test_score": 0.07227129787037014,
         "rank_test_score": 31,
         "mean_train_score": 0.9773706606942888,
         "std_train_score": 0.011179914284284756,
         "_deepnote_index_column": 46
        },
        {
         "mean_fit_time": 0.036154589653015136,
         "std_fit_time": 0.006021738016423663,
         "mean_score_time": 0.00229372501373291,
         "std_score_time": 0.0004073366766867811,
         "param_criterion": "squared_error",
         "param_learning_rate": "0.05",
         "param_max_depth": "2",
         "param_n_estimators": "20",
         "params": "{'criterion': 'squared_error', 'learning_rate': 0.05, 'max_depth': 2, 'n_estimators': 20}",
         "mean_test_score": 0.9361818181818181,
         "std_test_score": 0.0710136757868534,
         "rank_test_score": 35,
         "mean_train_score": 0.9805397536394177,
         "std_train_score": 0.008278961635972156,
         "_deepnote_index_column": 39
        },
        {
         "mean_fit_time": 0.05239326477050781,
         "std_fit_time": 0.006599490443962282,
         "mean_score_time": 0.003455190658569336,
         "std_score_time": 0.000843523920208467,
         "param_criterion": "friedman_mse",
         "param_learning_rate": "0.05",
         "param_max_depth": "2",
         "param_n_estimators": "20",
         "params": "{'criterion': 'friedman_mse', 'learning_rate': 0.05, 'max_depth': 2, 'n_estimators': 20}",
         "mean_test_score": 0.9361818181818181,
         "std_test_score": 0.0710136757868534,
         "rank_test_score": 35,
         "mean_train_score": 0.9805397536394177,
         "std_train_score": 0.008278961635972156,
         "_deepnote_index_column": 12
        },
        {
         "mean_fit_time": 0.2388359546661377,
         "std_fit_time": 0.04126618483363657,
         "mean_score_time": 0.004827985763549805,
         "std_score_time": 0.008428015624760435,
         "param_criterion": "friedman_mse",
         "param_learning_rate": "0.01",
         "param_max_depth": "2",
         "param_n_estimators": "100",
         "params": "{'criterion': 'friedman_mse', 'learning_rate': 0.01, 'max_depth': 2, 'n_estimators': 100}",
         "mean_test_score": 0.9361818181818181,
         "std_test_score": 0.0710136757868534,
         "rank_test_score": 35,
         "mean_train_score": 0.9807525195968644,
         "std_train_score": 0.007209268385881195,
         "_deepnote_index_column": 5
        },
        {
         "mean_fit_time": 0.1698216438293457,
         "std_fit_time": 0.016079521137555227,
         "mean_score_time": 0.0027007341384887697,
         "std_score_time": 0.0005422411087105961,
         "param_criterion": "squared_error",
         "param_learning_rate": "0.01",
         "param_max_depth": "2",
         "param_n_estimators": "100",
         "params": "{'criterion': 'squared_error', 'learning_rate': 0.01, 'max_depth': 2, 'n_estimators': 100}",
         "mean_test_score": 0.9361818181818181,
         "std_test_score": 0.0710136757868534,
         "rank_test_score": 35,
         "mean_train_score": 0.9807525195968644,
         "std_train_score": 0.007209268385881195,
         "_deepnote_index_column": 32
        },
        {
         "mean_fit_time": 0.033250560760498045,
         "std_fit_time": 0.00569466612089229,
         "mean_score_time": 0.002441267967224121,
         "std_score_time": 0.0005236574936961231,
         "param_criterion": "friedman_mse",
         "param_learning_rate": "0.1",
         "param_max_depth": "1",
         "param_n_estimators": "20",
         "params": "{'criterion': 'friedman_mse', 'learning_rate': 0.1, 'max_depth': 1, 'n_estimators': 20}",
         "mean_test_score": 0.9287272727272727,
         "std_test_score": 0.07519363433581394,
         "rank_test_score": 39,
         "mean_train_score": 0.9634020156774915,
         "std_train_score": 0.012702829909884876,
         "_deepnote_index_column": 18
        },
        {
         "mean_fit_time": 0.04671973705291748,
         "std_fit_time": 0.005782677180839337,
         "mean_score_time": 0.0031276226043701174,
         "std_score_time": 0.0003116211930250597,
         "param_criterion": "squared_error",
         "param_learning_rate": "0.1",
         "param_max_depth": "1",
         "param_n_estimators": "20",
         "params": "{'criterion': 'squared_error', 'learning_rate': 0.1, 'max_depth': 1, 'n_estimators': 20}",
         "mean_test_score": 0.9287272727272727,
         "std_test_score": 0.07519363433581394,
         "rank_test_score": 39,
         "mean_train_score": 0.9634020156774915,
         "std_train_score": 0.012702829909884876,
         "_deepnote_index_column": 45
        },
        {
         "mean_fit_time": 0.0804351043701172,
         "std_fit_time": 0.014312468341465235,
         "mean_score_time": 0.002732381820678711,
         "std_score_time": 0.0007160438934289856,
         "param_criterion": "squared_error",
         "param_learning_rate": "0.05",
         "param_max_depth": "1",
         "param_n_estimators": "50",
         "params": "{'criterion': 'squared_error', 'learning_rate': 0.05, 'max_depth': 1, 'n_estimators': 50}",
         "mean_test_score": 0.9287272727272727,
         "std_test_score": 0.07519363433581394,
         "rank_test_score": 39,
         "mean_train_score": 0.9653079507278836,
         "std_train_score": 0.012313711958529523,
         "_deepnote_index_column": 37
        },
        {
         "mean_fit_time": 0.1135783290863037,
         "std_fit_time": 0.014379186877274925,
         "mean_score_time": 0.003566412925720215,
         "std_score_time": 0.0006246202306998325,
         "param_criterion": "friedman_mse",
         "param_learning_rate": "0.05",
         "param_max_depth": "1",
         "param_n_estimators": "50",
         "params": "{'criterion': 'friedman_mse', 'learning_rate': 0.05, 'max_depth': 1, 'n_estimators': 50}",
         "mean_test_score": 0.9287272727272727,
         "std_test_score": 0.07519363433581394,
         "rank_test_score": 39,
         "mean_train_score": 0.9653079507278836,
         "std_train_score": 0.012313711958529523,
         "_deepnote_index_column": 10
        },
        {
         "mean_fit_time": 0.08513527393341064,
         "std_fit_time": 0.008732340153460347,
         "mean_score_time": 0.0026042652130126953,
         "std_score_time": 0.0004818827139253615,
         "param_criterion": "squared_error",
         "param_learning_rate": "0.01",
         "param_max_depth": "2",
         "param_n_estimators": "50",
         "params": "{'criterion': 'squared_error', 'learning_rate': 0.01, 'max_depth': 2, 'n_estimators': 50}",
         "mean_test_score": 0.9283636363636364,
         "std_test_score": 0.07127272727272727,
         "rank_test_score": 43,
         "mean_train_score": 0.9684949608062711,
         "std_train_score": 0.01143627371005868,
         "_deepnote_index_column": 31
        },
        {
         "mean_fit_time": 0.08594659328460694,
         "std_fit_time": 0.010081470928899775,
         "mean_score_time": 0.0025313520431518555,
         "std_score_time": 0.0004382649952928542,
         "param_criterion": "friedman_mse",
         "param_learning_rate": "0.01",
         "param_max_depth": "2",
         "param_n_estimators": "50",
         "params": "{'criterion': 'friedman_mse', 'learning_rate': 0.01, 'max_depth': 2, 'n_estimators': 50}",
         "mean_test_score": 0.9283636363636364,
         "std_test_score": 0.07127272727272727,
         "rank_test_score": 43,
         "mean_train_score": 0.9684949608062711,
         "std_train_score": 0.01143627371005868,
         "_deepnote_index_column": 4
        },
        {
         "mean_fit_time": 0.035853495597839354,
         "std_fit_time": 0.0049407983777935965,
         "mean_score_time": 0.0022457933425903322,
         "std_score_time": 0.0004218839769281779,
         "param_criterion": "squared_error",
         "param_learning_rate": "0.01",
         "param_max_depth": "2",
         "param_n_estimators": "20",
         "params": "{'criterion': 'squared_error', 'learning_rate': 0.01, 'max_depth': 2, 'n_estimators': 20}",
         "mean_test_score": 0.9265454545454546,
         "std_test_score": 0.07057824917209513,
         "rank_test_score": 45,
         "mean_train_score": 0.964040313549832,
         "std_train_score": 0.009177548698979451,
         "_deepnote_index_column": 30
        },
        {
         "mean_fit_time": 0.035063228607177734,
         "std_fit_time": 0.004597634654940319,
         "mean_score_time": 0.0023504447937011718,
         "std_score_time": 0.0004313110057889884,
         "param_criterion": "friedman_mse",
         "param_learning_rate": "0.01",
         "param_max_depth": "2",
         "param_n_estimators": "20",
         "params": "{'criterion': 'friedman_mse', 'learning_rate': 0.01, 'max_depth': 2, 'n_estimators': 20}",
         "mean_test_score": 0.9265454545454546,
         "std_test_score": 0.07057824917209513,
         "rank_test_score": 45,
         "mean_train_score": 0.964040313549832,
         "std_train_score": 0.009177548698979451,
         "_deepnote_index_column": 3
        },
        {
         "mean_fit_time": 0.07350659370422363,
         "std_fit_time": 0.005733075108257224,
         "mean_score_time": 0.002435746192932129,
         "std_score_time": 0.00033752687709015945,
         "param_criterion": "friedman_mse",
         "param_learning_rate": "0.01",
         "param_max_depth": "1",
         "param_n_estimators": "50",
         "params": "{'criterion': 'friedman_mse', 'learning_rate': 0.01, 'max_depth': 1, 'n_estimators': 50}",
         "mean_test_score": 0.9156363636363636,
         "std_test_score": 0.08304215796810677,
         "rank_test_score": 47,
         "mean_train_score": 0.9521948488241881,
         "std_train_score": 0.012470606510119544,
         "_deepnote_index_column": 1
        },
        {
         "mean_fit_time": 0.035325360298156736,
         "std_fit_time": 0.0072469332075127645,
         "mean_score_time": 0.0026642370223999025,
         "std_score_time": 0.0006820237443778254,
         "param_criterion": "squared_error",
         "param_learning_rate": "0.01",
         "param_max_depth": "1",
         "param_n_estimators": "20",
         "params": "{'criterion': 'squared_error', 'learning_rate': 0.01, 'max_depth': 1, 'n_estimators': 20}",
         "mean_test_score": 0.9156363636363636,
         "std_test_score": 0.08304215796810677,
         "rank_test_score": 47,
         "mean_train_score": 0.9566270996640537,
         "std_train_score": 0.007921826245375747,
         "_deepnote_index_column": 27
        },
        {
         "mean_fit_time": 0.07699897766113281,
         "std_fit_time": 0.012563426182173118,
         "mean_score_time": 0.002558097839355469,
         "std_score_time": 0.00047792572736512205,
         "param_criterion": "squared_error",
         "param_learning_rate": "0.01",
         "param_max_depth": "1",
         "param_n_estimators": "50",
         "params": "{'criterion': 'squared_error', 'learning_rate': 0.01, 'max_depth': 1, 'n_estimators': 50}",
         "mean_test_score": 0.9156363636363636,
         "std_test_score": 0.08304215796810677,
         "rank_test_score": 47,
         "mean_train_score": 0.9521948488241881,
         "std_train_score": 0.012470606510119544,
         "_deepnote_index_column": 28
        },
        {
         "mean_fit_time": 0.034162282943725586,
         "std_fit_time": 0.0062576339117506865,
         "mean_score_time": 0.0025316476821899414,
         "std_score_time": 0.0005938808415069076,
         "param_criterion": "friedman_mse",
         "param_learning_rate": "0.01",
         "param_max_depth": "1",
         "param_n_estimators": "20",
         "params": "{'criterion': 'friedman_mse', 'learning_rate': 0.01, 'max_depth': 1, 'n_estimators': 20}",
         "mean_test_score": 0.9156363636363636,
         "std_test_score": 0.08304215796810677,
         "rank_test_score": 47,
         "mean_train_score": 0.9566270996640537,
         "std_train_score": 0.007921826245375747,
         "_deepnote_index_column": 0
        },
        {
         "mean_fit_time": 0.03174245357513428,
         "std_fit_time": 0.004551165583704712,
         "mean_score_time": 0.0023400306701660155,
         "std_score_time": 0.0004257684619629403,
         "param_criterion": "squared_error",
         "param_learning_rate": "0.05",
         "param_max_depth": "1",
         "param_n_estimators": "20",
         "params": "{'criterion': 'squared_error', 'learning_rate': 0.05, 'max_depth': 1, 'n_estimators': 20}",
         "mean_test_score": 0.9138181818181818,
         "std_test_score": 0.0860950848560104,
         "rank_test_score": 51,
         "mean_train_score": 0.956219484882419,
         "std_train_score": 0.0142510910003445,
         "_deepnote_index_column": 36
        },
        {
         "mean_fit_time": 0.14916194438934327,
         "std_fit_time": 0.01779590449806212,
         "mean_score_time": 0.002621440887451172,
         "std_score_time": 0.0004268874522583024,
         "param_criterion": "squared_error",
         "param_learning_rate": "0.01",
         "param_max_depth": "1",
         "param_n_estimators": "100",
         "params": "{'criterion': 'squared_error', 'learning_rate': 0.01, 'max_depth': 1, 'n_estimators': 100}",
         "mean_test_score": 0.9138181818181818,
         "std_test_score": 0.0860950848560104,
         "rank_test_score": 51,
         "mean_train_score": 0.9570660694288915,
         "std_train_score": 0.014924821439574795,
         "_deepnote_index_column": 29
        },
        {
         "mean_fit_time": 0.15254803657531738,
         "std_fit_time": 0.017994673465801518,
         "mean_score_time": 0.002660360336303711,
         "std_score_time": 0.00048516206387171285,
         "param_criterion": "friedman_mse",
         "param_learning_rate": "0.01",
         "param_max_depth": "1",
         "param_n_estimators": "100",
         "params": "{'criterion': 'friedman_mse', 'learning_rate': 0.01, 'max_depth': 1, 'n_estimators': 100}",
         "mean_test_score": 0.9138181818181818,
         "std_test_score": 0.0860950848560104,
         "rank_test_score": 51,
         "mean_train_score": 0.9570660694288915,
         "std_train_score": 0.014924821439574795,
         "_deepnote_index_column": 2
        },
        {
         "mean_fit_time": 0.04755885601043701,
         "std_fit_time": 0.005458216078110028,
         "mean_score_time": 0.003309907913208008,
         "std_score_time": 0.0006019954332069318,
         "param_criterion": "friedman_mse",
         "param_learning_rate": "0.05",
         "param_max_depth": "1",
         "param_n_estimators": "20",
         "params": "{'criterion': 'friedman_mse', 'learning_rate': 0.05, 'max_depth': 1, 'n_estimators': 20}",
         "mean_test_score": 0.9138181818181818,
         "std_test_score": 0.0860950848560104,
         "rank_test_score": 51,
         "mean_train_score": 0.956219484882419,
         "std_train_score": 0.0142510910003445,
         "_deepnote_index_column": 9
        }
       ],
       "rows_bottom": null
      },
      "text/plain": "    mean_fit_time  std_fit_time  mean_score_time  std_score_time  \\\n34       0.096070      0.010888         0.002550        0.000534   \n7        0.147358      0.016821         0.003671        0.000848   \n41       0.211096      0.049863         0.003075        0.000665   \n22       0.134073      0.014913         0.003847        0.001144   \n49       0.086746      0.010089         0.002508        0.000381   \n14       0.207608      0.042866         0.003320        0.001909   \n33       0.039895      0.004654         0.002274        0.000463   \n6        0.059750      0.007770         0.003324        0.000819   \n8        0.289091      0.025164         0.004007        0.001220   \n21       0.054059      0.008954         0.003432        0.000696   \n13       0.127177      0.012702         0.003718        0.001175   \n48       0.034947      0.003391         0.002328        0.000329   \n40       0.087521      0.012537         0.002471        0.000382   \n35       0.195894      0.023232         0.002722        0.000566   \n43       0.096727      0.008757         0.002431        0.000367   \n47       0.170499      0.032187         0.003030        0.000710   \n23       0.197011      0.045488         0.002954        0.000777   \n51       0.043718      0.008745         0.002594        0.000536   \n20       0.225171      0.023781         0.004000        0.001455   \n16       0.139172      0.032258         0.003536        0.001459   \n15       0.042668      0.007632         0.002587        0.000651   \n24       0.040840      0.006519         0.002464        0.000514   \n42       0.040591      0.005522         0.002417        0.000553   \n50       0.176318      0.022164         0.002823        0.000872   \n44       0.223286      0.045351         0.002931        0.000886   \n26       0.204846      0.019239         0.002650        0.000458   \n53       0.255328      0.064297         0.003619        0.001922   \n17       0.264835      0.052123         0.003305        0.000856   \n52       0.110579      0.015246         0.002721        0.000547   \n25       0.102331      0.011506         0.002551        0.000423   \n11       0.222653      0.022687         0.003897        0.001255   \n38       0.148608      0.017021         0.002625        0.000418   \n19       0.078596      0.013891         0.002676        0.000532   \n46       0.116745      0.013521         0.003899        0.001188   \n39       0.036155      0.006022         0.002294        0.000407   \n12       0.052393      0.006599         0.003455        0.000844   \n5        0.238836      0.041266         0.004828        0.008428   \n32       0.169822      0.016080         0.002701        0.000542   \n18       0.033251      0.005695         0.002441        0.000524   \n45       0.046720      0.005783         0.003128        0.000312   \n37       0.080435      0.014312         0.002732        0.000716   \n10       0.113578      0.014379         0.003566        0.000625   \n31       0.085135      0.008732         0.002604        0.000482   \n4        0.085947      0.010081         0.002531        0.000438   \n30       0.035853      0.004941         0.002246        0.000422   \n3        0.035063      0.004598         0.002350        0.000431   \n1        0.073507      0.005733         0.002436        0.000338   \n27       0.035325      0.007247         0.002664        0.000682   \n28       0.076999      0.012563         0.002558        0.000478   \n0        0.034162      0.006258         0.002532        0.000594   \n36       0.031742      0.004551         0.002340        0.000426   \n29       0.149162      0.017796         0.002621        0.000427   \n2        0.152548      0.017995         0.002660        0.000485   \n9        0.047559      0.005458         0.003310        0.000602   \n\n   param_criterion param_learning_rate param_max_depth param_n_estimators  \\\n34   squared_error                0.01               3                 50   \n7     friedman_mse                0.01               3                 50   \n41   squared_error                0.05               2                100   \n22    friedman_mse                 0.1               2                 50   \n49   squared_error                 0.1               2                 50   \n14    friedman_mse                0.05               2                100   \n33   squared_error                0.01               3                 20   \n6     friedman_mse                0.01               3                 20   \n8     friedman_mse                0.01               3                100   \n21    friedman_mse                 0.1               2                 20   \n13    friedman_mse                0.05               2                 50   \n48   squared_error                 0.1               2                 20   \n40   squared_error                0.05               2                 50   \n35   squared_error                0.01               3                100   \n43   squared_error                0.05               3                 50   \n47   squared_error                 0.1               1                100   \n23    friedman_mse                 0.1               2                100   \n51   squared_error                 0.1               3                 20   \n20    friedman_mse                 0.1               1                100   \n16    friedman_mse                0.05               3                 50   \n15    friedman_mse                0.05               3                 20   \n24    friedman_mse                 0.1               3                 20   \n42   squared_error                0.05               3                 20   \n50   squared_error                 0.1               2                100   \n44   squared_error                0.05               3                100   \n26    friedman_mse                 0.1               3                100   \n53   squared_error                 0.1               3                100   \n17    friedman_mse                0.05               3                100   \n52   squared_error                 0.1               3                 50   \n25    friedman_mse                 0.1               3                 50   \n11    friedman_mse                0.05               1                100   \n38   squared_error                0.05               1                100   \n19    friedman_mse                 0.1               1                 50   \n46   squared_error                 0.1               1                 50   \n39   squared_error                0.05               2                 20   \n12    friedman_mse                0.05               2                 20   \n5     friedman_mse                0.01               2                100   \n32   squared_error                0.01               2                100   \n18    friedman_mse                 0.1               1                 20   \n45   squared_error                 0.1               1                 20   \n37   squared_error                0.05               1                 50   \n10    friedman_mse                0.05               1                 50   \n31   squared_error                0.01               2                 50   \n4     friedman_mse                0.01               2                 50   \n30   squared_error                0.01               2                 20   \n3     friedman_mse                0.01               2                 20   \n1     friedman_mse                0.01               1                 50   \n27   squared_error                0.01               1                 20   \n28   squared_error                0.01               1                 50   \n0     friedman_mse                0.01               1                 20   \n36   squared_error                0.05               1                 20   \n29   squared_error                0.01               1                100   \n2     friedman_mse                0.01               1                100   \n9     friedman_mse                0.05               1                 20   \n\n                                               params  mean_test_score  \\\n34  {'criterion': 'squared_error', 'learning_rate'...         0.946000   \n7   {'criterion': 'friedman_mse', 'learning_rate':...         0.946000   \n41  {'criterion': 'squared_error', 'learning_rate'...         0.943818   \n22  {'criterion': 'friedman_mse', 'learning_rate':...         0.943818   \n49  {'criterion': 'squared_error', 'learning_rate'...         0.943818   \n14  {'criterion': 'friedman_mse', 'learning_rate':...         0.943818   \n33  {'criterion': 'squared_error', 'learning_rate'...         0.942182   \n6   {'criterion': 'friedman_mse', 'learning_rate':...         0.942182   \n8   {'criterion': 'friedman_mse', 'learning_rate':...         0.942000   \n21  {'criterion': 'friedman_mse', 'learning_rate':...         0.942000   \n13  {'criterion': 'friedman_mse', 'learning_rate':...         0.942000   \n48  {'criterion': 'squared_error', 'learning_rate'...         0.942000   \n40  {'criterion': 'squared_error', 'learning_rate'...         0.942000   \n35  {'criterion': 'squared_error', 'learning_rate'...         0.942000   \n43  {'criterion': 'squared_error', 'learning_rate'...         0.941818   \n47  {'criterion': 'squared_error', 'learning_rate'...         0.940000   \n23  {'criterion': 'friedman_mse', 'learning_rate':...         0.940000   \n51  {'criterion': 'squared_error', 'learning_rate'...         0.940000   \n20  {'criterion': 'friedman_mse', 'learning_rate':...         0.940000   \n16  {'criterion': 'friedman_mse', 'learning_rate':...         0.940000   \n15  {'criterion': 'friedman_mse', 'learning_rate':...         0.940000   \n24  {'criterion': 'friedman_mse', 'learning_rate':...         0.940000   \n42  {'criterion': 'squared_error', 'learning_rate'...         0.940000   \n50  {'criterion': 'squared_error', 'learning_rate'...         0.940000   \n44  {'criterion': 'squared_error', 'learning_rate'...         0.938182   \n26  {'criterion': 'friedman_mse', 'learning_rate':...         0.938182   \n53  {'criterion': 'squared_error', 'learning_rate'...         0.938182   \n17  {'criterion': 'friedman_mse', 'learning_rate':...         0.938182   \n52  {'criterion': 'squared_error', 'learning_rate'...         0.938182   \n25  {'criterion': 'friedman_mse', 'learning_rate':...         0.938182   \n11  {'criterion': 'friedman_mse', 'learning_rate':...         0.936364   \n38  {'criterion': 'squared_error', 'learning_rate'...         0.936364   \n19  {'criterion': 'friedman_mse', 'learning_rate':...         0.936364   \n46  {'criterion': 'squared_error', 'learning_rate'...         0.936364   \n39  {'criterion': 'squared_error', 'learning_rate'...         0.936182   \n12  {'criterion': 'friedman_mse', 'learning_rate':...         0.936182   \n5   {'criterion': 'friedman_mse', 'learning_rate':...         0.936182   \n32  {'criterion': 'squared_error', 'learning_rate'...         0.936182   \n18  {'criterion': 'friedman_mse', 'learning_rate':...         0.928727   \n45  {'criterion': 'squared_error', 'learning_rate'...         0.928727   \n37  {'criterion': 'squared_error', 'learning_rate'...         0.928727   \n10  {'criterion': 'friedman_mse', 'learning_rate':...         0.928727   \n31  {'criterion': 'squared_error', 'learning_rate'...         0.928364   \n4   {'criterion': 'friedman_mse', 'learning_rate':...         0.928364   \n30  {'criterion': 'squared_error', 'learning_rate'...         0.926545   \n3   {'criterion': 'friedman_mse', 'learning_rate':...         0.926545   \n1   {'criterion': 'friedman_mse', 'learning_rate':...         0.915636   \n27  {'criterion': 'squared_error', 'learning_rate'...         0.915636   \n28  {'criterion': 'squared_error', 'learning_rate'...         0.915636   \n0   {'criterion': 'friedman_mse', 'learning_rate':...         0.915636   \n36  {'criterion': 'squared_error', 'learning_rate'...         0.913818   \n29  {'criterion': 'squared_error', 'learning_rate'...         0.913818   \n2   {'criterion': 'friedman_mse', 'learning_rate':...         0.913818   \n9   {'criterion': 'friedman_mse', 'learning_rate':...         0.913818   \n\n    std_test_score  rank_test_score  mean_train_score  std_train_score  \n34        0.071383                1          0.993234         0.005075  \n7         0.071383                1          0.993234         0.005075  \n41        0.067068                3          1.000000         0.000000  \n22        0.067068                3          1.000000         0.000000  \n49        0.067068                3          1.000000         0.000000  \n14        0.067068                3          1.000000         0.000000  \n33        0.066127                7          0.986253         0.007693  \n6         0.066127                7          0.986676         0.007857  \n8         0.069184                9          0.994714         0.005286  \n21        0.066752                9          0.993651         0.005994  \n13        0.066752                9          0.997884         0.004233  \n48        0.066752                9          0.993651         0.005994  \n40        0.066752                9          0.997884         0.004233  \n35        0.069184                9          0.994714         0.005286  \n43        0.066854               15          1.000000         0.000000  \n47        0.065958               16          0.994083         0.005245  \n23        0.068923               16          1.000000         0.000000  \n51        0.068923               16          0.999577         0.002074  \n20        0.065958               16          0.994083         0.005245  \n16        0.066482               16          1.000000         0.000000  \n15        0.068923               16          0.994927         0.005280  \n24        0.068923               16          0.999577         0.002074  \n42        0.068923               16          0.994927         0.005280  \n50        0.068923               16          1.000000         0.000000  \n44        0.066058               25          1.000000         0.000000  \n26        0.066058               25          1.000000         0.000000  \n53        0.066058               25          1.000000         0.000000  \n17        0.066058               25          1.000000         0.000000  \n52        0.066058               25          1.000000         0.000000  \n25        0.066058               25          1.000000         0.000000  \n11        0.072271               31          0.976943         0.010289  \n38        0.072271               31          0.976943         0.010289  \n19        0.072271               31          0.977371         0.011180  \n46        0.072271               31          0.977371         0.011180  \n39        0.071014               35          0.980540         0.008279  \n12        0.071014               35          0.980540         0.008279  \n5         0.071014               35          0.980753         0.007209  \n32        0.071014               35          0.980753         0.007209  \n18        0.075194               39          0.963402         0.012703  \n45        0.075194               39          0.963402         0.012703  \n37        0.075194               39          0.965308         0.012314  \n10        0.075194               39          0.965308         0.012314  \n31        0.071273               43          0.968495         0.011436  \n4         0.071273               43          0.968495         0.011436  \n30        0.070578               45          0.964040         0.009178  \n3         0.070578               45          0.964040         0.009178  \n1         0.083042               47          0.952195         0.012471  \n27        0.083042               47          0.956627         0.007922  \n28        0.083042               47          0.952195         0.012471  \n0         0.083042               47          0.956627         0.007922  \n36        0.086095               51          0.956219         0.014251  \n29        0.086095               51          0.957066         0.014925  \n2         0.086095               51          0.957066         0.014925  \n9         0.086095               51          0.956219         0.014251  ",
      "text/html": "<div>\n<style scoped>\n    .dataframe tbody tr th:only-of-type {\n        vertical-align: middle;\n    }\n\n    .dataframe tbody tr th {\n        vertical-align: top;\n    }\n\n    .dataframe thead th {\n        text-align: right;\n    }\n</style>\n<table border=\"1\" class=\"dataframe\">\n  <thead>\n    <tr style=\"text-align: right;\">\n      <th></th>\n      <th>mean_fit_time</th>\n      <th>std_fit_time</th>\n      <th>mean_score_time</th>\n      <th>std_score_time</th>\n      <th>param_criterion</th>\n      <th>param_learning_rate</th>\n      <th>param_max_depth</th>\n      <th>param_n_estimators</th>\n      <th>params</th>\n      <th>mean_test_score</th>\n      <th>std_test_score</th>\n      <th>rank_test_score</th>\n      <th>mean_train_score</th>\n      <th>std_train_score</th>\n    </tr>\n  </thead>\n  <tbody>\n    <tr>\n      <th>34</th>\n      <td>0.096070</td>\n      <td>0.010888</td>\n      <td>0.002550</td>\n      <td>0.000534</td>\n      <td>squared_error</td>\n      <td>0.01</td>\n      <td>3</td>\n      <td>50</td>\n      <td>{'criterion': 'squared_error', 'learning_rate'...</td>\n      <td>0.946000</td>\n      <td>0.071383</td>\n      <td>1</td>\n      <td>0.993234</td>\n      <td>0.005075</td>\n    </tr>\n    <tr>\n      <th>7</th>\n      <td>0.147358</td>\n      <td>0.016821</td>\n      <td>0.003671</td>\n      <td>0.000848</td>\n      <td>friedman_mse</td>\n      <td>0.01</td>\n      <td>3</td>\n      <td>50</td>\n      <td>{'criterion': 'friedman_mse', 'learning_rate':...</td>\n      <td>0.946000</td>\n      <td>0.071383</td>\n      <td>1</td>\n      <td>0.993234</td>\n      <td>0.005075</td>\n    </tr>\n    <tr>\n      <th>41</th>\n      <td>0.211096</td>\n      <td>0.049863</td>\n      <td>0.003075</td>\n      <td>0.000665</td>\n      <td>squared_error</td>\n      <td>0.05</td>\n      <td>2</td>\n      <td>100</td>\n      <td>{'criterion': 'squared_error', 'learning_rate'...</td>\n      <td>0.943818</td>\n      <td>0.067068</td>\n      <td>3</td>\n      <td>1.000000</td>\n      <td>0.000000</td>\n    </tr>\n    <tr>\n      <th>22</th>\n      <td>0.134073</td>\n      <td>0.014913</td>\n      <td>0.003847</td>\n      <td>0.001144</td>\n      <td>friedman_mse</td>\n      <td>0.1</td>\n      <td>2</td>\n      <td>50</td>\n      <td>{'criterion': 'friedman_mse', 'learning_rate':...</td>\n      <td>0.943818</td>\n      <td>0.067068</td>\n      <td>3</td>\n      <td>1.000000</td>\n      <td>0.000000</td>\n    </tr>\n    <tr>\n      <th>49</th>\n      <td>0.086746</td>\n      <td>0.010089</td>\n      <td>0.002508</td>\n      <td>0.000381</td>\n      <td>squared_error</td>\n      <td>0.1</td>\n      <td>2</td>\n      <td>50</td>\n      <td>{'criterion': 'squared_error', 'learning_rate'...</td>\n      <td>0.943818</td>\n      <td>0.067068</td>\n      <td>3</td>\n      <td>1.000000</td>\n      <td>0.000000</td>\n    </tr>\n    <tr>\n      <th>14</th>\n      <td>0.207608</td>\n      <td>0.042866</td>\n      <td>0.003320</td>\n      <td>0.001909</td>\n      <td>friedman_mse</td>\n      <td>0.05</td>\n      <td>2</td>\n      <td>100</td>\n      <td>{'criterion': 'friedman_mse', 'learning_rate':...</td>\n      <td>0.943818</td>\n      <td>0.067068</td>\n      <td>3</td>\n      <td>1.000000</td>\n      <td>0.000000</td>\n    </tr>\n    <tr>\n      <th>33</th>\n      <td>0.039895</td>\n      <td>0.004654</td>\n      <td>0.002274</td>\n      <td>0.000463</td>\n      <td>squared_error</td>\n      <td>0.01</td>\n      <td>3</td>\n      <td>20</td>\n      <td>{'criterion': 'squared_error', 'learning_rate'...</td>\n      <td>0.942182</td>\n      <td>0.066127</td>\n      <td>7</td>\n      <td>0.986253</td>\n      <td>0.007693</td>\n    </tr>\n    <tr>\n      <th>6</th>\n      <td>0.059750</td>\n      <td>0.007770</td>\n      <td>0.003324</td>\n      <td>0.000819</td>\n      <td>friedman_mse</td>\n      <td>0.01</td>\n      <td>3</td>\n      <td>20</td>\n      <td>{'criterion': 'friedman_mse', 'learning_rate':...</td>\n      <td>0.942182</td>\n      <td>0.066127</td>\n      <td>7</td>\n      <td>0.986676</td>\n      <td>0.007857</td>\n    </tr>\n    <tr>\n      <th>8</th>\n      <td>0.289091</td>\n      <td>0.025164</td>\n      <td>0.004007</td>\n      <td>0.001220</td>\n      <td>friedman_mse</td>\n      <td>0.01</td>\n      <td>3</td>\n      <td>100</td>\n      <td>{'criterion': 'friedman_mse', 'learning_rate':...</td>\n      <td>0.942000</td>\n      <td>0.069184</td>\n      <td>9</td>\n      <td>0.994714</td>\n      <td>0.005286</td>\n    </tr>\n    <tr>\n      <th>21</th>\n      <td>0.054059</td>\n      <td>0.008954</td>\n      <td>0.003432</td>\n      <td>0.000696</td>\n      <td>friedman_mse</td>\n      <td>0.1</td>\n      <td>2</td>\n      <td>20</td>\n      <td>{'criterion': 'friedman_mse', 'learning_rate':...</td>\n      <td>0.942000</td>\n      <td>0.066752</td>\n      <td>9</td>\n      <td>0.993651</td>\n      <td>0.005994</td>\n    </tr>\n    <tr>\n      <th>13</th>\n      <td>0.127177</td>\n      <td>0.012702</td>\n      <td>0.003718</td>\n      <td>0.001175</td>\n      <td>friedman_mse</td>\n      <td>0.05</td>\n      <td>2</td>\n      <td>50</td>\n      <td>{'criterion': 'friedman_mse', 'learning_rate':...</td>\n      <td>0.942000</td>\n      <td>0.066752</td>\n      <td>9</td>\n      <td>0.997884</td>\n      <td>0.004233</td>\n    </tr>\n    <tr>\n      <th>48</th>\n      <td>0.034947</td>\n      <td>0.003391</td>\n      <td>0.002328</td>\n      <td>0.000329</td>\n      <td>squared_error</td>\n      <td>0.1</td>\n      <td>2</td>\n      <td>20</td>\n      <td>{'criterion': 'squared_error', 'learning_rate'...</td>\n      <td>0.942000</td>\n      <td>0.066752</td>\n      <td>9</td>\n      <td>0.993651</td>\n      <td>0.005994</td>\n    </tr>\n    <tr>\n      <th>40</th>\n      <td>0.087521</td>\n      <td>0.012537</td>\n      <td>0.002471</td>\n      <td>0.000382</td>\n      <td>squared_error</td>\n      <td>0.05</td>\n      <td>2</td>\n      <td>50</td>\n      <td>{'criterion': 'squared_error', 'learning_rate'...</td>\n      <td>0.942000</td>\n      <td>0.066752</td>\n      <td>9</td>\n      <td>0.997884</td>\n      <td>0.004233</td>\n    </tr>\n    <tr>\n      <th>35</th>\n      <td>0.195894</td>\n      <td>0.023232</td>\n      <td>0.002722</td>\n      <td>0.000566</td>\n      <td>squared_error</td>\n      <td>0.01</td>\n      <td>3</td>\n      <td>100</td>\n      <td>{'criterion': 'squared_error', 'learning_rate'...</td>\n      <td>0.942000</td>\n      <td>0.069184</td>\n      <td>9</td>\n      <td>0.994714</td>\n      <td>0.005286</td>\n    </tr>\n    <tr>\n      <th>43</th>\n      <td>0.096727</td>\n      <td>0.008757</td>\n      <td>0.002431</td>\n      <td>0.000367</td>\n      <td>squared_error</td>\n      <td>0.05</td>\n      <td>3</td>\n      <td>50</td>\n      <td>{'criterion': 'squared_error', 'learning_rate'...</td>\n      <td>0.941818</td>\n      <td>0.066854</td>\n      <td>15</td>\n      <td>1.000000</td>\n      <td>0.000000</td>\n    </tr>\n    <tr>\n      <th>47</th>\n      <td>0.170499</td>\n      <td>0.032187</td>\n      <td>0.003030</td>\n      <td>0.000710</td>\n      <td>squared_error</td>\n      <td>0.1</td>\n      <td>1</td>\n      <td>100</td>\n      <td>{'criterion': 'squared_error', 'learning_rate'...</td>\n      <td>0.940000</td>\n      <td>0.065958</td>\n      <td>16</td>\n      <td>0.994083</td>\n      <td>0.005245</td>\n    </tr>\n    <tr>\n      <th>23</th>\n      <td>0.197011</td>\n      <td>0.045488</td>\n      <td>0.002954</td>\n      <td>0.000777</td>\n      <td>friedman_mse</td>\n      <td>0.1</td>\n      <td>2</td>\n      <td>100</td>\n      <td>{'criterion': 'friedman_mse', 'learning_rate':...</td>\n      <td>0.940000</td>\n      <td>0.068923</td>\n      <td>16</td>\n      <td>1.000000</td>\n      <td>0.000000</td>\n    </tr>\n    <tr>\n      <th>51</th>\n      <td>0.043718</td>\n      <td>0.008745</td>\n      <td>0.002594</td>\n      <td>0.000536</td>\n      <td>squared_error</td>\n      <td>0.1</td>\n      <td>3</td>\n      <td>20</td>\n      <td>{'criterion': 'squared_error', 'learning_rate'...</td>\n      <td>0.940000</td>\n      <td>0.068923</td>\n      <td>16</td>\n      <td>0.999577</td>\n      <td>0.002074</td>\n    </tr>\n    <tr>\n      <th>20</th>\n      <td>0.225171</td>\n      <td>0.023781</td>\n      <td>0.004000</td>\n      <td>0.001455</td>\n      <td>friedman_mse</td>\n      <td>0.1</td>\n      <td>1</td>\n      <td>100</td>\n      <td>{'criterion': 'friedman_mse', 'learning_rate':...</td>\n      <td>0.940000</td>\n      <td>0.065958</td>\n      <td>16</td>\n      <td>0.994083</td>\n      <td>0.005245</td>\n    </tr>\n    <tr>\n      <th>16</th>\n      <td>0.139172</td>\n      <td>0.032258</td>\n      <td>0.003536</td>\n      <td>0.001459</td>\n      <td>friedman_mse</td>\n      <td>0.05</td>\n      <td>3</td>\n      <td>50</td>\n      <td>{'criterion': 'friedman_mse', 'learning_rate':...</td>\n      <td>0.940000</td>\n      <td>0.066482</td>\n      <td>16</td>\n      <td>1.000000</td>\n      <td>0.000000</td>\n    </tr>\n    <tr>\n      <th>15</th>\n      <td>0.042668</td>\n      <td>0.007632</td>\n      <td>0.002587</td>\n      <td>0.000651</td>\n      <td>friedman_mse</td>\n      <td>0.05</td>\n      <td>3</td>\n      <td>20</td>\n      <td>{'criterion': 'friedman_mse', 'learning_rate':...</td>\n      <td>0.940000</td>\n      <td>0.068923</td>\n      <td>16</td>\n      <td>0.994927</td>\n      <td>0.005280</td>\n    </tr>\n    <tr>\n      <th>24</th>\n      <td>0.040840</td>\n      <td>0.006519</td>\n      <td>0.002464</td>\n      <td>0.000514</td>\n      <td>friedman_mse</td>\n      <td>0.1</td>\n      <td>3</td>\n      <td>20</td>\n      <td>{'criterion': 'friedman_mse', 'learning_rate':...</td>\n      <td>0.940000</td>\n      <td>0.068923</td>\n      <td>16</td>\n      <td>0.999577</td>\n      <td>0.002074</td>\n    </tr>\n    <tr>\n      <th>42</th>\n      <td>0.040591</td>\n      <td>0.005522</td>\n      <td>0.002417</td>\n      <td>0.000553</td>\n      <td>squared_error</td>\n      <td>0.05</td>\n      <td>3</td>\n      <td>20</td>\n      <td>{'criterion': 'squared_error', 'learning_rate'...</td>\n      <td>0.940000</td>\n      <td>0.068923</td>\n      <td>16</td>\n      <td>0.994927</td>\n      <td>0.005280</td>\n    </tr>\n    <tr>\n      <th>50</th>\n      <td>0.176318</td>\n      <td>0.022164</td>\n      <td>0.002823</td>\n      <td>0.000872</td>\n      <td>squared_error</td>\n      <td>0.1</td>\n      <td>2</td>\n      <td>100</td>\n      <td>{'criterion': 'squared_error', 'learning_rate'...</td>\n      <td>0.940000</td>\n      <td>0.068923</td>\n      <td>16</td>\n      <td>1.000000</td>\n      <td>0.000000</td>\n    </tr>\n    <tr>\n      <th>44</th>\n      <td>0.223286</td>\n      <td>0.045351</td>\n      <td>0.002931</td>\n      <td>0.000886</td>\n      <td>squared_error</td>\n      <td>0.05</td>\n      <td>3</td>\n      <td>100</td>\n      <td>{'criterion': 'squared_error', 'learning_rate'...</td>\n      <td>0.938182</td>\n      <td>0.066058</td>\n      <td>25</td>\n      <td>1.000000</td>\n      <td>0.000000</td>\n    </tr>\n    <tr>\n      <th>26</th>\n      <td>0.204846</td>\n      <td>0.019239</td>\n      <td>0.002650</td>\n      <td>0.000458</td>\n      <td>friedman_mse</td>\n      <td>0.1</td>\n      <td>3</td>\n      <td>100</td>\n      <td>{'criterion': 'friedman_mse', 'learning_rate':...</td>\n      <td>0.938182</td>\n      <td>0.066058</td>\n      <td>25</td>\n      <td>1.000000</td>\n      <td>0.000000</td>\n    </tr>\n    <tr>\n      <th>53</th>\n      <td>0.255328</td>\n      <td>0.064297</td>\n      <td>0.003619</td>\n      <td>0.001922</td>\n      <td>squared_error</td>\n      <td>0.1</td>\n      <td>3</td>\n      <td>100</td>\n      <td>{'criterion': 'squared_error', 'learning_rate'...</td>\n      <td>0.938182</td>\n      <td>0.066058</td>\n      <td>25</td>\n      <td>1.000000</td>\n      <td>0.000000</td>\n    </tr>\n    <tr>\n      <th>17</th>\n      <td>0.264835</td>\n      <td>0.052123</td>\n      <td>0.003305</td>\n      <td>0.000856</td>\n      <td>friedman_mse</td>\n      <td>0.05</td>\n      <td>3</td>\n      <td>100</td>\n      <td>{'criterion': 'friedman_mse', 'learning_rate':...</td>\n      <td>0.938182</td>\n      <td>0.066058</td>\n      <td>25</td>\n      <td>1.000000</td>\n      <td>0.000000</td>\n    </tr>\n    <tr>\n      <th>52</th>\n      <td>0.110579</td>\n      <td>0.015246</td>\n      <td>0.002721</td>\n      <td>0.000547</td>\n      <td>squared_error</td>\n      <td>0.1</td>\n      <td>3</td>\n      <td>50</td>\n      <td>{'criterion': 'squared_error', 'learning_rate'...</td>\n      <td>0.938182</td>\n      <td>0.066058</td>\n      <td>25</td>\n      <td>1.000000</td>\n      <td>0.000000</td>\n    </tr>\n    <tr>\n      <th>25</th>\n      <td>0.102331</td>\n      <td>0.011506</td>\n      <td>0.002551</td>\n      <td>0.000423</td>\n      <td>friedman_mse</td>\n      <td>0.1</td>\n      <td>3</td>\n      <td>50</td>\n      <td>{'criterion': 'friedman_mse', 'learning_rate':...</td>\n      <td>0.938182</td>\n      <td>0.066058</td>\n      <td>25</td>\n      <td>1.000000</td>\n      <td>0.000000</td>\n    </tr>\n    <tr>\n      <th>11</th>\n      <td>0.222653</td>\n      <td>0.022687</td>\n      <td>0.003897</td>\n      <td>0.001255</td>\n      <td>friedman_mse</td>\n      <td>0.05</td>\n      <td>1</td>\n      <td>100</td>\n      <td>{'criterion': 'friedman_mse', 'learning_rate':...</td>\n      <td>0.936364</td>\n      <td>0.072271</td>\n      <td>31</td>\n      <td>0.976943</td>\n      <td>0.010289</td>\n    </tr>\n    <tr>\n      <th>38</th>\n      <td>0.148608</td>\n      <td>0.017021</td>\n      <td>0.002625</td>\n      <td>0.000418</td>\n      <td>squared_error</td>\n      <td>0.05</td>\n      <td>1</td>\n      <td>100</td>\n      <td>{'criterion': 'squared_error', 'learning_rate'...</td>\n      <td>0.936364</td>\n      <td>0.072271</td>\n      <td>31</td>\n      <td>0.976943</td>\n      <td>0.010289</td>\n    </tr>\n    <tr>\n      <th>19</th>\n      <td>0.078596</td>\n      <td>0.013891</td>\n      <td>0.002676</td>\n      <td>0.000532</td>\n      <td>friedman_mse</td>\n      <td>0.1</td>\n      <td>1</td>\n      <td>50</td>\n      <td>{'criterion': 'friedman_mse', 'learning_rate':...</td>\n      <td>0.936364</td>\n      <td>0.072271</td>\n      <td>31</td>\n      <td>0.977371</td>\n      <td>0.011180</td>\n    </tr>\n    <tr>\n      <th>46</th>\n      <td>0.116745</td>\n      <td>0.013521</td>\n      <td>0.003899</td>\n      <td>0.001188</td>\n      <td>squared_error</td>\n      <td>0.1</td>\n      <td>1</td>\n      <td>50</td>\n      <td>{'criterion': 'squared_error', 'learning_rate'...</td>\n      <td>0.936364</td>\n      <td>0.072271</td>\n      <td>31</td>\n      <td>0.977371</td>\n      <td>0.011180</td>\n    </tr>\n    <tr>\n      <th>39</th>\n      <td>0.036155</td>\n      <td>0.006022</td>\n      <td>0.002294</td>\n      <td>0.000407</td>\n      <td>squared_error</td>\n      <td>0.05</td>\n      <td>2</td>\n      <td>20</td>\n      <td>{'criterion': 'squared_error', 'learning_rate'...</td>\n      <td>0.936182</td>\n      <td>0.071014</td>\n      <td>35</td>\n      <td>0.980540</td>\n      <td>0.008279</td>\n    </tr>\n    <tr>\n      <th>12</th>\n      <td>0.052393</td>\n      <td>0.006599</td>\n      <td>0.003455</td>\n      <td>0.000844</td>\n      <td>friedman_mse</td>\n      <td>0.05</td>\n      <td>2</td>\n      <td>20</td>\n      <td>{'criterion': 'friedman_mse', 'learning_rate':...</td>\n      <td>0.936182</td>\n      <td>0.071014</td>\n      <td>35</td>\n      <td>0.980540</td>\n      <td>0.008279</td>\n    </tr>\n    <tr>\n      <th>5</th>\n      <td>0.238836</td>\n      <td>0.041266</td>\n      <td>0.004828</td>\n      <td>0.008428</td>\n      <td>friedman_mse</td>\n      <td>0.01</td>\n      <td>2</td>\n      <td>100</td>\n      <td>{'criterion': 'friedman_mse', 'learning_rate':...</td>\n      <td>0.936182</td>\n      <td>0.071014</td>\n      <td>35</td>\n      <td>0.980753</td>\n      <td>0.007209</td>\n    </tr>\n    <tr>\n      <th>32</th>\n      <td>0.169822</td>\n      <td>0.016080</td>\n      <td>0.002701</td>\n      <td>0.000542</td>\n      <td>squared_error</td>\n      <td>0.01</td>\n      <td>2</td>\n      <td>100</td>\n      <td>{'criterion': 'squared_error', 'learning_rate'...</td>\n      <td>0.936182</td>\n      <td>0.071014</td>\n      <td>35</td>\n      <td>0.980753</td>\n      <td>0.007209</td>\n    </tr>\n    <tr>\n      <th>18</th>\n      <td>0.033251</td>\n      <td>0.005695</td>\n      <td>0.002441</td>\n      <td>0.000524</td>\n      <td>friedman_mse</td>\n      <td>0.1</td>\n      <td>1</td>\n      <td>20</td>\n      <td>{'criterion': 'friedman_mse', 'learning_rate':...</td>\n      <td>0.928727</td>\n      <td>0.075194</td>\n      <td>39</td>\n      <td>0.963402</td>\n      <td>0.012703</td>\n    </tr>\n    <tr>\n      <th>45</th>\n      <td>0.046720</td>\n      <td>0.005783</td>\n      <td>0.003128</td>\n      <td>0.000312</td>\n      <td>squared_error</td>\n      <td>0.1</td>\n      <td>1</td>\n      <td>20</td>\n      <td>{'criterion': 'squared_error', 'learning_rate'...</td>\n      <td>0.928727</td>\n      <td>0.075194</td>\n      <td>39</td>\n      <td>0.963402</td>\n      <td>0.012703</td>\n    </tr>\n    <tr>\n      <th>37</th>\n      <td>0.080435</td>\n      <td>0.014312</td>\n      <td>0.002732</td>\n      <td>0.000716</td>\n      <td>squared_error</td>\n      <td>0.05</td>\n      <td>1</td>\n      <td>50</td>\n      <td>{'criterion': 'squared_error', 'learning_rate'...</td>\n      <td>0.928727</td>\n      <td>0.075194</td>\n      <td>39</td>\n      <td>0.965308</td>\n      <td>0.012314</td>\n    </tr>\n    <tr>\n      <th>10</th>\n      <td>0.113578</td>\n      <td>0.014379</td>\n      <td>0.003566</td>\n      <td>0.000625</td>\n      <td>friedman_mse</td>\n      <td>0.05</td>\n      <td>1</td>\n      <td>50</td>\n      <td>{'criterion': 'friedman_mse', 'learning_rate':...</td>\n      <td>0.928727</td>\n      <td>0.075194</td>\n      <td>39</td>\n      <td>0.965308</td>\n      <td>0.012314</td>\n    </tr>\n    <tr>\n      <th>31</th>\n      <td>0.085135</td>\n      <td>0.008732</td>\n      <td>0.002604</td>\n      <td>0.000482</td>\n      <td>squared_error</td>\n      <td>0.01</td>\n      <td>2</td>\n      <td>50</td>\n      <td>{'criterion': 'squared_error', 'learning_rate'...</td>\n      <td>0.928364</td>\n      <td>0.071273</td>\n      <td>43</td>\n      <td>0.968495</td>\n      <td>0.011436</td>\n    </tr>\n    <tr>\n      <th>4</th>\n      <td>0.085947</td>\n      <td>0.010081</td>\n      <td>0.002531</td>\n      <td>0.000438</td>\n      <td>friedman_mse</td>\n      <td>0.01</td>\n      <td>2</td>\n      <td>50</td>\n      <td>{'criterion': 'friedman_mse', 'learning_rate':...</td>\n      <td>0.928364</td>\n      <td>0.071273</td>\n      <td>43</td>\n      <td>0.968495</td>\n      <td>0.011436</td>\n    </tr>\n    <tr>\n      <th>30</th>\n      <td>0.035853</td>\n      <td>0.004941</td>\n      <td>0.002246</td>\n      <td>0.000422</td>\n      <td>squared_error</td>\n      <td>0.01</td>\n      <td>2</td>\n      <td>20</td>\n      <td>{'criterion': 'squared_error', 'learning_rate'...</td>\n      <td>0.926545</td>\n      <td>0.070578</td>\n      <td>45</td>\n      <td>0.964040</td>\n      <td>0.009178</td>\n    </tr>\n    <tr>\n      <th>3</th>\n      <td>0.035063</td>\n      <td>0.004598</td>\n      <td>0.002350</td>\n      <td>0.000431</td>\n      <td>friedman_mse</td>\n      <td>0.01</td>\n      <td>2</td>\n      <td>20</td>\n      <td>{'criterion': 'friedman_mse', 'learning_rate':...</td>\n      <td>0.926545</td>\n      <td>0.070578</td>\n      <td>45</td>\n      <td>0.964040</td>\n      <td>0.009178</td>\n    </tr>\n    <tr>\n      <th>1</th>\n      <td>0.073507</td>\n      <td>0.005733</td>\n      <td>0.002436</td>\n      <td>0.000338</td>\n      <td>friedman_mse</td>\n      <td>0.01</td>\n      <td>1</td>\n      <td>50</td>\n      <td>{'criterion': 'friedman_mse', 'learning_rate':...</td>\n      <td>0.915636</td>\n      <td>0.083042</td>\n      <td>47</td>\n      <td>0.952195</td>\n      <td>0.012471</td>\n    </tr>\n    <tr>\n      <th>27</th>\n      <td>0.035325</td>\n      <td>0.007247</td>\n      <td>0.002664</td>\n      <td>0.000682</td>\n      <td>squared_error</td>\n      <td>0.01</td>\n      <td>1</td>\n      <td>20</td>\n      <td>{'criterion': 'squared_error', 'learning_rate'...</td>\n      <td>0.915636</td>\n      <td>0.083042</td>\n      <td>47</td>\n      <td>0.956627</td>\n      <td>0.007922</td>\n    </tr>\n    <tr>\n      <th>28</th>\n      <td>0.076999</td>\n      <td>0.012563</td>\n      <td>0.002558</td>\n      <td>0.000478</td>\n      <td>squared_error</td>\n      <td>0.01</td>\n      <td>1</td>\n      <td>50</td>\n      <td>{'criterion': 'squared_error', 'learning_rate'...</td>\n      <td>0.915636</td>\n      <td>0.083042</td>\n      <td>47</td>\n      <td>0.952195</td>\n      <td>0.012471</td>\n    </tr>\n    <tr>\n      <th>0</th>\n      <td>0.034162</td>\n      <td>0.006258</td>\n      <td>0.002532</td>\n      <td>0.000594</td>\n      <td>friedman_mse</td>\n      <td>0.01</td>\n      <td>1</td>\n      <td>20</td>\n      <td>{'criterion': 'friedman_mse', 'learning_rate':...</td>\n      <td>0.915636</td>\n      <td>0.083042</td>\n      <td>47</td>\n      <td>0.956627</td>\n      <td>0.007922</td>\n    </tr>\n    <tr>\n      <th>36</th>\n      <td>0.031742</td>\n      <td>0.004551</td>\n      <td>0.002340</td>\n      <td>0.000426</td>\n      <td>squared_error</td>\n      <td>0.05</td>\n      <td>1</td>\n      <td>20</td>\n      <td>{'criterion': 'squared_error', 'learning_rate'...</td>\n      <td>0.913818</td>\n      <td>0.086095</td>\n      <td>51</td>\n      <td>0.956219</td>\n      <td>0.014251</td>\n    </tr>\n    <tr>\n      <th>29</th>\n      <td>0.149162</td>\n      <td>0.017796</td>\n      <td>0.002621</td>\n      <td>0.000427</td>\n      <td>squared_error</td>\n      <td>0.01</td>\n      <td>1</td>\n      <td>100</td>\n      <td>{'criterion': 'squared_error', 'learning_rate'...</td>\n      <td>0.913818</td>\n      <td>0.086095</td>\n      <td>51</td>\n      <td>0.957066</td>\n      <td>0.014925</td>\n    </tr>\n    <tr>\n      <th>2</th>\n      <td>0.152548</td>\n      <td>0.017995</td>\n      <td>0.002660</td>\n      <td>0.000485</td>\n      <td>friedman_mse</td>\n      <td>0.01</td>\n      <td>1</td>\n      <td>100</td>\n      <td>{'criterion': 'friedman_mse', 'learning_rate':...</td>\n      <td>0.913818</td>\n      <td>0.086095</td>\n      <td>51</td>\n      <td>0.957066</td>\n      <td>0.014925</td>\n    </tr>\n    <tr>\n      <th>9</th>\n      <td>0.047559</td>\n      <td>0.005458</td>\n      <td>0.003310</td>\n      <td>0.000602</td>\n      <td>friedman_mse</td>\n      <td>0.05</td>\n      <td>1</td>\n      <td>20</td>\n      <td>{'criterion': 'friedman_mse', 'learning_rate':...</td>\n      <td>0.913818</td>\n      <td>0.086095</td>\n      <td>51</td>\n      <td>0.956219</td>\n      <td>0.014251</td>\n    </tr>\n  </tbody>\n</table>\n</div>"
     },
     "metadata": {},
     "output_type": "display_data"
    }
   ],
   "execution_count": 59
  },
  {
   "cell_type": "markdown",
   "source": "En este caso, son varias las mejores configuraciones de hiperparámetros, pero la seleccionada es usar como criterio de partición el error cuadrático medio con la mejora de *Friedman*, un tamaño de árbol de 3, una regularización de 0.01 y 50 estimadores en el ensemble.",
   "metadata": {
    "papermill": {
     "duration": 0.089808,
     "end_time": "2020-12-14T08:02:26.732215",
     "exception": false,
     "start_time": "2020-12-14T08:02:26.642407",
     "status": "completed"
    },
    "tags": [],
    "cell_id": "00075-355b779a-ce08-4823-a7dc-30d571cdfb0b",
    "deepnote_cell_type": "markdown"
   }
  },
  {
   "cell_type": "markdown",
   "source": "Para finalizar, vamos a optimizar el parámetro de regularización, el número de iteraciones del proceso (`max_iter`) y el número máximo de nodos hoja (`max_leaf_nodes`) de los árboles de decisión en el algoritmo *Histogram Gradient Boosting*:",
   "metadata": {
    "papermill": {
     "duration": 0.089449,
     "end_time": "2020-12-14T08:02:26.909905",
     "exception": false,
     "start_time": "2020-12-14T08:02:26.820456",
     "status": "completed"
    },
    "tags": [],
    "cell_id": "00076-4afad5d9-2409-40cb-a2e9-d2ffadb44ea7",
    "deepnote_cell_type": "markdown"
   }
  },
  {
   "cell_type": "code",
   "metadata": {
    "tags": [],
    "cell_id": "00098-76864562-eae8-47b1-b9b8-cb5f0b9c3d9c",
    "deepnote_to_be_reexecuted": false,
    "source_hash": "742c879b",
    "execution_start": 1635874230849,
    "execution_millis": 0,
    "deepnote_cell_type": "code"
   },
   "source": "learning_rate = [0.01, 0.02, 0.03, 0.04, 0.05]",
   "outputs": [],
   "execution_count": 60
  },
  {
   "cell_type": "code",
   "metadata": {
    "tags": [],
    "cell_id": "00099-674276c1-3d7a-472c-b876-79931be54325",
    "deepnote_to_be_reexecuted": false,
    "source_hash": "50df2b42",
    "execution_start": 1635874230850,
    "execution_millis": 0,
    "deepnote_cell_type": "code"
   },
   "source": "max_iter = n_estimators",
   "outputs": [],
   "execution_count": 61
  },
  {
   "cell_type": "code",
   "metadata": {
    "tags": [],
    "cell_id": "00099-b9e49052-79c6-4e2a-91ef-0b2f2457f227",
    "deepnote_to_be_reexecuted": false,
    "source_hash": "79813500",
    "execution_start": 1635874230851,
    "execution_millis": 1238561,
    "deepnote_cell_type": "code"
   },
   "source": "max_leaf_nodes = [15, 31, 65, 127]",
   "outputs": [],
   "execution_count": 62
  },
  {
   "cell_type": "code",
   "metadata": {
    "execution": {
     "iopub.execute_input": "2020-12-14T08:02:27.098874Z",
     "iopub.status.busy": "2020-12-14T08:02:27.098009Z",
     "iopub.status.idle": "2020-12-14T08:03:31.308944Z",
     "shell.execute_reply": "2020-12-14T08:03:31.309846Z"
    },
    "papermill": {
     "duration": 64.309228,
     "end_time": "2020-12-14T08:03:31.310043",
     "exception": false,
     "start_time": "2020-12-14T08:02:27.000815",
     "status": "completed"
    },
    "tags": [],
    "cell_id": "00077-29c2db4b-27b4-42f2-ad2c-bc0c300f38d6",
    "deepnote_to_be_reexecuted": false,
    "source_hash": "b4c16f8a",
    "execution_start": 1635874230874,
    "execution_millis": 558859,
    "deepnote_cell_type": "code"
   },
   "source": "hist_gradient_boosting_classifier = optimize_params(hist_gradient_boosting_model, X_train, y_train, cv, learning_rate=learning_rate, max_iter=max_iter, max_leaf_nodes=max_leaf_nodes)",
   "outputs": [
    {
     "data": {
      "application/vnd.deepnote.dataframe.v2+json": {
       "row_count": 60,
       "column_count": 13,
       "columns": [
        {
         "name": "mean_fit_time",
         "dtype": "float64",
         "stats": {
          "unique_count": 60,
          "nan_count": 0,
          "min": "0.045982651710510254",
          "max": "0.5560355234146118",
          "histogram": [
           {
            "bin_start": 0.045982651710510254,
            "bin_end": 0.09698793888092042,
            "count": 18
           },
           {
            "bin_start": 0.09698793888092042,
            "bin_end": 0.14799322605133056,
            "count": 13
           },
           {
            "bin_start": 0.14799322605133056,
            "bin_end": 0.19899851322174072,
            "count": 4
           },
           {
            "bin_start": 0.19899851322174072,
            "bin_end": 0.25000380039215087,
            "count": 17
           },
           {
            "bin_start": 0.25000380039215087,
            "bin_end": 0.301009087562561,
            "count": 2
           },
           {
            "bin_start": 0.301009087562561,
            "bin_end": 0.3520143747329712,
            "count": 1
           },
           {
            "bin_start": 0.3520143747329712,
            "bin_end": 0.40301966190338134,
            "count": 1
           },
           {
            "bin_start": 0.40301966190338134,
            "bin_end": 0.4540249490737915,
            "count": 2
           },
           {
            "bin_start": 0.4540249490737915,
            "bin_end": 0.5050302362442016,
            "count": 1
           },
           {
            "bin_start": 0.5050302362442016,
            "bin_end": 0.5560355234146118,
            "count": 1
           }
          ]
         }
        },
        {
         "name": "std_fit_time",
         "dtype": "float64",
         "stats": {
          "unique_count": 60,
          "nan_count": 0,
          "min": "0.012047560614629164",
          "max": "1.9363254737276165",
          "histogram": [
           {
            "bin_start": 0.012047560614629164,
            "bin_end": 0.20447535192592792,
            "count": 47
           },
           {
            "bin_start": 0.20447535192592792,
            "bin_end": 0.39690314323722664,
            "count": 2
           },
           {
            "bin_start": 0.39690314323722664,
            "bin_end": 0.5893309345485255,
            "count": 4
           },
           {
            "bin_start": 0.5893309345485255,
            "bin_end": 0.7817587258598242,
            "count": 1
           },
           {
            "bin_start": 0.7817587258598242,
            "bin_end": 0.9741865171711229,
            "count": 3
           },
           {
            "bin_start": 0.9741865171711229,
            "bin_end": 1.1666143084824216,
            "count": 2
           },
           {
            "bin_start": 1.1666143084824216,
            "bin_end": 1.3590420997937203,
            "count": 0
           },
           {
            "bin_start": 1.3590420997937203,
            "bin_end": 1.551469891105019,
            "count": 0
           },
           {
            "bin_start": 1.551469891105019,
            "bin_end": 1.743897682416318,
            "count": 0
           },
           {
            "bin_start": 1.743897682416318,
            "bin_end": 1.9363254737276165,
            "count": 1
           }
          ]
         }
        },
        {
         "name": "mean_score_time",
         "dtype": "float64",
         "stats": {
          "unique_count": 60,
          "nan_count": 0,
          "min": "0.0039725351333618165",
          "max": "0.08682648658752441",
          "histogram": [
           {
            "bin_start": 0.0039725351333618165,
            "bin_end": 0.012257930278778077,
            "count": 51
           },
           {
            "bin_start": 0.012257930278778077,
            "bin_end": 0.020543325424194337,
            "count": 6
           },
           {
            "bin_start": 0.020543325424194337,
            "bin_end": 0.028828720569610597,
            "count": 1
           },
           {
            "bin_start": 0.028828720569610597,
            "bin_end": 0.03711411571502685,
            "count": 0
           },
           {
            "bin_start": 0.03711411571502685,
            "bin_end": 0.04539951086044312,
            "count": 0
           },
           {
            "bin_start": 0.04539951086044312,
            "bin_end": 0.05368490600585937,
            "count": 0
           },
           {
            "bin_start": 0.05368490600585937,
            "bin_end": 0.06197030115127563,
            "count": 1
           },
           {
            "bin_start": 0.06197030115127563,
            "bin_end": 0.0702556962966919,
            "count": 0
           },
           {
            "bin_start": 0.0702556962966919,
            "bin_end": 0.07854109144210816,
            "count": 0
           },
           {
            "bin_start": 0.07854109144210816,
            "bin_end": 0.08682648658752441,
            "count": 1
           }
          ]
         }
        },
        {
         "name": "std_score_time",
         "dtype": "float64",
         "stats": {
          "unique_count": 60,
          "nan_count": 0,
          "min": "0.0007799802781515877",
          "max": "0.34064609605153967",
          "histogram": [
           {
            "bin_start": 0.0007799802781515877,
            "bin_end": 0.03476659185549039,
            "count": 54
           },
           {
            "bin_start": 0.03476659185549039,
            "bin_end": 0.0687532034328292,
            "count": 2
           },
           {
            "bin_start": 0.0687532034328292,
            "bin_end": 0.102739815010168,
            "count": 2
           },
           {
            "bin_start": 0.102739815010168,
            "bin_end": 0.13672642658750683,
            "count": 0
           },
           {
            "bin_start": 0.13672642658750683,
            "bin_end": 0.17071303816484565,
            "count": 0
           },
           {
            "bin_start": 0.17071303816484565,
            "bin_end": 0.20469964974218444,
            "count": 0
           },
           {
            "bin_start": 0.20469964974218444,
            "bin_end": 0.23868626131952325,
            "count": 1
           },
           {
            "bin_start": 0.23868626131952325,
            "bin_end": 0.27267287289686204,
            "count": 0
           },
           {
            "bin_start": 0.27267287289686204,
            "bin_end": 0.3066594844742008,
            "count": 0
           },
           {
            "bin_start": 0.3066594844742008,
            "bin_end": 0.34064609605153967,
            "count": 1
           }
          ]
         }
        },
        {
         "name": "param_learning_rate",
         "dtype": "object",
         "stats": {
          "unique_count": 5,
          "nan_count": 0,
          "categories": [
           {
            "name": "0.05",
            "count": 12
           },
           {
            "name": "0.02",
            "count": 12
           },
           {
            "name": "3 others",
            "count": 36
           }
          ]
         }
        },
        {
         "name": "param_max_iter",
         "dtype": "object",
         "stats": {
          "unique_count": 3,
          "nan_count": 0,
          "categories": [
           {
            "name": "50",
            "count": 20
           },
           {
            "name": "100",
            "count": 20
           },
           {
            "name": "20",
            "count": 20
           }
          ]
         }
        },
        {
         "name": "param_max_leaf_nodes",
         "dtype": "object",
         "stats": {
          "unique_count": 4,
          "nan_count": 0,
          "categories": [
           {
            "name": "127",
            "count": 15
           },
           {
            "name": "65",
            "count": 15
           },
           {
            "name": "2 others",
            "count": 30
           }
          ]
         }
        },
        {
         "name": "params",
         "dtype": "object",
         "stats": {
          "unique_count": 60,
          "nan_count": 0,
          "categories": [
           {
            "name": "{'learning_rate': 0.05, 'max_iter': 50, 'max_leaf_nodes': 127}",
            "count": 1
           },
           {
            "name": "{'learning_rate': 0.05, 'max_iter': 50, 'max_leaf_nodes': 65}",
            "count": 1
           },
           {
            "name": "58 others",
            "count": 58
           }
          ]
         }
        },
        {
         "name": "mean_test_score",
         "dtype": "float64",
         "stats": {
          "unique_count": 8,
          "nan_count": 0,
          "min": "0.9138181818181818",
          "max": "0.9456363636363636",
          "histogram": [
           {
            "bin_start": 0.9138181818181818,
            "bin_end": 0.9169999999999999,
            "count": 28
           },
           {
            "bin_start": 0.9169999999999999,
            "bin_end": 0.9201818181818181,
            "count": 4
           },
           {
            "bin_start": 0.9201818181818181,
            "bin_end": 0.9233636363636363,
            "count": 0
           },
           {
            "bin_start": 0.9233636363636363,
            "bin_end": 0.9265454545454544,
            "count": 0
           },
           {
            "bin_start": 0.9265454545454544,
            "bin_end": 0.9297272727272727,
            "count": 4
           },
           {
            "bin_start": 0.9297272727272727,
            "bin_end": 0.9329090909090909,
            "count": 0
           },
           {
            "bin_start": 0.9329090909090909,
            "bin_end": 0.9360909090909091,
            "count": 8
           },
           {
            "bin_start": 0.9360909090909091,
            "bin_end": 0.9392727272727273,
            "count": 0
           },
           {
            "bin_start": 0.9392727272727273,
            "bin_end": 0.9424545454545454,
            "count": 4
           },
           {
            "bin_start": 0.9424545454545454,
            "bin_end": 0.9456363636363636,
            "count": 12
           }
          ]
         }
        },
        {
         "name": "std_test_score",
         "dtype": "float64",
         "stats": {
          "unique_count": 10,
          "nan_count": 0,
          "min": "0.06654868347854277",
          "max": "0.0860950848560104",
          "histogram": [
           {
            "bin_start": 0.06654868347854277,
            "bin_end": 0.06850332361628954,
            "count": 12
           },
           {
            "bin_start": 0.06850332361628954,
            "bin_end": 0.0704579637540363,
            "count": 4
           },
           {
            "bin_start": 0.0704579637540363,
            "bin_end": 0.07241260389178306,
            "count": 4
           },
           {
            "bin_start": 0.07241260389178306,
            "bin_end": 0.07436724402952982,
            "count": 4
           },
           {
            "bin_start": 0.07436724402952982,
            "bin_end": 0.07632188416727659,
            "count": 0
           },
           {
            "bin_start": 0.07632188416727659,
            "bin_end": 0.07827652430502335,
            "count": 0
           },
           {
            "bin_start": 0.07827652430502335,
            "bin_end": 0.08023116444277012,
            "count": 8
           },
           {
            "bin_start": 0.08023116444277012,
            "bin_end": 0.08218580458051689,
            "count": 12
           },
           {
            "bin_start": 0.08218580458051689,
            "bin_end": 0.08414044471826364,
            "count": 0
           },
           {
            "bin_start": 0.08414044471826364,
            "bin_end": 0.0860950848560104,
            "count": 16
           }
          ]
         }
        },
        {
         "name": "rank_test_score",
         "dtype": "int32",
         "stats": {
          "unique_count": 8,
          "nan_count": 0,
          "min": "1",
          "max": "45",
          "histogram": [
           {
            "bin_start": 1,
            "bin_end": 5.4,
            "count": 12
           },
           {
            "bin_start": 5.4,
            "bin_end": 9.8,
            "count": 0
           },
           {
            "bin_start": 9.8,
            "bin_end": 14.200000000000001,
            "count": 4
           },
           {
            "bin_start": 14.200000000000001,
            "bin_end": 18.6,
            "count": 8
           },
           {
            "bin_start": 18.6,
            "bin_end": 23,
            "count": 0
           },
           {
            "bin_start": 23,
            "bin_end": 27.400000000000002,
            "count": 4
           },
           {
            "bin_start": 27.400000000000002,
            "bin_end": 31.800000000000004,
            "count": 4
           },
           {
            "bin_start": 31.800000000000004,
            "bin_end": 36.2,
            "count": 12
           },
           {
            "bin_start": 36.2,
            "bin_end": 40.6,
            "count": 0
           },
           {
            "bin_start": 40.6,
            "bin_end": 45,
            "count": 16
           }
          ]
         }
        },
        {
         "name": "mean_train_score",
         "dtype": "float64",
         "stats": {
          "unique_count": 13,
          "nan_count": 0,
          "min": "0.9521903695408735",
          "max": "0.9919708846584547",
          "histogram": [
           {
            "bin_start": 0.9521903695408735,
            "bin_end": 0.9561684210526317,
            "count": 8
           },
           {
            "bin_start": 0.9561684210526317,
            "bin_end": 0.9601464725643898,
            "count": 12
           },
           {
            "bin_start": 0.9601464725643898,
            "bin_end": 0.9641245240761479,
            "count": 0
           },
           {
            "bin_start": 0.9641245240761479,
            "bin_end": 0.968102575587906,
            "count": 16
           },
           {
            "bin_start": 0.968102575587906,
            "bin_end": 0.9720806270996641,
            "count": 0
           },
           {
            "bin_start": 0.9720806270996641,
            "bin_end": 0.9760586786114223,
            "count": 0
           },
           {
            "bin_start": 0.9760586786114223,
            "bin_end": 0.9800367301231804,
            "count": 8
           },
           {
            "bin_start": 0.9800367301231804,
            "bin_end": 0.9840147816349385,
            "count": 0
           },
           {
            "bin_start": 0.9840147816349385,
            "bin_end": 0.9879928331466966,
            "count": 4
           },
           {
            "bin_start": 0.9879928331466966,
            "bin_end": 0.9919708846584547,
            "count": 12
           }
          ]
         }
        },
        {
         "name": "std_train_score",
         "dtype": "float64",
         "stats": {
          "unique_count": 13,
          "nan_count": 0,
          "min": "0.00470328000841948",
          "max": "0.015739051908905705",
          "histogram": [
           {
            "bin_start": 0.00470328000841948,
            "bin_end": 0.0058068571984681025,
            "count": 4
           },
           {
            "bin_start": 0.0058068571984681025,
            "bin_end": 0.006910434388516725,
            "count": 4
           },
           {
            "bin_start": 0.006910434388516725,
            "bin_end": 0.008014011578565346,
            "count": 0
           },
           {
            "bin_start": 0.008014011578565346,
            "bin_end": 0.00911758876861397,
            "count": 8
           },
           {
            "bin_start": 0.00911758876861397,
            "bin_end": 0.010221165958662591,
            "count": 0
           },
           {
            "bin_start": 0.010221165958662591,
            "bin_end": 0.011324743148711215,
            "count": 8
           },
           {
            "bin_start": 0.011324743148711215,
            "bin_end": 0.012428320338759836,
            "count": 0
           },
           {
            "bin_start": 0.012428320338759836,
            "bin_end": 0.01353189752880846,
            "count": 20
           },
           {
            "bin_start": 0.01353189752880846,
            "bin_end": 0.01463547471885708,
            "count": 4
           },
           {
            "bin_start": 0.01463547471885708,
            "bin_end": 0.015739051908905705,
            "count": 12
           }
          ]
         }
        },
        {
         "name": "_deepnote_index_column",
         "dtype": "int64"
        }
       ],
       "rows_top": [
        {
         "mean_fit_time": 0.5560355234146118,
         "std_fit_time": 1.9363254737276165,
         "mean_score_time": 0.08682648658752441,
         "std_score_time": 0.34064609605153967,
         "param_learning_rate": "0.05",
         "param_max_iter": "50",
         "param_max_leaf_nodes": "127",
         "params": "{'learning_rate': 0.05, 'max_iter': 50, 'max_leaf_nodes': 127}",
         "mean_test_score": 0.9456363636363636,
         "std_test_score": 0.06681638834946195,
         "rank_test_score": 1,
         "mean_train_score": 0.9866696528555431,
         "std_train_score": 0.008131933765455134,
         "_deepnote_index_column": 55
        },
        {
         "mean_fit_time": 0.11350493907928466,
         "std_fit_time": 0.015638804256102676,
         "mean_score_time": 0.005914554595947265,
         "std_score_time": 0.0038177651473174836,
         "param_learning_rate": "0.05",
         "param_max_iter": "50",
         "param_max_leaf_nodes": "65",
         "params": "{'learning_rate': 0.05, 'max_iter': 50, 'max_leaf_nodes': 65}",
         "mean_test_score": 0.9456363636363636,
         "std_test_score": 0.06681638834946195,
         "rank_test_score": 1,
         "mean_train_score": 0.9866696528555431,
         "std_train_score": 0.008131933765455134,
         "_deepnote_index_column": 54
        },
        {
         "mean_fit_time": 0.3702415990829468,
         "std_fit_time": 1.1216365147691307,
         "mean_score_time": 0.007508149147033691,
         "std_score_time": 0.005040680521715585,
         "param_learning_rate": "0.05",
         "param_max_iter": "50",
         "param_max_leaf_nodes": "31",
         "params": "{'learning_rate': 0.05, 'max_iter': 50, 'max_leaf_nodes': 31}",
         "mean_test_score": 0.9456363636363636,
         "std_test_score": 0.06681638834946195,
         "rank_test_score": 1,
         "mean_train_score": 0.9866696528555431,
         "std_train_score": 0.008131933765455134,
         "_deepnote_index_column": 53
        },
        {
         "mean_fit_time": 0.11487933158874512,
         "std_fit_time": 0.015062678240341089,
         "mean_score_time": 0.0055994844436645505,
         "std_score_time": 0.0022736076602564207,
         "param_learning_rate": "0.05",
         "param_max_iter": "50",
         "param_max_leaf_nodes": "15",
         "params": "{'learning_rate': 0.05, 'max_iter': 50, 'max_leaf_nodes': 15}",
         "mean_test_score": 0.9456363636363636,
         "std_test_score": 0.06681638834946195,
         "rank_test_score": 1,
         "mean_train_score": 0.9866696528555431,
         "std_train_score": 0.008131933765455134,
         "_deepnote_index_column": 52
        },
        {
         "mean_fit_time": 0.22612843036651611,
         "std_fit_time": 0.023522443177223244,
         "mean_score_time": 0.007979888916015625,
         "std_score_time": 0.0007799802781515877,
         "param_learning_rate": "0.02",
         "param_max_iter": "100",
         "param_max_leaf_nodes": "127",
         "params": "{'learning_rate': 0.02, 'max_iter': 100, 'max_leaf_nodes': 127}",
         "mean_test_score": 0.9438181818181818,
         "std_test_score": 0.07134342504758696,
         "rank_test_score": 5,
         "mean_train_score": 0.9773729003359461,
         "std_train_score": 0.01116111235295709,
         "_deepnote_index_column": 23
        },
        {
         "mean_fit_time": 0.22375214576721192,
         "std_fit_time": 0.023827880389696653,
         "mean_score_time": 0.011428589820861817,
         "std_score_time": 0.008123885531956141,
         "param_learning_rate": "0.02",
         "param_max_iter": "100",
         "param_max_leaf_nodes": "65",
         "params": "{'learning_rate': 0.02, 'max_iter': 100, 'max_leaf_nodes': 65}",
         "mean_test_score": 0.9438181818181818,
         "std_test_score": 0.07134342504758696,
         "rank_test_score": 5,
         "mean_train_score": 0.9773729003359461,
         "std_train_score": 0.01116111235295709,
         "_deepnote_index_column": 22
        },
        {
         "mean_fit_time": 0.2230803155899048,
         "std_fit_time": 0.019716250451684698,
         "mean_score_time": 0.014867196083068848,
         "std_score_time": 0.028512742853125987,
         "param_learning_rate": "0.02",
         "param_max_iter": "100",
         "param_max_leaf_nodes": "31",
         "params": "{'learning_rate': 0.02, 'max_iter': 100, 'max_leaf_nodes': 31}",
         "mean_test_score": 0.9438181818181818,
         "std_test_score": 0.07134342504758696,
         "rank_test_score": 5,
         "mean_train_score": 0.9773729003359461,
         "std_train_score": 0.01116111235295709,
         "_deepnote_index_column": 21
        },
        {
         "mean_fit_time": 0.2224952745437622,
         "std_fit_time": 0.020732705734547562,
         "mean_score_time": 0.010833134651184082,
         "std_score_time": 0.006969736080238377,
         "param_learning_rate": "0.02",
         "param_max_iter": "100",
         "param_max_leaf_nodes": "15",
         "params": "{'learning_rate': 0.02, 'max_iter': 100, 'max_leaf_nodes': 15}",
         "mean_test_score": 0.9438181818181818,
         "std_test_score": 0.07134342504758696,
         "rank_test_score": 5,
         "mean_train_score": 0.9773729003359461,
         "std_train_score": 0.01116111235295709,
         "_deepnote_index_column": 20
        },
        {
         "mean_fit_time": 0.22132880210876466,
         "std_fit_time": 0.015923049658740047,
         "mean_score_time": 0.010367856025695801,
         "std_score_time": 0.007072795096892813,
         "param_learning_rate": "0.03",
         "param_max_iter": "100",
         "param_max_leaf_nodes": "15",
         "params": "{'learning_rate': 0.03, 'max_iter': 100, 'max_leaf_nodes': 15}",
         "mean_test_score": 0.9438181818181818,
         "std_test_score": 0.06654868347854277,
         "rank_test_score": 5,
         "mean_train_score": 0.9898477043673012,
         "std_train_score": 0.00470328000841948,
         "_deepnote_index_column": 32
        },
        {
         "mean_fit_time": 0.289166145324707,
         "std_fit_time": 0.44058153915723697,
         "mean_score_time": 0.011372175216674805,
         "std_score_time": 0.008910523246098725,
         "param_learning_rate": "0.03",
         "param_max_iter": "100",
         "param_max_leaf_nodes": "31",
         "params": "{'learning_rate': 0.03, 'max_iter': 100, 'max_leaf_nodes': 31}",
         "mean_test_score": 0.9438181818181818,
         "std_test_score": 0.06654868347854277,
         "rank_test_score": 5,
         "mean_train_score": 0.9898477043673012,
         "std_train_score": 0.00470328000841948,
         "_deepnote_index_column": 33
        },
        {
         "mean_fit_time": 0.22382570266723634,
         "std_fit_time": 0.02032141900731476,
         "mean_score_time": 0.01180577278137207,
         "std_score_time": 0.008927182209936855,
         "param_learning_rate": "0.03",
         "param_max_iter": "100",
         "param_max_leaf_nodes": "65",
         "params": "{'learning_rate': 0.03, 'max_iter': 100, 'max_leaf_nodes': 65}",
         "mean_test_score": 0.9438181818181818,
         "std_test_score": 0.06654868347854277,
         "rank_test_score": 5,
         "mean_train_score": 0.9898477043673012,
         "std_train_score": 0.00470328000841948,
         "_deepnote_index_column": 34
        },
        {
         "mean_fit_time": 0.22431979656219483,
         "std_fit_time": 0.020818668305208385,
         "mean_score_time": 0.010803999900817872,
         "std_score_time": 0.006821124207907316,
         "param_learning_rate": "0.03",
         "param_max_iter": "100",
         "param_max_leaf_nodes": "127",
         "params": "{'learning_rate': 0.03, 'max_iter': 100, 'max_leaf_nodes': 127}",
         "mean_test_score": 0.9438181818181818,
         "std_test_score": 0.06654868347854277,
         "rank_test_score": 5,
         "mean_train_score": 0.9898477043673012,
         "std_train_score": 0.00470328000841948,
         "_deepnote_index_column": 35
        },
        {
         "mean_fit_time": 0.11608975410461425,
         "std_fit_time": 0.018239226640595078,
         "mean_score_time": 0.007190842628479004,
         "std_score_time": 0.005580502707531045,
         "param_learning_rate": "0.04",
         "param_max_iter": "50",
         "param_max_leaf_nodes": "31",
         "params": "{'learning_rate': 0.04, 'max_iter': 50, 'max_leaf_nodes': 31}",
         "mean_test_score": 0.9418181818181819,
         "std_test_score": 0.07389964157418755,
         "rank_test_score": 13,
         "mean_train_score": 0.9769496080627098,
         "std_train_score": 0.010893764365126013,
         "_deepnote_index_column": 41
        },
        {
         "mean_fit_time": 0.1570989179611206,
         "std_fit_time": 0.3005518565630285,
         "mean_score_time": 0.007351899147033691,
         "std_score_time": 0.006135450765688798,
         "param_learning_rate": "0.04",
         "param_max_iter": "50",
         "param_max_leaf_nodes": "127",
         "params": "{'learning_rate': 0.04, 'max_iter': 50, 'max_leaf_nodes': 127}",
         "mean_test_score": 0.9418181818181819,
         "std_test_score": 0.07389964157418755,
         "rank_test_score": 13,
         "mean_train_score": 0.9769496080627098,
         "std_train_score": 0.010893764365126013,
         "_deepnote_index_column": 43
        },
        {
         "mean_fit_time": 0.26719012260437014,
         "std_fit_time": 0.3967201883029166,
         "mean_score_time": 0.0149749755859375,
         "std_score_time": 0.038828365968455944,
         "param_learning_rate": "0.04",
         "param_max_iter": "50",
         "param_max_leaf_nodes": "65",
         "params": "{'learning_rate': 0.04, 'max_iter': 50, 'max_leaf_nodes': 65}",
         "mean_test_score": 0.9418181818181819,
         "std_test_score": 0.07389964157418755,
         "rank_test_score": 13,
         "mean_train_score": 0.9769496080627098,
         "std_train_score": 0.010893764365126013,
         "_deepnote_index_column": 42
        },
        {
         "mean_fit_time": 0.1136272144317627,
         "std_fit_time": 0.014469810506147674,
         "mean_score_time": 0.007890653610229493,
         "std_score_time": 0.009218427577017442,
         "param_learning_rate": "0.04",
         "param_max_iter": "50",
         "param_max_leaf_nodes": "15",
         "params": "{'learning_rate': 0.04, 'max_iter': 50, 'max_leaf_nodes': 15}",
         "mean_test_score": 0.9418181818181819,
         "std_test_score": 0.07389964157418755,
         "rank_test_score": 13,
         "mean_train_score": 0.9769496080627098,
         "std_train_score": 0.010893764365126013,
         "_deepnote_index_column": 40
        },
        {
         "mean_fit_time": 0.23374514579772948,
         "std_fit_time": 0.028524508380711307,
         "mean_score_time": 0.009116721153259278,
         "std_score_time": 0.004949344600777825,
         "param_learning_rate": "0.05",
         "param_max_iter": "100",
         "param_max_leaf_nodes": "127",
         "params": "{'learning_rate': 0.05, 'max_iter': 100, 'max_leaf_nodes': 127}",
         "mean_test_score": 0.9341818181818182,
         "std_test_score": 0.0677028021686518,
         "rank_test_score": 17,
         "mean_train_score": 0.9919708846584547,
         "std_train_score": 0.008603467625059133,
         "_deepnote_index_column": 59
        },
        {
         "mean_fit_time": 0.4100351810455322,
         "std_fit_time": 0.6310080841695125,
         "mean_score_time": 0.053826708793640134,
         "std_score_time": 0.22318774182613924,
         "param_learning_rate": "0.04",
         "param_max_iter": "100",
         "param_max_leaf_nodes": "15",
         "params": "{'learning_rate': 0.04, 'max_iter': 100, 'max_leaf_nodes': 15}",
         "mean_test_score": 0.9341818181818182,
         "std_test_score": 0.07010169708276894,
         "rank_test_score": 17,
         "mean_train_score": 0.9911198208286673,
         "std_train_score": 0.006113370519404914,
         "_deepnote_index_column": 44
        },
        {
         "mean_fit_time": 0.45587069988250734,
         "std_fit_time": 0.8498984726896748,
         "mean_score_time": 0.01491631031036377,
         "std_score_time": 0.021161757534869544,
         "param_learning_rate": "0.04",
         "param_max_iter": "100",
         "param_max_leaf_nodes": "31",
         "params": "{'learning_rate': 0.04, 'max_iter': 100, 'max_leaf_nodes': 31}",
         "mean_test_score": 0.9341818181818182,
         "std_test_score": 0.07010169708276894,
         "rank_test_score": 17,
         "mean_train_score": 0.9911198208286673,
         "std_train_score": 0.006113370519404914,
         "_deepnote_index_column": 45
        },
        {
         "mean_fit_time": 0.23068591117858886,
         "std_fit_time": 0.042713264475511,
         "mean_score_time": 0.01205472469329834,
         "std_score_time": 0.010124296621119406,
         "param_learning_rate": "0.04",
         "param_max_iter": "100",
         "param_max_leaf_nodes": "65",
         "params": "{'learning_rate': 0.04, 'max_iter': 100, 'max_leaf_nodes': 65}",
         "mean_test_score": 0.9341818181818182,
         "std_test_score": 0.07010169708276894,
         "rank_test_score": 17,
         "mean_train_score": 0.9911198208286673,
         "std_train_score": 0.006113370519404914,
         "_deepnote_index_column": 46
        },
        {
         "mean_fit_time": 0.22663458347320556,
         "std_fit_time": 0.021685945325219277,
         "mean_score_time": 0.010757393836975097,
         "std_score_time": 0.007103994944863873,
         "param_learning_rate": "0.04",
         "param_max_iter": "100",
         "param_max_leaf_nodes": "127",
         "params": "{'learning_rate': 0.04, 'max_iter': 100, 'max_leaf_nodes': 127}",
         "mean_test_score": 0.9341818181818182,
         "std_test_score": 0.07010169708276894,
         "rank_test_score": 17,
         "mean_train_score": 0.9911198208286673,
         "std_train_score": 0.006113370519404914,
         "_deepnote_index_column": 47
        },
        {
         "mean_fit_time": 0.2310174560546875,
         "std_fit_time": 0.020457130269191905,
         "mean_score_time": 0.0095150089263916,
         "std_score_time": 0.006219975907179221,
         "param_learning_rate": "0.05",
         "param_max_iter": "100",
         "param_max_leaf_nodes": "15",
         "params": "{'learning_rate': 0.05, 'max_iter': 100, 'max_leaf_nodes': 15}",
         "mean_test_score": 0.9341818181818182,
         "std_test_score": 0.0677028021686518,
         "rank_test_score": 17,
         "mean_train_score": 0.9919708846584547,
         "std_train_score": 0.008603467625059133,
         "_deepnote_index_column": 56
        },
        {
         "mean_fit_time": 0.2257338571548462,
         "std_fit_time": 0.021385068618231612,
         "mean_score_time": 0.012066302299499511,
         "std_score_time": 0.008802396290954893,
         "param_learning_rate": "0.05",
         "param_max_iter": "100",
         "param_max_leaf_nodes": "31",
         "params": "{'learning_rate': 0.05, 'max_iter': 100, 'max_leaf_nodes': 31}",
         "mean_test_score": 0.9341818181818182,
         "std_test_score": 0.0677028021686518,
         "rank_test_score": 17,
         "mean_train_score": 0.9919708846584547,
         "std_train_score": 0.008603467625059133,
         "_deepnote_index_column": 57
        },
        {
         "mean_fit_time": 0.2293223237991333,
         "std_fit_time": 0.03028037184819797,
         "mean_score_time": 0.012305216789245605,
         "std_score_time": 0.009631813449889974,
         "param_learning_rate": "0.05",
         "param_max_iter": "100",
         "param_max_leaf_nodes": "65",
         "params": "{'learning_rate': 0.05, 'max_iter': 100, 'max_leaf_nodes': 65}",
         "mean_test_score": 0.9341818181818182,
         "std_test_score": 0.0677028021686518,
         "rank_test_score": 17,
         "mean_train_score": 0.9919708846584547,
         "std_train_score": 0.008603467625059133,
         "_deepnote_index_column": 58
        },
        {
         "mean_fit_time": 0.11463764667510987,
         "std_fit_time": 0.016488814604620722,
         "mean_score_time": 0.009151182174682616,
         "std_score_time": 0.00831545225570675,
         "param_learning_rate": "0.03",
         "param_max_iter": "50",
         "param_max_leaf_nodes": "127",
         "params": "{'learning_rate': 0.03, 'max_iter': 50, 'max_leaf_nodes': 127}",
         "mean_test_score": 0.9269090909090909,
         "std_test_score": 0.07885461043450064,
         "rank_test_score": 25,
         "mean_train_score": 0.9655229563269876,
         "std_train_score": 0.013315223241585267,
         "_deepnote_index_column": 31
        },
        {
         "mean_fit_time": 0.11452075481414795,
         "std_fit_time": 0.018778172901185337,
         "mean_score_time": 0.006474075317382813,
         "std_score_time": 0.002252887072423372,
         "param_learning_rate": "0.03",
         "param_max_iter": "50",
         "param_max_leaf_nodes": "65",
         "params": "{'learning_rate': 0.03, 'max_iter': 50, 'max_leaf_nodes': 65}",
         "mean_test_score": 0.9269090909090909,
         "std_test_score": 0.07885461043450064,
         "rank_test_score": 25,
         "mean_train_score": 0.9655229563269876,
         "std_train_score": 0.013315223241585267,
         "_deepnote_index_column": 30
        },
        {
         "mean_fit_time": 0.1150916051864624,
         "std_fit_time": 0.016457815839135186,
         "mean_score_time": 0.006297340393066406,
         "std_score_time": 0.0036171256510762672,
         "param_learning_rate": "0.03",
         "param_max_iter": "50",
         "param_max_leaf_nodes": "15",
         "params": "{'learning_rate': 0.03, 'max_iter': 50, 'max_leaf_nodes': 15}",
         "mean_test_score": 0.9269090909090909,
         "std_test_score": 0.07885461043450064,
         "rank_test_score": 25,
         "mean_train_score": 0.9655229563269876,
         "std_train_score": 0.013315223241585267,
         "_deepnote_index_column": 28
        },
        {
         "mean_fit_time": 0.11147960186004639,
         "std_fit_time": 0.014326786531463867,
         "mean_score_time": 0.008247919082641601,
         "std_score_time": 0.0068164337624675485,
         "param_learning_rate": "0.03",
         "param_max_iter": "50",
         "param_max_leaf_nodes": "31",
         "params": "{'learning_rate': 0.03, 'max_iter': 50, 'max_leaf_nodes': 31}",
         "mean_test_score": 0.9269090909090909,
         "std_test_score": 0.07885461043450064,
         "rank_test_score": 25,
         "mean_train_score": 0.9655229563269876,
         "std_train_score": 0.013315223241585267,
         "_deepnote_index_column": 29
        },
        {
         "mean_fit_time": 0.04624621868133545,
         "std_fit_time": 0.012633930594212224,
         "mean_score_time": 0.005354762077331543,
         "std_score_time": 0.0060553027598135335,
         "param_learning_rate": "0.05",
         "param_max_iter": "20",
         "param_max_leaf_nodes": "31",
         "params": "{'learning_rate': 0.05, 'max_iter': 20, 'max_leaf_nodes': 31}",
         "mean_test_score": 0.9174545454545455,
         "std_test_score": 0.0798312269314986,
         "rank_test_score": 29,
         "mean_train_score": 0.9644636058230682,
         "std_train_score": 0.012438333624207798,
         "_deepnote_index_column": 49
        },
        {
         "mean_fit_time": 0.046807146072387694,
         "std_fit_time": 0.013899543784569427,
         "mean_score_time": 0.005311360359191894,
         "std_score_time": 0.004680612304637072,
         "param_learning_rate": "0.05",
         "param_max_iter": "20",
         "param_max_leaf_nodes": "65",
         "params": "{'learning_rate': 0.05, 'max_iter': 20, 'max_leaf_nodes': 65}",
         "mean_test_score": 0.9174545454545455,
         "std_test_score": 0.0798312269314986,
         "rank_test_score": 29,
         "mean_train_score": 0.9644636058230682,
         "std_train_score": 0.012438333624207798,
         "_deepnote_index_column": 50
        },
        {
         "mean_fit_time": 0.04615677356719971,
         "std_fit_time": 0.014093127519354848,
         "mean_score_time": 0.004969234466552734,
         "std_score_time": 0.005877262633889327,
         "param_learning_rate": "0.05",
         "param_max_iter": "20",
         "param_max_leaf_nodes": "127",
         "params": "{'learning_rate': 0.05, 'max_iter': 20, 'max_leaf_nodes': 127}",
         "mean_test_score": 0.9174545454545455,
         "std_test_score": 0.0798312269314986,
         "rank_test_score": 29,
         "mean_train_score": 0.9644636058230682,
         "std_train_score": 0.012438333624207798,
         "_deepnote_index_column": 51
        },
        {
         "mean_fit_time": 0.04808833122253418,
         "std_fit_time": 0.015037600005543415,
         "mean_score_time": 0.004760026931762695,
         "std_score_time": 0.004757710779908441,
         "param_learning_rate": "0.05",
         "param_max_iter": "20",
         "param_max_leaf_nodes": "15",
         "params": "{'learning_rate': 0.05, 'max_iter': 20, 'max_leaf_nodes': 15}",
         "mean_test_score": 0.9174545454545455,
         "std_test_score": 0.0798312269314986,
         "rank_test_score": 29,
         "mean_train_score": 0.9644636058230682,
         "std_train_score": 0.012438333624207798,
         "_deepnote_index_column": 48
        },
        {
         "mean_fit_time": 0.22437916278839112,
         "std_fit_time": 0.030495136306359475,
         "mean_score_time": 0.01121516227722168,
         "std_score_time": 0.008772755985313614,
         "param_learning_rate": "0.01",
         "param_max_iter": "100",
         "param_max_leaf_nodes": "15",
         "params": "{'learning_rate': 0.01, 'max_iter': 100, 'max_leaf_nodes': 15}",
         "mean_test_score": 0.9156363636363636,
         "std_test_score": 0.08102728853666093,
         "rank_test_score": 33,
         "mean_train_score": 0.9644636058230682,
         "std_train_score": 0.012438333624207798,
         "_deepnote_index_column": 8
        },
        {
         "mean_fit_time": 0.22120559692382813,
         "std_fit_time": 0.025056926308401204,
         "mean_score_time": 0.01305788516998291,
         "std_score_time": 0.008940981259435186,
         "param_learning_rate": "0.01",
         "param_max_iter": "100",
         "param_max_leaf_nodes": "31",
         "params": "{'learning_rate': 0.01, 'max_iter': 100, 'max_leaf_nodes': 31}",
         "mean_test_score": 0.9156363636363636,
         "std_test_score": 0.08102728853666093,
         "rank_test_score": 33,
         "mean_train_score": 0.9644636058230682,
         "std_train_score": 0.012438333624207798,
         "_deepnote_index_column": 9
        },
        {
         "mean_fit_time": 0.21539788722991943,
         "std_fit_time": 0.020967370057003432,
         "mean_score_time": 0.010874385833740235,
         "std_score_time": 0.006733325313605243,
         "param_learning_rate": "0.01",
         "param_max_iter": "100",
         "param_max_leaf_nodes": "65",
         "params": "{'learning_rate': 0.01, 'max_iter': 100, 'max_leaf_nodes': 65}",
         "mean_test_score": 0.9156363636363636,
         "std_test_score": 0.08102728853666093,
         "rank_test_score": 33,
         "mean_train_score": 0.9644636058230682,
         "std_train_score": 0.012438333624207798,
         "_deepnote_index_column": 10
        },
        {
         "mean_fit_time": 0.047372903823852536,
         "std_fit_time": 0.013122599518664995,
         "mean_score_time": 0.005374131202697754,
         "std_score_time": 0.00563115323667865,
         "param_learning_rate": "0.04",
         "param_max_iter": "20",
         "param_max_leaf_nodes": "127",
         "params": "{'learning_rate': 0.04, 'max_iter': 20, 'max_leaf_nodes': 127}",
         "mean_test_score": 0.9156363636363636,
         "std_test_score": 0.08102728853666093,
         "rank_test_score": 33,
         "mean_train_score": 0.9585464725643896,
         "std_train_score": 0.015739051908905705,
         "_deepnote_index_column": 39
        },
        {
         "mean_fit_time": 0.046575007438659666,
         "std_fit_time": 0.013448124310193503,
         "mean_score_time": 0.00406984806060791,
         "std_score_time": 0.0026748486515875513,
         "param_learning_rate": "0.04",
         "param_max_iter": "20",
         "param_max_leaf_nodes": "31",
         "params": "{'learning_rate': 0.04, 'max_iter': 20, 'max_leaf_nodes': 31}",
         "mean_test_score": 0.9156363636363636,
         "std_test_score": 0.08102728853666093,
         "rank_test_score": 33,
         "mean_train_score": 0.9585464725643896,
         "std_train_score": 0.015739051908905705,
         "_deepnote_index_column": 37
        },
        {
         "mean_fit_time": 0.40709184169769286,
         "std_fit_time": 1.023826588051826,
         "mean_score_time": 0.02340733051300049,
         "std_score_time": 0.07634611544671382,
         "param_learning_rate": "0.01",
         "param_max_iter": "100",
         "param_max_leaf_nodes": "127",
         "params": "{'learning_rate': 0.01, 'max_iter': 100, 'max_leaf_nodes': 127}",
         "mean_test_score": 0.9156363636363636,
         "std_test_score": 0.08102728853666093,
         "rank_test_score": 33,
         "mean_train_score": 0.9644636058230682,
         "std_train_score": 0.012438333624207798,
         "_deepnote_index_column": 11
        },
        {
         "mean_fit_time": 0.10932966709136963,
         "std_fit_time": 0.012866691801728277,
         "mean_score_time": 0.00688565731048584,
         "std_score_time": 0.0054536681616928,
         "param_learning_rate": "0.02",
         "param_max_iter": "50",
         "param_max_leaf_nodes": "15",
         "params": "{'learning_rate': 0.02, 'max_iter': 50, 'max_leaf_nodes': 15}",
         "mean_test_score": 0.9156363636363636,
         "std_test_score": 0.08102728853666093,
         "rank_test_score": 33,
         "mean_train_score": 0.9644636058230682,
         "std_train_score": 0.012438333624207798,
         "_deepnote_index_column": 16
        },
        {
         "mean_fit_time": 0.31935145854949953,
         "std_fit_time": 0.890604241125417,
         "mean_score_time": 0.008235883712768555,
         "std_score_time": 0.007333429107143381,
         "param_learning_rate": "0.02",
         "param_max_iter": "50",
         "param_max_leaf_nodes": "31",
         "params": "{'learning_rate': 0.02, 'max_iter': 50, 'max_leaf_nodes': 31}",
         "mean_test_score": 0.9156363636363636,
         "std_test_score": 0.08102728853666093,
         "rank_test_score": 33,
         "mean_train_score": 0.9644636058230682,
         "std_train_score": 0.012438333624207798,
         "_deepnote_index_column": 17
        },
        {
         "mean_fit_time": 0.10767975330352783,
         "std_fit_time": 0.012047560614629164,
         "mean_score_time": 0.006767754554748535,
         "std_score_time": 0.005387063593163216,
         "param_learning_rate": "0.02",
         "param_max_iter": "50",
         "param_max_leaf_nodes": "65",
         "params": "{'learning_rate': 0.02, 'max_iter': 50, 'max_leaf_nodes': 65}",
         "mean_test_score": 0.9156363636363636,
         "std_test_score": 0.08102728853666093,
         "rank_test_score": 33,
         "mean_train_score": 0.9644636058230682,
         "std_train_score": 0.012438333624207798,
         "_deepnote_index_column": 18
        },
        {
         "mean_fit_time": 0.11107178211212158,
         "std_fit_time": 0.02240777235308082,
         "mean_score_time": 0.006982603073120117,
         "std_score_time": 0.006901490080279745,
         "param_learning_rate": "0.02",
         "param_max_iter": "50",
         "param_max_leaf_nodes": "127",
         "params": "{'learning_rate': 0.02, 'max_iter': 50, 'max_leaf_nodes': 127}",
         "mean_test_score": 0.9156363636363636,
         "std_test_score": 0.08102728853666093,
         "rank_test_score": 33,
         "mean_train_score": 0.9644636058230682,
         "std_train_score": 0.012438333624207798,
         "_deepnote_index_column": 19
        },
        {
         "mean_fit_time": 0.04787020206451416,
         "std_fit_time": 0.013513387807328468,
         "mean_score_time": 0.004026145935058594,
         "std_score_time": 0.002026376838245484,
         "param_learning_rate": "0.04",
         "param_max_iter": "20",
         "param_max_leaf_nodes": "15",
         "params": "{'learning_rate': 0.04, 'max_iter': 20, 'max_leaf_nodes': 15}",
         "mean_test_score": 0.9156363636363636,
         "std_test_score": 0.08102728853666093,
         "rank_test_score": 33,
         "mean_train_score": 0.9585464725643896,
         "std_train_score": 0.015739051908905705,
         "_deepnote_index_column": 36
        },
        {
         "mean_fit_time": 0.04771010398864746,
         "std_fit_time": 0.014367248117923856,
         "mean_score_time": 0.004869012832641601,
         "std_score_time": 0.004715887449192292,
         "param_learning_rate": "0.04",
         "param_max_iter": "20",
         "param_max_leaf_nodes": "65",
         "params": "{'learning_rate': 0.04, 'max_iter': 20, 'max_leaf_nodes': 65}",
         "mean_test_score": 0.9156363636363636,
         "std_test_score": 0.08102728853666093,
         "rank_test_score": 33,
         "mean_train_score": 0.9585464725643896,
         "std_train_score": 0.015739051908905705,
         "_deepnote_index_column": 38
        },
        {
         "mean_fit_time": 0.04631106853485108,
         "std_fit_time": 0.01464826126160641,
         "mean_score_time": 0.004736742973327637,
         "std_score_time": 0.00398379401866463,
         "param_learning_rate": "0.01",
         "param_max_iter": "20",
         "param_max_leaf_nodes": "127",
         "params": "{'learning_rate': 0.01, 'max_iter': 20, 'max_leaf_nodes': 127}",
         "mean_test_score": 0.9138181818181818,
         "std_test_score": 0.0860950848560104,
         "rank_test_score": 45,
         "mean_train_score": 0.9521903695408735,
         "std_train_score": 0.013181968589651028,
         "_deepnote_index_column": 3
        },
        {
         "mean_fit_time": 0.11120236873626708,
         "std_fit_time": 0.014593439527416444,
         "mean_score_time": 0.007516903877258301,
         "std_score_time": 0.006076979330420604,
         "param_learning_rate": "0.01",
         "param_max_iter": "50",
         "param_max_leaf_nodes": "15",
         "params": "{'learning_rate': 0.01, 'max_iter': 50, 'max_leaf_nodes': 15}",
         "mean_test_score": 0.9138181818181818,
         "std_test_score": 0.0860950848560104,
         "rank_test_score": 45,
         "mean_train_score": 0.9570660694288915,
         "std_train_score": 0.014924821439574795,
         "_deepnote_index_column": 4
        },
        {
         "mean_fit_time": 0.19257879734039307,
         "std_fit_time": 0.4585814663752636,
         "mean_score_time": 0.006337289810180664,
         "std_score_time": 0.0032125314858105045,
         "param_learning_rate": "0.01",
         "param_max_iter": "50",
         "param_max_leaf_nodes": "31",
         "params": "{'learning_rate': 0.01, 'max_iter': 50, 'max_leaf_nodes': 31}",
         "mean_test_score": 0.9138181818181818,
         "std_test_score": 0.0860950848560104,
         "rank_test_score": 45,
         "mean_train_score": 0.9570660694288915,
         "std_train_score": 0.014924821439574795,
         "_deepnote_index_column": 5
        },
        {
         "mean_fit_time": 0.1720473575592041,
         "std_fit_time": 0.45290553836555286,
         "mean_score_time": 0.008470978736877442,
         "std_score_time": 0.009571424041169195,
         "param_learning_rate": "0.01",
         "param_max_iter": "50",
         "param_max_leaf_nodes": "65",
         "params": "{'learning_rate': 0.01, 'max_iter': 50, 'max_leaf_nodes': 65}",
         "mean_test_score": 0.9138181818181818,
         "std_test_score": 0.0860950848560104,
         "rank_test_score": 45,
         "mean_train_score": 0.9570660694288915,
         "std_train_score": 0.014924821439574795,
         "_deepnote_index_column": 6
        },
        {
         "mean_fit_time": 0.20257486820220946,
         "std_fit_time": 0.8674301141810555,
         "mean_score_time": 0.010756955146789551,
         "std_score_time": 0.037874243065526815,
         "param_learning_rate": "0.01",
         "param_max_iter": "20",
         "param_max_leaf_nodes": "65",
         "params": "{'learning_rate': 0.01, 'max_iter': 20, 'max_leaf_nodes': 65}",
         "mean_test_score": 0.9138181818181818,
         "std_test_score": 0.0860950848560104,
         "rank_test_score": 45,
         "mean_train_score": 0.9521903695408735,
         "std_train_score": 0.013181968589651028,
         "_deepnote_index_column": 2
        },
        {
         "mean_fit_time": 0.16500438690185548,
         "std_fit_time": 0.5421520778188704,
         "mean_score_time": 0.01684823989868164,
         "std_score_time": 0.078624695825444,
         "param_learning_rate": "0.01",
         "param_max_iter": "20",
         "param_max_leaf_nodes": "31",
         "params": "{'learning_rate': 0.01, 'max_iter': 20, 'max_leaf_nodes': 31}",
         "mean_test_score": 0.9138181818181818,
         "std_test_score": 0.0860950848560104,
         "rank_test_score": 45,
         "mean_train_score": 0.9521903695408735,
         "std_train_score": 0.013181968589651028,
         "_deepnote_index_column": 1
        },
        {
         "mean_fit_time": 0.048152070045471194,
         "std_fit_time": 0.016044980505285956,
         "mean_score_time": 0.0039725351333618165,
         "std_score_time": 0.0014457377351247537,
         "param_learning_rate": "0.03",
         "param_max_iter": "20",
         "param_max_leaf_nodes": "65",
         "params": "{'learning_rate': 0.03, 'max_iter': 20, 'max_leaf_nodes': 65}",
         "mean_test_score": 0.9138181818181818,
         "std_test_score": 0.0860950848560104,
         "rank_test_score": 45,
         "mean_train_score": 0.9562217245240763,
         "std_train_score": 0.015007110117635294,
         "_deepnote_index_column": 26
        },
        {
         "mean_fit_time": 0.045982651710510254,
         "std_fit_time": 0.013620472132990615,
         "mean_score_time": 0.004850597381591797,
         "std_score_time": 0.004204618975721613,
         "param_learning_rate": "0.03",
         "param_max_iter": "20",
         "param_max_leaf_nodes": "127",
         "params": "{'learning_rate': 0.03, 'max_iter': 20, 'max_leaf_nodes': 127}",
         "mean_test_score": 0.9138181818181818,
         "std_test_score": 0.0860950848560104,
         "rank_test_score": 45,
         "mean_train_score": 0.9562217245240763,
         "std_train_score": 0.015007110117635294,
         "_deepnote_index_column": 27
        },
        {
         "mean_fit_time": 0.04688678741455078,
         "std_fit_time": 0.013495849953661394,
         "mean_score_time": 0.004591307640075684,
         "std_score_time": 0.003990348918559832,
         "param_learning_rate": "0.02",
         "param_max_iter": "20",
         "param_max_leaf_nodes": "15",
         "params": "{'learning_rate': 0.02, 'max_iter': 20, 'max_leaf_nodes': 15}",
         "mean_test_score": 0.9138181818181818,
         "std_test_score": 0.0860950848560104,
         "rank_test_score": 45,
         "mean_train_score": 0.9560134378499441,
         "std_train_score": 0.014443952429143524,
         "_deepnote_index_column": 12
        },
        {
         "mean_fit_time": 0.047133712768554686,
         "std_fit_time": 0.013216016731941295,
         "mean_score_time": 0.004977869987487793,
         "std_score_time": 0.004202729986091389,
         "param_learning_rate": "0.02",
         "param_max_iter": "20",
         "param_max_leaf_nodes": "31",
         "params": "{'learning_rate': 0.02, 'max_iter': 20, 'max_leaf_nodes': 31}",
         "mean_test_score": 0.9138181818181818,
         "std_test_score": 0.0860950848560104,
         "rank_test_score": 45,
         "mean_train_score": 0.9560134378499441,
         "std_train_score": 0.014443952429143524,
         "_deepnote_index_column": 13
        },
        {
         "mean_fit_time": 0.0471271276473999,
         "std_fit_time": 0.018692524319028275,
         "mean_score_time": 0.00577077865600586,
         "std_score_time": 0.006494569189577297,
         "param_learning_rate": "0.02",
         "param_max_iter": "20",
         "param_max_leaf_nodes": "65",
         "params": "{'learning_rate': 0.02, 'max_iter': 20, 'max_leaf_nodes': 65}",
         "mean_test_score": 0.9138181818181818,
         "std_test_score": 0.0860950848560104,
         "rank_test_score": 45,
         "mean_train_score": 0.9560134378499441,
         "std_train_score": 0.014443952429143524,
         "_deepnote_index_column": 14
        },
        {
         "mean_fit_time": 0.04752945899963379,
         "std_fit_time": 0.014495440864995983,
         "mean_score_time": 0.005008039474487305,
         "std_score_time": 0.004593651572224551,
         "param_learning_rate": "0.02",
         "param_max_iter": "20",
         "param_max_leaf_nodes": "127",
         "params": "{'learning_rate': 0.02, 'max_iter': 20, 'max_leaf_nodes': 127}",
         "mean_test_score": 0.9138181818181818,
         "std_test_score": 0.0860950848560104,
         "rank_test_score": 45,
         "mean_train_score": 0.9560134378499441,
         "std_train_score": 0.014443952429143524,
         "_deepnote_index_column": 15
        },
        {
         "mean_fit_time": 0.04905327320098877,
         "std_fit_time": 0.017589815898383418,
         "mean_score_time": 0.004359478950500488,
         "std_score_time": 0.003698829679857814,
         "param_learning_rate": "0.03",
         "param_max_iter": "20",
         "param_max_leaf_nodes": "15",
         "params": "{'learning_rate': 0.03, 'max_iter': 20, 'max_leaf_nodes': 15}",
         "mean_test_score": 0.9138181818181818,
         "std_test_score": 0.0860950848560104,
         "rank_test_score": 45,
         "mean_train_score": 0.9562217245240763,
         "std_train_score": 0.015007110117635294,
         "_deepnote_index_column": 24
        },
        {
         "mean_fit_time": 0.04995309352874756,
         "std_fit_time": 0.016489771023108894,
         "mean_score_time": 0.005824589729309082,
         "std_score_time": 0.006088766613803642,
         "param_learning_rate": "0.03",
         "param_max_iter": "20",
         "param_max_leaf_nodes": "31",
         "params": "{'learning_rate': 0.03, 'max_iter': 20, 'max_leaf_nodes': 31}",
         "mean_test_score": 0.9138181818181818,
         "std_test_score": 0.0860950848560104,
         "rank_test_score": 45,
         "mean_train_score": 0.9562217245240763,
         "std_train_score": 0.015007110117635294,
         "_deepnote_index_column": 25
        },
        {
         "mean_fit_time": 0.10689349174499511,
         "std_fit_time": 0.013616054743197183,
         "mean_score_time": 0.007697744369506836,
         "std_score_time": 0.007197259650171467,
         "param_learning_rate": "0.01",
         "param_max_iter": "50",
         "param_max_leaf_nodes": "127",
         "params": "{'learning_rate': 0.01, 'max_iter': 50, 'max_leaf_nodes': 127}",
         "mean_test_score": 0.9138181818181818,
         "std_test_score": 0.0860950848560104,
         "rank_test_score": 45,
         "mean_train_score": 0.9570660694288915,
         "std_train_score": 0.014924821439574795,
         "_deepnote_index_column": 7
        },
        {
         "mean_fit_time": 0.05870370864868164,
         "std_fit_time": 0.06120076665931234,
         "mean_score_time": 0.004722652435302735,
         "std_score_time": 0.00401499818486502,
         "param_learning_rate": "0.01",
         "param_max_iter": "20",
         "param_max_leaf_nodes": "15",
         "params": "{'learning_rate': 0.01, 'max_iter': 20, 'max_leaf_nodes': 15}",
         "mean_test_score": 0.9138181818181818,
         "std_test_score": 0.0860950848560104,
         "rank_test_score": 45,
         "mean_train_score": 0.9521903695408735,
         "std_train_score": 0.013181968589651028,
         "_deepnote_index_column": 0
        }
       ],
       "rows_bottom": null
      },
      "text/plain": "    mean_fit_time  std_fit_time  mean_score_time  std_score_time  \\\n55       0.556036      1.936325         0.086826        0.340646   \n54       0.113505      0.015639         0.005915        0.003818   \n53       0.370242      1.121637         0.007508        0.005041   \n52       0.114879      0.015063         0.005599        0.002274   \n23       0.226128      0.023522         0.007980        0.000780   \n22       0.223752      0.023828         0.011429        0.008124   \n21       0.223080      0.019716         0.014867        0.028513   \n20       0.222495      0.020733         0.010833        0.006970   \n32       0.221329      0.015923         0.010368        0.007073   \n33       0.289166      0.440582         0.011372        0.008911   \n34       0.223826      0.020321         0.011806        0.008927   \n35       0.224320      0.020819         0.010804        0.006821   \n41       0.116090      0.018239         0.007191        0.005581   \n43       0.157099      0.300552         0.007352        0.006135   \n42       0.267190      0.396720         0.014975        0.038828   \n40       0.113627      0.014470         0.007891        0.009218   \n59       0.233745      0.028525         0.009117        0.004949   \n44       0.410035      0.631008         0.053827        0.223188   \n45       0.455871      0.849898         0.014916        0.021162   \n46       0.230686      0.042713         0.012055        0.010124   \n47       0.226635      0.021686         0.010757        0.007104   \n56       0.231017      0.020457         0.009515        0.006220   \n57       0.225734      0.021385         0.012066        0.008802   \n58       0.229322      0.030280         0.012305        0.009632   \n31       0.114638      0.016489         0.009151        0.008315   \n30       0.114521      0.018778         0.006474        0.002253   \n28       0.115092      0.016458         0.006297        0.003617   \n29       0.111480      0.014327         0.008248        0.006816   \n49       0.046246      0.012634         0.005355        0.006055   \n50       0.046807      0.013900         0.005311        0.004681   \n51       0.046157      0.014093         0.004969        0.005877   \n48       0.048088      0.015038         0.004760        0.004758   \n8        0.224379      0.030495         0.011215        0.008773   \n9        0.221206      0.025057         0.013058        0.008941   \n10       0.215398      0.020967         0.010874        0.006733   \n39       0.047373      0.013123         0.005374        0.005631   \n37       0.046575      0.013448         0.004070        0.002675   \n11       0.407092      1.023827         0.023407        0.076346   \n16       0.109330      0.012867         0.006886        0.005454   \n17       0.319351      0.890604         0.008236        0.007333   \n18       0.107680      0.012048         0.006768        0.005387   \n19       0.111072      0.022408         0.006983        0.006901   \n36       0.047870      0.013513         0.004026        0.002026   \n38       0.047710      0.014367         0.004869        0.004716   \n3        0.046311      0.014648         0.004737        0.003984   \n4        0.111202      0.014593         0.007517        0.006077   \n5        0.192579      0.458581         0.006337        0.003213   \n6        0.172047      0.452906         0.008471        0.009571   \n2        0.202575      0.867430         0.010757        0.037874   \n1        0.165004      0.542152         0.016848        0.078625   \n26       0.048152      0.016045         0.003973        0.001446   \n27       0.045983      0.013620         0.004851        0.004205   \n12       0.046887      0.013496         0.004591        0.003990   \n13       0.047134      0.013216         0.004978        0.004203   \n14       0.047127      0.018693         0.005771        0.006495   \n15       0.047529      0.014495         0.005008        0.004594   \n24       0.049053      0.017590         0.004359        0.003699   \n25       0.049953      0.016490         0.005825        0.006089   \n7        0.106893      0.013616         0.007698        0.007197   \n0        0.058704      0.061201         0.004723        0.004015   \n\n   param_learning_rate param_max_iter param_max_leaf_nodes  \\\n55                0.05             50                  127   \n54                0.05             50                   65   \n53                0.05             50                   31   \n52                0.05             50                   15   \n23                0.02            100                  127   \n22                0.02            100                   65   \n21                0.02            100                   31   \n20                0.02            100                   15   \n32                0.03            100                   15   \n33                0.03            100                   31   \n34                0.03            100                   65   \n35                0.03            100                  127   \n41                0.04             50                   31   \n43                0.04             50                  127   \n42                0.04             50                   65   \n40                0.04             50                   15   \n59                0.05            100                  127   \n44                0.04            100                   15   \n45                0.04            100                   31   \n46                0.04            100                   65   \n47                0.04            100                  127   \n56                0.05            100                   15   \n57                0.05            100                   31   \n58                0.05            100                   65   \n31                0.03             50                  127   \n30                0.03             50                   65   \n28                0.03             50                   15   \n29                0.03             50                   31   \n49                0.05             20                   31   \n50                0.05             20                   65   \n51                0.05             20                  127   \n48                0.05             20                   15   \n8                 0.01            100                   15   \n9                 0.01            100                   31   \n10                0.01            100                   65   \n39                0.04             20                  127   \n37                0.04             20                   31   \n11                0.01            100                  127   \n16                0.02             50                   15   \n17                0.02             50                   31   \n18                0.02             50                   65   \n19                0.02             50                  127   \n36                0.04             20                   15   \n38                0.04             20                   65   \n3                 0.01             20                  127   \n4                 0.01             50                   15   \n5                 0.01             50                   31   \n6                 0.01             50                   65   \n2                 0.01             20                   65   \n1                 0.01             20                   31   \n26                0.03             20                   65   \n27                0.03             20                  127   \n12                0.02             20                   15   \n13                0.02             20                   31   \n14                0.02             20                   65   \n15                0.02             20                  127   \n24                0.03             20                   15   \n25                0.03             20                   31   \n7                 0.01             50                  127   \n0                 0.01             20                   15   \n\n                                               params  mean_test_score  \\\n55  {'learning_rate': 0.05, 'max_iter': 50, 'max_l...         0.945636   \n54  {'learning_rate': 0.05, 'max_iter': 50, 'max_l...         0.945636   \n53  {'learning_rate': 0.05, 'max_iter': 50, 'max_l...         0.945636   \n52  {'learning_rate': 0.05, 'max_iter': 50, 'max_l...         0.945636   \n23  {'learning_rate': 0.02, 'max_iter': 100, 'max_...         0.943818   \n22  {'learning_rate': 0.02, 'max_iter': 100, 'max_...         0.943818   \n21  {'learning_rate': 0.02, 'max_iter': 100, 'max_...         0.943818   \n20  {'learning_rate': 0.02, 'max_iter': 100, 'max_...         0.943818   \n32  {'learning_rate': 0.03, 'max_iter': 100, 'max_...         0.943818   \n33  {'learning_rate': 0.03, 'max_iter': 100, 'max_...         0.943818   \n34  {'learning_rate': 0.03, 'max_iter': 100, 'max_...         0.943818   \n35  {'learning_rate': 0.03, 'max_iter': 100, 'max_...         0.943818   \n41  {'learning_rate': 0.04, 'max_iter': 50, 'max_l...         0.941818   \n43  {'learning_rate': 0.04, 'max_iter': 50, 'max_l...         0.941818   \n42  {'learning_rate': 0.04, 'max_iter': 50, 'max_l...         0.941818   \n40  {'learning_rate': 0.04, 'max_iter': 50, 'max_l...         0.941818   \n59  {'learning_rate': 0.05, 'max_iter': 100, 'max_...         0.934182   \n44  {'learning_rate': 0.04, 'max_iter': 100, 'max_...         0.934182   \n45  {'learning_rate': 0.04, 'max_iter': 100, 'max_...         0.934182   \n46  {'learning_rate': 0.04, 'max_iter': 100, 'max_...         0.934182   \n47  {'learning_rate': 0.04, 'max_iter': 100, 'max_...         0.934182   \n56  {'learning_rate': 0.05, 'max_iter': 100, 'max_...         0.934182   \n57  {'learning_rate': 0.05, 'max_iter': 100, 'max_...         0.934182   \n58  {'learning_rate': 0.05, 'max_iter': 100, 'max_...         0.934182   \n31  {'learning_rate': 0.03, 'max_iter': 50, 'max_l...         0.926909   \n30  {'learning_rate': 0.03, 'max_iter': 50, 'max_l...         0.926909   \n28  {'learning_rate': 0.03, 'max_iter': 50, 'max_l...         0.926909   \n29  {'learning_rate': 0.03, 'max_iter': 50, 'max_l...         0.926909   \n49  {'learning_rate': 0.05, 'max_iter': 20, 'max_l...         0.917455   \n50  {'learning_rate': 0.05, 'max_iter': 20, 'max_l...         0.917455   \n51  {'learning_rate': 0.05, 'max_iter': 20, 'max_l...         0.917455   \n48  {'learning_rate': 0.05, 'max_iter': 20, 'max_l...         0.917455   \n8   {'learning_rate': 0.01, 'max_iter': 100, 'max_...         0.915636   \n9   {'learning_rate': 0.01, 'max_iter': 100, 'max_...         0.915636   \n10  {'learning_rate': 0.01, 'max_iter': 100, 'max_...         0.915636   \n39  {'learning_rate': 0.04, 'max_iter': 20, 'max_l...         0.915636   \n37  {'learning_rate': 0.04, 'max_iter': 20, 'max_l...         0.915636   \n11  {'learning_rate': 0.01, 'max_iter': 100, 'max_...         0.915636   \n16  {'learning_rate': 0.02, 'max_iter': 50, 'max_l...         0.915636   \n17  {'learning_rate': 0.02, 'max_iter': 50, 'max_l...         0.915636   \n18  {'learning_rate': 0.02, 'max_iter': 50, 'max_l...         0.915636   \n19  {'learning_rate': 0.02, 'max_iter': 50, 'max_l...         0.915636   \n36  {'learning_rate': 0.04, 'max_iter': 20, 'max_l...         0.915636   \n38  {'learning_rate': 0.04, 'max_iter': 20, 'max_l...         0.915636   \n3   {'learning_rate': 0.01, 'max_iter': 20, 'max_l...         0.913818   \n4   {'learning_rate': 0.01, 'max_iter': 50, 'max_l...         0.913818   \n5   {'learning_rate': 0.01, 'max_iter': 50, 'max_l...         0.913818   \n6   {'learning_rate': 0.01, 'max_iter': 50, 'max_l...         0.913818   \n2   {'learning_rate': 0.01, 'max_iter': 20, 'max_l...         0.913818   \n1   {'learning_rate': 0.01, 'max_iter': 20, 'max_l...         0.913818   \n26  {'learning_rate': 0.03, 'max_iter': 20, 'max_l...         0.913818   \n27  {'learning_rate': 0.03, 'max_iter': 20, 'max_l...         0.913818   \n12  {'learning_rate': 0.02, 'max_iter': 20, 'max_l...         0.913818   \n13  {'learning_rate': 0.02, 'max_iter': 20, 'max_l...         0.913818   \n14  {'learning_rate': 0.02, 'max_iter': 20, 'max_l...         0.913818   \n15  {'learning_rate': 0.02, 'max_iter': 20, 'max_l...         0.913818   \n24  {'learning_rate': 0.03, 'max_iter': 20, 'max_l...         0.913818   \n25  {'learning_rate': 0.03, 'max_iter': 20, 'max_l...         0.913818   \n7   {'learning_rate': 0.01, 'max_iter': 50, 'max_l...         0.913818   \n0   {'learning_rate': 0.01, 'max_iter': 20, 'max_l...         0.913818   \n\n    std_test_score  rank_test_score  mean_train_score  std_train_score  \n55        0.066816                1          0.986670         0.008132  \n54        0.066816                1          0.986670         0.008132  \n53        0.066816                1          0.986670         0.008132  \n52        0.066816                1          0.986670         0.008132  \n23        0.071343                5          0.977373         0.011161  \n22        0.071343                5          0.977373         0.011161  \n21        0.071343                5          0.977373         0.011161  \n20        0.071343                5          0.977373         0.011161  \n32        0.066549                5          0.989848         0.004703  \n33        0.066549                5          0.989848         0.004703  \n34        0.066549                5          0.989848         0.004703  \n35        0.066549                5          0.989848         0.004703  \n41        0.073900               13          0.976950         0.010894  \n43        0.073900               13          0.976950         0.010894  \n42        0.073900               13          0.976950         0.010894  \n40        0.073900               13          0.976950         0.010894  \n59        0.067703               17          0.991971         0.008603  \n44        0.070102               17          0.991120         0.006113  \n45        0.070102               17          0.991120         0.006113  \n46        0.070102               17          0.991120         0.006113  \n47        0.070102               17          0.991120         0.006113  \n56        0.067703               17          0.991971         0.008603  \n57        0.067703               17          0.991971         0.008603  \n58        0.067703               17          0.991971         0.008603  \n31        0.078855               25          0.965523         0.013315  \n30        0.078855               25          0.965523         0.013315  \n28        0.078855               25          0.965523         0.013315  \n29        0.078855               25          0.965523         0.013315  \n49        0.079831               29          0.964464         0.012438  \n50        0.079831               29          0.964464         0.012438  \n51        0.079831               29          0.964464         0.012438  \n48        0.079831               29          0.964464         0.012438  \n8         0.081027               33          0.964464         0.012438  \n9         0.081027               33          0.964464         0.012438  \n10        0.081027               33          0.964464         0.012438  \n39        0.081027               33          0.958546         0.015739  \n37        0.081027               33          0.958546         0.015739  \n11        0.081027               33          0.964464         0.012438  \n16        0.081027               33          0.964464         0.012438  \n17        0.081027               33          0.964464         0.012438  \n18        0.081027               33          0.964464         0.012438  \n19        0.081027               33          0.964464         0.012438  \n36        0.081027               33          0.958546         0.015739  \n38        0.081027               33          0.958546         0.015739  \n3         0.086095               45          0.952190         0.013182  \n4         0.086095               45          0.957066         0.014925  \n5         0.086095               45          0.957066         0.014925  \n6         0.086095               45          0.957066         0.014925  \n2         0.086095               45          0.952190         0.013182  \n1         0.086095               45          0.952190         0.013182  \n26        0.086095               45          0.956222         0.015007  \n27        0.086095               45          0.956222         0.015007  \n12        0.086095               45          0.956013         0.014444  \n13        0.086095               45          0.956013         0.014444  \n14        0.086095               45          0.956013         0.014444  \n15        0.086095               45          0.956013         0.014444  \n24        0.086095               45          0.956222         0.015007  \n25        0.086095               45          0.956222         0.015007  \n7         0.086095               45          0.957066         0.014925  \n0         0.086095               45          0.952190         0.013182  ",
      "text/html": "<div>\n<style scoped>\n    .dataframe tbody tr th:only-of-type {\n        vertical-align: middle;\n    }\n\n    .dataframe tbody tr th {\n        vertical-align: top;\n    }\n\n    .dataframe thead th {\n        text-align: right;\n    }\n</style>\n<table border=\"1\" class=\"dataframe\">\n  <thead>\n    <tr style=\"text-align: right;\">\n      <th></th>\n      <th>mean_fit_time</th>\n      <th>std_fit_time</th>\n      <th>mean_score_time</th>\n      <th>std_score_time</th>\n      <th>param_learning_rate</th>\n      <th>param_max_iter</th>\n      <th>param_max_leaf_nodes</th>\n      <th>params</th>\n      <th>mean_test_score</th>\n      <th>std_test_score</th>\n      <th>rank_test_score</th>\n      <th>mean_train_score</th>\n      <th>std_train_score</th>\n    </tr>\n  </thead>\n  <tbody>\n    <tr>\n      <th>55</th>\n      <td>0.556036</td>\n      <td>1.936325</td>\n      <td>0.086826</td>\n      <td>0.340646</td>\n      <td>0.05</td>\n      <td>50</td>\n      <td>127</td>\n      <td>{'learning_rate': 0.05, 'max_iter': 50, 'max_l...</td>\n      <td>0.945636</td>\n      <td>0.066816</td>\n      <td>1</td>\n      <td>0.986670</td>\n      <td>0.008132</td>\n    </tr>\n    <tr>\n      <th>54</th>\n      <td>0.113505</td>\n      <td>0.015639</td>\n      <td>0.005915</td>\n      <td>0.003818</td>\n      <td>0.05</td>\n      <td>50</td>\n      <td>65</td>\n      <td>{'learning_rate': 0.05, 'max_iter': 50, 'max_l...</td>\n      <td>0.945636</td>\n      <td>0.066816</td>\n      <td>1</td>\n      <td>0.986670</td>\n      <td>0.008132</td>\n    </tr>\n    <tr>\n      <th>53</th>\n      <td>0.370242</td>\n      <td>1.121637</td>\n      <td>0.007508</td>\n      <td>0.005041</td>\n      <td>0.05</td>\n      <td>50</td>\n      <td>31</td>\n      <td>{'learning_rate': 0.05, 'max_iter': 50, 'max_l...</td>\n      <td>0.945636</td>\n      <td>0.066816</td>\n      <td>1</td>\n      <td>0.986670</td>\n      <td>0.008132</td>\n    </tr>\n    <tr>\n      <th>52</th>\n      <td>0.114879</td>\n      <td>0.015063</td>\n      <td>0.005599</td>\n      <td>0.002274</td>\n      <td>0.05</td>\n      <td>50</td>\n      <td>15</td>\n      <td>{'learning_rate': 0.05, 'max_iter': 50, 'max_l...</td>\n      <td>0.945636</td>\n      <td>0.066816</td>\n      <td>1</td>\n      <td>0.986670</td>\n      <td>0.008132</td>\n    </tr>\n    <tr>\n      <th>23</th>\n      <td>0.226128</td>\n      <td>0.023522</td>\n      <td>0.007980</td>\n      <td>0.000780</td>\n      <td>0.02</td>\n      <td>100</td>\n      <td>127</td>\n      <td>{'learning_rate': 0.02, 'max_iter': 100, 'max_...</td>\n      <td>0.943818</td>\n      <td>0.071343</td>\n      <td>5</td>\n      <td>0.977373</td>\n      <td>0.011161</td>\n    </tr>\n    <tr>\n      <th>22</th>\n      <td>0.223752</td>\n      <td>0.023828</td>\n      <td>0.011429</td>\n      <td>0.008124</td>\n      <td>0.02</td>\n      <td>100</td>\n      <td>65</td>\n      <td>{'learning_rate': 0.02, 'max_iter': 100, 'max_...</td>\n      <td>0.943818</td>\n      <td>0.071343</td>\n      <td>5</td>\n      <td>0.977373</td>\n      <td>0.011161</td>\n    </tr>\n    <tr>\n      <th>21</th>\n      <td>0.223080</td>\n      <td>0.019716</td>\n      <td>0.014867</td>\n      <td>0.028513</td>\n      <td>0.02</td>\n      <td>100</td>\n      <td>31</td>\n      <td>{'learning_rate': 0.02, 'max_iter': 100, 'max_...</td>\n      <td>0.943818</td>\n      <td>0.071343</td>\n      <td>5</td>\n      <td>0.977373</td>\n      <td>0.011161</td>\n    </tr>\n    <tr>\n      <th>20</th>\n      <td>0.222495</td>\n      <td>0.020733</td>\n      <td>0.010833</td>\n      <td>0.006970</td>\n      <td>0.02</td>\n      <td>100</td>\n      <td>15</td>\n      <td>{'learning_rate': 0.02, 'max_iter': 100, 'max_...</td>\n      <td>0.943818</td>\n      <td>0.071343</td>\n      <td>5</td>\n      <td>0.977373</td>\n      <td>0.011161</td>\n    </tr>\n    <tr>\n      <th>32</th>\n      <td>0.221329</td>\n      <td>0.015923</td>\n      <td>0.010368</td>\n      <td>0.007073</td>\n      <td>0.03</td>\n      <td>100</td>\n      <td>15</td>\n      <td>{'learning_rate': 0.03, 'max_iter': 100, 'max_...</td>\n      <td>0.943818</td>\n      <td>0.066549</td>\n      <td>5</td>\n      <td>0.989848</td>\n      <td>0.004703</td>\n    </tr>\n    <tr>\n      <th>33</th>\n      <td>0.289166</td>\n      <td>0.440582</td>\n      <td>0.011372</td>\n      <td>0.008911</td>\n      <td>0.03</td>\n      <td>100</td>\n      <td>31</td>\n      <td>{'learning_rate': 0.03, 'max_iter': 100, 'max_...</td>\n      <td>0.943818</td>\n      <td>0.066549</td>\n      <td>5</td>\n      <td>0.989848</td>\n      <td>0.004703</td>\n    </tr>\n    <tr>\n      <th>34</th>\n      <td>0.223826</td>\n      <td>0.020321</td>\n      <td>0.011806</td>\n      <td>0.008927</td>\n      <td>0.03</td>\n      <td>100</td>\n      <td>65</td>\n      <td>{'learning_rate': 0.03, 'max_iter': 100, 'max_...</td>\n      <td>0.943818</td>\n      <td>0.066549</td>\n      <td>5</td>\n      <td>0.989848</td>\n      <td>0.004703</td>\n    </tr>\n    <tr>\n      <th>35</th>\n      <td>0.224320</td>\n      <td>0.020819</td>\n      <td>0.010804</td>\n      <td>0.006821</td>\n      <td>0.03</td>\n      <td>100</td>\n      <td>127</td>\n      <td>{'learning_rate': 0.03, 'max_iter': 100, 'max_...</td>\n      <td>0.943818</td>\n      <td>0.066549</td>\n      <td>5</td>\n      <td>0.989848</td>\n      <td>0.004703</td>\n    </tr>\n    <tr>\n      <th>41</th>\n      <td>0.116090</td>\n      <td>0.018239</td>\n      <td>0.007191</td>\n      <td>0.005581</td>\n      <td>0.04</td>\n      <td>50</td>\n      <td>31</td>\n      <td>{'learning_rate': 0.04, 'max_iter': 50, 'max_l...</td>\n      <td>0.941818</td>\n      <td>0.073900</td>\n      <td>13</td>\n      <td>0.976950</td>\n      <td>0.010894</td>\n    </tr>\n    <tr>\n      <th>43</th>\n      <td>0.157099</td>\n      <td>0.300552</td>\n      <td>0.007352</td>\n      <td>0.006135</td>\n      <td>0.04</td>\n      <td>50</td>\n      <td>127</td>\n      <td>{'learning_rate': 0.04, 'max_iter': 50, 'max_l...</td>\n      <td>0.941818</td>\n      <td>0.073900</td>\n      <td>13</td>\n      <td>0.976950</td>\n      <td>0.010894</td>\n    </tr>\n    <tr>\n      <th>42</th>\n      <td>0.267190</td>\n      <td>0.396720</td>\n      <td>0.014975</td>\n      <td>0.038828</td>\n      <td>0.04</td>\n      <td>50</td>\n      <td>65</td>\n      <td>{'learning_rate': 0.04, 'max_iter': 50, 'max_l...</td>\n      <td>0.941818</td>\n      <td>0.073900</td>\n      <td>13</td>\n      <td>0.976950</td>\n      <td>0.010894</td>\n    </tr>\n    <tr>\n      <th>40</th>\n      <td>0.113627</td>\n      <td>0.014470</td>\n      <td>0.007891</td>\n      <td>0.009218</td>\n      <td>0.04</td>\n      <td>50</td>\n      <td>15</td>\n      <td>{'learning_rate': 0.04, 'max_iter': 50, 'max_l...</td>\n      <td>0.941818</td>\n      <td>0.073900</td>\n      <td>13</td>\n      <td>0.976950</td>\n      <td>0.010894</td>\n    </tr>\n    <tr>\n      <th>59</th>\n      <td>0.233745</td>\n      <td>0.028525</td>\n      <td>0.009117</td>\n      <td>0.004949</td>\n      <td>0.05</td>\n      <td>100</td>\n      <td>127</td>\n      <td>{'learning_rate': 0.05, 'max_iter': 100, 'max_...</td>\n      <td>0.934182</td>\n      <td>0.067703</td>\n      <td>17</td>\n      <td>0.991971</td>\n      <td>0.008603</td>\n    </tr>\n    <tr>\n      <th>44</th>\n      <td>0.410035</td>\n      <td>0.631008</td>\n      <td>0.053827</td>\n      <td>0.223188</td>\n      <td>0.04</td>\n      <td>100</td>\n      <td>15</td>\n      <td>{'learning_rate': 0.04, 'max_iter': 100, 'max_...</td>\n      <td>0.934182</td>\n      <td>0.070102</td>\n      <td>17</td>\n      <td>0.991120</td>\n      <td>0.006113</td>\n    </tr>\n    <tr>\n      <th>45</th>\n      <td>0.455871</td>\n      <td>0.849898</td>\n      <td>0.014916</td>\n      <td>0.021162</td>\n      <td>0.04</td>\n      <td>100</td>\n      <td>31</td>\n      <td>{'learning_rate': 0.04, 'max_iter': 100, 'max_...</td>\n      <td>0.934182</td>\n      <td>0.070102</td>\n      <td>17</td>\n      <td>0.991120</td>\n      <td>0.006113</td>\n    </tr>\n    <tr>\n      <th>46</th>\n      <td>0.230686</td>\n      <td>0.042713</td>\n      <td>0.012055</td>\n      <td>0.010124</td>\n      <td>0.04</td>\n      <td>100</td>\n      <td>65</td>\n      <td>{'learning_rate': 0.04, 'max_iter': 100, 'max_...</td>\n      <td>0.934182</td>\n      <td>0.070102</td>\n      <td>17</td>\n      <td>0.991120</td>\n      <td>0.006113</td>\n    </tr>\n    <tr>\n      <th>47</th>\n      <td>0.226635</td>\n      <td>0.021686</td>\n      <td>0.010757</td>\n      <td>0.007104</td>\n      <td>0.04</td>\n      <td>100</td>\n      <td>127</td>\n      <td>{'learning_rate': 0.04, 'max_iter': 100, 'max_...</td>\n      <td>0.934182</td>\n      <td>0.070102</td>\n      <td>17</td>\n      <td>0.991120</td>\n      <td>0.006113</td>\n    </tr>\n    <tr>\n      <th>56</th>\n      <td>0.231017</td>\n      <td>0.020457</td>\n      <td>0.009515</td>\n      <td>0.006220</td>\n      <td>0.05</td>\n      <td>100</td>\n      <td>15</td>\n      <td>{'learning_rate': 0.05, 'max_iter': 100, 'max_...</td>\n      <td>0.934182</td>\n      <td>0.067703</td>\n      <td>17</td>\n      <td>0.991971</td>\n      <td>0.008603</td>\n    </tr>\n    <tr>\n      <th>57</th>\n      <td>0.225734</td>\n      <td>0.021385</td>\n      <td>0.012066</td>\n      <td>0.008802</td>\n      <td>0.05</td>\n      <td>100</td>\n      <td>31</td>\n      <td>{'learning_rate': 0.05, 'max_iter': 100, 'max_...</td>\n      <td>0.934182</td>\n      <td>0.067703</td>\n      <td>17</td>\n      <td>0.991971</td>\n      <td>0.008603</td>\n    </tr>\n    <tr>\n      <th>58</th>\n      <td>0.229322</td>\n      <td>0.030280</td>\n      <td>0.012305</td>\n      <td>0.009632</td>\n      <td>0.05</td>\n      <td>100</td>\n      <td>65</td>\n      <td>{'learning_rate': 0.05, 'max_iter': 100, 'max_...</td>\n      <td>0.934182</td>\n      <td>0.067703</td>\n      <td>17</td>\n      <td>0.991971</td>\n      <td>0.008603</td>\n    </tr>\n    <tr>\n      <th>31</th>\n      <td>0.114638</td>\n      <td>0.016489</td>\n      <td>0.009151</td>\n      <td>0.008315</td>\n      <td>0.03</td>\n      <td>50</td>\n      <td>127</td>\n      <td>{'learning_rate': 0.03, 'max_iter': 50, 'max_l...</td>\n      <td>0.926909</td>\n      <td>0.078855</td>\n      <td>25</td>\n      <td>0.965523</td>\n      <td>0.013315</td>\n    </tr>\n    <tr>\n      <th>30</th>\n      <td>0.114521</td>\n      <td>0.018778</td>\n      <td>0.006474</td>\n      <td>0.002253</td>\n      <td>0.03</td>\n      <td>50</td>\n      <td>65</td>\n      <td>{'learning_rate': 0.03, 'max_iter': 50, 'max_l...</td>\n      <td>0.926909</td>\n      <td>0.078855</td>\n      <td>25</td>\n      <td>0.965523</td>\n      <td>0.013315</td>\n    </tr>\n    <tr>\n      <th>28</th>\n      <td>0.115092</td>\n      <td>0.016458</td>\n      <td>0.006297</td>\n      <td>0.003617</td>\n      <td>0.03</td>\n      <td>50</td>\n      <td>15</td>\n      <td>{'learning_rate': 0.03, 'max_iter': 50, 'max_l...</td>\n      <td>0.926909</td>\n      <td>0.078855</td>\n      <td>25</td>\n      <td>0.965523</td>\n      <td>0.013315</td>\n    </tr>\n    <tr>\n      <th>29</th>\n      <td>0.111480</td>\n      <td>0.014327</td>\n      <td>0.008248</td>\n      <td>0.006816</td>\n      <td>0.03</td>\n      <td>50</td>\n      <td>31</td>\n      <td>{'learning_rate': 0.03, 'max_iter': 50, 'max_l...</td>\n      <td>0.926909</td>\n      <td>0.078855</td>\n      <td>25</td>\n      <td>0.965523</td>\n      <td>0.013315</td>\n    </tr>\n    <tr>\n      <th>49</th>\n      <td>0.046246</td>\n      <td>0.012634</td>\n      <td>0.005355</td>\n      <td>0.006055</td>\n      <td>0.05</td>\n      <td>20</td>\n      <td>31</td>\n      <td>{'learning_rate': 0.05, 'max_iter': 20, 'max_l...</td>\n      <td>0.917455</td>\n      <td>0.079831</td>\n      <td>29</td>\n      <td>0.964464</td>\n      <td>0.012438</td>\n    </tr>\n    <tr>\n      <th>50</th>\n      <td>0.046807</td>\n      <td>0.013900</td>\n      <td>0.005311</td>\n      <td>0.004681</td>\n      <td>0.05</td>\n      <td>20</td>\n      <td>65</td>\n      <td>{'learning_rate': 0.05, 'max_iter': 20, 'max_l...</td>\n      <td>0.917455</td>\n      <td>0.079831</td>\n      <td>29</td>\n      <td>0.964464</td>\n      <td>0.012438</td>\n    </tr>\n    <tr>\n      <th>51</th>\n      <td>0.046157</td>\n      <td>0.014093</td>\n      <td>0.004969</td>\n      <td>0.005877</td>\n      <td>0.05</td>\n      <td>20</td>\n      <td>127</td>\n      <td>{'learning_rate': 0.05, 'max_iter': 20, 'max_l...</td>\n      <td>0.917455</td>\n      <td>0.079831</td>\n      <td>29</td>\n      <td>0.964464</td>\n      <td>0.012438</td>\n    </tr>\n    <tr>\n      <th>48</th>\n      <td>0.048088</td>\n      <td>0.015038</td>\n      <td>0.004760</td>\n      <td>0.004758</td>\n      <td>0.05</td>\n      <td>20</td>\n      <td>15</td>\n      <td>{'learning_rate': 0.05, 'max_iter': 20, 'max_l...</td>\n      <td>0.917455</td>\n      <td>0.079831</td>\n      <td>29</td>\n      <td>0.964464</td>\n      <td>0.012438</td>\n    </tr>\n    <tr>\n      <th>8</th>\n      <td>0.224379</td>\n      <td>0.030495</td>\n      <td>0.011215</td>\n      <td>0.008773</td>\n      <td>0.01</td>\n      <td>100</td>\n      <td>15</td>\n      <td>{'learning_rate': 0.01, 'max_iter': 100, 'max_...</td>\n      <td>0.915636</td>\n      <td>0.081027</td>\n      <td>33</td>\n      <td>0.964464</td>\n      <td>0.012438</td>\n    </tr>\n    <tr>\n      <th>9</th>\n      <td>0.221206</td>\n      <td>0.025057</td>\n      <td>0.013058</td>\n      <td>0.008941</td>\n      <td>0.01</td>\n      <td>100</td>\n      <td>31</td>\n      <td>{'learning_rate': 0.01, 'max_iter': 100, 'max_...</td>\n      <td>0.915636</td>\n      <td>0.081027</td>\n      <td>33</td>\n      <td>0.964464</td>\n      <td>0.012438</td>\n    </tr>\n    <tr>\n      <th>10</th>\n      <td>0.215398</td>\n      <td>0.020967</td>\n      <td>0.010874</td>\n      <td>0.006733</td>\n      <td>0.01</td>\n      <td>100</td>\n      <td>65</td>\n      <td>{'learning_rate': 0.01, 'max_iter': 100, 'max_...</td>\n      <td>0.915636</td>\n      <td>0.081027</td>\n      <td>33</td>\n      <td>0.964464</td>\n      <td>0.012438</td>\n    </tr>\n    <tr>\n      <th>39</th>\n      <td>0.047373</td>\n      <td>0.013123</td>\n      <td>0.005374</td>\n      <td>0.005631</td>\n      <td>0.04</td>\n      <td>20</td>\n      <td>127</td>\n      <td>{'learning_rate': 0.04, 'max_iter': 20, 'max_l...</td>\n      <td>0.915636</td>\n      <td>0.081027</td>\n      <td>33</td>\n      <td>0.958546</td>\n      <td>0.015739</td>\n    </tr>\n    <tr>\n      <th>37</th>\n      <td>0.046575</td>\n      <td>0.013448</td>\n      <td>0.004070</td>\n      <td>0.002675</td>\n      <td>0.04</td>\n      <td>20</td>\n      <td>31</td>\n      <td>{'learning_rate': 0.04, 'max_iter': 20, 'max_l...</td>\n      <td>0.915636</td>\n      <td>0.081027</td>\n      <td>33</td>\n      <td>0.958546</td>\n      <td>0.015739</td>\n    </tr>\n    <tr>\n      <th>11</th>\n      <td>0.407092</td>\n      <td>1.023827</td>\n      <td>0.023407</td>\n      <td>0.076346</td>\n      <td>0.01</td>\n      <td>100</td>\n      <td>127</td>\n      <td>{'learning_rate': 0.01, 'max_iter': 100, 'max_...</td>\n      <td>0.915636</td>\n      <td>0.081027</td>\n      <td>33</td>\n      <td>0.964464</td>\n      <td>0.012438</td>\n    </tr>\n    <tr>\n      <th>16</th>\n      <td>0.109330</td>\n      <td>0.012867</td>\n      <td>0.006886</td>\n      <td>0.005454</td>\n      <td>0.02</td>\n      <td>50</td>\n      <td>15</td>\n      <td>{'learning_rate': 0.02, 'max_iter': 50, 'max_l...</td>\n      <td>0.915636</td>\n      <td>0.081027</td>\n      <td>33</td>\n      <td>0.964464</td>\n      <td>0.012438</td>\n    </tr>\n    <tr>\n      <th>17</th>\n      <td>0.319351</td>\n      <td>0.890604</td>\n      <td>0.008236</td>\n      <td>0.007333</td>\n      <td>0.02</td>\n      <td>50</td>\n      <td>31</td>\n      <td>{'learning_rate': 0.02, 'max_iter': 50, 'max_l...</td>\n      <td>0.915636</td>\n      <td>0.081027</td>\n      <td>33</td>\n      <td>0.964464</td>\n      <td>0.012438</td>\n    </tr>\n    <tr>\n      <th>18</th>\n      <td>0.107680</td>\n      <td>0.012048</td>\n      <td>0.006768</td>\n      <td>0.005387</td>\n      <td>0.02</td>\n      <td>50</td>\n      <td>65</td>\n      <td>{'learning_rate': 0.02, 'max_iter': 50, 'max_l...</td>\n      <td>0.915636</td>\n      <td>0.081027</td>\n      <td>33</td>\n      <td>0.964464</td>\n      <td>0.012438</td>\n    </tr>\n    <tr>\n      <th>19</th>\n      <td>0.111072</td>\n      <td>0.022408</td>\n      <td>0.006983</td>\n      <td>0.006901</td>\n      <td>0.02</td>\n      <td>50</td>\n      <td>127</td>\n      <td>{'learning_rate': 0.02, 'max_iter': 50, 'max_l...</td>\n      <td>0.915636</td>\n      <td>0.081027</td>\n      <td>33</td>\n      <td>0.964464</td>\n      <td>0.012438</td>\n    </tr>\n    <tr>\n      <th>36</th>\n      <td>0.047870</td>\n      <td>0.013513</td>\n      <td>0.004026</td>\n      <td>0.002026</td>\n      <td>0.04</td>\n      <td>20</td>\n      <td>15</td>\n      <td>{'learning_rate': 0.04, 'max_iter': 20, 'max_l...</td>\n      <td>0.915636</td>\n      <td>0.081027</td>\n      <td>33</td>\n      <td>0.958546</td>\n      <td>0.015739</td>\n    </tr>\n    <tr>\n      <th>38</th>\n      <td>0.047710</td>\n      <td>0.014367</td>\n      <td>0.004869</td>\n      <td>0.004716</td>\n      <td>0.04</td>\n      <td>20</td>\n      <td>65</td>\n      <td>{'learning_rate': 0.04, 'max_iter': 20, 'max_l...</td>\n      <td>0.915636</td>\n      <td>0.081027</td>\n      <td>33</td>\n      <td>0.958546</td>\n      <td>0.015739</td>\n    </tr>\n    <tr>\n      <th>3</th>\n      <td>0.046311</td>\n      <td>0.014648</td>\n      <td>0.004737</td>\n      <td>0.003984</td>\n      <td>0.01</td>\n      <td>20</td>\n      <td>127</td>\n      <td>{'learning_rate': 0.01, 'max_iter': 20, 'max_l...</td>\n      <td>0.913818</td>\n      <td>0.086095</td>\n      <td>45</td>\n      <td>0.952190</td>\n      <td>0.013182</td>\n    </tr>\n    <tr>\n      <th>4</th>\n      <td>0.111202</td>\n      <td>0.014593</td>\n      <td>0.007517</td>\n      <td>0.006077</td>\n      <td>0.01</td>\n      <td>50</td>\n      <td>15</td>\n      <td>{'learning_rate': 0.01, 'max_iter': 50, 'max_l...</td>\n      <td>0.913818</td>\n      <td>0.086095</td>\n      <td>45</td>\n      <td>0.957066</td>\n      <td>0.014925</td>\n    </tr>\n    <tr>\n      <th>5</th>\n      <td>0.192579</td>\n      <td>0.458581</td>\n      <td>0.006337</td>\n      <td>0.003213</td>\n      <td>0.01</td>\n      <td>50</td>\n      <td>31</td>\n      <td>{'learning_rate': 0.01, 'max_iter': 50, 'max_l...</td>\n      <td>0.913818</td>\n      <td>0.086095</td>\n      <td>45</td>\n      <td>0.957066</td>\n      <td>0.014925</td>\n    </tr>\n    <tr>\n      <th>6</th>\n      <td>0.172047</td>\n      <td>0.452906</td>\n      <td>0.008471</td>\n      <td>0.009571</td>\n      <td>0.01</td>\n      <td>50</td>\n      <td>65</td>\n      <td>{'learning_rate': 0.01, 'max_iter': 50, 'max_l...</td>\n      <td>0.913818</td>\n      <td>0.086095</td>\n      <td>45</td>\n      <td>0.957066</td>\n      <td>0.014925</td>\n    </tr>\n    <tr>\n      <th>2</th>\n      <td>0.202575</td>\n      <td>0.867430</td>\n      <td>0.010757</td>\n      <td>0.037874</td>\n      <td>0.01</td>\n      <td>20</td>\n      <td>65</td>\n      <td>{'learning_rate': 0.01, 'max_iter': 20, 'max_l...</td>\n      <td>0.913818</td>\n      <td>0.086095</td>\n      <td>45</td>\n      <td>0.952190</td>\n      <td>0.013182</td>\n    </tr>\n    <tr>\n      <th>1</th>\n      <td>0.165004</td>\n      <td>0.542152</td>\n      <td>0.016848</td>\n      <td>0.078625</td>\n      <td>0.01</td>\n      <td>20</td>\n      <td>31</td>\n      <td>{'learning_rate': 0.01, 'max_iter': 20, 'max_l...</td>\n      <td>0.913818</td>\n      <td>0.086095</td>\n      <td>45</td>\n      <td>0.952190</td>\n      <td>0.013182</td>\n    </tr>\n    <tr>\n      <th>26</th>\n      <td>0.048152</td>\n      <td>0.016045</td>\n      <td>0.003973</td>\n      <td>0.001446</td>\n      <td>0.03</td>\n      <td>20</td>\n      <td>65</td>\n      <td>{'learning_rate': 0.03, 'max_iter': 20, 'max_l...</td>\n      <td>0.913818</td>\n      <td>0.086095</td>\n      <td>45</td>\n      <td>0.956222</td>\n      <td>0.015007</td>\n    </tr>\n    <tr>\n      <th>27</th>\n      <td>0.045983</td>\n      <td>0.013620</td>\n      <td>0.004851</td>\n      <td>0.004205</td>\n      <td>0.03</td>\n      <td>20</td>\n      <td>127</td>\n      <td>{'learning_rate': 0.03, 'max_iter': 20, 'max_l...</td>\n      <td>0.913818</td>\n      <td>0.086095</td>\n      <td>45</td>\n      <td>0.956222</td>\n      <td>0.015007</td>\n    </tr>\n    <tr>\n      <th>12</th>\n      <td>0.046887</td>\n      <td>0.013496</td>\n      <td>0.004591</td>\n      <td>0.003990</td>\n      <td>0.02</td>\n      <td>20</td>\n      <td>15</td>\n      <td>{'learning_rate': 0.02, 'max_iter': 20, 'max_l...</td>\n      <td>0.913818</td>\n      <td>0.086095</td>\n      <td>45</td>\n      <td>0.956013</td>\n      <td>0.014444</td>\n    </tr>\n    <tr>\n      <th>13</th>\n      <td>0.047134</td>\n      <td>0.013216</td>\n      <td>0.004978</td>\n      <td>0.004203</td>\n      <td>0.02</td>\n      <td>20</td>\n      <td>31</td>\n      <td>{'learning_rate': 0.02, 'max_iter': 20, 'max_l...</td>\n      <td>0.913818</td>\n      <td>0.086095</td>\n      <td>45</td>\n      <td>0.956013</td>\n      <td>0.014444</td>\n    </tr>\n    <tr>\n      <th>14</th>\n      <td>0.047127</td>\n      <td>0.018693</td>\n      <td>0.005771</td>\n      <td>0.006495</td>\n      <td>0.02</td>\n      <td>20</td>\n      <td>65</td>\n      <td>{'learning_rate': 0.02, 'max_iter': 20, 'max_l...</td>\n      <td>0.913818</td>\n      <td>0.086095</td>\n      <td>45</td>\n      <td>0.956013</td>\n      <td>0.014444</td>\n    </tr>\n    <tr>\n      <th>15</th>\n      <td>0.047529</td>\n      <td>0.014495</td>\n      <td>0.005008</td>\n      <td>0.004594</td>\n      <td>0.02</td>\n      <td>20</td>\n      <td>127</td>\n      <td>{'learning_rate': 0.02, 'max_iter': 20, 'max_l...</td>\n      <td>0.913818</td>\n      <td>0.086095</td>\n      <td>45</td>\n      <td>0.956013</td>\n      <td>0.014444</td>\n    </tr>\n    <tr>\n      <th>24</th>\n      <td>0.049053</td>\n      <td>0.017590</td>\n      <td>0.004359</td>\n      <td>0.003699</td>\n      <td>0.03</td>\n      <td>20</td>\n      <td>15</td>\n      <td>{'learning_rate': 0.03, 'max_iter': 20, 'max_l...</td>\n      <td>0.913818</td>\n      <td>0.086095</td>\n      <td>45</td>\n      <td>0.956222</td>\n      <td>0.015007</td>\n    </tr>\n    <tr>\n      <th>25</th>\n      <td>0.049953</td>\n      <td>0.016490</td>\n      <td>0.005825</td>\n      <td>0.006089</td>\n      <td>0.03</td>\n      <td>20</td>\n      <td>31</td>\n      <td>{'learning_rate': 0.03, 'max_iter': 20, 'max_l...</td>\n      <td>0.913818</td>\n      <td>0.086095</td>\n      <td>45</td>\n      <td>0.956222</td>\n      <td>0.015007</td>\n    </tr>\n    <tr>\n      <th>7</th>\n      <td>0.106893</td>\n      <td>0.013616</td>\n      <td>0.007698</td>\n      <td>0.007197</td>\n      <td>0.01</td>\n      <td>50</td>\n      <td>127</td>\n      <td>{'learning_rate': 0.01, 'max_iter': 50, 'max_l...</td>\n      <td>0.913818</td>\n      <td>0.086095</td>\n      <td>45</td>\n      <td>0.957066</td>\n      <td>0.014925</td>\n    </tr>\n    <tr>\n      <th>0</th>\n      <td>0.058704</td>\n      <td>0.061201</td>\n      <td>0.004723</td>\n      <td>0.004015</td>\n      <td>0.01</td>\n      <td>20</td>\n      <td>15</td>\n      <td>{'learning_rate': 0.01, 'max_iter': 20, 'max_l...</td>\n      <td>0.913818</td>\n      <td>0.086095</td>\n      <td>45</td>\n      <td>0.952190</td>\n      <td>0.013182</td>\n    </tr>\n  </tbody>\n</table>\n</div>"
     },
     "metadata": {},
     "output_type": "display_data"
    }
   ],
   "execution_count": 63
  },
  {
   "cell_type": "markdown",
   "source": "Así, se obtiene que la mejor configuración de hiperparámetros es una regularización de 0.05, 50 iteraciones y un máximo de 15 nodos hoja.",
   "metadata": {
    "papermill": {
     "duration": 0.099762,
     "end_time": "2020-12-14T08:03:31.522767",
     "exception": false,
     "start_time": "2020-12-14T08:03:31.423005",
     "status": "completed"
    },
    "tags": [],
    "cell_id": "00078-81469659-01f0-4222-8f4e-1d2bc371df1b",
    "deepnote_cell_type": "markdown"
   }
  },
  {
   "cell_type": "markdown",
   "source": "# 6. Construcción y validación del modelo final\n\nEn un entorno de producción se debe construir un clasificador que será el que se despliegue y use para clasificar nuevas instancias. Es importante saber que, después de un proceso de validación cruzada para la optimización de los hiperparámetros, se debe obtener un modelo final y una medida generalizada de su rendimiento.\n\nPara ello, nos surgen dos dudas:\n\n* La validación cruzada crea `k` modelos, ¿con cuál nos quedamos?\n* La medida de rendimiento obtenida es ¿la media de la validación cruzada? o ¿para una partición concreta?\n\nLa solución pasa por utilizar el conjunto de datos de prueba que se ha quedado fuera de la validación cruzada. De este modo, realizaremos la validación cruzada a partir del conjunto de datos de entrenamiento para seleccionar nuestro modelo. Una vez se ha obtenido la mejor configuración de hiperparámetros (de acuerdo con la métrica de rendimiento utilizada durante este proceso), utilizaremos el conjunto de datos de entrenamiento para entrenar un nuevo clasificador final a partir de dicha configuración. Para validar este clasificador y obtener una métrica no sesgada de su rendimiento, utilizaremos el conjunto de datos de prueba que separamos al principio y que constituye una muestra de datos nunca visualizada por el  algoritmo de aprendizaje.\n\nEsta última fase de entrenamiento es realizada automáticamente por `model_selection.GridSearchCV`, por lo que podemos utilizarlo directamente para obtener una métrica de rendimiento final para cada uno de los clasificadores:",
   "metadata": {
    "papermill": {
     "duration": 0.09294,
     "end_time": "2020-12-14T08:03:31.711905",
     "exception": false,
     "start_time": "2020-12-14T08:03:31.618965",
     "status": "completed"
    },
    "tags": [],
    "cell_id": "00079-37823a98-380c-42e3-a1c5-0fe5f7c1b822",
    "deepnote_cell_type": "markdown"
   }
  },
  {
   "cell_type": "code",
   "metadata": {
    "execution": {
     "iopub.execute_input": "2020-12-14T08:03:32.093677Z",
     "iopub.status.busy": "2020-12-14T08:03:32.092564Z",
     "iopub.status.idle": "2020-12-14T08:03:32.095887Z",
     "shell.execute_reply": "2020-12-14T08:03:32.096421Z"
    },
    "papermill": {
     "duration": 0.104091,
     "end_time": "2020-12-14T08:03:32.096606",
     "exception": false,
     "start_time": "2020-12-14T08:03:31.992515",
     "status": "completed"
    },
    "tags": [],
    "cell_id": "00081-b00303bb-f3b5-49c8-8a13-0253020417c4",
    "deepnote_to_be_reexecuted": false,
    "source_hash": "2f0a9859",
    "execution_start": 1635874789729,
    "execution_millis": 1,
    "deepnote_cell_type": "code"
   },
   "source": "from utils import evaluate_estimators",
   "outputs": [],
   "execution_count": 64
  },
  {
   "cell_type": "code",
   "source": "estimators = [k_neighbors_classifier, decision_tree_classifier, adaboost_classifier, bagging_classifier, random_forest_classifier, gradient_boosting_classifier, hist_gradient_boosting_classifier]",
   "metadata": {
    "tags": [],
    "cell_id": "00101-554898c4-3b40-443d-8a74-1587dc03dd1f",
    "deepnote_to_be_reexecuted": false,
    "source_hash": "100e7b5e",
    "execution_start": 1635874789730,
    "execution_millis": 1,
    "deepnote_cell_type": "code"
   },
   "outputs": [],
   "execution_count": 65
  },
  {
   "cell_type": "code",
   "metadata": {
    "execution": {
     "iopub.execute_input": "2020-12-14T08:03:32.300588Z",
     "iopub.status.busy": "2020-12-14T08:03:32.299801Z",
     "iopub.status.idle": "2020-12-14T08:03:32.375601Z",
     "shell.execute_reply": "2020-12-14T08:03:32.376722Z"
    },
    "papermill": {
     "duration": 0.183865,
     "end_time": "2020-12-14T08:03:32.376916",
     "exception": false,
     "start_time": "2020-12-14T08:03:32.193051",
     "status": "completed"
    },
    "tags": [],
    "cell_id": "00082-c580a7a8-942b-4f88-93c5-687a7fbd633e",
    "deepnote_to_be_reexecuted": false,
    "source_hash": "bd894361",
    "execution_start": 1635874789731,
    "execution_millis": 16,
    "deepnote_cell_type": "code"
   },
   "source": "evaluate_estimators(estimators, X_test, y_test, \"accuracy\")",
   "outputs": [
    {
     "output_type": "execute_result",
     "execution_count": 66,
     "data": {
      "application/vnd.deepnote.dataframe.v2+json": {
       "row_count": 7,
       "column_count": 1,
       "columns": [
        {
         "name": "accuracy",
         "dtype": "object",
         "stats": {
          "unique_count": 2,
          "nan_count": 0,
          "categories": [
           {
            "name": "0.9777777777777777",
            "count": 6
           },
           {
            "name": "0.9555555555555556",
            "count": 1
           }
          ]
         }
        },
        {
         "name": "_deepnote_index_column",
         "dtype": "object"
        }
       ],
       "rows_top": [
        {
         "accuracy": "0.9555555555555556",
         "_deepnote_index_column": "KNeighborsClassifier"
        },
        {
         "accuracy": "0.9777777777777777",
         "_deepnote_index_column": "DecisionTreeClassifier"
        },
        {
         "accuracy": "0.9777777777777777",
         "_deepnote_index_column": "AdaBoostClassifier"
        },
        {
         "accuracy": "0.9777777777777777",
         "_deepnote_index_column": "BaggingClassifier"
        },
        {
         "accuracy": "0.9777777777777777",
         "_deepnote_index_column": "RandomForestClassifier"
        },
        {
         "accuracy": "0.9777777777777777",
         "_deepnote_index_column": "GradientBoostingClassifier"
        },
        {
         "accuracy": "0.9777777777777777",
         "_deepnote_index_column": "HistGradientBoostingClassifier"
        }
       ],
       "rows_bottom": null
      },
      "text/plain": "                                accuracy\nKNeighborsClassifier            0.955556\nDecisionTreeClassifier          0.977778\nAdaBoostClassifier              0.977778\nBaggingClassifier               0.977778\nRandomForestClassifier          0.977778\nGradientBoostingClassifier      0.977778\nHistGradientBoostingClassifier  0.977778",
      "text/html": "<div>\n<style scoped>\n    .dataframe tbody tr th:only-of-type {\n        vertical-align: middle;\n    }\n\n    .dataframe tbody tr th {\n        vertical-align: top;\n    }\n\n    .dataframe thead th {\n        text-align: right;\n    }\n</style>\n<table border=\"1\" class=\"dataframe\">\n  <thead>\n    <tr style=\"text-align: right;\">\n      <th></th>\n      <th>accuracy</th>\n    </tr>\n  </thead>\n  <tbody>\n    <tr>\n      <th>KNeighborsClassifier</th>\n      <td>0.955556</td>\n    </tr>\n    <tr>\n      <th>DecisionTreeClassifier</th>\n      <td>0.977778</td>\n    </tr>\n    <tr>\n      <th>AdaBoostClassifier</th>\n      <td>0.977778</td>\n    </tr>\n    <tr>\n      <th>BaggingClassifier</th>\n      <td>0.977778</td>\n    </tr>\n    <tr>\n      <th>RandomForestClassifier</th>\n      <td>0.977778</td>\n    </tr>\n    <tr>\n      <th>GradientBoostingClassifier</th>\n      <td>0.977778</td>\n    </tr>\n    <tr>\n      <th>HistGradientBoostingClassifier</th>\n      <td>0.977778</td>\n    </tr>\n  </tbody>\n</table>\n</div>"
     },
     "metadata": {}
    }
   ],
   "execution_count": 66
  },
  {
   "cell_type": "markdown",
   "source": "De acuerdo con estos resultados, podemos concluir que los árboles de decisión y los ensembles son los clasificadores que ofrecen mejor rendimiento (en términos de tasa de acierto) en el conjunto de datos `iris`.",
   "metadata": {
    "papermill": {
     "duration": 0.105468,
     "end_time": "2020-12-14T08:03:32.596503",
     "exception": false,
     "start_time": "2020-12-14T08:03:32.491035",
     "status": "completed"
    },
    "tags": [],
    "cell_id": "00083-1a5712f6-aac9-471c-b939-e01034de8394",
    "deepnote_cell_type": "markdown"
   }
  },
  {
   "cell_type": "markdown",
   "source": "## Un pequeño paréntesis: Más allá de las métricas de rendimiento\n\nSi bien nos hemos focalizado en evaluar el rendimiento de los clasificadores usando la tasa de acierto, también es importante tener en cuenta otros factores como es el tiempo de aprendizaje e inferencia. De esta manera, si bien hemos concluido que los árboles de decisión y los ensembles son los clasificadores que ofrecen un mejor rendimiento (en términos de tasa de acierto), los árboles de decisión tienen un tiempo de aprendizaje e inferencia mucho menor que los ensembles. Es por ello por lo que se deben analizar los recursos disponibles y en base a esto decidir si merece la pena incrementar el coste computacional a cambio de conseguir un mejor rendimiento (en términos de la métrica elegida para el problema en cuestión).",
   "metadata": {
    "papermill": {
     "duration": 0.093538,
     "end_time": "2020-12-14T08:03:32.784424",
     "exception": false,
     "start_time": "2020-12-14T08:03:32.690886",
     "status": "completed"
    },
    "tags": [],
    "cell_id": "00084-0966480b-27d7-4c25-8235-bbef924f4d52",
    "deepnote_cell_type": "markdown"
   }
  },
  {
   "cell_type": "markdown",
   "source": "# Trabajo autónomo",
   "metadata": {
    "papermill": {
     "duration": 0.095163,
     "end_time": "2020-12-14T08:03:33.164958",
     "exception": false,
     "start_time": "2020-12-14T08:03:33.069795",
     "status": "completed"
    },
    "tags": [],
    "cell_id": "00086-ec3bc222-e770-4047-8d14-0a232445a714",
    "deepnote_cell_type": "markdown"
   }
  },
  {
   "cell_type": "markdown",
   "source": "#### 1. Lectura y estudio\n\nEn esta práctica se debe estudiar cuidadosamente la documentación de esta libreta y leer las páginas de ejemplo y teoría de los distintos estimadores y métodos de validación del manual de `scikit-learn`. Encontraréis que es una lectura ligera y muy instructiva:\n\n* [Vecinos más cercanos](https://scikit-learn.org/stable/modules/neighbors.html)\n* [Árboles de decisión](https://scikit-learn.org/stable/modules/tree.html)\n* [*Adaptive Boosting*](https://scikit-learn.org/stable/modules/ensemble.html#adaboost)\n* [*Bootstrap Aggregating*](https://scikit-learn.org/stable/modules/ensemble.html#bagging)\n* [*Random Forests*](https://scikit-learn.org/stable/modules/ensemble.html#random-forests)\n* [*Gradient Tree Boosting*](https://scikit-learn.org/stable/modules/ensemble.html#gradient-boosting)\n* [*Histogram Gradient Boosting*](https://scikit-learn.org/stable/modules/ensemble.html#histogram-based-gradient-boosting)\n* [Validación cruzada](http://scikit-learn.org/stable/modules/cross_validation.html)\n* [Búsqueda en malla](http://scikit-learn.org/stable/modules/grid_search.html)",
   "metadata": {
    "papermill": {
     "duration": 0.099814,
     "end_time": "2020-12-14T08:03:33.359703",
     "exception": false,
     "start_time": "2020-12-14T08:03:33.259889",
     "status": "completed"
    },
    "tags": [],
    "cell_id": "00087-ca7f15b0-7e9b-4d06-bdd5-d259537202bf",
    "deepnote_cell_type": "markdown"
   }
  },
  {
   "cell_type": "markdown",
   "source": "#### 2. Estudio de una libreta\n\nNavegar por los distintos conjuntos de datos públicos que hay en *Kaggle* y ver las libretas más populares. Seleccionar uno y estudiarlo. Tendréis que presentarlo en la defensa de la práctica (y se valorará positivamente reproducirlo en vuestro propio entorno). Las libretas se encuentran en este [enlace](https://www.kaggle.com/kernels).",
   "metadata": {
    "papermill": {
     "duration": 0.093503,
     "end_time": "2020-12-14T08:03:33.737701",
     "exception": false,
     "start_time": "2020-12-14T08:03:33.644198",
     "status": "completed"
    },
    "tags": [],
    "cell_id": "00089-20c26033-c1c9-4f47-a8d0-642993b877a4",
    "deepnote_cell_type": "markdown"
   }
  },
  {
   "cell_type": "markdown",
   "source": "#### 3. Entregable\n\nDeberéis entregar un informe reproduciendo el estudio sobre el conjunto de datos `titanic`. Incluir un enlace a la libreta de *Kaggle* seleccionada (o el estudio si se ha decidido reproducirlo). En la evaluación se valorará, a parte de esto, el estudio que hagáis tanto de los métodos propuestos así como de la libreta de *Kaggle* de vuestra elección.\n\n**Recordar que asociada a esta práctica habrá una entrevista para completar la evaluación de la práctica.**",
   "metadata": {
    "papermill": {
     "duration": 0.096777,
     "end_time": "2020-12-14T08:03:33.928835",
     "exception": false,
     "start_time": "2020-12-14T08:03:33.832058",
     "status": "completed"
    },
    "tags": [],
    "cell_id": "00090-5ea11808-4a2c-458f-96af-f4ab96b86432",
    "deepnote_cell_type": "markdown"
   }
  },
  {
   "cell_type": "markdown",
   "source": "<a style='text-decoration:none;line-height:16px;display:flex;color:#5B5B62;padding:10px;justify-content:end;' href='https://deepnote.com?utm_source=created-in-deepnote-cell&projectId=bda2ffb5-8e8f-47a2-bfda-c8bad15068dc' target=\"_blank\">\n<img alt='Created in deepnote.com' style='display:inline;max-height:16px;margin:0px;margin-right:7.5px;' src='data:image/svg+xml;base64,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' > </img>\nCreated in <span style='font-weight:600;margin-left:4px;'>Deepnote</span></a>",
   "metadata": {
    "tags": [],
    "created_in_deepnote_cell": true,
    "deepnote_cell_type": "markdown"
   }
  }
 ],
 "nbformat": 4,
 "nbformat_minor": 4,
 "metadata": {
  "kernelspec": {
   "display_name": "Python 3",
   "language": "python",
   "name": "python3"
  },
  "language_info": {
   "codemirror_mode": {
    "name": "ipython",
    "version": 3
   },
   "file_extension": ".py",
   "mimetype": "text/x-python",
   "name": "python",
   "nbconvert_exporter": "python",
   "pygments_lexer": "ipython3",
   "version": "3.7.6"
  },
  "papermill": {
   "duration": 357.999651,
   "end_time": "2020-12-14T08:03:34.146696",
   "environment_variables": {},
   "exception": null,
   "input_path": "__notebook__.ipynb",
   "output_path": "__notebook__.ipynb",
   "parameters": {},
   "start_time": "2020-12-14T07:57:36.147045",
   "version": "2.1.0"
  },
  "deepnote_notebook_id": "c8ed7d4b-0917-496a-97b2-61bc19a7fcc2",
  "deepnote": {},
  "deepnote_execution_queue": []
 }
}